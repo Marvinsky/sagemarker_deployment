{
 "cells": [
  {
   "cell_type": "markdown",
   "metadata": {},
   "source": [
    "## Sentiment Analysis using Recurrent Neural Network"
   ]
  },
  {
   "cell_type": "markdown",
   "metadata": {},
   "source": [
    "### Make sure torch module exists in the workspace"
   ]
  },
  {
   "cell_type": "code",
   "execution_count": 1,
   "metadata": {},
   "outputs": [
    {
     "name": "stdout",
     "output_type": "stream",
     "text": [
      "\r\n",
      "PackageNotInstalledError: Package is not installed in prefix.\r\n",
      "  prefix: /home/ec2-user/anaconda3/envs/amazonei_mxnet_p36\r\n",
      "  package name: conda\r\n",
      "\r\n",
      "\r\n"
     ]
    }
   ],
   "source": [
    "!conda update conda "
   ]
  },
  {
   "cell_type": "code",
   "execution_count": 2,
   "metadata": {},
   "outputs": [
    {
     "name": "stdout",
     "output_type": "stream",
     "text": [
      "Solving environment: done\n",
      "\n",
      "\n",
      "==> WARNING: A newer version of conda exists. <==\n",
      "  current version: 4.5.12\n",
      "  latest version: 4.7.10\n",
      "\n",
      "Please update conda by running\n",
      "\n",
      "    $ conda update -n base -c defaults conda\n",
      "\n",
      "\n",
      "\n",
      "## Package Plan ##\n",
      "\n",
      "  environment location: /home/ec2-user/anaconda3/envs/amazonei_mxnet_p36\n",
      "\n",
      "  added / updated specs: \n",
      "    - pytorch\n",
      "\n",
      "\n",
      "The following packages will be downloaded:\n",
      "\n",
      "    package                    |            build\n",
      "    ---------------------------|-----------------\n",
      "    certifi-2019.6.16          |           py36_1         156 KB\n",
      "\n",
      "The following NEW packages will be INSTALLED:\n",
      "\n",
      "    cudatoolkit: 10.0.130-0                                   \n",
      "    ninja:       1.9.0-py36hfd86e86_0                         \n",
      "    pytorch:     1.1.0-py3.6_cuda10.0.130_cudnn7.5.1_0 pytorch\n",
      "\n",
      "The following packages will be UPDATED:\n",
      "\n",
      "    certifi:     2019.6.16-py36_0                              --> 2019.6.16-py36_1\n",
      "\n",
      "\n",
      "Downloading and Extracting Packages\n",
      "certifi-2019.6.16    | 156 KB    | ##################################### | 100% \n",
      "Preparing transaction: done\n",
      "Verifying transaction: done\n",
      "Executing transaction: done\n"
     ]
    }
   ],
   "source": [
    "!conda install pytorch -c pytorch -y"
   ]
  },
  {
   "cell_type": "code",
   "execution_count": 3,
   "metadata": {},
   "outputs": [],
   "source": [
    "import torch"
   ]
  },
  {
   "cell_type": "markdown",
   "metadata": {},
   "source": [
    "## Instructions\n",
    "\n",
    "Some template code has already been provided for you, and you will need to implement additional functionality to successfully complete this notebook. You will not need to modify the included code beyond what is requested. Sections that begin with '**TODO**' in the header indicate that you need to complete or implement some portion within them. Instructions will be provided for each section and the specifics of the implementation are marked in the code block with a `# TODO: ...` comment. Please be sure to read the instructions carefully!\n",
    "\n",
    "In addition to implementing code, there will be questions for you to answer which relate to the task and your implementation. Each section where you will answer a question is preceded by a '**Question:**' header. Carefully read each question and provide your answer below the '**Answer:**' header by editing the Markdown cell.\n",
    "\n",
    "> **Note**: Code and Markdown cells can be executed using the **Shift+Enter** keyboard shortcut. In addition, a cell can be edited by typically clicking it (double-click for Markdown cells) or by pressing **Enter** while it is highlighted.\n",
    "\n",
    "## General Outline\n",
    "\n",
    "Recall the general outline for SageMaker projects using a notebook instance.\n",
    "\n",
    "1. Download or otherwise retrieve the data.\n",
    "2. Process / Prepare the data.\n",
    "3. Upload the processed data to S3.\n",
    "4. Train a chosen model.\n",
    "5. Test the trained model (typically using a batch transform job).\n",
    "6. Deploy the trained model.\n",
    "7. Use the deployed model.\n",
    "\n",
    "For this project, you will be following the steps in the general outline with some modifications. \n",
    "\n",
    "First, you will not be testing the model in its own step. You will still be testing the model, however, you will do it by deploying your model and then using the deployed model by sending the test data to it. One of the reasons for doing this is so that you can make sure that your deployed model is working correctly before moving forward.\n",
    "\n",
    "In addition, you will deploy and use your trained model a second time. In the second iteration you will customize the way that your trained model is deployed by including some of your own code. In addition, your newly deployed model will be used in the sentiment analysis web app."
   ]
  },
  {
   "cell_type": "markdown",
   "metadata": {},
   "source": [
    "## Step 1: Downloading the data\n",
    "\n",
    "As in the XGBoost in SageMaker notebook, we will be using the [IMDb dataset](http://ai.stanford.edu/~amaas/data/sentiment/)\n",
    "\n",
    "> Maas, Andrew L., et al. [Learning Word Vectors for Sentiment Analysis](http://ai.stanford.edu/~amaas/data/sentiment/). In _Proceedings of the 49th Annual Meeting of the Association for Computational Linguistics: Human Language Technologies_. Association for Computational Linguistics, 2011."
   ]
  },
  {
   "cell_type": "code",
   "execution_count": 4,
   "metadata": {},
   "outputs": [
    {
     "name": "stdout",
     "output_type": "stream",
     "text": [
      "--2019-08-08 02:04:43--  http://ai.stanford.edu/~amaas/data/sentiment/aclImdb_v1.tar.gz\n",
      "Resolving ai.stanford.edu (ai.stanford.edu)... 171.64.68.10\n",
      "Connecting to ai.stanford.edu (ai.stanford.edu)|171.64.68.10|:80... connected.\n",
      "HTTP request sent, awaiting response... 200 OK\n",
      "Length: 84125825 (80M) [application/x-gzip]\n",
      "Saving to: ‘../data/aclImdb_v1.tar.gz’\n",
      "\n",
      "../data/aclImdb_v1. 100%[===================>]  80.23M  24.3MB/s    in 4.2s    \n",
      "\n",
      "2019-08-08 02:04:48 (19.0 MB/s) - ‘../data/aclImdb_v1.tar.gz’ saved [84125825/84125825]\n",
      "\n"
     ]
    }
   ],
   "source": [
    "\n",
    "%mkdir ../data\n",
    "!wget -O ../data/aclImdb_v1.tar.gz http://ai.stanford.edu/~amaas/data/sentiment/aclImdb_v1.tar.gz\n",
    "!tar -zxf ../data/aclImdb_v1.tar.gz -C ../data"
   ]
  },
  {
   "cell_type": "markdown",
   "metadata": {},
   "source": [
    "## Step 2: Preparing and Processing the data\n",
    "\n",
    "Also, as in the XGBoost notebook, we will be doing some initial data processing. The first few steps are the same as in the XGBoost example. To begin with, we will read in each of the reviews and combine them into a single input structure. Then, we will split the dataset into a training set and a testing set.### Step 2: Preparing and Processing the data"
   ]
  },
  {
   "cell_type": "code",
   "execution_count": 5,
   "metadata": {},
   "outputs": [],
   "source": [
    "import os\n",
    "import glob\n",
    "\n",
    "def read_imdb_data(data_dir='../data/aclImdb'):\n",
    "    data = {}\n",
    "    labels = {}\n",
    "    \n",
    "    for data_type in ['train', 'test']:\n",
    "        data[data_type] = {}\n",
    "        labels[data_type] = {}\n",
    "        \n",
    "        for sentiment in ['pos', 'neg']:\n",
    "            data[data_type][sentiment] = []\n",
    "            labels[data_type][sentiment] = []\n",
    "            \n",
    "            path = os.path.join(data_dir, data_type, sentiment, '*.txt')\n",
    "            files = glob.glob(path)\n",
    "            \n",
    "            for f in files:\n",
    "                with open(f) as review:\n",
    "                    data[data_type][sentiment].append(review.read())\n",
    "                    # Here we represent a positive review by '1' and a negative review by '0'\n",
    "                    labels[data_type][sentiment].append(1 if sentiment == 'pos' else 0)\n",
    "                    \n",
    "            assert len(data[data_type][sentiment]) == len(labels[data_type][sentiment]), \\\n",
    "                    \"{}/{} data size does not match labels size\".format(data_type, sentiment)\n",
    "                \n",
    "    return data, labels"
   ]
  },
  {
   "cell_type": "code",
   "execution_count": 6,
   "metadata": {},
   "outputs": [
    {
     "name": "stdout",
     "output_type": "stream",
     "text": [
      "IMDB reviews: train = 12500 pos / 12500 neg, test = 12500 pos / 12500 neg\n"
     ]
    }
   ],
   "source": [
    "data, labels = read_imdb_data()\n",
    "print(\"IMDB reviews: train = {} pos / {} neg, test = {} pos / {} neg\".format(\n",
    "            len(data['train']['pos']), len(data['train']['neg']),\n",
    "            len(data['test']['pos']), len(data['test']['neg'])))"
   ]
  },
  {
   "cell_type": "markdown",
   "metadata": {},
   "source": [
    "Now that we've read the raw training and testing data from the downloaded dataset, we will combine the positive and negative reviews and shuffle the resulting records."
   ]
  },
  {
   "cell_type": "code",
   "execution_count": 7,
   "metadata": {},
   "outputs": [],
   "source": [
    "from sklearn.utils import shuffle\n",
    "\n",
    "def prepare_imdb_data(data, labels):\n",
    "    \"\"\"Prepare training and test sets from IMDb movie reviews.\"\"\"\n",
    "    \n",
    "    #Combine positive and negative reviews and labels\n",
    "    data_train = data['train']['pos'] + data['train']['neg']\n",
    "    data_test = data['test']['pos'] + data['test']['neg']\n",
    "    labels_train = labels['train']['pos'] + labels['train']['neg']\n",
    "    labels_test = labels['test']['pos'] + labels['test']['neg']\n",
    "    \n",
    "    #Shuffle reviews and corresponding labels within training and test sets\n",
    "    data_train, labels_train = shuffle(data_train, labels_train)\n",
    "    data_test, labels_test = shuffle(data_test, labels_test)\n",
    "    \n",
    "    # Return a unified training data, test data, training labels, test labets\n",
    "    return data_train, data_test, labels_train, labels_test"
   ]
  },
  {
   "cell_type": "code",
   "execution_count": 8,
   "metadata": {},
   "outputs": [
    {
     "name": "stdout",
     "output_type": "stream",
     "text": [
      "IMDb reviews (combined): train = 25000, test = 25000\n"
     ]
    }
   ],
   "source": [
    "train_X, test_X, train_y, test_y = prepare_imdb_data(data, labels)\n",
    "print(\"IMDb reviews (combined): train = {}, test = {}\".format(len(train_X), len(test_X)))"
   ]
  },
  {
   "cell_type": "markdown",
   "metadata": {},
   "source": [
    "Now that we have our training and testing sets unified and prepared, we should do a quick check and see an example of the data our model will be trained on. This is generally a good idea as it allows you to see how each of the further processing steps affects the reviews and it also ensures that the data has been loaded correctly."
   ]
  },
  {
   "cell_type": "code",
   "execution_count": 9,
   "metadata": {},
   "outputs": [
    {
     "name": "stdout",
     "output_type": "stream",
     "text": [
      "Chances are, you'll think this movie is incredibly stupid the first time you watch it. But if, by chance, you watch it a second and third and fourth and fifth time (I'm well into the hundreds by now), you will find yourself spitting a line from it here and there and cracking yourself up! My friends and I have actually thrown Fear of a Black Hat Parties to get more of our friends, \"as they say, down with the riots\".\n",
      "1\n"
     ]
    }
   ],
   "source": [
    "print(train_X[100])\n",
    "print(train_y[100])"
   ]
  },
  {
   "cell_type": "markdown",
   "metadata": {},
   "source": [
    "The first step in processing the reviews is to make sure that any html tags that appear should be removed. In addition we wish to tokenize our input, that way words such as entertained and entertaining are considered the same with regard to sentiment analysis."
   ]
  },
  {
   "cell_type": "code",
   "execution_count": 10,
   "metadata": {},
   "outputs": [],
   "source": [
    "import nltk\n",
    "from nltk.corpus import stopwords\n",
    "from nltk.stem.porter import *\n",
    "\n",
    "import re\n",
    "from bs4 import BeautifulSoup\n",
    "\n",
    "def review_to_words(review):\n",
    "    nltk.download(\"stopwords\", quiet=True)\n",
    "    stemmer = PorterStemmer()\n",
    "    \n",
    "    text = BeautifulSoup(review, \"html.parser\").get_text() # Remove HTML tags\n",
    "    text = re.sub(r\"[^a-zA-Z0-9]\", \" \", text.lower()) # Convert to lower case\n",
    "    words = text.split() # Split string into words\n",
    "    words = [w for w in words if w not in stopwords.words(\"english\")] # Remove stopwords\n",
    "    words = [PorterStemmer().stem(w) for w in words] # stem\n",
    "    \n",
    "    return words"
   ]
  },
  {
   "cell_type": "markdown",
   "metadata": {},
   "source": [
    "The review_to_words method defined above uses BeautifulSoup to remove any html tags that appear and uses the nltk package to tokenize the reviews. As a check to ensure we know how everything is working, try applying review_to_words to one of the reviews in the training set."
   ]
  },
  {
   "cell_type": "code",
   "execution_count": 11,
   "metadata": {},
   "outputs": [
    {
     "data": {
      "text/plain": [
       "['chanc',\n",
       " 'think',\n",
       " 'movi',\n",
       " 'incred',\n",
       " 'stupid',\n",
       " 'first',\n",
       " 'time',\n",
       " 'watch',\n",
       " 'chanc',\n",
       " 'watch',\n",
       " 'second',\n",
       " 'third',\n",
       " 'fourth',\n",
       " 'fifth',\n",
       " 'time',\n",
       " 'well',\n",
       " 'hundr',\n",
       " 'find',\n",
       " 'spit',\n",
       " 'line',\n",
       " 'crack',\n",
       " 'friend',\n",
       " 'actual',\n",
       " 'thrown',\n",
       " 'fear',\n",
       " 'black',\n",
       " 'hat',\n",
       " 'parti',\n",
       " 'get',\n",
       " 'friend',\n",
       " 'say',\n",
       " 'riot']"
      ]
     },
     "execution_count": 11,
     "metadata": {},
     "output_type": "execute_result"
    }
   ],
   "source": [
    "# TODO: Apply review_to_words to a review (train_X[100] or any other review)\n",
    "review_to_words(train_X[100])"
   ]
  },
  {
   "cell_type": "markdown",
   "metadata": {},
   "source": [
    "**Question:** Above we mentioned that `review_to_words` method removes html formatting and allows us to tokenize the words found in a review, for example, converting *entertained* and *entertaining* into *entertain* so that they are treated as though they are the same word. What else, if anything, does this method do to the input?\n",
    "\n",
    "\n",
    "The review_to_words method defined above uses BeautifulSoup to remove any html tags that appear and uses the nltk package to tokenize the reviews. As a check to ensure we know how everything is working, try applying review_to_words to one of the reviews in the training set. In addition, it caches the results after processing, which helps to continue working afterwards when the project can not be finished on one session."
   ]
  },
  {
   "cell_type": "code",
   "execution_count": 12,
   "metadata": {},
   "outputs": [],
   "source": [
    "import pickle\n",
    "\n",
    "cache_dir = os.path.join(\"../cache\", \"sentiment_analysis\")  # where to store cache files\n",
    "os.makedirs(cache_dir, exist_ok=True)  # ensure cache directory exists\n",
    "\n",
    "def preprocess_data(data_train, data_test, labels_train, labels_test,\n",
    "                    cache_dir=cache_dir, cache_file=\"preprocessed_data.pkl\"):\n",
    "    \"\"\"Convert each review to words; read from cache if available.\"\"\"\n",
    "\n",
    "    # If cache_file is not None, try to read from it first\n",
    "    cache_data = None\n",
    "    print(cache_file)\n",
    "    if cache_file is not None:\n",
    "        try:\n",
    "            with open(os.path.join(cache_dir, cache_file), \"rb\") as f:\n",
    "                cache_data = pickle.load(f)\n",
    "            print(\"Read preprocessed data from cache file:\", cache_file)\n",
    "        except:\n",
    "            print(\"File not found\")\n",
    "            pass  # unable to read from cache, but that's okay\n",
    "    \n",
    "    # If cache is missing, then do the heavy lifting\n",
    "    if cache_data is None:\n",
    "        print('Preprocess training and test data to obtain words for each review')\n",
    "        # Preprocess training and test data to obtain words for each review\n",
    "        #words_train = list(map(review_to_words, data_train))\n",
    "        #words_test = list(map(review_to_words, data_test))\n",
    "        words_train = [review_to_words(review) for review in data_train]\n",
    "        words_test = [review_to_words(review) for review in data_test]\n",
    "        \n",
    "        # Write to cache file for future runs\n",
    "        print('Preprocess training and test data to obtain words for each review')\n",
    "        if cache_file is not None:\n",
    "            cache_data = dict(words_train=words_train, words_test=words_test,\n",
    "                              labels_train=labels_train, labels_test=labels_test)\n",
    "            with open(os.path.join(cache_dir, cache_file), \"wb\") as f:\n",
    "                pickle.dump(cache_data, f)\n",
    "            print(\"Wrote preprocessed data to cache file:\", cache_file)\n",
    "    else:\n",
    "        print('Unpack data loaded from cache file')\n",
    "        # Unpack data loaded from cache file\n",
    "        words_train, words_test, labels_train, labels_test = (cache_data['words_train'],\n",
    "                cache_data['words_test'], cache_data['labels_train'], cache_data['labels_test'])\n",
    "    \n",
    "    return words_train, words_test, labels_train, labels_test"
   ]
  },
  {
   "cell_type": "code",
   "execution_count": 13,
   "metadata": {},
   "outputs": [
    {
     "name": "stdout",
     "output_type": "stream",
     "text": [
      "preprocessed_data.pkl\n",
      "File not found\n",
      "Preprocess training and test data to obtain words for each review\n",
      "Preprocess training and test data to obtain words for each review\n",
      "Wrote preprocessed data to cache file: preprocessed_data.pkl\n"
     ]
    }
   ],
   "source": [
    "# Preprocess data\n",
    "train_X, test_X, train_y, test_y = preprocess_data(train_X, test_X, train_y, test_y)"
   ]
  },
  {
   "cell_type": "markdown",
   "metadata": {},
   "source": [
    "## Transform the data\n",
    "\n",
    "In the XGBoost notebook we transformed the data from its word representation to a bag-of-words feature representation. For the model we are going to construct in this notebook we will construct a feature representation which is very similar. To start, we will represent each word as an integer. Of course, some of the words that appear in the reviews occur very infrequently and so likely don't contain much information for the purposes of sentiment analysis. The way we will deal with this problem is that we will fix the size of our working vocabulary and we will only include the words that appear most frequently. We will then combine all of the infrequent words into a single category and, in our case, we will label it as `1`.\n",
    "\n",
    "Since we will be using a recurrent neural network, it will be convenient if the length of each review is the same. To do this, we will fix a size for our reviews and then pad short reviews with the category 'no word' (which we will label `0`) and truncate long reviews."
   ]
  },
  {
   "cell_type": "markdown",
   "metadata": {},
   "source": [
    "### (TODO) Create a word dictionary\n",
    "\n",
    "To begin with, we need to construct a way to map words that appear in the reviews to integers. Here we fix the size of our vocabulary (including the 'no word' and 'infrequent' categories) to be `5000` but you may wish to change this to see how it affects the model.\n",
    "\n",
    "> **TODO:** Complete the implementation for the `build_dict()` method below. Note that even though the vocab_size is set to `5000`, we only want to construct a mapping for the most frequently appearing `4998` words. This is because we want to reserve the special labels `0` for 'no word' and `1` for 'infrequent word'."
   ]
  },
  {
   "cell_type": "code",
   "execution_count": 14,
   "metadata": {},
   "outputs": [],
   "source": [
    "import numpy as np\n",
    "import re\n",
    "from collections import Counter\n",
    "\n",
    "def build_dict(data, vocab_size = 5000):\n",
    "    \"\"\"Construct and return a dictionary mapping each of the most frequently appearing words to a unique integer.\"\"\"\n",
    "    \n",
    "    # TODO: Determine how often each word appears in `data`. Note that `data` is a list of sentences and that a\n",
    "    #       sentence is a list of words.\n",
    "    word_counts = Counter(np.concatenate( data, axis=0 ))\n",
    "    # print(word_counts)\n",
    "    # word_count = {} # A dict storing the words that appear in the reviews along with how often they occur\n",
    "    \n",
    "    # TODO: Sort the words found in `data` so that sorted_words[0] is the most frequently appearing word and\n",
    "    #       sorted_words[-1] is the least frequently appearing word.\n",
    "    \n",
    "    sorted_words = sorted(word_counts, key=word_counts.get, reverse=True)\n",
    "    # print(sorted_words[-1])\n",
    "    \n",
    "    word_dict = {} # This is what we are building, a dictionary that translates words into integers\n",
    "    for idx, word in enumerate(sorted_words[:vocab_size - 2]): # The -2 is so that we save room for the 'no word'\n",
    "        word_dict[word] = idx + 2                              # 'infrequent' labels\n",
    "        \n",
    "    return word_dict"
   ]
  },
  {
   "cell_type": "code",
   "execution_count": 15,
   "metadata": {},
   "outputs": [
    {
     "name": "stdout",
     "output_type": "stream",
     "text": [
      "{'movi': 2, 'film': 3, 'one': 4, 'like': 5, 'time': 6, 'good': 7, 'make': 8, 'charact': 9, 'get': 10, 'see': 11, 'watch': 12, 'stori': 13, 'even': 14, 'would': 15, 'realli': 16, 'well': 17, 'scene': 18, 'look': 19, 'show': 20, 'much': 21, 'end': 22, 'peopl': 23, 'bad': 24, 'go': 25, 'great': 26, 'also': 27, 'first': 28, 'love': 29, 'think': 30, 'way': 31, 'act': 32, 'play': 33, 'made': 34, 'thing': 35, 'could': 36, 'know': 37, 'say': 38, 'seem': 39, 'work': 40, 'plot': 41, 'two': 42, 'actor': 43, 'year': 44, 'come': 45, 'mani': 46, 'seen': 47, 'take': 48, 'life': 49, 'want': 50, 'never': 51, 'littl': 52, 'best': 53, 'tri': 54, 'man': 55, 'ever': 56, 'give': 57, 'better': 58, 'still': 59, 'perform': 60, 'find': 61, 'feel': 62, 'part': 63, 'back': 64, 'use': 65, 'someth': 66, 'director': 67, 'actual': 68, 'interest': 69, 'lot': 70, 'real': 71, 'old': 72, 'cast': 73, 'though': 74, 'live': 75, 'star': 76, 'enjoy': 77, 'guy': 78, 'anoth': 79, 'new': 80, 'role': 81, 'noth': 82, '10': 83, 'funni': 84, 'music': 85, 'point': 86, 'start': 87, 'set': 88, 'girl': 89, 'origin': 90, 'day': 91, 'world': 92, 'everi': 93, 'believ': 94, 'turn': 95, 'quit': 96, 'us': 97, 'direct': 98, 'thought': 99, 'fact': 100, 'minut': 101, 'horror': 102, 'kill': 103, 'action': 104, 'comedi': 105, 'pretti': 106, 'young': 107, 'wonder': 108, 'happen': 109, 'around': 110, 'got': 111, 'effect': 112, 'right': 113, 'long': 114, 'howev': 115, 'big': 116, 'line': 117, 'famili': 118, 'enough': 119, 'seri': 120, 'may': 121, 'need': 122, 'fan': 123, 'bit': 124, 'script': 125, 'beauti': 126, 'person': 127, 'becom': 128, 'without': 129, 'must': 130, 'alway': 131, 'friend': 132, 'tell': 133, 'reason': 134, 'saw': 135, 'last': 136, 'final': 137, 'kid': 138, 'almost': 139, 'put': 140, 'least': 141, 'sure': 142, 'done': 143, 'whole': 144, 'place': 145, 'complet': 146, 'kind': 147, 'expect': 148, 'differ': 149, 'shot': 150, 'far': 151, 'mean': 152, 'anyth': 153, 'book': 154, 'laugh': 155, 'might': 156, 'name': 157, 'sinc': 158, 'begin': 159, '2': 160, 'probabl': 161, 'woman': 162, 'help': 163, 'entertain': 164, 'let': 165, 'screen': 166, 'call': 167, 'tv': 168, 'moment': 169, 'away': 170, 'read': 171, 'yet': 172, 'rather': 173, 'worst': 174, 'run': 175, 'fun': 176, 'lead': 177, 'hard': 178, 'audienc': 179, 'idea': 180, 'anyon': 181, 'episod': 182, 'american': 183, 'found': 184, 'appear': 185, 'bore': 186, 'especi': 187, 'although': 188, 'hope': 189, 'keep': 190, 'cours': 191, 'anim': 192, 'job': 193, 'goe': 194, 'move': 195, 'sens': 196, 'version': 197, 'dvd': 198, 'war': 199, 'money': 200, 'someon': 201, 'mind': 202, 'mayb': 203, 'problem': 204, 'true': 205, 'hous': 206, 'everyth': 207, 'nice': 208, 'second': 209, 'rate': 210, 'three': 211, 'night': 212, 'face': 213, 'follow': 214, 'recommend': 215, 'main': 216, 'product': 217, 'worth': 218, 'leav': 219, 'human': 220, 'special': 221, 'excel': 222, 'togeth': 223, 'wast': 224, 'sound': 225, 'everyon': 226, 'john': 227, 'hand': 228, '1': 229, 'father': 230, 'later': 231, 'eye': 232, 'said': 233, 'view': 234, 'instead': 235, 'review': 236, 'boy': 237, 'high': 238, 'hour': 239, 'miss': 240, 'classic': 241, 'talk': 242, 'wife': 243, 'understand': 244, 'left': 245, 'care': 246, 'black': 247, 'death': 248, 'open': 249, 'murder': 250, 'write': 251, 'half': 252, 'head': 253, 'rememb': 254, 'chang': 255, 'viewer': 256, 'fight': 257, 'gener': 258, 'surpris': 259, 'includ': 260, 'short': 261, 'die': 262, 'fall': 263, 'less': 264, 'els': 265, 'entir': 266, 'piec': 267, 'involv': 268, 'pictur': 269, 'simpli': 270, 'top': 271, 'home': 272, 'power': 273, 'total': 274, 'usual': 275, 'budget': 276, 'attempt': 277, 'suppos': 278, 'releas': 279, 'hollywood': 280, 'terribl': 281, 'song': 282, 'men': 283, 'possibl': 284, 'featur': 285, 'portray': 286, 'disappoint': 287, 'poor': 288, '3': 289, 'coupl': 290, 'stupid': 291, 'camera': 292, 'dead': 293, 'wrong': 294, 'low': 295, 'produc': 296, 'video': 297, 'either': 298, 'aw': 299, 'definit': 300, 'except': 301, 'rest': 302, 'given': 303, 'absolut': 304, 'women': 305, 'lack': 306, 'word': 307, 'writer': 308, 'titl': 309, 'talent': 310, 'decid': 311, 'full': 312, 'perfect': 313, 'along': 314, 'style': 315, 'close': 316, 'truli': 317, 'school': 318, 'emot': 319, 'save': 320, 'age': 321, 'sex': 322, 'next': 323, 'bring': 324, 'mr': 325, 'case': 326, 'killer': 327, 'heart': 328, 'comment': 329, 'sort': 330, 'creat': 331, 'perhap': 332, 'came': 333, 'brother': 334, 'sever': 335, 'joke': 336, 'art': 337, 'dialogu': 338, 'game': 339, 'small': 340, 'base': 341, 'flick': 342, 'written': 343, 'sequenc': 344, 'meet': 345, 'earli': 346, 'often': 347, 'other': 348, 'mother': 349, 'develop': 350, 'humor': 351, 'actress': 352, 'consid': 353, 'dark': 354, 'guess': 355, 'amaz': 356, 'unfortun': 357, 'lost': 358, 'light': 359, 'exampl': 360, 'cinema': 361, 'drama': 362, 'white': 363, 'ye': 364, 'experi': 365, 'imagin': 366, 'mention': 367, 'stop': 368, 'natur': 369, 'forc': 370, 'manag': 371, 'felt': 372, 'cut': 373, 'present': 374, 'children': 375, 'fail': 376, 'son': 377, 'qualiti': 378, 'car': 379, 'support': 380, 'ask': 381, 'hit': 382, 'side': 383, 'voic': 384, 'extrem': 385, 'impress': 386, 'wors': 387, 'evil': 388, 'went': 389, 'stand': 390, 'certainli': 391, 'basic': 392, 'oh': 393, 'overal': 394, 'favorit': 395, 'horribl': 396, 'mysteri': 397, 'number': 398, 'type': 399, 'danc': 400, 'wait': 401, 'hero': 402, '5': 403, 'alreadi': 404, 'learn': 405, 'matter': 406, '4': 407, 'michael': 408, 'genr': 409, 'fine': 410, 'despit': 411, 'throughout': 412, 'walk': 413, 'success': 414, 'histori': 415, 'question': 416, 'zombi': 417, 'town': 418, 'relationship': 419, 'realiz': 420, 'child': 421, 'past': 422, 'daughter': 423, 'late': 424, 'b': 425, 'wish': 426, 'credit': 427, 'hate': 428, 'event': 429, 'theme': 430, 'touch': 431, 'citi': 432, 'today': 433, 'sometim': 434, 'behind': 435, 'god': 436, 'twist': 437, 'sit': 438, 'deal': 439, 'annoy': 440, 'stay': 441, 'abl': 442, 'rent': 443, 'pleas': 444, 'edit': 445, 'blood': 446, 'deserv': 447, 'comic': 448, 'anyway': 449, 'appar': 450, 'soon': 451, 'gave': 452, 'etc': 453, 'level': 454, 'slow': 455, 'chanc': 456, 'score': 457, 'bodi': 458, 'brilliant': 459, 'incred': 460, 'figur': 461, 'situat': 462, 'self': 463, 'major': 464, 'stuff': 465, 'decent': 466, 'element': 467, 'dream': 468, 'return': 469, 'obvious': 470, 'continu': 471, 'order': 472, 'pace': 473, 'ridicul': 474, 'happi': 475, 'add': 476, 'group': 477, 'highli': 478, 'thank': 479, 'ladi': 480, 'novel': 481, 'pain': 482, 'speak': 483, 'career': 484, 'shoot': 485, 'strang': 486, 'heard': 487, 'sad': 488, 'polic': 489, 'husband': 490, 'import': 491, 'break': 492, 'took': 493, 'strong': 494, 'cannot': 495, 'robert': 496, 'predict': 497, 'violenc': 498, 'hilari': 499, 'recent': 500, 'countri': 501, 'known': 502, 'particularli': 503, 'pick': 504, 'documentari': 505, 'season': 506, 'critic': 507, 'jame': 508, 'compar': 509, 'obviou': 510, 'alon': 511, 'told': 512, 'state': 513, 'visual': 514, 'rock': 515, 'theater': 516, 'offer': 517, 'exist': 518, 'opinion': 519, 'gore': 520, 'crap': 521, 'hold': 522, 'result': 523, 'hear': 524, 'realiti': 525, 'room': 526, 'clich': 527, 'effort': 528, 'thriller': 529, 'caus': 530, 'sequel': 531, 'explain': 532, 'serious': 533, 'king': 534, 'local': 535, 'ago': 536, 'hell': 537, 'none': 538, 'note': 539, 'allow': 540, 'david': 541, 'sister': 542, 'simpl': 543, 'femal': 544, 'deliv': 545, 'ok': 546, 'class': 547, 'convinc': 548, 'check': 549, 'suspens': 550, 'win': 551, 'buy': 552, 'oscar': 553, 'huge': 554, 'valu': 555, 'sexual': 556, 'scari': 557, 'cool': 558, 'excit': 559, 'similar': 560, 'exactli': 561, 'apart': 562, 'provid': 563, 'avoid': 564, 'shown': 565, 'seriou': 566, 'english': 567, 'taken': 568, 'whose': 569, 'cinematographi': 570, 'shock': 571, 'polit': 572, 'spoiler': 573, 'offic': 574, 'across': 575, 'middl': 576, 'pass': 577, 'street': 578, 'messag': 579, 'somewhat': 580, 'charm': 581, 'silli': 582, 'modern': 583, 'confus': 584, 'filmmak': 585, 'form': 586, 'tale': 587, 'singl': 588, 'jack': 589, 'mostli': 590, 'attent': 591, 'carri': 592, 'william': 593, 'sing': 594, 'five': 595, 'subject': 596, 'richard': 597, 'prove': 598, 'stage': 599, 'team': 600, 'unlik': 601, 'cop': 602, 'georg': 603, 'monster': 604, 'televis': 605, 'earth': 606, 'cover': 607, 'villain': 608, 'pay': 609, 'marri': 610, 'toward': 611, 'build': 612, 'parent': 613, 'pull': 614, 'due': 615, 'respect': 616, 'fill': 617, 'dialog': 618, 'four': 619, 'remind': 620, 'futur': 621, 'weak': 622, 'typic': 623, '7': 624, 'cheap': 625, 'intellig': 626, 'british': 627, 'atmospher': 628, 'clearli': 629, '80': 630, 'dog': 631, 'paul': 632, 'non': 633, 'fast': 634, '8': 635, 'knew': 636, 'artist': 637, 'crime': 638, 'easili': 639, 'escap': 640, 'adult': 641, 'doubt': 642, 'detail': 643, 'date': 644, 'fire': 645, 'romant': 646, 'member': 647, 'drive': 648, 'gun': 649, 'straight': 650, 'fit': 651, 'beyond': 652, 'attack': 653, 'imag': 654, 'upon': 655, 'posit': 656, 'whether': 657, 'peter': 658, 'fantast': 659, 'appreci': 660, 'captur': 661, 'aspect': 662, 'ten': 663, 'plan': 664, 'discov': 665, 'remain': 666, 'near': 667, 'period': 668, 'air': 669, 'realist': 670, 'mark': 671, 'red': 672, 'dull': 673, 'adapt': 674, 'within': 675, 'lose': 676, 'spend': 677, 'color': 678, 'materi': 679, 'chase': 680, 'mari': 681, 'storylin': 682, 'forget': 683, 'bunch': 684, 'clear': 685, 'lee': 686, 'victim': 687, 'nearli': 688, 'box': 689, 'york': 690, 'match': 691, 'inspir': 692, 'finish': 693, 'mess': 694, 'standard': 695, 'easi': 696, 'truth': 697, 'suffer': 698, 'busi': 699, 'dramat': 700, 'bill': 701, 'space': 702, 'western': 703, 'e': 704, 'list': 705, 'battl': 706, 'notic': 707, 'de': 708, 'french': 709, 'ad': 710, '9': 711, 'tom': 712, 'larg': 713, 'among': 714, 'eventu': 715, 'train': 716, 'accept': 717, 'agre': 718, 'spirit': 719, 'soundtrack': 720, 'third': 721, 'teenag': 722, 'adventur': 723, 'soldier': 724, 'famou': 725, 'sorri': 726, 'drug': 727, 'suggest': 728, 'babi': 729, 'normal': 730, 'cri': 731, 'troubl': 732, 'ultim': 733, 'contain': 734, 'certain': 735, 'cultur': 736, 'romanc': 737, 'rare': 738, 'lame': 739, 'somehow': 740, 'mix': 741, 'disney': 742, 'gone': 743, 'cartoon': 744, 'student': 745, 'fear': 746, 'reveal': 747, 'kept': 748, 'suck': 749, 'attract': 750, 'appeal': 751, 'premis': 752, 'secret': 753, 'design': 754, 'greatest': 755, 'shame': 756, 'throw': 757, 'copi': 758, 'scare': 759, 'wit': 760, 'admit': 761, 'america': 762, 'relat': 763, 'particular': 764, 'brought': 765, 'screenplay': 766, 'whatev': 767, 'pure': 768, '70': 769, 'harri': 770, 'averag': 771, 'master': 772, 'describ': 773, 'male': 774, 'treat': 775, '20': 776, 'fantasi': 777, 'issu': 778, 'warn': 779, 'inde': 780, 'forward': 781, 'background': 782, 'free': 783, 'project': 784, 'memor': 785, 'japanes': 786, 'poorli': 787, 'award': 788, 'locat': 789, 'amus': 790, 'potenti': 791, 'struggl': 792, 'weird': 793, 'magic': 794, 'societi': 795, 'okay': 796, 'accent': 797, 'doctor': 798, 'imdb': 799, 'hot': 800, 'water': 801, 'express': 802, '30': 803, 'alien': 804, 'dr': 805, 'odd': 806, 'choic': 807, 'crazi': 808, 'studio': 809, 'fiction': 810, 'control': 811, 'becam': 812, 'masterpiec': 813, 'difficult': 814, 'fli': 815, 'joe': 816, 'scream': 817, 'costum': 818, 'lover': 819, 'refer': 820, 'uniqu': 821, 'remak': 822, 'girlfriend': 823, 'vampir': 824, 'prison': 825, 'execut': 826, 'wear': 827, 'jump': 828, 'wood': 829, 'unless': 830, 'creepi': 831, 'cheesi': 832, 'superb': 833, 'otherwis': 834, 'parti': 835, 'roll': 836, 'ghost': 837, 'mad': 838, 'public': 839, 'depict': 840, 'badli': 841, 'earlier': 842, 'jane': 843, 'week': 844, 'moral': 845, 'dumb': 846, 'fi': 847, 'flaw': 848, 'grow': 849, 'sci': 850, 'deep': 851, 'maker': 852, 'cat': 853, 'older': 854, 'footag': 855, 'connect': 856, 'plenti': 857, 'bother': 858, 'outsid': 859, 'stick': 860, 'gay': 861, 'catch': 862, 'plu': 863, 'co': 864, 'popular': 865, 'equal': 866, 'social': 867, 'disturb': 868, 'quickli': 869, 'perfectli': 870, 'dress': 871, 'era': 872, '90': 873, 'mistak': 874, 'lie': 875, 'previou': 876, 'ride': 877, 'combin': 878, 'concept': 879, 'band': 880, 'rich': 881, 'answer': 882, 'surviv': 883, 'front': 884, 'sweet': 885, 'christma': 886, 'insid': 887, 'concern': 888, 'bare': 889, 'eat': 890, 'beat': 891, 'listen': 892, 'ben': 893, 'c': 894, 'term': 895, 'serv': 896, 'la': 897, 'german': 898, 'meant': 899, 'hardli': 900, 'stereotyp': 901, 'innoc': 902, 'law': 903, 'desper': 904, 'memori': 905, 'promis': 906, 'intent': 907, 'cute': 908, 'steal': 909, 'variou': 910, 'inform': 911, 'brain': 912, 'post': 913, 'tone': 914, 'island': 915, 'amount': 916, 'nuditi': 917, 'compani': 918, 'track': 919, 'store': 920, 'claim': 921, '50': 922, 'hair': 923, 'flat': 924, 'land': 925, 'univers': 926, 'danger': 927, 'kick': 928, 'scott': 929, 'fairli': 930, 'player': 931, 'crew': 932, 'plain': 933, 'step': 934, 'toni': 935, 'share': 936, 'tast': 937, 'centuri': 938, 'engag': 939, 'achiev': 940, 'travel': 941, 'cold': 942, 'record': 943, 'rip': 944, 'suit': 945, 'manner': 946, 'sadli': 947, 'wrote': 948, 'spot': 949, 'tension': 950, 'intens': 951, 'fascin': 952, 'familiar': 953, 'burn': 954, 'depth': 955, 'remark': 956, 'destroy': 957, 'histor': 958, 'sleep': 959, 'purpos': 960, 'languag': 961, 'ignor': 962, 'ruin': 963, 'delight': 964, 'unbeliev': 965, 'italian': 966, 'abil': 967, 'soul': 968, 'collect': 969, 'clever': 970, 'detect': 971, 'violent': 972, 'rape': 973, 'reach': 974, 'door': 975, 'liter': 976, 'trash': 977, 'scienc': 978, 'caught': 979, 'commun': 980, 'reveng': 981, 'creatur': 982, 'trip': 983, 'approach': 984, 'fashion': 985, 'intrigu': 986, 'paint': 987, 'skill': 988, 'introduc': 989, 'channel': 990, 'complex': 991, 'camp': 992, 'christian': 993, 'hole': 994, 'extra': 995, 'immedi': 996, 'ann': 997, 'limit': 998, 'mental': 999, 'mere': 1000, 'slightli': 1001, '6': 1002, 'comput': 1003, 'million': 1004, 'slasher': 1005, 'conclus': 1006, 'suddenli': 1007, 'imposs': 1008, 'teen': 1009, 'neither': 1010, 'crimin': 1011, 'physic': 1012, 'spent': 1013, 'nation': 1014, 'respons': 1015, 'planet': 1016, 'fake': 1017, 'receiv': 1018, 'blue': 1019, 'sick': 1020, 'bizarr': 1021, 'embarrass': 1022, 'indian': 1023, 'ring': 1024, '15': 1025, 'drop': 1026, 'pop': 1027, 'drag': 1028, 'haunt': 1029, 'pointless': 1030, 'suspect': 1031, 'search': 1032, 'edg': 1033, 'handl': 1034, 'common': 1035, 'biggest': 1036, 'faith': 1037, 'arriv': 1038, 'hurt': 1039, 'technic': 1040, 'angel': 1041, 'dad': 1042, 'genuin': 1043, 'solid': 1044, 'f': 1045, 'awesom': 1046, 'focu': 1047, 'former': 1048, 'colleg': 1049, 'van': 1050, 'count': 1051, 'tear': 1052, 'heavi': 1053, 'wall': 1054, 'rais': 1055, 'laughabl': 1056, 'younger': 1057, 'visit': 1058, 'fair': 1059, 'excus': 1060, 'sign': 1061, 'cult': 1062, 'tough': 1063, 'key': 1064, 'motion': 1065, 'desir': 1066, 'super': 1067, 'addit': 1068, 'stun': 1069, 'cloth': 1070, 'exploit': 1071, 'smith': 1072, 'tortur': 1073, 'race': 1074, 'davi': 1075, 'author': 1076, 'cross': 1077, 'jim': 1078, 'consist': 1079, 'minor': 1080, 'compel': 1081, 'focus': 1082, 'commit': 1083, 'pathet': 1084, 'chemistri': 1085, 'park': 1086, 'obsess': 1087, 'frank': 1088, 'tradit': 1089, 'grade': 1090, 'asid': 1091, '60': 1092, 'brutal': 1093, 'steve': 1094, 'somewher': 1095, 'grant': 1096, 'explor': 1097, 'opportun': 1098, 'depress': 1099, 'rule': 1100, 'u': 1101, 'besid': 1102, 'honest': 1103, 'anti': 1104, 'dub': 1105, 'intend': 1106, 'trailer': 1107, 'bar': 1108, 'longer': 1109, 'west': 1110, 'regard': 1111, 'scientist': 1112, 'judg': 1113, 'decad': 1114, 'silent': 1115, 'creativ': 1116, 'armi': 1117, 'wild': 1118, 'g': 1119, 'south': 1120, 'stewart': 1121, 'draw': 1122, 'road': 1123, 'govern': 1124, 'ex': 1125, 'boss': 1126, 'practic': 1127, 'motiv': 1128, 'club': 1129, 'surprisingli': 1130, 'festiv': 1131, 'gang': 1132, 'green': 1133, 'redeem': 1134, 'london': 1135, 'page': 1136, 'display': 1137, 'aliv': 1138, 'idiot': 1139, 'machin': 1140, 'militari': 1141, 'repeat': 1142, 'thrill': 1143, 'folk': 1144, 'yeah': 1145, 'nobodi': 1146, '100': 1147, '40': 1148, 'garbag': 1149, 'journey': 1150, 'smile': 1151, 'ground': 1152, 'tire': 1153, 'mood': 1154, 'bought': 1155, 'cost': 1156, 'sam': 1157, 'stone': 1158, 'mouth': 1159, 'noir': 1160, 'terrif': 1161, 'agent': 1162, 'requir': 1163, 'utterli': 1164, 'sexi': 1165, 'honestli': 1166, 'area': 1167, 'report': 1168, 'geniu': 1169, 'glad': 1170, 'enter': 1171, 'investig': 1172, 'humour': 1173, 'serial': 1174, 'passion': 1175, 'narr': 1176, 'occasion': 1177, 'climax': 1178, 'marriag': 1179, 'studi': 1180, 'industri': 1181, 'nowher': 1182, 'charli': 1183, 'center': 1184, 'ship': 1185, 'demon': 1186, 'loos': 1187, 'hors': 1188, 'bear': 1189, 'wow': 1190, 'hang': 1191, 'graphic': 1192, 'giant': 1193, 'admir': 1194, 'send': 1195, 'damn': 1196, 'loud': 1197, 'rel': 1198, 'subtl': 1199, 'profession': 1200, 'nake': 1201, 'blow': 1202, 'bottom': 1203, 'batman': 1204, 'insult': 1205, 'doubl': 1206, 'r': 1207, 'kelli': 1208, 'boyfriend': 1209, 'initi': 1210, 'frame': 1211, 'opera': 1212, 'gem': 1213, 'church': 1214, 'drawn': 1215, 'cinemat': 1216, 'challeng': 1217, 'affect': 1218, 'fulli': 1219, 'j': 1220, 'seek': 1221, 'evid': 1222, 'nightmar': 1223, 'l': 1224, 'conflict': 1225, 'essenti': 1226, 'arm': 1227, 'henri': 1228, 'grace': 1229, 'christoph': 1230, 'wind': 1231, 'narrat': 1232, 'witch': 1233, 'assum': 1234, 'push': 1235, 'hunt': 1236, 'wise': 1237, 'chri': 1238, 'month': 1239, 'nomin': 1240, 'repres': 1241, 'hide': 1242, 'avail': 1243, 'sceneri': 1244, 'affair': 1245, 'smart': 1246, 'bond': 1247, 'justic': 1248, 'thu': 1249, 'flashback': 1250, 'outstand': 1251, 'interview': 1252, 'presenc': 1253, 'satisfi': 1254, 'constantli': 1255, 'bed': 1256, 'central': 1257, 'iron': 1258, 'content': 1259, 'sell': 1260, 'gag': 1261, 'everybodi': 1262, 'hotel': 1263, 'slowli': 1264, 'hire': 1265, 'system': 1266, 'individu': 1267, 'thrown': 1268, 'hey': 1269, 'adam': 1270, 'charl': 1271, 'allen': 1272, 'mediocr': 1273, 'jone': 1274, 'lesson': 1275, 'ray': 1276, 'billi': 1277, 'photographi': 1278, 'cameo': 1279, 'pari': 1280, 'fellow': 1281, 'strike': 1282, 'rise': 1283, 'independ': 1284, 'brief': 1285, 'absurd': 1286, 'neg': 1287, 'phone': 1288, 'impact': 1289, 'model': 1290, 'born': 1291, 'ill': 1292, 'angl': 1293, 'spoil': 1294, 'fresh': 1295, 'likabl': 1296, 'abus': 1297, 'hill': 1298, 'discuss': 1299, 'sight': 1300, 'ahead': 1301, 'photograph': 1302, 'sent': 1303, 'logic': 1304, 'shine': 1305, 'occur': 1306, 'blame': 1307, 'bruce': 1308, 'mainli': 1309, 'commerci': 1310, 'skip': 1311, 'forev': 1312, 'held': 1313, 'surround': 1314, 'teacher': 1315, 'segment': 1316, 'blond': 1317, 'zero': 1318, 'summer': 1319, 'resembl': 1320, 'trap': 1321, 'satir': 1322, 'fool': 1323, 'queen': 1324, 'ball': 1325, 'six': 1326, 'tragedi': 1327, 'sub': 1328, 'twice': 1329, 'pack': 1330, 'reaction': 1331, 'bomb': 1332, 'protagonist': 1333, 'will': 1334, 'hospit': 1335, 'sport': 1336, 'mile': 1337, 'drink': 1338, 'vote': 1339, 'mom': 1340, 'jerri': 1341, 'trust': 1342, 'encount': 1343, 'plane': 1344, 'al': 1345, 'station': 1346, 'program': 1347, 'current': 1348, 'martin': 1349, 'choos': 1350, 'celebr': 1351, 'join': 1352, 'round': 1353, 'field': 1354, 'lord': 1355, 'favourit': 1356, 'tragic': 1357, 'jean': 1358, 'vision': 1359, 'robot': 1360, 'tie': 1361, 'arthur': 1362, 'fortun': 1363, 'roger': 1364, 'random': 1365, 'dread': 1366, 'psycholog': 1367, 'intern': 1368, 'prefer': 1369, 'improv': 1370, 'epic': 1371, 'nonsens': 1372, 'pleasur': 1373, 'legend': 1374, 'highlight': 1375, 'formula': 1376, 'tape': 1377, '11': 1378, 'dollar': 1379, 'wide': 1380, 'gorgeou': 1381, 'object': 1382, 'thin': 1383, 'porn': 1384, 'fox': 1385, 'buddi': 1386, 'ugli': 1387, 'influenc': 1388, 'prepar': 1389, 'ii': 1390, 'nasti': 1391, 'progress': 1392, 'warm': 1393, 'reflect': 1394, 'supposedli': 1395, 'youth': 1396, 'worthi': 1397, 'latter': 1398, 'length': 1399, 'unusu': 1400, 'crash': 1401, 'shop': 1402, 'superior': 1403, 'childhood': 1404, 'seven': 1405, 'theatr': 1406, 'remot': 1407, 'paid': 1408, 'funniest': 1409, 'disgust': 1410, 'pilot': 1411, 'fell': 1412, 'trick': 1413, 'convers': 1414, 'castl': 1415, 'rob': 1416, 'disast': 1417, 'establish': 1418, 'gangster': 1419, 'suicid': 1420, 'heaven': 1421, 'disappear': 1422, 'ident': 1423, 'mine': 1424, 'tend': 1425, 'mask': 1426, 'singer': 1427, 'heroin': 1428, 'forgotten': 1429, 'decis': 1430, 'brian': 1431, 'partner': 1432, 'recogn': 1433, 'desert': 1434, 'alan': 1435, 'sky': 1436, 'thoroughli': 1437, 'p': 1438, 'ms': 1439, 'stuck': 1440, 'replac': 1441, 'accur': 1442, 'market': 1443, 'danni': 1444, 'commentari': 1445, 'seemingli': 1446, 'eddi': 1447, 'clue': 1448, 'andi': 1449, 'uncl': 1450, 'devil': 1451, 'jackson': 1452, 'pair': 1453, 'that': 1454, 'therefor': 1455, 'refus': 1456, 'ed': 1457, 'accid': 1458, 'fault': 1459, 'unit': 1460, 'river': 1461, 'fate': 1462, 'afraid': 1463, 'tune': 1464, 'clean': 1465, 'stephen': 1466, 'hidden': 1467, 'russian': 1468, 'test': 1469, 'readi': 1470, 'irrit': 1471, 'instanc': 1472, 'convey': 1473, 'captain': 1474, 'quick': 1475, 'european': 1476, 'frustrat': 1477, 'insan': 1478, 'daniel': 1479, 'chines': 1480, 'food': 1481, 'rescu': 1482, 'wed': 1483, '1950': 1484, 'lock': 1485, 'dirti': 1486, 'angri': 1487, 'joy': 1488, 'price': 1489, 'steven': 1490, 'bland': 1491, 'cage': 1492, 'anymor': 1493, 'rang': 1494, 'wooden': 1495, 'n': 1496, 'rush': 1497, 'jason': 1498, 'news': 1499, '12': 1500, 'twenti': 1501, 'worri': 1502, 'martial': 1503, 'led': 1504, 'board': 1505, 'hunter': 1506, 'cgi': 1507, 'symbol': 1508, 'transform': 1509, 'onto': 1510, 'piti': 1511, 'invent': 1512, 'x': 1513, 'sentiment': 1514, 'johnni': 1515, 'process': 1516, 'attitud': 1517, 'explan': 1518, 'owner': 1519, 'awar': 1520, 'aim': 1521, 'necessari': 1522, 'energi': 1523, 'favor': 1524, 'floor': 1525, 'target': 1526, 'opposit': 1527, 'religi': 1528, 'window': 1529, 'chick': 1530, 'insight': 1531, 'blind': 1532, 'movement': 1533, 'comparison': 1534, 'deepli': 1535, 'possess': 1536, 'mountain': 1537, 'research': 1538, 'grand': 1539, 'rain': 1540, 'comed': 1541, 'whatsoev': 1542, 'bank': 1543, 'shadow': 1544, 'mid': 1545, 'began': 1546, 'princ': 1547, 'parodi': 1548, 'friendship': 1549, 'credibl': 1550, 'pre': 1551, 'weapon': 1552, 'taylor': 1553, 'flesh': 1554, 'teach': 1555, 'dougla': 1556, 'bloodi': 1557, 'hint': 1558, 'terror': 1559, 'protect': 1560, 'marvel': 1561, 'accord': 1562, 'watchabl': 1563, 'leader': 1564, 'drunk': 1565, 'anybodi': 1566, 'load': 1567, 'superman': 1568, 'freddi': 1569, 'brown': 1570, 'tim': 1571, 'seat': 1572, 'jeff': 1573, 'appropri': 1574, 'hitler': 1575, 'villag': 1576, 'keaton': 1577, 'charg': 1578, 'knock': 1579, 'unknown': 1580, 'empti': 1581, 'enemi': 1582, 'media': 1583, 'england': 1584, 'unnecessari': 1585, 'utter': 1586, 'wave': 1587, 'craft': 1588, 'dare': 1589, 'perspect': 1590, 'buck': 1591, 'strength': 1592, 'kiss': 1593, 'nativ': 1594, 'contrast': 1595, 'ford': 1596, 'correct': 1597, 'distract': 1598, 'soap': 1599, 'anywher': 1600, 'chill': 1601, 'magnific': 1602, 'nazi': 1603, 'knowledg': 1604, 'speed': 1605, '1980': 1606, 'breath': 1607, 'fred': 1608, 'mission': 1609, 'ice': 1610, 'joan': 1611, 'jr': 1612, 'crowd': 1613, 'moon': 1614, 'soft': 1615, 'kate': 1616, '000': 1617, 'frighten': 1618, 'dan': 1619, 'dick': 1620, 'hundr': 1621, 'nick': 1622, 'simon': 1623, 'somebodi': 1624, 'dozen': 1625, 'radio': 1626, 'loss': 1627, 'academi': 1628, 'thousand': 1629, 'andrew': 1630, 'shakespear': 1631, 'sum': 1632, 'root': 1633, 'vehicl': 1634, 'account': 1635, 'quot': 1636, 'convent': 1637, 'leg': 1638, '1970': 1639, 'behavior': 1640, 'regular': 1641, 'gold': 1642, 'compet': 1643, 'pretenti': 1644, 'worker': 1645, 'demand': 1646, 'explos': 1647, 'lynch': 1648, 'stretch': 1649, 'japan': 1650, 'candi': 1651, 'notabl': 1652, 'interpret': 1653, 'privat': 1654, 'debut': 1655, 'constant': 1656, 'tarzan': 1657, 'translat': 1658, 'revolv': 1659, 'spi': 1660, 'sea': 1661, 'prais': 1662, 'jesu': 1663, 'quiet': 1664, 'technolog': 1665, 'failur': 1666, 'threaten': 1667, 'franc': 1668, 'sat': 1669, 'ass': 1670, 'kevin': 1671, 'punch': 1672, 'higher': 1673, 'met': 1674, 'toy': 1675, 'aid': 1676, 'mike': 1677, 'vh': 1678, 'abandon': 1679, 'interact': 1680, 'separ': 1681, 'bet': 1682, 'confront': 1683, 'command': 1684, 'recal': 1685, 'stunt': 1686, 'techniqu': 1687, 'belong': 1688, 'gotten': 1689, 'servic': 1690, 'site': 1691, 'bug': 1692, 'cabl': 1693, 'foot': 1694, 'freak': 1695, 'african': 1696, 'bright': 1697, 'capabl': 1698, 'jimmi': 1699, 'fu': 1700, 'presid': 1701, 'stock': 1702, 'clark': 1703, 'succeed': 1704, 'boat': 1705, 'fat': 1706, 'spanish': 1707, 'structur': 1708, 'gene': 1709, 'kidnap': 1710, 'paper': 1711, 'whilst': 1712, 'factor': 1713, 'belief': 1714, 'attend': 1715, 'bob': 1716, 'complic': 1717, 'tree': 1718, 'witti': 1719, 'realis': 1720, 'educ': 1721, 'realism': 1722, 'assist': 1723, 'finest': 1724, 'broken': 1725, 'santa': 1726, 'up': 1727, 'smoke': 1728, 'depart': 1729, 'observ': 1730, 'v': 1731, 'determin': 1732, 'oper': 1733, 'rubbish': 1734, 'routin': 1735, 'hat': 1736, 'fame': 1737, 'lewi': 1738, 'domin': 1739, 'foreign': 1740, 'safe': 1741, 'hook': 1742, 'advanc': 1743, 'kinda': 1744, 'lone': 1745, 'morgan': 1746, 'numer': 1747, 'rank': 1748, 'vs': 1749, 'rose': 1750, 'shallow': 1751, 'washington': 1752, 'civil': 1753, 'werewolf': 1754, 'shape': 1755, 'morn': 1756, 'gari': 1757, 'accomplish': 1758, 'ordinari': 1759, 'kong': 1760, 'winner': 1761, 'whenev': 1762, 'virtual': 1763, 'peac': 1764, 'grab': 1765, 'h': 1766, 'luck': 1767, 'offens': 1768, 'unfunni': 1769, 'patient': 1770, 'activ': 1771, 'contriv': 1772, 'bigger': 1773, 'welcom': 1774, 'complain': 1775, 'pretend': 1776, 'con': 1777, 'trek': 1778, 'dimension': 1779, 'eric': 1780, 'flash': 1781, 'wake': 1782, 'dri': 1783, 'code': 1784, 'lesbian': 1785, 'cain': 1786, 'albert': 1787, 'statu': 1788, 'guard': 1789, 'manipul': 1790, 'corrupt': 1791, 'dancer': 1792, 'signific': 1793, 'awkward': 1794, 'gain': 1795, 'context': 1796, 'sourc': 1797, 'speech': 1798, '13': 1799, 'sean': 1800, 'corni': 1801, 'clip': 1802, 'anthoni': 1803, 'psycho': 1804, 'priest': 1805, 'theatric': 1806, 'reli': 1807, 'curiou': 1808, 'advic': 1809, 'religion': 1810, 'w': 1811, 'flow': 1812, 'addict': 1813, 'jennif': 1814, 'howard': 1815, 'secur': 1816, 'specif': 1817, 'asian': 1818, 'skin': 1819, 'core': 1820, 'luke': 1821, 'organ': 1822, 'comfort': 1823, 'promot': 1824, 'golden': 1825, 'cash': 1826, 'lucki': 1827, 'cheat': 1828, 'associ': 1829, 'lower': 1830, 'dislik': 1831, 'devic': 1832, 'frankli': 1833, 'balanc': 1834, 'degre': 1835, 'frequent': 1836, 'contribut': 1837, 'spell': 1838, 'regret': 1839, 'wing': 1840, 'sake': 1841, 'forgiv': 1842, 'lake': 1843, 'print': 1844, 'betti': 1845, 'mass': 1846, 'thoma': 1847, 'unexpect': 1848, 'crack': 1849, 'gordon': 1850, 'amateur': 1851, 'construct': 1852, 'grown': 1853, 'unfold': 1854, 'categori': 1855, 'invit': 1856, 'depend': 1857, 'intellectu': 1858, 'condit': 1859, 'grew': 1860, 'matur': 1861, 'anna': 1862, 'walter': 1863, 'honor': 1864, 'sole': 1865, 'sudden': 1866, 'mirror': 1867, 'spectacular': 1868, 'veteran': 1869, 'meanwhil': 1870, 'grip': 1871, 'robin': 1872, 'liner': 1873, 'freedom': 1874, 'experienc': 1875, 'overli': 1876, 'demonstr': 1877, 'gift': 1878, 'card': 1879, 'section': 1880, 'subtitl': 1881, 'brilliantli': 1882, 'oliv': 1883, 'unabl': 1884, 'drew': 1885, 'crappi': 1886, 'sheriff': 1887, 'theori': 1888, 'colour': 1889, 'circumst': 1890, 'parker': 1891, 'sheer': 1892, 'cook': 1893, 'altern': 1894, 'path': 1895, 'pile': 1896, 'matt': 1897, 'laughter': 1898, 'lawyer': 1899, 'relief': 1900, 'defin': 1901, 'treatment': 1902, 'hall': 1903, 'accident': 1904, 'wander': 1905, 'sinatra': 1906, 'captiv': 1907, 'hank': 1908, 'dragon': 1909, 'gratuit': 1910, 'halloween': 1911, 'moor': 1912, 'barbara': 1913, 'wayn': 1914, 'unintent': 1915, 'kung': 1916, 'jacki': 1917, 'cowboy': 1918, 'k': 1919, 'broadway': 1920, 'wound': 1921, 'spoof': 1922, 'statement': 1923, 'surreal': 1924, 'winter': 1925, 'canadian': 1926, 'fare': 1927, 'treasur': 1928, 'cheer': 1929, 'fish': 1930, 'gonna': 1931, 'compos': 1932, 'emerg': 1933, 'unrealist': 1934, 'sensit': 1935, 'woodi': 1936, 'victor': 1937, 'driven': 1938, 'ran': 1939, 'neighbor': 1940, 'sympathet': 1941, 'menac': 1942, 'expos': 1943, 'topic': 1944, 'overlook': 1945, 'authent': 1946, 'glass': 1947, 'chief': 1948, 'gross': 1949, 'michel': 1950, 'handsom': 1951, 'ancient': 1952, 'nevertheless': 1953, 'stranger': 1954, 'pleasant': 1955, 'built': 1956, 'network': 1957, 'comedian': 1958, 'contemporari': 1959, 'feet': 1960, 'cinderella': 1961, 'russel': 1962, 'underr': 1963, 'miser': 1964, 'consider': 1965, 'gori': 1966, 'blockbust': 1967, 'letter': 1968, 'endless': 1969, 'earn': 1970, 'brook': 1971, 'switch': 1972, 'solv': 1973, 'edward': 1974, 'victoria': 1975, 'convict': 1976, 'virgin': 1977, 'bullet': 1978, 'joseph': 1979, '0': 1980, 'scale': 1981, 'alex': 1982, 'chosen': 1983, 'scenario': 1984, 'cynic': 1985, 'outrag': 1986, 'gut': 1987, 'curs': 1988, 'com': 1989, 'sword': 1990, 'juli': 1991, 'proper': 1992, 'screenwrit': 1993, 'substanc': 1994, 'monkey': 1995, 'uk': 1996, 'driver': 1997, 'wrap': 1998, 'indic': 1999, 'par': 2000, 'bird': 2001, 'remov': 2002, 'court': 2003, 'naiv': 2004, 'consequ': 2005, 'nanci': 2006, 'advertis': 2007, 'inevit': 2008, 'roy': 2009, 'loser': 2010, 'rental': 2011, 'grave': 2012, 'slap': 2013, 'bridg': 2014, 'brave': 2015, 'invis': 2016, 'le': 2017, 'fatal': 2018, 'germani': 2019, 'anger': 2020, 'loui': 2021, 'provok': 2022, 'footbal': 2023, 'ador': 2024, 'anderson': 2025, 'alcohol': 2026, 'chan': 2027, 'ryan': 2028, 'professor': 2029, 'stumbl': 2030, 'willi': 2031, 'assassin': 2032, '1930': 2033, 'sharp': 2034, 'bat': 2035, 'patrick': 2036, 'australian': 2037, 'amateurish': 2038, 'deni': 2039, 'trilog': 2040, 'saturday': 2041, 'heck': 2042, 'ape': 2043, 'lousi': 2044, 'liber': 2045, 'eight': 2046, 'refresh': 2047, 'strongli': 2048, 'cell': 2049, 'sin': 2050, 'justifi': 2051, 'vagu': 2052, 'resid': 2053, 'san': 2054, 'reput': 2055, 'defeat': 2056, 'terrifi': 2057, 'indi': 2058, 'sympathi': 2059, 'creator': 2060, 'mini': 2061, 'endur': 2062, 'tabl': 2063, 'tediou': 2064, 'expert': 2065, 'prevent': 2066, 'task': 2067, 'basebal': 2068, 'rival': 2069, 'offend': 2070, 'trial': 2071, 'imit': 2072, 'employ': 2073, 'che': 2074, 'fairi': 2075, 'complaint': 2076, 'europ': 2077, 'dig': 2078, 'beach': 2079, 'max': 2080, 'pitch': 2081, 'weekend': 2082, 'purchas': 2083, 'format': 2084, 'risk': 2085, 'murphi': 2086, 'reminisc': 2087, 'bite': 2088, 'harsh': 2089, 'tini': 2090, 'titan': 2091, 'nois': 2092, 'hype': 2093, 'powel': 2094, 'glimps': 2095, 'asleep': 2096, 'strip': 2097, 'till': 2098, 'north': 2099, 'fals': 2100, '14': 2101, 'prime': 2102, 'descript': 2103, 'revel': 2104, 'africa': 2105, 'texa': 2106, 'destruct': 2107, 'surfac': 2108, 'semi': 2109, 'uninterest': 2110, 'excess': 2111, 'inner': 2112, 'spin': 2113, 'arrest': 2114, 'sitcom': 2115, 'massiv': 2116, 'maintain': 2117, 'controversi': 2118, 'hitchcock': 2119, 'argu': 2120, 'dinosaur': 2121, 'makeup': 2122, 'twin': 2123, 'insist': 2124, 'ideal': 2125, 'stare': 2126, 'ludicr': 2127, 'kim': 2128, 'reject': 2129, 'melodrama': 2130, 'expens': 2131, 'ga': 2132, 'subplot': 2133, 'erot': 2134, 'ala': 2135, 'nail': 2136, 'atroci': 2137, 'forest': 2138, 'columbo': 2139, 'press': 2140, 'supernatur': 2141, 'host': 2142, 'notch': 2143, 'presum': 2144, 'identifi': 2145, 'cant': 2146, 'dude': 2147, 'crude': 2148, 'guest': 2149, 'character': 2150, 'method': 2151, 'forgett': 2152, 'plagu': 2153, 'closer': 2154, 'landscap': 2155, 'lion': 2156, 'foster': 2157, 'ear': 2158, 'border': 2159, 'princess': 2160, 'beast': 2161, 'accus': 2162, 'urban': 2163, 'aunt': 2164, 'storytel': 2165, 'previous': 2166, 'damag': 2167, 'pacino': 2168, 'bound': 2169, 'jungl': 2170, 'birth': 2171, 'jess': 2172, 'guid': 2173, 'thirti': 2174, 'emma': 2175, 'chose': 2176, 'nude': 2177, 'doll': 2178, 'propaganda': 2179, 'whoever': 2180, '25': 2181, 'pet': 2182, 'mate': 2183, 'warrior': 2184, 'mainstream': 2185, 'upset': 2186, 'gritti': 2187, 'latest': 2188, 'size': 2189, 'poster': 2190, 'deadli': 2191, 'friday': 2192, 'exact': 2193, 'merit': 2194, 'cooper': 2195, 'corps': 2196, 'wilson': 2197, '1990': 2198, 'buff': 2199, 'contact': 2200, 'blend': 2201, 'rough': 2202, 'settl': 2203, 'contest': 2204, 'citizen': 2205, 'warner': 2206, 'ton': 2207, 'sun': 2208, 'popul': 2209, 'overcom': 2210, 'pitt': 2211, 'select': 2212, 'alic': 2213, 'environ': 2214, 'rat': 2215, 'widow': 2216, 'bu': 2217, 'mgm': 2218, 'metal': 2219, 'particip': 2220, 'guilti': 2221, 'link': 2222, 'lift': 2223, 'ted': 2224, 'revolut': 2225, 'corner': 2226, 'exagger': 2227, 'accompani': 2228, 'johnson': 2229, 'corpor': 2230, 'matrix': 2231, 'afternoon': 2232, '1960': 2233, 'prostitut': 2234, 'moron': 2235, 'multipl': 2236, 'friendli': 2237, 'holm': 2238, 'doom': 2239, 'hood': 2240, 'clair': 2241, 'sincer': 2242, 'leagu': 2243, 'instal': 2244, 'junk': 2245, 'defend': 2246, 'advis': 2247, 'string': 2248, 'examin': 2249, 'grim': 2250, 'sunday': 2251, 'hip': 2252, 'aka': 2253, 'campi': 2254, 'lugosi': 2255, 'irish': 2256, 'blah': 2257, 'tight': 2258, 'shut': 2259, 'confid': 2260, 'pro': 2261, 'varieti': 2262, 'rachel': 2263, 'icon': 2264, 'shake': 2265, 'denni': 2266, 'goal': 2267, 'mexican': 2268, 'jaw': 2269, 'attach': 2270, 'medic': 2271, 'sullivan': 2272, 'directli': 2273, 'prior': 2274, 'breast': 2275, 'sentenc': 2276, 'terrorist': 2277, 'vietnam': 2278, 'courag': 2279, 'duke': 2280, 'dean': 2281, 'legendari': 2282, 'truck': 2283, 'sarah': 2284, 'bourn': 2285, 'proceed': 2286, 'behav': 2287, 'yell': 2288, 'donald': 2289, 'un': 2290, 'split': 2291, 'entri': 2292, 'hong': 2293, 'nose': 2294, 'buri': 2295, 'everywher': 2296, 'unconvinc': 2297, 'crush': 2298, 'lifetim': 2299, 'concentr': 2300, 'jerk': 2301, 'forth': 2302, 'swim': 2303, 'confess': 2304, 'stolen': 2305, 'gather': 2306, 'borrow': 2307, 'turkey': 2308, 'lip': 2309, 'spite': 2310, 'julia': 2311, 'pan': 2312, 'california': 2313, 'deliveri': 2314, 'quest': 2315, 'china': 2316, 'hoffman': 2317, 'proud': 2318, 'offici': 2319, 'downright': 2320, 'reward': 2321, 'flight': 2322, 'freeman': 2323, 'inept': 2324, 'notori': 2325, 'sir': 2326, 'jail': 2327, 'fabul': 2328, 'fade': 2329, 'encourag': 2330, 'jon': 2331, 'betray': 2332, 'worthwhil': 2333, 'lazi': 2334, 'sink': 2335, 'shower': 2336, 'relev': 2337, 'survivor': 2338, 'lisa': 2339, 'imageri': 2340, 'bell': 2341, 'branagh': 2342, 'teeth': 2343, 'storm': 2344, 'cousin': 2345, 'susan': 2346, 'bag': 2347, 'retard': 2348, 'facial': 2349, 'summari': 2350, 'stab': 2351, 'mexico': 2352, 'alright': 2353, 'finger': 2354, 'tremend': 2355, 'trade': 2356, 'toler': 2357, 'quirki': 2358, 'bride': 2359, 'hugh': 2360, 'shark': 2361, 'blown': 2362, 'hyster': 2363, 'pose': 2364, 'bitter': 2365, 'von': 2366, 'ha': 2367, 'ned': 2368, 'ron': 2369, 'bone': 2370, 'address': 2371, 'scheme': 2372, 'afterward': 2373, 'christ': 2374, 'cruel': 2375, 'larri': 2376, 'pursu': 2377, 'tour': 2378, 'traci': 2379, 'thumb': 2380, 'snake': 2381, 'feed': 2382, 'screw': 2383, 'distinct': 2384, 'beg': 2385, 'swear': 2386, 'stomach': 2387, 'occas': 2388, 'raw': 2389, 'photo': 2390, 'obscur': 2391, 'mechan': 2392, 'chair': 2393, 'argument': 2394, 'gruesom': 2395, 'necessarili': 2396, 'sidney': 2397, 'chain': 2398, 'resist': 2399, 'render': 2400, 'holiday': 2401, 'hardi': 2402, 'cabin': 2403, 'southern': 2404, 'heavili': 2405, 'understood': 2406, 'racist': 2407, 'philip': 2408, 'indulg': 2409, 'satan': 2410, 'india': 2411, 'stalk': 2412, 'obnoxi': 2413, 'lay': 2414, 'fourth': 2415, 'forgot': 2416, 'pregnant': 2417, 'outfit': 2418, 'belov': 2419, 'tongu': 2420, 'integr': 2421, 'midnight': 2422, 'ticket': 2423, 'garden': 2424, '17': 2425, 'carol': 2426, 'slapstick': 2427, 'inhabit': 2428, 'deeper': 2429, 'magazin': 2430, 'restor': 2431, 'brad': 2432, 'devot': 2433, 'shoe': 2434, 'lincoln': 2435, 'incid': 2436, 'guarante': 2437, 'divorc': 2438, 'anticip': 2439, 'sandler': 2440, 'lili': 2441, 'disbelief': 2442, 'elizabeth': 2443, 'benefit': 2444, 'underground': 2445, 'maria': 2446, 'capit': 2447, 'explod': 2448, 'princip': 2449, 'mildli': 2450, 'creation': 2451, 'amazingli': 2452, 'bbc': 2453, 'cring': 2454, 'greater': 2455, 'slave': 2456, 'introduct': 2457, 'funnier': 2458, 'halfway': 2459, 'extraordinari': 2460, 'lesli': 2461, 'punish': 2462, 'wreck': 2463, 'enhanc': 2464, 'overwhelm': 2465, 'transfer': 2466, 'tap': 2467, 'text': 2468, 'advantag': 2469, 'extent': 2470, 'east': 2471, 'preview': 2472, 'deliber': 2473, 'jessica': 2474, 'horrif': 2475, 'lane': 2476, 'plant': 2477, 'error': 2478, 'lo': 2479, 'dynam': 2480, 'homosexu': 2481, 'miscast': 2482, 'ensu': 2483, '2000': 2484, 'sophist': 2485, 'vincent': 2486, 'miller': 2487, 'vacat': 2488, 'basi': 2489, 'appli': 2490, 'sleazi': 2491, 'elev': 2492, 'spoken': 2493, 'reed': 2494, 'extend': 2495, 'uncomfort': 2496, 'mansion': 2497, 'steel': 2498, 'bollywood': 2499, 'measur': 2500, 'via': 2501, 'dentist': 2502, 'stanley': 2503, 'savag': 2504, 'beer': 2505, 'breathtak': 2506, 'melt': 2507, 'blair': 2508, 'goofi': 2509, 'alter': 2510, 'fix': 2511, 'assign': 2512, 'overact': 2513, 'conceiv': 2514, 'mous': 2515, 'daili': 2516, 'cathol': 2517, 'hippi': 2518, 'carpent': 2519, 'inspector': 2520, 'succe': 2521, 'properli': 2522, 'burt': 2523, 'nowaday': 2524, 'everyday': 2525, 'sacrific': 2526, 'subsequ': 2527, 'oppos': 2528, 'circl': 2529, 'massacr': 2530, 'neck': 2531, 'block': 2532, 'laura': 2533, 'fallen': 2534, 'fay': 2535, 'grey': 2536, 'pool': 2537, 'lesser': 2538, 'mob': 2539, 'access': 2540, 'portrait': 2541, 'concert': 2542, 'seagal': 2543, 'christi': 2544, 'usa': 2545, 'sinist': 2546, 'chees': 2547, 'jewish': 2548, 'react': 2549, 'competit': 2550, 'jake': 2551, 'isol': 2552, 'relax': 2553, 'chop': 2554, 'spiritu': 2555, 'stink': 2556, 'creep': 2557, 'appal': 2558, 'nonetheless': 2559, 'nine': 2560, 'immens': 2561, '2006': 2562, 'lyric': 2563, 'ironi': 2564, 'suitabl': 2565, 'rage': 2566, 'shirt': 2567, 'nut': 2568, 'adopt': 2569, 'sold': 2570, 'spring': 2571, 'franchis': 2572, 'retir': 2573, 'navi': 2574, 'needless': 2575, 'luci': 2576, 'reduc': 2577, 'showcas': 2578, 'user': 2579, 'per': 2580, 'jay': 2581, 'bulli': 2582, 'digit': 2583, 'stanwyck': 2584, 'nurs': 2585, 'uninspir': 2586, 'zone': 2587, 'bath': 2588, 'asham': 2589, 'illustr': 2590, '2001': 2591, 'amongst': 2592, 'sutherland': 2593, 'broadcast': 2594, '1940': 2595, 'laid': 2596, 'oddli': 2597, 'upper': 2598, 'disguis': 2599, 'fulfil': 2600, 'aspir': 2601, 'throat': 2602, 'stylish': 2603, 'brando': 2604, 'baker': 2605, 'pound': 2606, 'nobl': 2607, 'impli': 2608, 'em': 2609, 'wwii': 2610, '18': 2611, 'thief': 2612, 'pride': 2613, 'wanna': 2614, 'neighborhood': 2615, 'endear': 2616, 'distribut': 2617, 'shoulder': 2618, 'rochest': 2619, 'cinematograph': 2620, 'coher': 2621, 'prop': 2622, 'tens': 2623, 'shift': 2624, 'dawn': 2625, 'albeit': 2626, 'diseas': 2627, 'dinner': 2628, '16': 2629, 'bett': 2630, 'bo': 2631, 'function': 2632, 'shout': 2633, 'forti': 2634, 'knife': 2635, 'snow': 2636, 'surf': 2637, 'poignant': 2638, 'rebel': 2639, 'silenc': 2640, 'contract': 2641, 'wash': 2642, 'matthau': 2643, 'duti': 2644, 'proof': 2645, 'chuck': 2646, 'horrend': 2647, 'henc': 2648, 'cancel': 2649, 'derek': 2650, 'mindless': 2651, 'silver': 2652, 'instinct': 2653, 'height': 2654, 'cannib': 2655, 'reunion': 2656, 'heat': 2657, 'widmark': 2658, 'eeri': 2659, 'internet': 2660, 'elvira': 2661, 'innov': 2662, 'alik': 2663, 'mill': 2664, 'glori': 2665, 'musician': 2666, 'premier': 2667, 'neat': 2668, 'torn': 2669, 'greatli': 2670, 'etern': 2671, 'spielberg': 2672, 'absorb': 2673, 'repetit': 2674, 'pie': 2675, 'elvi': 2676, 'incoher': 2677, 'britain': 2678, 'trite': 2679, 'announc': 2680, 'racism': 2681, 'blank': 2682, 'burton': 2683, 'lovabl': 2684, 'horrifi': 2685, 'nelson': 2686, 'infam': 2687, 'homag': 2688, 'wealthi': 2689, 'precis': 2690, 'redempt': 2691, 'crisi': 2692, 'itali': 2693, 'diamond': 2694, 'bang': 2695, 'fbi': 2696, 'chaplin': 2697, 'ensembl': 2698, 'resolut': 2699, 'flop': 2700, 'wilder': 2701, 'happili': 2702, 'hammer': 2703, 'helen': 2704, 'pat': 2705, 'dedic': 2706, 'parallel': 2707, 'streisand': 2708, 'st': 2709, 'carter': 2710, 'factori': 2711, 'disagre': 2712, 'oil': 2713, 'conclud': 2714, 'mar': 2715, 'triumph': 2716, 'broke': 2717, 'plastic': 2718, 'cube': 2719, 'fighter': 2720, 'row': 2721, 'weight': 2722, 'own': 2723, 'chuckl': 2724, 'rocket': 2725, 'bush': 2726, 'march': 2727, 'climb': 2728, 'vega': 2729, 'dump': 2730, 'spare': 2731, 'meaning': 2732, 'sensibl': 2733, 'lust': 2734, 'wherea': 2735, 'boot': 2736, 'mst3k': 2737, 'unforgett': 2738, 'thug': 2739, 'kurt': 2740, 'dane': 2741, 'luca': 2742, 'enorm': 2743, 'butt': 2744, 'bobbi': 2745, 'caricatur': 2746, 'adequ': 2747, 'threat': 2748, 'difficulti': 2749, 'stress': 2750, 'dear': 2751, 'fifti': 2752, 'arnold': 2753, 'engin': 2754, 'brand': 2755, 'rap': 2756, 'karloff': 2757, 'swing': 2758, 'homeless': 2759, 'flynn': 2760, 'journalist': 2761, 'ralph': 2762, 'arrog': 2763, 'hamlet': 2764, 'secretari': 2765, 'polish': 2766, 'barri': 2767, 'elabor': 2768, 'fest': 2769, 'ego': 2770, 'tool': 2771, 'simpson': 2772, 'puppet': 2773, 'unbear': 2774, 'induc': 2775, 'resort': 2776, 'arrang': 2777, 'conspiraci': 2778, 'float': 2779, 'fanci': 2780, 'grate': 2781, 'spike': 2782, 'tribut': 2783, 'cruis': 2784, 'boll': 2785, 'basement': 2786, 'phillip': 2787, 'choreograph': 2788, 'muppet': 2789, 'exercis': 2790, 'guilt': 2791, 'pig': 2792, '24': 2793, 'babe': 2794, 'scarecrow': 2795, 'ham': 2796, 'medium': 2797, 'slip': 2798, 'fianc': 2799, 'editor': 2800, 'toilet': 2801, 'stan': 2802, 'layer': 2803, 'document': 2804, 'item': 2805, 'file': 2806, 'korean': 2807, 'ward': 2808, 'puzzl': 2809, 'tower': 2810, 'glover': 2811, 'assur': 2812, 'transit': 2813, 'inexplic': 2814, 'denzel': 2815, 'slaughter': 2816, 'spark': 2817, 'superfici': 2818, 'territori': 2819, 'persona': 2820, 'orient': 2821, 'minim': 2822, 'larger': 2823, 'portion': 2824, 'librari': 2825, 'doc': 2826, 'catherin': 2827, 'philosoph': 2828, 'jet': 2829, 'pg': 2830, 'curti': 2831, 'financi': 2832, 'boredom': 2833, 'ban': 2834, 'sneak': 2835, 'owe': 2836, 'walken': 2837, 'jeremi': 2838, 'shi': 2839, 'dorothi': 2840, 'wolf': 2841, 'backdrop': 2842, 'cusack': 2843, 'hudson': 2844, 'eleph': 2845, 'metaphor': 2846, 'profound': 2847, 'multi': 2848, 'ambigu': 2849, 'whale': 2850, 'stiff': 2851, 'birthday': 2852, '2005': 2853, 'elsewher': 2854, 'rave': 2855, 'ultra': 2856, 'viru': 2857, 'hack': 2858, 'notion': 2859, 'implaus': 2860, 'gadget': 2861, 'union': 2862, 'superhero': 2863, 'urg': 2864, 'poison': 2865, 'hawk': 2866, 'newspap': 2867, 'eastwood': 2868, 'canada': 2869, '1st': 2870, 'reader': 2871, 'squar': 2872, 'lloyd': 2873, 'deriv': 2874, 'pad': 2875, 'slight': 2876, 'afford': 2877, 'disc': 2878, 'distanc': 2879, 'bibl': 2880, 'eva': 2881, 'huh': 2882, 'skit': 2883, 'drown': 2884, 'essenc': 2885, 'heston': 2886, 'health': 2887, 'charisma': 2888, 'button': 2889, 'restaur': 2890, 'montag': 2891, 'spread': 2892, 'sadist': 2893, 'cure': 2894, 'gradual': 2895, 'peak': 2896, 'fetch': 2897, 'muslim': 2898, 'dealt': 2899, 'godfath': 2900, 'lab': 2901, 'estat': 2902, 'companion': 2903, 'maniac': 2904, 'invest': 2905, 'scoobi': 2906, 'cup': 2907, 'tea': 2908, 'countless': 2909, 'subtleti': 2910, 'miik': 2911, 'gothic': 2912, 'alli': 2913, 'ritter': 2914, 'servant': 2915, 'kane': 2916, 'salli': 2917, 'heroic': 2918, 'elect': 2919, 'electr': 2920, 'iii': 2921, 'briefli': 2922, 'charismat': 2923, 'admittedli': 2924, 'ingredi': 2925, 'wannab': 2926, 'grandmoth': 2927, 'resourc': 2928, 'toss': 2929, 'bud': 2930, 'reel': 2931, 'tender': 2932, 'cole': 2933, 'nuanc': 2934, 'neil': 2935, 'mild': 2936, 'kubrick': 2937, 'shall': 2938, 'stood': 2939, 'poverti': 2940, 'stronger': 2941, 'label': 2942, 'pauli': 2943, 'reev': 2944, 'pit': 2945, 'dawson': 2946, 'carrey': 2947, 'mafia': 2948, 'punk': 2949, 'gate': 2950, 'astair': 2951, 'burst': 2952, 'fond': 2953, 'ian': 2954, 'tag': 2955, 'outcom': 2956, 'cox': 2957, 'cardboard': 2958, 'smooth': 2959, 'useless': 2960, 'easier': 2961, 'smash': 2962, 'assault': 2963, 'updat': 2964, 'terri': 2965, 'bakshi': 2966, 'resolv': 2967, 'melodramat': 2968, 'exchang': 2969, 'vari': 2970, 'vulner': 2971, 'sketch': 2972, '2002': 2973, 'coincid': 2974, 'qualifi': 2975, 'divers': 2976, 'fist': 2977, 'samurai': 2978, 'rex': 2979, 'increasingli': 2980, 'insert': 2981, 'be': 2982, 'tame': 2983, 'templ': 2984, 'conveni': 2985, 'luckili': 2986, 'blast': 2987, 'reynold': 2988, 'suspend': 2989, 'brillianc': 2990, 'scratch': 2991, 'gotta': 2992, 'fisher': 2993, 'meat': 2994, 'farm': 2995, 'nuclear': 2996, 'walker': 2997, 'strictli': 2998, 'hamilton': 2999, 'matthew': 3000, 'seventi': 3001, 'pin': 3002, 'coach': 3003, 'ambiti': 3004, 'jami': 3005, 'soprano': 3006, 'joey': 3007, 'struck': 3008, 'spooki': 3009, 'brosnan': 3010, 'eccentr': 3011, 'timeless': 3012, 'kudo': 3013, 'worthless': 3014, 'instantli': 3015, 'closet': 3016, 'butcher': 3017, 'discoveri': 3018, 'grasp': 3019, 'clock': 3020, 'empir': 3021, 'cave': 3022, 'monk': 3023, 'revers': 3024, 'recreat': 3025, 'convolut': 3026, 'ninja': 3027, 'wipe': 3028, 'inconsist': 3029, 'sloppi': 3030, 'communist': 3031, 'partli': 3032, 'fifteen': 3033, 'bleak': 3034, 'eighti': 3035, 'miracl': 3036, 'clown': 3037, 'pal': 3038, 'declar': 3039, 'gray': 3040, 'sidekick': 3041, 'selfish': 3042, 'evok': 3043, 'mitchel': 3044, 'cliff': 3045, 'importantli': 3046, 'norman': 3047, 'seller': 3048, 'farc': 3049, 'ho': 3050, 'piano': 3051, 'psychiatrist': 3052, 'websit': 3053, 'destin': 3054, 'lifestyl': 3055, 'australia': 3056, '45': 3057, 'enthusiast': 3058, 'superbl': 3059, 'aforement': 3060, 'cheek': 3061, 'debat': 3062, 'stoog': 3063, 'seed': 3064, 'chew': 3065, 'flawless': 3066, 'pressur': 3067, 'directori': 3068, 'slice': 3069, 'emili': 3070, 'dash': 3071, 'wick': 3072, 'dire': 3073, 'drivel': 3074, 'regardless': 3075, 'splatter': 3076, 'abc': 3077, 'kitchen': 3078, 'akshay': 3079, 'wrestl': 3080, 'bash': 3081, 'soviet': 3082, 'anni': 3083, 'incompet': 3084, 'jar': 3085, 'boil': 3086, 'curios': 3087, 'mann': 3088, 'suppli': 3089, 'duo': 3090, 'distant': 3091, 'beaten': 3092, 'flower': 3093, 'lou': 3094, 'helicopt': 3095, 'recov': 3096, 'artifici': 3097, 'seduc': 3098, 'blob': 3099, 'pleasantli': 3100, 'cia': 3101, 'prize': 3102, 'ken': 3103, 'cagney': 3104, 'dave': 3105, 'glow': 3106, 'cameron': 3107, 'increas': 3108, 'judi': 3109, 'doo': 3110, 'chapter': 3111, 'craven': 3112, 'splendid': 3113, 'goldberg': 3114, 'favour': 3115, 'drunken': 3116, 'perri': 3117, 'combat': 3118, 'eleg': 3119, 'hop': 3120, 'craig': 3121, 'laurel': 3122, 'turner': 3123, 'web': 3124, 'panic': 3125, 'glenn': 3126, 'psychot': 3127, 'ellen': 3128, 'francisco': 3129, 'ranger': 3130, 'rid': 3131, 'greek': 3132, 'slightest': 3133, 'ruth': 3134, 'falk': 3135, 'min': 3136, 'philosophi': 3137, 'gentl': 3138, 'plausibl': 3139, 'modesti': 3140, 'shortli': 3141, 'flip': 3142, 'fx': 3143, 'alexand': 3144, 'wizard': 3145, '20th': 3146, 'hatr': 3147, 'gandhi': 3148, 'graduat': 3149, 'we': 3150, 'unpleas': 3151, 'manhattan': 3152, 'legal': 3153, 'futurist': 3154, 'dracula': 3155, 'knight': 3156, 'holi': 3157, 'lend': 3158, 'harm': 3159, 'preciou': 3160, 'tall': 3161, 'fund': 3162, 'ocean': 3163, 'jealou': 3164, 'felix': 3165, 'overdon': 3166, 'childish': 3167, 'thread': 3168, 'explicit': 3169, 'forbidden': 3170, 'nod': 3171, 'bless': 3172, 'digniti': 3173, 'scientif': 3174, 'tank': 3175, 'mock': 3176, 'ami': 3177, 'reviv': 3178, 'giallo': 3179, '99': 3180, 'awe': 3181, 'torment': 3182, '2004': 3183, 'margaret': 3184, 'unwatch': 3185, 'pirat': 3186, 'broad': 3187, 'verhoeven': 3188, 'awaken': 3189, 'thick': 3190, 'repeatedli': 3191, 'elderli': 3192, 'eve': 3193, 'mel': 3194, 'fever': 3195, 'yesterday': 3196, 'nerv': 3197, 'timothi': 3198, 'custom': 3199, 'ambit': 3200, 'rivet': 3201, 'royal': 3202, 'automat': 3203, 'eas': 3204, 'romero': 3205, 'lean': 3206, 'acclaim': 3207, 'uniform': 3208, 'ah': 3209, 'publish': 3210, 'absenc': 3211, 'politician': 3212, 'stiller': 3213, 'launch': 3214, 'bin': 3215, 'roman': 3216, 'kay': 3217, 'griffith': 3218, 'tomato': 3219, 'termin': 3220, 'stinker': 3221, 'transport': 3222, 'darker': 3223, 'pierc': 3224, 'foul': 3225, 'antic': 3226, 'wallac': 3227, 'warren': 3228, 'phrase': 3229, 'pulp': 3230, 'gabriel': 3231, 'crook': 3232, 'sunshin': 3233, 'bathroom': 3234, 'homicid': 3235, 'purpl': 3236, '2003': 3237, 'viciou': 3238, 'horrid': 3239, 'evolv': 3240, 'ought': 3241, 'awak': 3242, 'brazil': 3243, 'eyr': 3244, 'donna': 3245, 'q': 3246, 'album': 3247, 'rambo': 3248, 'coloni': 3249, 'marin': 3250, 'revolutionari': 3251, 'hollow': 3252, 'karen': 3253, 'li': 3254, 'pray': 3255, 'contrari': 3256, 'sixti': 3257, 'kenneth': 3258, 'choreographi': 3259, 'juvenil': 3260, 'prom': 3261, 'saint': 3262, 'packag': 3263, 'overr': 3264, 'option': 3265, 'candid': 3266, 'mummi': 3267, 'defi': 3268, 'nerd': 3269, 'beatti': 3270, 'blade': 3271, 'ireland': 3272, 'conserv': 3273, 'boast': 3274, 'kapoor': 3275, 'dose': 3276, 'stole': 3277, 'ramon': 3278, 'twelv': 3279, 'mildr': 3280, 'flame': 3281, 'trio': 3282, 'confirm': 3283, 'astonish': 3284, 'collabor': 3285, 'fulci': 3286, 'protest': 3287, 'global': 3288, 'funer': 3289, 'natali': 3290, 'altman': 3291, 'kirk': 3292, 'jazz': 3293, 'detract': 3294, 'mystic': 3295, 'leap': 3296, 'racial': 3297, 'tommi': 3298, 'delici': 3299, 'blake': 3300, 'bottl': 3301, 'spit': 3302, 'shade': 3303, 'whip': 3304, 'destini': 3305, 'audio': 3306, 'enterpris': 3307, 'nicholson': 3308, 'bull': 3309, 'yellow': 3310, 'inherit': 3311, 'adolesc': 3312, 'reunit': 3313, 'meaningless': 3314, 'fonda': 3315, 'todd': 3316, 'vivid': 3317, 'staff': 3318, 'altogeth': 3319, 'pseudo': 3320, 'visibl': 3321, 'popcorn': 3322, 'harder': 3323, 'swedish': 3324, 'enchant': 3325, 'neo': 3326, 'merci': 3327, 'threw': 3328, 'bedroom': 3329, 'decor': 3330, 'roommat': 3331, 'exhibit': 3332, 'synopsi': 3333, 'bust': 3334, 'fanat': 3335, 'kennedi': 3336, 'lemmon': 3337, 'voight': 3338, 'respond': 3339, 'ruthless': 3340, 'await': 3341, 'madonna': 3342, 'befriend': 3343, 'wire': 3344, 'moodi': 3345, 'suspici': 3346, 'crocodil': 3347, 'leonard': 3348, 'jew': 3349, 'tip': 3350, 'uneven': 3351, 'reserv': 3352, 'edi': 3353, 'atlanti': 3354, 'lawrenc': 3355, 'dimens': 3356, 'chao': 3357, 'unsettl': 3358, 'bargain': 3359, 'clint': 3360, 'voyag': 3361, 'bold': 3362, 'incident': 3363, 'bradi': 3364, 'palma': 3365, 'holli': 3366, 'garner': 3367, 'clumsi': 3368, 'centr': 3369, 'ventur': 3370, 'rural': 3371, '2007': 3372, 'audit': 3373, 'carl': 3374, 'abysm': 3375, 'characterist': 3376, 'timon': 3377, 'cuba': 3378, 'versu': 3379, 'nearbi': 3380, '2nd': 3381, 'ant': 3382, 'wealth': 3383, 'humili': 3384, 'daddi': 3385, 'trail': 3386, 'troop': 3387, 'neglect': 3388, 'cari': 3389, 'lit': 3390, 'cd': 3391, 'immigr': 3392, 'mall': 3393, 'echo': 3394, 'elimin': 3395, 'tiger': 3396, 'hart': 3397, 'poetic': 3398, 'imperson': 3399, 'acknowledg': 3400, 'domest': 3401, 'jeffrey': 3402, 'marshal': 3403, 'collaps': 3404, 'mickey': 3405, 'infect': 3406, 'prejudic': 3407, 'repuls': 3408, 'homer': 3409, 'mistaken': 3410, 'saga': 3411, 'pun': 3412, 'celluloid': 3413, 'solo': 3414, 'paus': 3415, 'coffe': 3416, 'promin': 3417, 'inan': 3418, 'coat': 3419, 'apolog': 3420, 'harvey': 3421, 'cake': 3422, 'undoubtedli': 3423, 'pant': 3424, 'assembl': 3425, 'interrupt': 3426, 'ginger': 3427, 'inappropri': 3428, 'leon': 3429, 'olivi': 3430, 'equip': 3431, 'sore': 3432, 'chest': 3433, '1996': 3434, 'milk': 3435, 'tribe': 3436, 'gear': 3437, 'hbo': 3438, 'institut': 3439, 'trace': 3440, 'brooklyn': 3441, 'pot': 3442, 'aveng': 3443, 'consum': 3444, 'colonel': 3445, 'embrac': 3446, 'furthermor': 3447, 'highest': 3448, 'solut': 3449, 'retain': 3450, 'exot': 3451, 'humbl': 3452, 'colleagu': 3453, 'airplan': 3454, 'instant': 3455, 'florida': 3456, 'pen': 3457, 'primari': 3458, 'devast': 3459, 'vulgar': 3460, 'maggi': 3461, 'polanski': 3462, 'jenni': 3463, 'seduct': 3464, 'strain': 3465, 'bowl': 3466, 'smaller': 3467, 'disabl': 3468, 'sale': 3469, 'outer': 3470, 'dian': 3471, 'descend': 3472, 'principl': 3473, '3rd': 3474, 'rick': 3475, 'cope': 3476, 'wive': 3477, 'poke': 3478, 'illog': 3479, 'dutch': 3480, 'linda': 3481, '1999': 3482, 'ya': 3483, 'godzilla': 3484, 'gender': 3485, 'cue': 3486, 'glamor': 3487, 'gloriou': 3488, 'vast': 3489, 'inferior': 3490, 'scope': 3491, 'beneath': 3492, 'blatant': 3493, 'dive': 3494, 'primarili': 3495, 'yard': 3496, 'mixtur': 3497, 'lol': 3498, 'dud': 3499, 'bubbl': 3500, 'predecessor': 3501, 'gundam': 3502, 'hal': 3503, 'devoid': 3504, 'secondli': 3505, 'rabbit': 3506, 'alfr': 3507, 'et': 3508, 'alert': 3509, 'shirley': 3510, 'pearl': 3511, 'senseless': 3512, 'casual': 3513, 'garbo': 3514, 'domino': 3515, 'countrysid': 3516, 'invas': 3517, 'disjoint': 3518, 'trademark': 3519, 'z': 3520, 'myer': 3521, 'talki': 3522, 'hideou': 3523, 'breed': 3524, 'aggress': 3525, 'simplist': 3526, 'museum': 3527, 'april': 3528, 'streep': 3529, 'arab': 3530, 'shelf': 3531, 'grinch': 3532, 'loyal': 3533, 'hardcor': 3534, 'uwe': 3535, 'defens': 3536, 'hopeless': 3537, 'mayor': 3538, 'rendit': 3539, 'boom': 3540, 'obtain': 3541, 'applaud': 3542, 'sh': 3543, 'disgrac': 3544, 'slide': 3545, 'vanish': 3546, 'experiment': 3547, 'robberi': 3548, 'illeg': 3549, 'robinson': 3550, 'oz': 3551, 'stack': 3552, 'stir': 3553, 'acid': 3554, 'unhappi': 3555, 'maci': 3556, 'khan': 3557, 'mail': 3558, 'stellar': 3559, 'blew': 3560, 'spider': 3561, 'rifl': 3562, 'diana': 3563, 'incomprehens': 3564, 'fri': 3565, 'grandfath': 3566, 'dismiss': 3567, 'counter': 3568, 'emphasi': 3569, 'span': 3570, 'soccer': 3571, 'recruit': 3572, 'topless': 3573, 'tempt': 3574, 'craze': 3575, 'wont': 3576, 'berlin': 3577, 'amanda': 3578, 'hartley': 3579, 'dicken': 3580, 'declin': 3581, 'tenant': 3582, 'psychic': 3583, 'scroog': 3584, 'riot': 3585, 'porno': 3586, 'trashi': 3587, 'intim': 3588, 'bitch': 3589, 'sympath': 3590, 'niro': 3591, 'sibl': 3592, 'resurrect': 3593, 'shaw': 3594, 'goer': 3595, 'ethnic': 3596, 'justin': 3597, 'ration': 3598, 'faster': 3599, 'shed': 3600, 'revolt': 3601, 'parad': 3602, 'lumet': 3603, 'wet': 3604, 'woo': 3605, 'immort': 3606, 'weakest': 3607, 'commend': 3608, 'partial': 3609, 'steam': 3610, 'hesit': 3611, 'unreal': 3612, 'patriot': 3613, 'worm': 3614, 'ensur': 3615, 'hopper': 3616, 'wendi': 3617, 'eager': 3618, 'andr': 3619, 'rider': 3620, 'choru': 3621, 'wheel': 3622, 'region': 3623, 'nephew': 3624, 'ballet': 3625, 'enlighten': 3626, 'gap': 3627, '00': 3628, 'dealer': 3629, 'slick': 3630, 'feminist': 3631, 'biographi': 3632, 'honesti': 3633, 'mario': 3634, 'jonathan': 3635, 'lena': 3636, 'farmer': 3637, 'repress': 3638, 'mutant': 3639, 'kingdom': 3640, 'blunt': 3641, 'properti': 3642, 'similarli': 3643, 'confin': 3644, 'wore': 3645, 'psychopath': 3646, 'nostalg': 3647, 'safeti': 3648, 'charlott': 3649, 'morri': 3650, 'sappi': 3651, 'hung': 3652, 'skull': 3653, 'util': 3654, 'vice': 3655, 'sandra': 3656, 'owen': 3657, 'leo': 3658, 'composit': 3659, 'prequel': 3660, 'macarthur': 3661, 'snap': 3662, 'victori': 3663, 'franco': 3664, 'campbel': 3665, 'compens': 3666, 'miseri': 3667, 'montana': 3668, 'whoopi': 3669, 'repli': 3670, 'drain': 3671, 'nervou': 3672, 'rope': 3673, 'valuabl': 3674, 'dalton': 3675, 'rocki': 3676, 'dust': 3677, 'cg': 3678, 'despair': 3679, 'thru': 3680, 'deed': 3681, 'bow': 3682, '1972': 3683, 'emperor': 3684, 'compass': 3685, 'heartbreak': 3686, 'pattern': 3687, 'rambl': 3688, 'speci': 3689, 'snl': 3690, 'tail': 3691, 'exit': 3692, 'strand': 3693, 'tad': 3694, 'hyde': 3695, 'bumbl': 3696, 'recycl': 3697, 'del': 3698, 'latin': 3699, 'kyle': 3700, 'acquir': 3701, 'drum': 3702, 'bonu': 3703, 'bergman': 3704, 'farrel': 3705, 'rotten': 3706, 'oppress': 3707, 'gal': 3708, 'rapist': 3709, 'wacki': 3710, 'bleed': 3711, 'tonight': 3712, 'downhil': 3713, 'martian': 3714, 'orson': 3715, 'da': 3716, 'olli': 3717, 'mistress': 3718, 'roth': 3719, 'radic': 3720, 'slug': 3721, 'pour': 3722, 'contempl': 3723, '35': 3724, 'chess': 3725, 'carradin': 3726, 'gimmick': 3727, 'airport': 3728, 'romp': 3729, 'percept': 3730, 'tooth': 3731, '1983': 3732, 'pursuit': 3733, 'programm': 3734, 'arc': 3735, 'shelley': 3736, 'tackl': 3737, 'banal': 3738, 'taught': 3739, 'paltrow': 3740, 'champion': 3741, 'mislead': 3742, 'arguabl': 3743, 'attorney': 3744, 'unpredict': 3745, 'slash': 3746, 'heal': 3747, 'preach': 3748, 'pervers': 3749, 'melodi': 3750, 'pervert': 3751, 'belt': 3752, 'dazzl': 3753, 'stilt': 3754, 'edgar': 3755, 'uplift': 3756, 'graham': 3757, 'conneri': 3758, 'mesmer': 3759, 'poem': 3760, 'raymond': 3761, 'maid': 3762, 'sensat': 3763, 'closest': 3764, 'plight': 3765, 'passeng': 3766, 'vocal': 3767, 'cleverli': 3768, 'tiresom': 3769, 'chicken': 3770, 'bela': 3771, 'rubi': 3772, 'orang': 3773, 'virginia': 3774, 'duval': 3775, 'franki': 3776, 'marti': 3777, 'vengeanc': 3778, 'employe': 3779, 'gambl': 3780, 'dixon': 3781, 'calm': 3782, 'yawn': 3783, 'secretli': 3784, 'swallow': 3785, 'amitabh': 3786, 'whine': 3787, 'profan': 3788, 'gerard': 3789, 'mute': 3790, 'giggl': 3791, 'quarter': 3792, 'numb': 3793, 'clone': 3794, 'abraham': 3795, 'habit': 3796, 'inject': 3797, 'iran': 3798, 'crystal': 3799, 'convincingli': 3800, 'engross': 3801, 'scottish': 3802, 'tube': 3803, 'paranoia': 3804, 'lundgren': 3805, 'extens': 3806, '1968': 3807, 'suffic': 3808, 'volum': 3809, 'sirk': 3810, 'bay': 3811, 'climact': 3812, 'monologu': 3813, 'outing': 3814, 'pokemon': 3815, 'abort': 3816, 'ethan': 3817, 'linger': 3818, 'expand': 3819, 'profess': 3820, 'surpass': 3821, 'dispos': 3822, 'austen': 3823, 'lowest': 3824, 'grotesqu': 3825, 'frankenstein': 3826, 'trend': 3827, 'richardson': 3828, 'junior': 3829, 'meander': 3830, 'poetri': 3831, 'septemb': 3832, 'plod': 3833, 'nichola': 3834, 'earl': 3835, 'chicago': 3836, 'underst': 3837, 'backward': 3838, 'spock': 3839, 'im': 3840, 'fed': 3841, 'franci': 3842, 'bend': 3843, 'taxi': 3844, 'econom': 3845, 'myth': 3846, 'spoke': 3847, 'hum': 3848, 'household': 3849, 'sue': 3850, 'mundan': 3851, 'lure': 3852, 'stallon': 3853, 'catchi': 3854, 'rubber': 3855, 'muddl': 3856, 'compliment': 3857, 'dysfunct': 3858, 'eugen': 3859, 'cannon': 3860, 'rant': 3861, 'tourist': 3862, 'nostalgia': 3863, 'descent': 3864, 'literatur': 3865, 'simplic': 3866, 'instrument': 3867, 'greedi': 3868, 'waitress': 3869, 'der': 3870, 'phantom': 3871, 'louis': 3872, 'firstli': 3873, 'molli': 3874, 'irrelev': 3875, 'crucial': 3876, 'mankind': 3877, 'recognit': 3878, 'insur': 3879, 'alongsid': 3880, 'dement': 3881, 'stale': 3882, 'duck': 3883, 'hello': 3884, 'equival': 3885, 'omen': 3886, 'coast': 3887, 'lang': 3888, 'deaf': 3889, 'cent': 3890, 'mortal': 3891, 'flee': 3892, 'occupi': 3893, 'randi': 3894, 'bacal': 3895, 'furi': 3896, 'recognis': 3897, 'eaten': 3898, 'carel': 3899, 'damon': 3900, 'sissi': 3901, 'map': 3902, 'dictat': 3903, 'phoni': 3904, 'june': 3905, '1973': 3906, 'reign': 3907, 'daisi': 3908, 'likewis': 3909, 'dreari': 3910, 'antwon': 3911, 'freez': 3912, 'drake': 3913, 'newli': 3914, 'labor': 3915, 'bike': 3916, 'bump': 3917, 'blackmail': 3918, 'lengthi': 3919, 'onlin': 3920, 'twilight': 3921, 'ashley': 3922, 'rude': 3923, 'heel': 3924, 'loyalti': 3925, 'distinguish': 3926, 'grayson': 3927, 'wisdom': 3928, 'rooney': 3929, 'buffalo': 3930, 'biko': 3931, 'cyborg': 3932, 'damm': 3933, 'prey': 3934, 'tunnel': 3935, 'worn': 3936, 'inher': 3937, 'barrymor': 3938, 'keith': 3939, 'boxer': 3940, 'emphas': 3941, 'provoc': 3942, 'chronicl': 3943, 'ridden': 3944, 'butler': 3945, 'proce': 3946, 'unorigin': 3947, 'nineti': 3948, 'baddi': 3949, 'exposur': 3950, 'analysi': 3951, 'pink': 3952, 'vein': 3953, 'startl': 3954, 'interior': 3955, 'sailor': 3956, 'attribut': 3957, 'approv': 3958, 'incorpor': 3959, 'basketbal': 3960, 'underli': 3961, 'mighti': 3962, 'condemn': 3963, 'improvis': 3964, 'bunni': 3965, 'er': 3966, 'indiffer': 3967, 'fleet': 3968, 'degrad': 3969, 'julian': 3970, 'elm': 3971, 'barrel': 3972, 'predat': 3973, 'walsh': 3974, 'meyer': 3975, 'drift': 3976, 'millionair': 3977, 'hypnot': 3978, 'carla': 3979, 'nicol': 3980, 'stalker': 3981, 'unrel': 3982, 'substitut': 3983, 'simmon': 3984, 'meg': 3985, 'belushi': 3986, 'othello': 3987, 'undeni': 3988, 'robbin': 3989, 'mormon': 3990, 'warmth': 3991, 'enthusiasm': 3992, 'alarm': 3993, 'disord': 3994, 'roof': 3995, 'novak': 3996, 'mtv': 3997, 'alison': 3998, 'reid': 3999, 'edgi': 4000, 'priceless': 4001, 'shove': 4002, 'palac': 4003, 'agenda': 4004, 'firm': 4005, 'hay': 4006, 'vital': 4007, 'watson': 4008, 'dolph': 4009, 'lampoon': 4010, 'nyc': 4011, 'errol': 4012, 'exquisit': 4013, '3d': 4014, 'greed': 4015, 'unawar': 4016, 'rukh': 4017, 'marion': 4018, 'unleash': 4019, 'israel': 4020, 'simultan': 4021, 'testament': 4022, 'profit': 4023, 'pamela': 4024, 'ponder': 4025, '1933': 4026, 'session': 4027, 'preserv': 4028, 'iraq': 4029, 'peck': 4030, 'angela': 4031, 'gestur': 4032, 'minimum': 4033, 'crown': 4034, 'coup': 4035, 'spain': 4036, 'peril': 4037, 'distort': 4038, 'cassidi': 4039, 'petti': 4040, 'campaign': 4041, 'thompson': 4042, 'showdown': 4043, 'what': 4044, 'orlean': 4045, 'valentin': 4046, 'sergeant': 4047, '13th': 4048, 'nun': 4049, 'glanc': 4050, 'beatl': 4051, 'eastern': 4052, 'zizek': 4053, 'randomli': 4054, 'drip': 4055, 'championship': 4056, 'realm': 4057, 'unimagin': 4058, 'sabrina': 4059, 'wig': 4060, 'exposit': 4061, 'mon': 4062, 'brenda': 4063, 'quinn': 4064, 'bro': 4065, 'contradict': 4066, 'represent': 4067, 'travesti': 4068, 'kurosawa': 4069, '1984': 4070, 'restrain': 4071, 'valley': 4072, 'reson': 4073, 'stake': 4074, 'regist': 4075, 'han': 4076, 'buster': 4077, 'scotland': 4078, 'calib': 4079, 'cooki': 4080, 'perpetu': 4081, 'climat': 4082, 'rout': 4083, 'jan': 4084, 'stroke': 4085, 'crawl': 4086, 'cream': 4087, 'din': 4088, 'shootout': 4089, 'gentleman': 4090, 'empathi': 4091, 'miyazaki': 4092, 'crow': 4093, 'fido': 4094, 'ross': 4095, 'traumat': 4096, 'delic': 4097, 'monoton': 4098, 'tacki': 4099, 'greg': 4100, 'compromis': 4101, 'baldwin': 4102, 'sucker': 4103, 'pretens': 4104, 'perceiv': 4105, 'demis': 4106, 'warrant': 4107, '1997': 4108, 'josh': 4109, 'femm': 4110, 'pole': 4111, 'absent': 4112, 'geek': 4113, 'crawford': 4114, '1987': 4115, 'cloud': 4116, 'painter': 4117, 'passabl': 4118, 'spacey': 4119, 'businessman': 4120, 'unseen': 4121, 'meryl': 4122, 'shaki': 4123, 'soderbergh': 4124, 'censor': 4125, 'unsatisfi': 4126, 'mclaglen': 4127, 'shoddi': 4128, 'ustinov': 4129, 'stargat': 4130, 'derang': 4131, 'darren': 4132, 'distress': 4133, 'abomin': 4134, 'dana': 4135, 'fuller': 4136, 'wax': 4137, 'sammi': 4138, 'accuraci': 4139, 'verbal': 4140, 'nathan': 4141, 'deceas': 4142, 'click': 4143, 'primit': 4144, 'deniro': 4145, 'dee': 4146, 'wholli': 4147, 'correctli': 4148, 'expedit': 4149, 'fenc': 4150, 'norm': 4151, 'polici': 4152, 'clash': 4153, 'unravel': 4154, 'exclus': 4155, 'sid': 4156, 'furiou': 4157, 'anchor': 4158, 'judgment': 4159, 'kumar': 4160, 'uncov': 4161, 'fog': 4162, 'reluct': 4163, 'tech': 4164, 'valid': 4165, 'tarantino': 4166, 'austin': 4167, 'jewel': 4168, 'antonioni': 4169, 'seal': 4170, '1993': 4171, '2008': 4172, 'sustain': 4173, 'mode': 4174, '1995': 4175, 'patienc': 4176, 'wang': 4177, 'nicola': 4178, 'crippl': 4179, '3000': 4180, 'fabric': 4181, 'alec': 4182, 'slam': 4183, 'sand': 4184, 'tax': 4185, 'conduct': 4186, 'trait': 4187, 'fart': 4188, 'temper': 4189, 'joel': 4190, 'pocket': 4191, 'clerk': 4192, 'sunni': 4193, 'shanghai': 4194, 'darn': 4195, 'enforc': 4196, 'murray': 4197, 'bake': 4198, 'fought': 4199, 'unfair': 4200, 'ritual': 4201, 'seldom': 4202, 'malon': 4203, 'behold': 4204, 'hallucin': 4205, 'wretch': 4206, 'vanc': 4207, 'sheet': 4208, '1971': 4209, 'logan': 4210, 'roller': 4211, 'dreck': 4212, 'debt': 4213, 'canyon': 4214, 'scriptwrit': 4215, 'exhaust': 4216, 'helpless': 4217, 'tactic': 4218, 'outlin': 4219, 'fundament': 4220, 'robber': 4221, 'phil': 4222, 'guitar': 4223, 'critiqu': 4224, 'soup': 4225, 'schedul': 4226, 'shell': 4227, 'runner': 4228, 'pete': 4229, 'sweep': 4230, 'preston': 4231, 'bridget': 4232, 'rita': 4233, 'stark': 4234, 'technicolor': 4235, 'penni': 4236, 'stuart': 4237, 'bias': 4238, 'grief': 4239, 'preposter': 4240, 'legaci': 4241, 'squad': 4242, 'conscious': 4243, 'clau': 4244, 'divid': 4245, 'despis': 4246, 'isabel': 4247, 'implic': 4248, 'vomit': 4249, 'culmin': 4250, 'downey': 4251, 'connor': 4252, 'cigarett': 4253, 'rear': 4254, 'kansa': 4255, 'unexpectedli': 4256, 'jacket': 4257, 'lacklust': 4258, 'jodi': 4259, 'delv': 4260, 'bloom': 4261, 'boyl': 4262, 'sentinel': 4263, 'restrict': 4264, 'passag': 4265, 'propos': 4266, 'agenc': 4267, 'sugar': 4268, 'alicia': 4269, 'rehash': 4270, 'russia': 4271, 'palanc': 4272, 'invad': 4273, 'liberti': 4274, 'sniper': 4275, 'alley': 4276, 'inabl': 4277, 'gregori': 4278, 'flair': 4279, 'drove': 4280, 'newman': 4281, 'consciou': 4282, 'marc': 4283, 'bacon': 4284, 'aesthet': 4285, 'mccoy': 4286, 'wrench': 4287, 'tripe': 4288, '22': 4289, 'arrow': 4290, 'chainsaw': 4291, 'vet': 4292, 'tendenc': 4293, 'horn': 4294, 'rampag': 4295, 'asylum': 4296, 'feat': 4297, 'improb': 4298, 'sharon': 4299, 'ladder': 4300, 'delet': 4301, 'karl': 4302, 'foxx': 4303, '1936': 4304, 'behaviour': 4305, 'rod': 4306, 'lush': 4307, 'cap': 4308, 'yeti': 4309, 'rehears': 4310, 'pale': 4311, 'awhil': 4312, 'kolchak': 4313, 'hulk': 4314, 'underneath': 4315, 'scoop': 4316, 'tasteless': 4317, 'globe': 4318, '19th': 4319, 'weav': 4320, 'suspicion': 4321, '1988': 4322, 'visitor': 4323, 'filler': 4324, 'hackney': 4325, 'loneli': 4326, 'aristocrat': 4327, 'fright': 4328, 'elit': 4329, 'prank': 4330, '1978': 4331, 'rhythm': 4332, 'minu': 4333, 'wagner': 4334, 'paramount': 4335, 'newcom': 4336, '1920': 4337, 'hungri': 4338, 'paradis': 4339, 'sung': 4340, 'stream': 4341, 'lurk': 4342, 'spice': 4343, 'shortcom': 4344, 'thunderbird': 4345, 'rumor': 4346, 'wildli': 4347, 'conscienc': 4348, 'amazon': 4349, 'el': 4350, 'financ': 4351, 'coaster': 4352, 'suffici': 4353, 'tomorrow': 4354, 'basing': 4355, 'smell': 4356, 'recogniz': 4357, '1939': 4358, 'minist': 4359, 'impos': 4360, 'ingeni': 4361, 'brit': 4362, 'couch': 4363, 'beverli': 4364, 'bread': 4365, '1989': 4366, 'choppi': 4367, 'heist': 4368, 'hopkin': 4369, 'literari': 4370, 'iv': 4371, '75': 4372, 'lectur': 4373, 'springer': 4374, 'chavez': 4375, 'leigh': 4376, 'teas': 4377, 'en': 4378, 'standout': 4379, 'ram': 4380, 'penn': 4381, 'counterpart': 4382, 'atroc': 4383, 'grudg': 4384, 'rub': 4385, 'quietli': 4386, 'straightforward': 4387, 'posey': 4388, 'secondari': 4389, 'entranc': 4390, 'worship': 4391, 'abrupt': 4392, 'dirt': 4393, 'naughti': 4394, 'chamberlain': 4395, 'curli': 4396, 'immers': 4397, 'inmat': 4398, 'wwe': 4399, 'paxton': 4400, 'cancer': 4401, 'tierney': 4402, 'quaid': 4403, 'convert': 4404, 'lindsay': 4405, 'sublim': 4406, 'esther': 4407, 'yearn': 4408, 'clan': 4409, '1986': 4410, 'variat': 4411, 'heartfelt': 4412, 'transcend': 4413, 'net': 4414, 'morbid': 4415, 'skeptic': 4416, 'cattl': 4417, 'enthral': 4418, 'bernard': 4419, 'entitl': 4420, 'misguid': 4421, 'sassi': 4422, 'nolan': 4423, 'moreov': 4424, 'ratso': 4425, 'policeman': 4426, 'injuri': 4427, 'nemesi': 4428, 'watcher': 4429, 'ace': 4430, 'laurenc': 4431, 'missil': 4432, 'duel': 4433, 'attenborough': 4434, 'geni': 4435, 'kidman': 4436, 'youngest': 4437, '1979': 4438, 'bye': 4439, 'enabl': 4440, 'tyler': 4441, 'diari': 4442, 'grin': 4443, 'spiral': 4444, 'setup': 4445, 'facil': 4446, 'rosemari': 4447, 'kitti': 4448, 'egg': 4449, 'bean': 4450, 'buzz': 4451, 'hk': 4452, 'reliabl': 4453, 'vader': 4454, 'obstacl': 4455, 'out': 4456, 'graini': 4457, 'poe': 4458, 'brood': 4459, 'uncut': 4460, 'cruelti': 4461, 'characteris': 4462, 'carlito': 4463, 'artsi': 4464, 'hopelessli': 4465, 'unexplain': 4466, 'mytholog': 4467, 'puppi': 4468, 'moder': 4469, 'dont': 4470, 'steadi': 4471, 'fuel': 4472, 'kline': 4473, 'preming': 4474, 'niec': 4475, 'heap': 4476, 'spontan': 4477, 'gina': 4478, 'despic': 4479, 'bounc': 4480, 'martha': 4481, 'narrow': 4482, 'acquaint': 4483, 'baffl': 4484, 'gillian': 4485, 'weather': 4486, 'disastr': 4487, 'bronson': 4488, 'sweat': 4489, '1969': 4490, 'athlet': 4491, 'effici': 4492, 'underworld': 4493, 'brendan': 4494, 'patricia': 4495, 'hammi': 4496, 'exterior': 4497, 'christin': 4498, 'oblig': 4499, 'decept': 4500, 'bewar': 4501, 'clueless': 4502, 'hain': 4503, 'taboo': 4504, 'dilemma': 4505, 'housewif': 4506, 'virtu': 4507, 'biker': 4508, 'harmless': 4509, 'astound': 4510, '19': 4511, 'injur': 4512, 'sooner': 4513, 'headach': 4514, 'loath': 4515, 'insipid': 4516, 'mermaid': 4517, 'candl': 4518, 'viewpoint': 4519, 'suprem': 4520, 'circu': 4521, 'lester': 4522, 'scar': 4523, 'sleepwalk': 4524, 'renaiss': 4525, '73': 4526, 'mayhem': 4527, 'enlist': 4528, 'analyz': 4529, 'loi': 4530, 'preachi': 4531, 'goof': 4532, 'dandi': 4533, 'trigger': 4534, 'outlaw': 4535, 'uh': 4536, 'shatter': 4537, 'hepburn': 4538, 'rome': 4539, 'tick': 4540, 'angst': 4541, 'fontain': 4542, 'salt': 4543, 'zoom': 4544, 'foolish': 4545, 'boston': 4546, 'dismal': 4547, 'amor': 4548, 'phenomenon': 4549, 'intric': 4550, 'ariel': 4551, 'guin': 4552, 'glorifi': 4553, 'ebert': 4554, 'hostag': 4555, 'overlong': 4556, 'immatur': 4557, 'whore': 4558, 'steer': 4559, 'cassavet': 4560, 'filth': 4561, 'hooker': 4562, 'claustrophob': 4563, 'tripl': 4564, 'macho': 4565, 'spade': 4566, 'gere': 4567, 'surgeri': 4568, 'stimul': 4569, 'bent': 4570, 'redund': 4571, 'hokey': 4572, 'contempt': 4573, 'fluff': 4574, 'dish': 4575, 'scorses': 4576, 'camcord': 4577, 'oldest': 4578, 'stair': 4579, 'idol': 4580, 'slimi': 4581, 'sox': 4582, 'corbett': 4583, 'flirt': 4584, 'flashi': 4585, 'perman': 4586, 'gabl': 4587, 'messi': 4588, 'alvin': 4589, 'dwarf': 4590, 'proport': 4591, 'astronaut': 4592, 'schlock': 4593, 'joker': 4594, 'harold': 4595, 'mount': 4596, 'spinal': 4597, 'shred': 4598, 'cow': 4599, 'strongest': 4600, 'conquer': 4601, 'flag': 4602, 'cush': 4603, 'trivia': 4604, 'shield': 4605, 'assert': 4606, 'spree': 4607, 'fascist': 4608, 'cohen': 4609, 'nolt': 4610, 'muscl': 4611, 'keen': 4612, 'mutual': 4613, 'margin': 4614, 'zane': 4615, 'naschi': 4616, 'widescreen': 4617, 'faint': 4618, 'down': 4619, 'gasp': 4620, 'beard': 4621, 'frantic': 4622, 'remad': 4623, 'preced': 4624, '1976': 4625, 'obligatori': 4626, 'transplant': 4627, 'corman': 4628, 'radiat': 4629, '1981': 4630, 'rhyme': 4631, 'antagonist': 4632, 'raj': 4633, 'bitten': 4634, '28': 4635, 'barn': 4636, 'hara': 4637, 'wield': 4638, 'brush': 4639, 'interestingli': 4640, 'flock': 4641, 'persuad': 4642, 'departur': 4643, 'bachelor': 4644, 'deer': 4645, 'ritchi': 4646, 'archiv': 4647, 'triangl': 4648, 'neurot': 4649, 'vaniti': 4650, 'resum': 4651, 'www': 4652, 'boob': 4653, 'inflict': 4654, 'repris': 4655, 'strive': 4656, 'instruct': 4657, 'danish': 4658, 'scandal': 4659, 'fishburn': 4660, '95': 4661, 'discern': 4662, 'info': 4663, 'claud': 4664, 'mol': 4665, 'sensual': 4666, 'mobil': 4667, 'divin': 4668, '1945': 4669, 'aborigin': 4670, 'someday': 4671, 'carey': 4672, 'off': 4673, 'rot': 4674, 'melissa': 4675, 'clad': 4676, 'dylan': 4677, 'banter': 4678, 'hug': 4679, 'heartwarm': 4680, 'proclaim': 4681, 'dame': 4682, 'cliffhang': 4683, 'dim': 4684, 'recit': 4685, 'undermin': 4686, 'miracul': 4687, 'cb': 4688, 'mobster': 4689, 'pixar': 4690, 'cycl': 4691, 'pacif': 4692, 'artwork': 4693, 'traffic': 4694, 'anton': 4695, 'hilar': 4696, 'submit': 4697, 'vibrant': 4698, 'harrison': 4699, 'senior': 4700, 'hapless': 4701, 'frontier': 4702, 'pickford': 4703, 'ish': 4704, 'kathryn': 4705, 'timberlak': 4706, 'axe': 4707, 'casino': 4708, 'neill': 4709, 'colin': 4710, 'fragil': 4711, 'prophet': 4712, 'bate': 4713, 'cher': 4714, 'wendigo': 4715, 'carlo': 4716, 'jade': 4717, 'luka': 4718, 'europa': 4719, 'biblic': 4720, 'parson': 4721, 'loretta': 4722, 'helm': 4723, 'earnest': 4724, 'akin': 4725, 'estrang': 4726, 'isra': 4727, 'uma': 4728, 'breakfast': 4729, 'jo': 4730, 'lui': 4731, 'winchest': 4732, 'razor': 4733, 'bondag': 4734, 'venom': 4735, 'sicken': 4736, 'wardrob': 4737, 'flavor': 4738, 'bikini': 4739, 'cerebr': 4740, 'choke': 4741, 'mason': 4742, 'blatantli': 4743, 'electron': 4744, 'northern': 4745, 'jordan': 4746, 'foil': 4747, 'redneck': 4748, 'feast': 4749, 'static': 4750, 'misfortun': 4751, 'toronto': 4752, 'shepherd': 4753, 'orphan': 4754, 'marlon': 4755, 'http': 4756, 'vanessa': 4757, 'pc': 4758, 'holocaust': 4759, 'illus': 4760, 'aris': 4761, 'vile': 4762, 'articl': 4763, 'milo': 4764, 'legitim': 4765, 'trier': 4766, 'token': 4767, 'seedi': 4768, 'mathieu': 4769, 'rooki': 4770, 'eli': 4771, 'lucil': 4772, 'antholog': 4773, 'nope': 4774, 'alexandr': 4775, 'boyer': 4776, 'smack': 4777, 'affleck': 4778, 'outdat': 4779, 'peer': 4780, 'comprehend': 4781, 'retriev': 4782, 'abund': 4783, 'fifth': 4784, 'ideolog': 4785, 'disregard': 4786, 'knightley': 4787, 'clinic': 4788, 'psych': 4789, 'howl': 4790, 'feminin': 4791, 'gilbert': 4792, 'shorter': 4793, 'charlton': 4794, 'ceremoni': 4795, 'leather': 4796, 'swept': 4797, 'cartoonish': 4798, 'wrestler': 4799, 'deem': 4800, 'styliz': 4801, 'gunga': 4802, 'frog': 4803, 'turd': 4804, 'huston': 4805, 'linear': 4806, 'oppon': 4807, 'glare': 4808, 'audrey': 4809, 'magician': 4810, 'nightclub': 4811, 'dudley': 4812, 'tack': 4813, 'highway': 4814, 'snatch': 4815, 'sleaz': 4816, '1991': 4817, 'lighter': 4818, 'phenomen': 4819, 'durat': 4820, 'whack': 4821, '4th': 4822, 'lifeless': 4823, 'deliver': 4824, 'potter': 4825, 'senat': 4826, 'breakdown': 4827, 'bastard': 4828, 'spawn': 4829, 'spine': 4830, 'cuban': 4831, 'moe': 4832, 'lavish': 4833, 'greet': 4834, 'energet': 4835, 'cemeteri': 4836, 'client': 4837, '1994': 4838, 'bogu': 4839, 'braveheart': 4840, 'corn': 4841, 'newer': 4842, 'einstein': 4843, 'mitch': 4844, 'btw': 4845, 'toe': 4846, 'tara': 4847, 'salman': 4848, 'collector': 4849, 'goldsworthi': 4850, 'uniformli': 4851, 'boo': 4852, 'monument': 4853, 'evolut': 4854, 'conrad': 4855, 'plate': 4856, 'compris': 4857, 'chip': 4858, 'summar': 4859, 'alleg': 4860, 'bulk': 4861, 'nina': 4862, 'jam': 4863, 'capot': 4864, 'kent': 4865, 'lex': 4866, 'mcqueen': 4867, 'occup': 4868, 'pronounc': 4869, 'creek': 4870, '1977': 4871, '1974': 4872, 'constitut': 4873, 'eleven': 4874, 'embark': 4875, 'undead': 4876, 'fluid': 4877, 'liu': 4878, 'appl': 4879, 'armstrong': 4880, 'jedi': 4881, 'inaccuraci': 4882, 'replay': 4883, 'historian': 4884, 'judd': 4885, 'wtf': 4886, 'evelyn': 4887, 'ie': 4888, 'signal': 4889, 'trauma': 4890, 'kazan': 4891, 'healthi': 4892, 'jule': 4893, 'sorrow': 4894, 'jare': 4895, 'neatli': 4896, 'randolph': 4897, 'belli': 4898, 'luxuri': 4899, 'outright': 4900, 'undertak': 4901, 'clara': 4902, 'cecil': 4903, 'bori': 4904, 'ol': 4905, 'gilliam': 4906, 'firmli': 4907, 'spectacl': 4908, 'meal': 4909, 'forgiven': 4910, 'blur': 4911, 'truman': 4912, 'sidewalk': 4913, 'walt': 4914, 'miami': 4915, 'galaxi': 4916, 'bait': 4917, 'id': 4918, 'unattract': 4919, 'antonio': 4920, 'kiddi': 4921, 'congratul': 4922, 'abound': 4923, 'tokyo': 4924, 'knee': 4925, 'sacrif': 4926, 'pioneer': 4927, 'propheci': 4928, 'palm': 4929, 'mum': 4930, 'comb': 4931, 'inclus': 4932, 'lanc': 4933, 'vain': 4934, 'inaccur': 4935, 'basket': 4936, 'lauren': 4937, 'decapit': 4938, 'ash': 4939, 'unsuspect': 4940, 'cape': 4941, 'subtli': 4942, 'relentless': 4943, 'goldblum': 4944, 'roar': 4945, 'curtain': 4946, 'spray': 4947, 'pepper': 4948, 'comprehens': 4949, 'paula': 4950, 'genet': 4951, 'miniseri': 4952, 'vignett': 4953, 'fruit': 4954, 'bsg': 4955, 'rosario': 4956, 'porter': 4957, 'conan': 4958, 'groan': 4959, 'poker': 4960, 'aussi': 4961, 'carmen': 4962, '1985': 4963, 'ghetto': 4964, 'orchestr': 4965, 'rapidli': 4966, 'substanti': 4967, 'bravo': 4968, 'handicap': 4969, 'dubiou': 4970, 'vastli': 4971, 'weaker': 4972, 'mice': 4973, 'detach': 4974, 'hostil': 4975, 'drone': 4976, 'epitom': 4977, 'scariest': 4978, 'reincarn': 4979, 'verg': 4980, 'assort': 4981, 'playboy': 4982, 'weari': 4983, 'macabr': 4984, 'cypher': 4985, 'sophi': 4986, 'asset': 4987, 'monti': 4988, 'masterson': 4989, 'bach': 4990, 'ingrid': 4991, 'sparkl': 4992, '21st': 4993, 'omin': 4994, 'growth': 4995, 'optimist': 4996, 'incorrect': 4997, 'modest': 4998, 'hackman': 4999}\n"
     ]
    }
   ],
   "source": [
    "word_dict = build_dict(train_X)\n",
    "print(word_dict)"
   ]
  },
  {
   "cell_type": "markdown",
   "metadata": {},
   "source": [
    "**Question:** What are the five most frequently appearing (tokenized) words in the training set? Does it makes sense that these words appear frequently in the training set?\n",
    "\n",
    "<b>Answer:</b> 'movi', 'film', 'one', 'like', 'time'\n",
    "\n",
    "\"movi\" word is nearly 51695 times\n",
    "\n",
    "it doesn't make sence in training because 'movi', 'film', 'one', 'time' has <b>no sentiment.</b>"
   ]
  },
  {
   "cell_type": "code",
   "execution_count": 16,
   "metadata": {
    "scrolled": true
   },
   "outputs": [
    {
     "name": "stdout",
     "output_type": "stream",
     "text": [
      "['movi', 'film', 'one', 'like', 'time']\n",
      "51695\n"
     ]
    }
   ],
   "source": [
    "# TODO: Use this space to determine the five most frequently appearing words in the training set.\n",
    "word_counts = Counter(np.concatenate( train_X, axis=0 ))\n",
    "sorted_words = sorted(word_counts, key=word_counts.get, reverse=True)\n",
    "print(sorted_words[0:5])\n",
    "print(word_counts['movi'])"
   ]
  },
  {
   "cell_type": "markdown",
   "metadata": {},
   "source": [
    "### Save `word_dict`\n",
    "\n",
    "Later on when we construct an endpoint which processes a submitted review we will need to make use of the `word_dict` which we have created. As such, we will save it to a file now for future use."
   ]
  },
  {
   "cell_type": "code",
   "execution_count": 17,
   "metadata": {},
   "outputs": [],
   "source": [
    "data_dir = '../data/pytorch' # The folder we will use for storing data\n",
    "if not os.path.exists(data_dir): # Make sure that the folder exists\n",
    "    os.makedirs(data_dir)"
   ]
  },
  {
   "cell_type": "code",
   "execution_count": 18,
   "metadata": {},
   "outputs": [],
   "source": [
    "with open(os.path.join(data_dir, 'word_dict.pkl'), \"wb\") as f:\n",
    "    pickle.dump(word_dict, f)"
   ]
  },
  {
   "cell_type": "markdown",
   "metadata": {},
   "source": [
    "### Transform the reviews\n",
    "\n",
    "Now that we have our word dictionary which allows us to transform the words appearing in the reviews into integers, it is time to make use of it and convert our reviews to their integer sequence representation, making sure to pad or truncate to a fixed length, which in our case is `500`."
   ]
  },
  {
   "cell_type": "code",
   "execution_count": 19,
   "metadata": {},
   "outputs": [],
   "source": [
    "def convert_and_pad(word_dict, sentence, pad=500):\n",
    "    NOWORD = 0 # We will use 0 to represent the 'no word' category\n",
    "    INFREQ = 1 # and we use 1 to represent the infrequent words, i.e., words not appearing in word_dict\n",
    "    \n",
    "    working_sentence = [NOWORD] * pad\n",
    "    \n",
    "    for word_index, word in enumerate(sentence[:pad]):\n",
    "        if word in word_dict:\n",
    "            working_sentence[word_index] = word_dict[word]\n",
    "        else:\n",
    "            working_sentence[word_index] = INFREQ\n",
    "            \n",
    "    return working_sentence, min(len(sentence), pad)\n",
    "\n",
    "def convert_and_pad_data(word_dict, data, pad=500):\n",
    "    result = []\n",
    "    lengths = []\n",
    "    \n",
    "    for sentence in data:\n",
    "        converted, leng = convert_and_pad(word_dict, sentence, pad)\n",
    "        result.append(converted)\n",
    "        lengths.append(leng)\n",
    "        \n",
    "    return np.array(result), np.array(lengths)"
   ]
  },
  {
   "cell_type": "code",
   "execution_count": 20,
   "metadata": {},
   "outputs": [],
   "source": [
    "train_X, train_X_len = convert_and_pad_data(word_dict, train_X)\n",
    "test_X, test_X_len = convert_and_pad_data(word_dict, test_X)"
   ]
  },
  {
   "cell_type": "markdown",
   "metadata": {},
   "source": [
    "As a quick check to make sure that things are working as intended, check to see what one of the reviews in the training set looks like after having been processeed. Does this look reasonable? What is the length of a review in the training set?"
   ]
  },
  {
   "cell_type": "code",
   "execution_count": 21,
   "metadata": {},
   "outputs": [
    {
     "name": "stdout",
     "output_type": "stream",
     "text": [
      "500\n",
      "[268]\n"
     ]
    }
   ],
   "source": [
    "# Use this cell to examine one of the processed reviews to make sure everything is working as intended.\n",
    "print(len(train_X[0]))\n",
    "print(train_X_len[0:1]) # 500 - 333 (non zeros) = 167"
   ]
  },
  {
   "cell_type": "markdown",
   "metadata": {},
   "source": [
    "**Question:** In the cells above we use the `preprocess_data` and `convert_and_pad_data` methods to process both the training and testing set. Why or why not might this be a problem?\n",
    "\n",
    "Answer:\n",
    "\n",
    "* <b>preprocess_data</b> function will cut the data preparation cost, since it is one time process and the result are saved in a file. In case if the notebook instance terminal connection is broken then we need to restart from begining in that case we can skip the data preparation step and proceed to training by directly loading the preprocessed data from file\n",
    "* <b>convert_and_pad_data</b> this function helps to maintain a constant data length. since we using LSTM Clasifier with Embedding so we need to maintain a constant batch size throughout the training"
   ]
  },
  {
   "cell_type": "markdown",
   "metadata": {},
   "source": [
    "## Step 3: Upload the data to S3\n",
    "\n",
    "As in the XGBoost notebook, we will need to upload the training dataset to S3 in order for our training code to access it. For now we will save it locally and we will upload to S3 later on.\n",
    "\n",
    "### Save the processed training dataset locally\n",
    "\n",
    "It is important to note the format of the data that we are saving as we will need to know it when we write the training code. In our case, each row of the dataset has the form `label`, `length`, `review[500]` where `review[500]` is a sequence of `500` integers representing the words in the review.### Step 3: Upload the data to S3"
   ]
  },
  {
   "cell_type": "code",
   "execution_count": 22,
   "metadata": {},
   "outputs": [],
   "source": [
    "import pandas as pd\n",
    "    \n",
    "pd.concat([pd.DataFrame(train_y), pd.DataFrame(train_X_len), pd.DataFrame(train_X)], axis=1) \\\n",
    "        .to_csv(os.path.join(data_dir, 'train.csv'), header=False, index=False)"
   ]
  },
  {
   "cell_type": "markdown",
   "metadata": {},
   "source": [
    "### Uploading the training data\n",
    "\n",
    "\n",
    "Next, we need to upload the training data to the SageMaker default S3 bucket so that we can provide access to it while training our model."
   ]
  },
  {
   "cell_type": "code",
   "execution_count": 23,
   "metadata": {},
   "outputs": [],
   "source": [
    "import sagemaker\n",
    "\n",
    "sagemaker_session = sagemaker.Session()\n",
    "\n",
    "bucket = sagemaker_session.default_bucket()\n",
    "prefix = 'sagemaker/sentiment_rnn'\n",
    "\n",
    "role = sagemaker.get_execution_role()"
   ]
  },
  {
   "cell_type": "code",
   "execution_count": 24,
   "metadata": {},
   "outputs": [],
   "source": [
    "input_data = sagemaker_session.upload_data(path=data_dir, bucket=bucket, key_prefix=prefix)"
   ]
  },
  {
   "cell_type": "markdown",
   "metadata": {},
   "source": [
    "**NOTE:** The cell above uploads the entire contents of our data directory. This includes the `word_dict.pkl` file. This is fortunate as we will need this later on when we create an endpoint that accepts an arbitrary review. For now, we will just take note of the fact that it resides in the data directory (and so also in the S3 training bucket) and that we will need to make sure it gets saved in the model directory."
   ]
  },
  {
   "cell_type": "markdown",
   "metadata": {},
   "source": [
    "## Step 4: Build and Train the PyTorch Model\n",
    "\n",
    "In the XGBoost notebook we discussed what a model is in the SageMaker framework. In particular, a model comprises three objects\n",
    "\n",
    " - Model Artifacts,\n",
    " - Training Code, and\n",
    " - Inference Code,\n",
    " \n",
    "each of which interact with one another. In the XGBoost example we used training and inference code that was provided by Amazon. Here we will still be using containers provided by Amazon with the added benefit of being able to include our own custom code.\n",
    "\n",
    "We will start by implementing our own neural network in PyTorch along with a training script. For the purposes of this project we have provided the necessary model object in the `model.py` file, inside of the `train` folder. You can see the provided implementation by running the cell below."
   ]
  },
  {
   "cell_type": "code",
   "execution_count": 25,
   "metadata": {},
   "outputs": [
    {
     "name": "stdout",
     "output_type": "stream",
     "text": [
      "\u001b[34mimport\u001b[39;49;00m \u001b[04m\u001b[36mtorch.nn\u001b[39;49;00m \u001b[34mas\u001b[39;49;00m \u001b[04m\u001b[36mnn\u001b[39;49;00m\r\n",
      "\r\n",
      "\u001b[34mclass\u001b[39;49;00m \u001b[04m\u001b[32mLSTMClassifier\u001b[39;49;00m(nn.Module):\r\n",
      "    \u001b[33m\"\"\"\u001b[39;49;00m\r\n",
      "\u001b[33m    This is the simple RNN model we will be using to perform Sentiment Analysis.\u001b[39;49;00m\r\n",
      "\u001b[33m    \"\"\"\u001b[39;49;00m\r\n",
      "\r\n",
      "    \u001b[34mdef\u001b[39;49;00m \u001b[32m__init__\u001b[39;49;00m(\u001b[36mself\u001b[39;49;00m, embedding_dim, hidden_dim, vocab_size):\r\n",
      "        \u001b[33m\"\"\"\u001b[39;49;00m\r\n",
      "\u001b[33m        Initialize the model by settingg up the various layers.\u001b[39;49;00m\r\n",
      "\u001b[33m        \"\"\"\u001b[39;49;00m\r\n",
      "        \u001b[36msuper\u001b[39;49;00m(LSTMClassifier, \u001b[36mself\u001b[39;49;00m).\u001b[32m__init__\u001b[39;49;00m()\r\n",
      "\r\n",
      "        \u001b[36mself\u001b[39;49;00m.embedding = nn.Embedding(vocab_size, embedding_dim, padding_idx=\u001b[34m0\u001b[39;49;00m)\r\n",
      "        \u001b[36mself\u001b[39;49;00m.lstm = nn.LSTM(embedding_dim, hidden_dim)\r\n",
      "        \u001b[36mself\u001b[39;49;00m.dense = nn.Linear(in_features=hidden_dim, out_features=\u001b[34m1\u001b[39;49;00m)\r\n",
      "        \u001b[36mself\u001b[39;49;00m.sig = nn.Sigmoid()\r\n",
      "        \r\n",
      "        \u001b[36mself\u001b[39;49;00m.word_dict = \u001b[36mNone\u001b[39;49;00m\r\n",
      "\r\n",
      "    \u001b[34mdef\u001b[39;49;00m \u001b[32mforward\u001b[39;49;00m(\u001b[36mself\u001b[39;49;00m, x):\r\n",
      "        \u001b[33m\"\"\"\u001b[39;49;00m\r\n",
      "\u001b[33m        Perform a forward pass of our model on some input.\u001b[39;49;00m\r\n",
      "\u001b[33m        \"\"\"\u001b[39;49;00m\r\n",
      "        x = x.t()\r\n",
      "        lengths = x[\u001b[34m0\u001b[39;49;00m,:]\r\n",
      "        reviews = x[\u001b[34m1\u001b[39;49;00m:,:]\r\n",
      "        embeds = \u001b[36mself\u001b[39;49;00m.embedding(reviews)\r\n",
      "        lstm_out, _ = \u001b[36mself\u001b[39;49;00m.lstm(embeds)\r\n",
      "        out = \u001b[36mself\u001b[39;49;00m.dense(lstm_out)\r\n",
      "        out = out[lengths - \u001b[34m1\u001b[39;49;00m, \u001b[36mrange\u001b[39;49;00m(\u001b[36mlen\u001b[39;49;00m(lengths))]\r\n",
      "        \u001b[34mreturn\u001b[39;49;00m \u001b[36mself\u001b[39;49;00m.sig(out.squeeze())\r\n"
     ]
    }
   ],
   "source": [
    "!pygmentize train/model.py"
   ]
  },
  {
   "cell_type": "markdown",
   "metadata": {},
   "source": [
    "The important takeaway from the implementation provided is that there are three parameters that we may wish to tweak to improve the performance of our model. These are the embedding dimension, the hidden dimension and the size of the vocabulary. We will likely want to make these parameters configurable in the training script so that if we wish to modify them we do not need to modify the script itself. We will see how to do this later on. To start we will write some of the training code in the notebook so that we can more easily diagnose any issues that arise.\n",
    "\n",
    "First we will load a small portion of the training data set to use as a sample. It would be very time consuming to try and train the model completely in the notebook as we do not have access to a gpu and the compute instance that we are using is not particularly powerful. However, we can work on a small bit of the data to get a feel for how our training script is behaving."
   ]
  },
  {
   "cell_type": "markdown",
   "metadata": {},
   "source": [
    "## Writing the training method"
   ]
  },
  {
   "cell_type": "markdown",
   "metadata": {},
   "source": [
    "### Step 4: Build and Train the PyTorch Model"
   ]
  },
  {
   "cell_type": "code",
   "execution_count": 26,
   "metadata": {},
   "outputs": [],
   "source": [
    "import torch"
   ]
  },
  {
   "cell_type": "code",
   "execution_count": 27,
   "metadata": {},
   "outputs": [],
   "source": [
    "import torch.nn as nn\n",
    "\n",
    "class LSTMClassifier(nn.Module):\n",
    "    \"\"\"\n",
    "    This is the simple RNN model we will be using to perform Sentiment Analysis.\n",
    "    \"\"\"\n",
    "\n",
    "    def __init__(self, embedding_dim, hidden_dim, vocab_size):\n",
    "        \"\"\"\n",
    "        Initialize the model by settingg up the various layers.\n",
    "        \"\"\"\n",
    "        super(LSTMClassifier, self).__init__()\n",
    "\n",
    "        self.embedding = nn.Embedding(vocab_size, embedding_dim, padding_idx=0)\n",
    "        self.lstm = nn.LSTM(embedding_dim, hidden_dim)\n",
    "        self.dense = nn.Linear(in_features=hidden_dim, out_features=1)\n",
    "        self.sig = nn.Sigmoid()\n",
    "        \n",
    "        self.word_dict = None\n",
    "\n",
    "    def forward(self, x):\n",
    "        \"\"\"\n",
    "        Perform a forward pass of our model on some input.\n",
    "        \"\"\"\n",
    "        x = x.t()\n",
    "        lengths = x[0,:]\n",
    "        reviews = x[1:,:]\n",
    "        embeds = self.embedding(reviews)\n",
    "        lstm_out, _ = self.lstm(embeds)\n",
    "        out = self.dense(lstm_out)\n",
    "        out = out[lengths - 1, range(len(lengths))]\n",
    "        return self.sig(out.squeeze())"
   ]
  },
  {
   "cell_type": "code",
   "execution_count": 28,
   "metadata": {},
   "outputs": [],
   "source": [
    "import torch\n",
    "import torch.utils.data\n",
    "import pandas as pd\n",
    "\n",
    "# Read in only the first 250 rows\n",
    "train_sample = pd.read_csv(os.path.join(data_dir, 'train.csv'), header=None, names=None, nrows=250)\n",
    "\n",
    "# Turn the input pandas dataframe into tensors\n",
    "train_sample_y = torch.from_numpy(train_sample[[0]].values).float().squeeze()\n",
    "train_sample_X = torch.from_numpy(train_sample.drop([0], axis=1).values).long()\n",
    "\n",
    "# Build the dataset\n",
    "train_sample_ds = torch.utils.data.TensorDataset(train_sample_X, train_sample_y)\n",
    "# Build the dataloader\n",
    "train_sample_dl = torch.utils.data.DataLoader(train_sample_ds, batch_size=50)"
   ]
  },
  {
   "cell_type": "markdown",
   "metadata": {},
   "source": [
    "### (TODO) Writing the training method\n",
    "\n",
    "Next we need to write the training code itself. This should be very similar to training methods that you have written before to train PyTorch models. We will leave any difficult aspects such as model saving / loading and parameter loading until a little later."
   ]
  },
  {
   "cell_type": "code",
   "execution_count": 29,
   "metadata": {},
   "outputs": [],
   "source": [
    "def train(model, train_loader, epochs, optimizer, loss_fn, device):\n",
    "    for epoch in range(1, epochs + 1):\n",
    "        model.train()\n",
    "        total_loss = 0\n",
    "        for batch in train_loader:         \n",
    "            batch_X, batch_y = batch\n",
    "            \n",
    "            batch_X = batch_X.to(device)\n",
    "            batch_y = batch_y.to(device)\n",
    "            \n",
    "            # model.zero_grad()\n",
    "            optimizer.zero_grad()\n",
    "            \n",
    "            # TODO: Complete this train method to train the model provided.\n",
    "            output = model(batch_X)\n",
    "            loss = loss_fn(output, batch_y)\n",
    "            loss.backward()\n",
    "            optimizer.step()\n",
    "            \n",
    "            total_loss += loss.data.item()\n",
    "        print(\"Epoch: {}, BCELoss: {}\".format(epoch, total_loss / len(train_loader)))"
   ]
  },
  {
   "cell_type": "markdown",
   "metadata": {},
   "source": [
    "Supposing we have the training method above, we will test that it is working by writing a bit of code in the notebook that executes our training method on the small sample training set that we loaded earlier. The reason for doing this in the notebook is so that we have an opportunity to fix any errors that arise early when they are easier to diagnose."
   ]
  },
  {
   "cell_type": "code",
   "execution_count": 30,
   "metadata": {},
   "outputs": [
    {
     "name": "stdout",
     "output_type": "stream",
     "text": [
      "Epoch: 1, BCELoss: 0.693078589439392\n",
      "Epoch: 2, BCELoss: 0.6800121545791626\n",
      "Epoch: 3, BCELoss: 0.6687354683876038\n",
      "Epoch: 4, BCELoss: 0.6542598962783813\n",
      "Epoch: 5, BCELoss: 0.633180558681488\n",
      "Epoch: 6, BCELoss: 0.5994967341423034\n",
      "Epoch: 7, BCELoss: 0.553256380558014\n",
      "Epoch: 8, BCELoss: 0.5115970134735107\n",
      "Epoch: 9, BCELoss: 0.4830773174762726\n",
      "Epoch: 10, BCELoss: 0.4354603230953217\n"
     ]
    }
   ],
   "source": [
    "import torch.optim as optim\n",
    "from train.model import LSTMClassifier\n",
    "\n",
    "device = torch.device(\"cuda\" if torch.cuda.is_available() else \"cpu\")\n",
    "model = LSTMClassifier(32, 200, 5000).to(device)\n",
    "optimizer = optim.Adam(model.parameters())\n",
    "loss_fn = torch.nn.BCELoss()\n",
    "\n",
    "train(model, train_sample_dl, 10, optimizer, loss_fn, device)"
   ]
  },
  {
   "cell_type": "markdown",
   "metadata": {},
   "source": [
    "In order to construct a PyTorch model using SageMaker we must provide SageMaker with a training script. We may optionally include a directory which will be copied to the container and from which our training code will be run. When the training container is executed it will check the uploaded directory (if there is one) for a `requirements.txt` file and install any required Python libraries, after which the training script will be run."
   ]
  },
  {
   "cell_type": "markdown",
   "metadata": {},
   "source": [
    "### (TODO) Training the model\n",
    "\n",
    "When a PyTorch model is constructed in SageMaker, an entry point must be specified. This is the Python file which will be executed when the model is trained. Inside of the `train` directory is a file called `train.py` which has been provided and which contains most of the necessary code to train our model. The only thing that is missing is the implementation of the `train()` method which you wrote earlier in this notebook.\n",
    "\n",
    "**TODO**: Copy the `train()` method written above and paste it into the `train/train.py` file where required.\n",
    "\n",
    "The way that SageMaker passes hyperparameters to the training script is by way of arguments. These arguments can then be parsed and used in the training script. To see how this is done take a look at the provided `train/train.py` file."
   ]
  },
  {
   "cell_type": "code",
   "execution_count": 41,
   "metadata": {},
   "outputs": [],
   "source": [
    "from sagemaker.pytorch import PyTorch"
   ]
  },
  {
   "cell_type": "code",
   "execution_count": 45,
   "metadata": {},
   "outputs": [],
   "source": [
    "estimator = PyTorch(entry_point=\"train.py\",\n",
    "                    source_dir=\"train\",\n",
    "                    role=role,\n",
    "                    framework_version='0.4.0',\n",
    "                    train_instance_count=1,\n",
    "                    train_instance_type='ml.m2.xlarge',\n",
    "                    hyperparameters={\n",
    "                        'epochs': 10,\n",
    "                        'hidden_dim': 200,\n",
    "                    })"
   ]
  },
  {
   "cell_type": "code",
   "execution_count": 46,
   "metadata": {
    "scrolled": true
   },
   "outputs": [
    {
     "ename": "ClientError",
     "evalue": "An error occurred (ValidationException) when calling the CreateTrainingJob operation: 1 validation error detected: Value 'ml.m2.xlarge' at 'resourceConfig.instanceType' failed to satisfy constraint: Member must satisfy enum value set: [ml.p2.xlarge, ml.m5.4xlarge, ml.m4.16xlarge, ml.p3.16xlarge, ml.m5.large, ml.p2.16xlarge, ml.c4.2xlarge, ml.c5.2xlarge, ml.c4.4xlarge, ml.c5.4xlarge, ml.c4.8xlarge, ml.c5.9xlarge, ml.c5.xlarge, ml.c4.xlarge, ml.c5.18xlarge, ml.p3.2xlarge, ml.m5.xlarge, ml.m4.10xlarge, ml.m5.12xlarge, ml.m4.xlarge, ml.m5.24xlarge, ml.m4.2xlarge, ml.p2.8xlarge, ml.m5.2xlarge, ml.p3.8xlarge, ml.m4.4xlarge]",
     "output_type": "error",
     "traceback": [
      "\u001b[0;31m---------------------------------------------------------------------------\u001b[0m",
      "\u001b[0;31mClientError\u001b[0m                               Traceback (most recent call last)",
      "\u001b[0;32m<ipython-input-46-0e8223086435>\u001b[0m in \u001b[0;36m<module>\u001b[0;34m()\u001b[0m\n\u001b[0;32m----> 1\u001b[0;31m \u001b[0mestimator\u001b[0m\u001b[0;34m.\u001b[0m\u001b[0mfit\u001b[0m\u001b[0;34m(\u001b[0m\u001b[0;34m{\u001b[0m\u001b[0;34m'training'\u001b[0m\u001b[0;34m:\u001b[0m \u001b[0minput_data\u001b[0m\u001b[0;34m}\u001b[0m\u001b[0;34m)\u001b[0m\u001b[0;34m\u001b[0m\u001b[0m\n\u001b[0m",
      "\u001b[0;32m~/anaconda3/envs/amazonei_mxnet_p36/lib/python3.6/site-packages/sagemaker/estimator.py\u001b[0m in \u001b[0;36mfit\u001b[0;34m(self, inputs, wait, logs, job_name)\u001b[0m\n\u001b[1;32m    297\u001b[0m         \u001b[0mself\u001b[0m\u001b[0;34m.\u001b[0m\u001b[0m_prepare_for_training\u001b[0m\u001b[0;34m(\u001b[0m\u001b[0mjob_name\u001b[0m\u001b[0;34m=\u001b[0m\u001b[0mjob_name\u001b[0m\u001b[0;34m)\u001b[0m\u001b[0;34m\u001b[0m\u001b[0m\n\u001b[1;32m    298\u001b[0m \u001b[0;34m\u001b[0m\u001b[0m\n\u001b[0;32m--> 299\u001b[0;31m         \u001b[0mself\u001b[0m\u001b[0;34m.\u001b[0m\u001b[0mlatest_training_job\u001b[0m \u001b[0;34m=\u001b[0m \u001b[0m_TrainingJob\u001b[0m\u001b[0;34m.\u001b[0m\u001b[0mstart_new\u001b[0m\u001b[0;34m(\u001b[0m\u001b[0mself\u001b[0m\u001b[0;34m,\u001b[0m \u001b[0minputs\u001b[0m\u001b[0;34m)\u001b[0m\u001b[0;34m\u001b[0m\u001b[0m\n\u001b[0m\u001b[1;32m    300\u001b[0m         \u001b[0;32mif\u001b[0m \u001b[0mwait\u001b[0m\u001b[0;34m:\u001b[0m\u001b[0;34m\u001b[0m\u001b[0m\n\u001b[1;32m    301\u001b[0m             \u001b[0mself\u001b[0m\u001b[0;34m.\u001b[0m\u001b[0mlatest_training_job\u001b[0m\u001b[0;34m.\u001b[0m\u001b[0mwait\u001b[0m\u001b[0;34m(\u001b[0m\u001b[0mlogs\u001b[0m\u001b[0;34m=\u001b[0m\u001b[0mlogs\u001b[0m\u001b[0;34m)\u001b[0m\u001b[0;34m\u001b[0m\u001b[0m\n",
      "\u001b[0;32m~/anaconda3/envs/amazonei_mxnet_p36/lib/python3.6/site-packages/sagemaker/estimator.py\u001b[0m in \u001b[0;36mstart_new\u001b[0;34m(cls, estimator, inputs)\u001b[0m\n\u001b[1;32m    796\u001b[0m             \u001b[0mtrain_args\u001b[0m\u001b[0;34m[\u001b[0m\u001b[0;34m\"image\"\u001b[0m\u001b[0;34m]\u001b[0m \u001b[0;34m=\u001b[0m \u001b[0mestimator\u001b[0m\u001b[0;34m.\u001b[0m\u001b[0mtrain_image\u001b[0m\u001b[0;34m(\u001b[0m\u001b[0;34m)\u001b[0m\u001b[0;34m\u001b[0m\u001b[0m\n\u001b[1;32m    797\u001b[0m \u001b[0;34m\u001b[0m\u001b[0m\n\u001b[0;32m--> 798\u001b[0;31m         \u001b[0mestimator\u001b[0m\u001b[0;34m.\u001b[0m\u001b[0msagemaker_session\u001b[0m\u001b[0;34m.\u001b[0m\u001b[0mtrain\u001b[0m\u001b[0;34m(\u001b[0m\u001b[0;34m**\u001b[0m\u001b[0mtrain_args\u001b[0m\u001b[0;34m)\u001b[0m\u001b[0;34m\u001b[0m\u001b[0m\n\u001b[0m\u001b[1;32m    799\u001b[0m \u001b[0;34m\u001b[0m\u001b[0m\n\u001b[1;32m    800\u001b[0m         \u001b[0;32mreturn\u001b[0m \u001b[0mcls\u001b[0m\u001b[0;34m(\u001b[0m\u001b[0mestimator\u001b[0m\u001b[0;34m.\u001b[0m\u001b[0msagemaker_session\u001b[0m\u001b[0;34m,\u001b[0m \u001b[0mestimator\u001b[0m\u001b[0;34m.\u001b[0m\u001b[0m_current_job_name\u001b[0m\u001b[0;34m)\u001b[0m\u001b[0;34m\u001b[0m\u001b[0m\n",
      "\u001b[0;32m~/anaconda3/envs/amazonei_mxnet_p36/lib/python3.6/site-packages/sagemaker/session.py\u001b[0m in \u001b[0;36mtrain\u001b[0;34m(self, input_mode, input_config, role, job_name, output_config, resource_config, vpc_config, hyperparameters, stop_condition, tags, metric_definitions, enable_network_isolation, image, algorithm_arn, encrypt_inter_container_traffic)\u001b[0m\n\u001b[1;32m    360\u001b[0m         \u001b[0mLOGGER\u001b[0m\u001b[0;34m.\u001b[0m\u001b[0minfo\u001b[0m\u001b[0;34m(\u001b[0m\u001b[0;34m\"Creating training-job with name: %s\"\u001b[0m\u001b[0;34m,\u001b[0m \u001b[0mjob_name\u001b[0m\u001b[0;34m)\u001b[0m\u001b[0;34m\u001b[0m\u001b[0m\n\u001b[1;32m    361\u001b[0m         \u001b[0mLOGGER\u001b[0m\u001b[0;34m.\u001b[0m\u001b[0mdebug\u001b[0m\u001b[0;34m(\u001b[0m\u001b[0;34m\"train request: %s\"\u001b[0m\u001b[0;34m,\u001b[0m \u001b[0mjson\u001b[0m\u001b[0;34m.\u001b[0m\u001b[0mdumps\u001b[0m\u001b[0;34m(\u001b[0m\u001b[0mtrain_request\u001b[0m\u001b[0;34m,\u001b[0m \u001b[0mindent\u001b[0m\u001b[0;34m=\u001b[0m\u001b[0;36m4\u001b[0m\u001b[0;34m)\u001b[0m\u001b[0;34m)\u001b[0m\u001b[0;34m\u001b[0m\u001b[0m\n\u001b[0;32m--> 362\u001b[0;31m         \u001b[0mself\u001b[0m\u001b[0;34m.\u001b[0m\u001b[0msagemaker_client\u001b[0m\u001b[0;34m.\u001b[0m\u001b[0mcreate_training_job\u001b[0m\u001b[0;34m(\u001b[0m\u001b[0;34m**\u001b[0m\u001b[0mtrain_request\u001b[0m\u001b[0;34m)\u001b[0m\u001b[0;34m\u001b[0m\u001b[0m\n\u001b[0m\u001b[1;32m    363\u001b[0m \u001b[0;34m\u001b[0m\u001b[0m\n\u001b[1;32m    364\u001b[0m     def compile_model(\n",
      "\u001b[0;32m~/anaconda3/envs/amazonei_mxnet_p36/lib/python3.6/site-packages/botocore/client.py\u001b[0m in \u001b[0;36m_api_call\u001b[0;34m(self, *args, **kwargs)\u001b[0m\n\u001b[1;32m    355\u001b[0m                     \"%s() only accepts keyword arguments.\" % py_operation_name)\n\u001b[1;32m    356\u001b[0m             \u001b[0;31m# The \"self\" in this scope is referring to the BaseClient.\u001b[0m\u001b[0;34m\u001b[0m\u001b[0;34m\u001b[0m\u001b[0m\n\u001b[0;32m--> 357\u001b[0;31m             \u001b[0;32mreturn\u001b[0m \u001b[0mself\u001b[0m\u001b[0;34m.\u001b[0m\u001b[0m_make_api_call\u001b[0m\u001b[0;34m(\u001b[0m\u001b[0moperation_name\u001b[0m\u001b[0;34m,\u001b[0m \u001b[0mkwargs\u001b[0m\u001b[0;34m)\u001b[0m\u001b[0;34m\u001b[0m\u001b[0m\n\u001b[0m\u001b[1;32m    358\u001b[0m \u001b[0;34m\u001b[0m\u001b[0m\n\u001b[1;32m    359\u001b[0m         \u001b[0m_api_call\u001b[0m\u001b[0;34m.\u001b[0m\u001b[0m__name__\u001b[0m \u001b[0;34m=\u001b[0m \u001b[0mstr\u001b[0m\u001b[0;34m(\u001b[0m\u001b[0mpy_operation_name\u001b[0m\u001b[0;34m)\u001b[0m\u001b[0;34m\u001b[0m\u001b[0m\n",
      "\u001b[0;32m~/anaconda3/envs/amazonei_mxnet_p36/lib/python3.6/site-packages/botocore/client.py\u001b[0m in \u001b[0;36m_make_api_call\u001b[0;34m(self, operation_name, api_params)\u001b[0m\n\u001b[1;32m    659\u001b[0m             \u001b[0merror_code\u001b[0m \u001b[0;34m=\u001b[0m \u001b[0mparsed_response\u001b[0m\u001b[0;34m.\u001b[0m\u001b[0mget\u001b[0m\u001b[0;34m(\u001b[0m\u001b[0;34m\"Error\"\u001b[0m\u001b[0;34m,\u001b[0m \u001b[0;34m{\u001b[0m\u001b[0;34m}\u001b[0m\u001b[0;34m)\u001b[0m\u001b[0;34m.\u001b[0m\u001b[0mget\u001b[0m\u001b[0;34m(\u001b[0m\u001b[0;34m\"Code\"\u001b[0m\u001b[0;34m)\u001b[0m\u001b[0;34m\u001b[0m\u001b[0m\n\u001b[1;32m    660\u001b[0m             \u001b[0merror_class\u001b[0m \u001b[0;34m=\u001b[0m \u001b[0mself\u001b[0m\u001b[0;34m.\u001b[0m\u001b[0mexceptions\u001b[0m\u001b[0;34m.\u001b[0m\u001b[0mfrom_code\u001b[0m\u001b[0;34m(\u001b[0m\u001b[0merror_code\u001b[0m\u001b[0;34m)\u001b[0m\u001b[0;34m\u001b[0m\u001b[0m\n\u001b[0;32m--> 661\u001b[0;31m             \u001b[0;32mraise\u001b[0m \u001b[0merror_class\u001b[0m\u001b[0;34m(\u001b[0m\u001b[0mparsed_response\u001b[0m\u001b[0;34m,\u001b[0m \u001b[0moperation_name\u001b[0m\u001b[0;34m)\u001b[0m\u001b[0;34m\u001b[0m\u001b[0m\n\u001b[0m\u001b[1;32m    662\u001b[0m         \u001b[0;32melse\u001b[0m\u001b[0;34m:\u001b[0m\u001b[0;34m\u001b[0m\u001b[0m\n\u001b[1;32m    663\u001b[0m             \u001b[0;32mreturn\u001b[0m \u001b[0mparsed_response\u001b[0m\u001b[0;34m\u001b[0m\u001b[0m\n",
      "\u001b[0;31mClientError\u001b[0m: An error occurred (ValidationException) when calling the CreateTrainingJob operation: 1 validation error detected: Value 'ml.m2.xlarge' at 'resourceConfig.instanceType' failed to satisfy constraint: Member must satisfy enum value set: [ml.p2.xlarge, ml.m5.4xlarge, ml.m4.16xlarge, ml.p3.16xlarge, ml.m5.large, ml.p2.16xlarge, ml.c4.2xlarge, ml.c5.2xlarge, ml.c4.4xlarge, ml.c5.4xlarge, ml.c4.8xlarge, ml.c5.9xlarge, ml.c5.xlarge, ml.c4.xlarge, ml.c5.18xlarge, ml.p3.2xlarge, ml.m5.xlarge, ml.m4.10xlarge, ml.m5.12xlarge, ml.m4.xlarge, ml.m5.24xlarge, ml.m4.2xlarge, ml.p2.8xlarge, ml.m5.2xlarge, ml.p3.8xlarge, ml.m4.4xlarge]"
     ]
    }
   ],
   "source": [
    "estimator.fit({'training': input_data})"
   ]
  },
  {
   "cell_type": "markdown",
   "metadata": {},
   "source": [
    "## Step 5: Testing the model\n",
    "\n",
    "As mentioned at the top of this notebook, we will be testing this model by first deploying it and then sending the testing data to the deployed endpoint. We will do this so that we can make sure that the deployed model is working correctly.\n",
    "\n",
    "## Step 6: Deploy the model for testing\n",
    "\n",
    "Now that we have trained our model, we would like to test it to see how it performs. Currently our model takes input of the form `review_length, review[500]` where `review[500]` is a sequence of `500` integers which describe the words present in the review, encoded using `word_dict`. Fortunately for us, SageMaker provides built-in inference code for models with simple inputs such as this.\n",
    "\n",
    "There is one thing that we need to provide, however, and that is a function which loads the saved model. This function must be called `model_fn()` and takes as its only parameter a path to the directory where the model artifacts are stored. This function must also be present in the python file which we specified as the entry point. In our case the model loading function has been provided and so no changes need to be made.\n",
    "\n",
    "**NOTE**: When the built-in inference code is run it must import the `model_fn()` method from the `train.py` file. This is why the training code is wrapped in a main guard ( ie, `if __name__ == '__main__':` )\n",
    "\n",
    "Since we don't need to change anything in the code that was uploaded during training, we can simply deploy the current model as-is.\n",
    "\n",
    "**NOTE:** When deploying a model you are asking SageMaker to launch an compute instance that will wait for data to be sent to it. As a result, this compute instance will continue to run until *you* shut it down. This is important to know since the cost of a deployed endpoint depends on how long it has been running for.\n",
    "\n",
    "In other words **If you are no longer using a deployed endpoint, shut it down!**\n",
    "\n",
    "**TODO:** Deploy the trained model."
   ]
  },
  {
   "cell_type": "code",
   "execution_count": 40,
   "metadata": {
    "scrolled": true
   },
   "outputs": [
    {
     "name": "stderr",
     "output_type": "stream",
     "text": [
      "Using already existing model: sagemaker-pytorch-2019-08-06-19-28-05-2-2019-08-07-23-14-01-749\n"
     ]
    },
    {
     "ename": "ClientError",
     "evalue": "An error occurred (ValidationException) when calling the CreateEndpointConfig operation: 1 validation error detected: Value 'ml.m2.xlarge' at 'productionVariants.1.member.instanceType' failed to satisfy constraint: Member must satisfy enum value set: [ml.r5.12xlarge, ml.p2.xlarge, ml.m5.4xlarge, ml.m4.16xlarge, ml.r5.24xlarge, ml.p3.16xlarge, ml.m5.large, ml.t2.xlarge, ml.p2.16xlarge, ml.c4.2xlarge, ml.c5.2xlarge, ml.c4.4xlarge, ml.c5.4xlarge, ml.g4dn.xlarge, ml.g4dn.12xlarge, ml.g4dn.2xlarge, ml.c4.8xlarge, ml.c4.large, ml.c5.large, ml.g4dn.4xlarge, ml.c5.9xlarge, ml.g4dn.16xlarge, ml.c5.xlarge, ml.c4.xlarge, ml.g4dn.8xlarge, ml.t2.2xlarge, ml.t2.medium, ml.c5.18xlarge, ml.r5.2xlarge, ml.p3.2xlarge, ml.m5.xlarge, ml.m4.10xlarge, ml.t2.large, ml.r5.4xlarge, ml.m5.12xlarge, ml.m4.xlarge, ml.m5.24xlarge, ml.m4.2xlarge, ml.p2.8xlarge, ml.m5.2xlarge, ml.r5.xlarge, ml.r5.large, ml.p3.8xlarge, ml.m4.4xlarge]",
     "output_type": "error",
     "traceback": [
      "\u001b[0;31m---------------------------------------------------------------------------\u001b[0m",
      "\u001b[0;31mClientError\u001b[0m                               Traceback (most recent call last)",
      "\u001b[0;32m<ipython-input-40-e6ff4cf8cda2>\u001b[0m in \u001b[0;36m<module>\u001b[0;34m()\u001b[0m\n\u001b[1;32m      1\u001b[0m \u001b[0;31m# TODO: Deploy the trained model\u001b[0m\u001b[0;34m\u001b[0m\u001b[0;34m\u001b[0m\u001b[0m\n\u001b[0;32m----> 2\u001b[0;31m \u001b[0mpredictor\u001b[0m \u001b[0;34m=\u001b[0m \u001b[0mestimator\u001b[0m\u001b[0;34m.\u001b[0m\u001b[0mdeploy\u001b[0m\u001b[0;34m(\u001b[0m\u001b[0minitial_instance_count\u001b[0m\u001b[0;34m=\u001b[0m\u001b[0;36m1\u001b[0m\u001b[0;34m,\u001b[0m \u001b[0minstance_type\u001b[0m\u001b[0;34m=\u001b[0m\u001b[0;34m'ml.m2.xlarge'\u001b[0m\u001b[0;34m)\u001b[0m\u001b[0;34m\u001b[0m\u001b[0m\n\u001b[0m",
      "\u001b[0;32m~/anaconda3/envs/amazonei_mxnet_p36/lib/python3.6/site-packages/sagemaker/estimator.py\u001b[0m in \u001b[0;36mdeploy\u001b[0;34m(self, initial_instance_count, instance_type, accelerator_type, endpoint_name, use_compiled_model, update_endpoint, wait, model_name, **kwargs)\u001b[0m\n\u001b[1;32m    513\u001b[0m             \u001b[0mupdate_endpoint\u001b[0m\u001b[0;34m=\u001b[0m\u001b[0mupdate_endpoint\u001b[0m\u001b[0;34m,\u001b[0m\u001b[0;34m\u001b[0m\u001b[0m\n\u001b[1;32m    514\u001b[0m             \u001b[0mtags\u001b[0m\u001b[0;34m=\u001b[0m\u001b[0mself\u001b[0m\u001b[0;34m.\u001b[0m\u001b[0mtags\u001b[0m\u001b[0;34m,\u001b[0m\u001b[0;34m\u001b[0m\u001b[0m\n\u001b[0;32m--> 515\u001b[0;31m             \u001b[0mwait\u001b[0m\u001b[0;34m=\u001b[0m\u001b[0mwait\u001b[0m\u001b[0;34m,\u001b[0m\u001b[0;34m\u001b[0m\u001b[0m\n\u001b[0m\u001b[1;32m    516\u001b[0m         )\n\u001b[1;32m    517\u001b[0m \u001b[0;34m\u001b[0m\u001b[0m\n",
      "\u001b[0;32m~/anaconda3/envs/amazonei_mxnet_p36/lib/python3.6/site-packages/sagemaker/model.py\u001b[0m in \u001b[0;36mdeploy\u001b[0;34m(self, initial_instance_count, instance_type, accelerator_type, endpoint_name, update_endpoint, tags, kms_key, wait)\u001b[0m\n\u001b[1;32m    448\u001b[0m         \u001b[0;32melse\u001b[0m\u001b[0;34m:\u001b[0m\u001b[0;34m\u001b[0m\u001b[0m\n\u001b[1;32m    449\u001b[0m             self.sagemaker_session.endpoint_from_production_variants(\n\u001b[0;32m--> 450\u001b[0;31m                 \u001b[0mself\u001b[0m\u001b[0;34m.\u001b[0m\u001b[0mendpoint_name\u001b[0m\u001b[0;34m,\u001b[0m \u001b[0;34m[\u001b[0m\u001b[0mproduction_variant\u001b[0m\u001b[0;34m]\u001b[0m\u001b[0;34m,\u001b[0m \u001b[0mtags\u001b[0m\u001b[0;34m,\u001b[0m \u001b[0mkms_key\u001b[0m\u001b[0;34m,\u001b[0m \u001b[0mwait\u001b[0m\u001b[0;34m\u001b[0m\u001b[0m\n\u001b[0m\u001b[1;32m    451\u001b[0m             )\n\u001b[1;32m    452\u001b[0m \u001b[0;34m\u001b[0m\u001b[0m\n",
      "\u001b[0;32m~/anaconda3/envs/amazonei_mxnet_p36/lib/python3.6/site-packages/sagemaker/session.py\u001b[0m in \u001b[0;36mendpoint_from_production_variants\u001b[0;34m(self, name, production_variants, tags, kms_key, wait)\u001b[0m\n\u001b[1;32m   1285\u001b[0m                 \u001b[0mconfig_options\u001b[0m\u001b[0;34m[\u001b[0m\u001b[0;34m\"KmsKeyId\"\u001b[0m\u001b[0;34m]\u001b[0m \u001b[0;34m=\u001b[0m \u001b[0mkms_key\u001b[0m\u001b[0;34m\u001b[0m\u001b[0m\n\u001b[1;32m   1286\u001b[0m \u001b[0;34m\u001b[0m\u001b[0m\n\u001b[0;32m-> 1287\u001b[0;31m             \u001b[0mself\u001b[0m\u001b[0;34m.\u001b[0m\u001b[0msagemaker_client\u001b[0m\u001b[0;34m.\u001b[0m\u001b[0mcreate_endpoint_config\u001b[0m\u001b[0;34m(\u001b[0m\u001b[0;34m**\u001b[0m\u001b[0mconfig_options\u001b[0m\u001b[0;34m)\u001b[0m\u001b[0;34m\u001b[0m\u001b[0m\n\u001b[0m\u001b[1;32m   1288\u001b[0m         \u001b[0;32mreturn\u001b[0m \u001b[0mself\u001b[0m\u001b[0;34m.\u001b[0m\u001b[0mcreate_endpoint\u001b[0m\u001b[0;34m(\u001b[0m\u001b[0mendpoint_name\u001b[0m\u001b[0;34m=\u001b[0m\u001b[0mname\u001b[0m\u001b[0;34m,\u001b[0m \u001b[0mconfig_name\u001b[0m\u001b[0;34m=\u001b[0m\u001b[0mname\u001b[0m\u001b[0;34m,\u001b[0m \u001b[0mtags\u001b[0m\u001b[0;34m=\u001b[0m\u001b[0mtags\u001b[0m\u001b[0;34m,\u001b[0m \u001b[0mwait\u001b[0m\u001b[0;34m=\u001b[0m\u001b[0mwait\u001b[0m\u001b[0;34m)\u001b[0m\u001b[0;34m\u001b[0m\u001b[0m\n\u001b[1;32m   1289\u001b[0m \u001b[0;34m\u001b[0m\u001b[0m\n",
      "\u001b[0;32m~/anaconda3/envs/amazonei_mxnet_p36/lib/python3.6/site-packages/botocore/client.py\u001b[0m in \u001b[0;36m_api_call\u001b[0;34m(self, *args, **kwargs)\u001b[0m\n\u001b[1;32m    355\u001b[0m                     \"%s() only accepts keyword arguments.\" % py_operation_name)\n\u001b[1;32m    356\u001b[0m             \u001b[0;31m# The \"self\" in this scope is referring to the BaseClient.\u001b[0m\u001b[0;34m\u001b[0m\u001b[0;34m\u001b[0m\u001b[0m\n\u001b[0;32m--> 357\u001b[0;31m             \u001b[0;32mreturn\u001b[0m \u001b[0mself\u001b[0m\u001b[0;34m.\u001b[0m\u001b[0m_make_api_call\u001b[0m\u001b[0;34m(\u001b[0m\u001b[0moperation_name\u001b[0m\u001b[0;34m,\u001b[0m \u001b[0mkwargs\u001b[0m\u001b[0;34m)\u001b[0m\u001b[0;34m\u001b[0m\u001b[0m\n\u001b[0m\u001b[1;32m    358\u001b[0m \u001b[0;34m\u001b[0m\u001b[0m\n\u001b[1;32m    359\u001b[0m         \u001b[0m_api_call\u001b[0m\u001b[0;34m.\u001b[0m\u001b[0m__name__\u001b[0m \u001b[0;34m=\u001b[0m \u001b[0mstr\u001b[0m\u001b[0;34m(\u001b[0m\u001b[0mpy_operation_name\u001b[0m\u001b[0;34m)\u001b[0m\u001b[0;34m\u001b[0m\u001b[0m\n",
      "\u001b[0;32m~/anaconda3/envs/amazonei_mxnet_p36/lib/python3.6/site-packages/botocore/client.py\u001b[0m in \u001b[0;36m_make_api_call\u001b[0;34m(self, operation_name, api_params)\u001b[0m\n\u001b[1;32m    659\u001b[0m             \u001b[0merror_code\u001b[0m \u001b[0;34m=\u001b[0m \u001b[0mparsed_response\u001b[0m\u001b[0;34m.\u001b[0m\u001b[0mget\u001b[0m\u001b[0;34m(\u001b[0m\u001b[0;34m\"Error\"\u001b[0m\u001b[0;34m,\u001b[0m \u001b[0;34m{\u001b[0m\u001b[0;34m}\u001b[0m\u001b[0;34m)\u001b[0m\u001b[0;34m.\u001b[0m\u001b[0mget\u001b[0m\u001b[0;34m(\u001b[0m\u001b[0;34m\"Code\"\u001b[0m\u001b[0;34m)\u001b[0m\u001b[0;34m\u001b[0m\u001b[0m\n\u001b[1;32m    660\u001b[0m             \u001b[0merror_class\u001b[0m \u001b[0;34m=\u001b[0m \u001b[0mself\u001b[0m\u001b[0;34m.\u001b[0m\u001b[0mexceptions\u001b[0m\u001b[0;34m.\u001b[0m\u001b[0mfrom_code\u001b[0m\u001b[0;34m(\u001b[0m\u001b[0merror_code\u001b[0m\u001b[0;34m)\u001b[0m\u001b[0;34m\u001b[0m\u001b[0m\n\u001b[0;32m--> 661\u001b[0;31m             \u001b[0;32mraise\u001b[0m \u001b[0merror_class\u001b[0m\u001b[0;34m(\u001b[0m\u001b[0mparsed_response\u001b[0m\u001b[0;34m,\u001b[0m \u001b[0moperation_name\u001b[0m\u001b[0;34m)\u001b[0m\u001b[0;34m\u001b[0m\u001b[0m\n\u001b[0m\u001b[1;32m    662\u001b[0m         \u001b[0;32melse\u001b[0m\u001b[0;34m:\u001b[0m\u001b[0;34m\u001b[0m\u001b[0m\n\u001b[1;32m    663\u001b[0m             \u001b[0;32mreturn\u001b[0m \u001b[0mparsed_response\u001b[0m\u001b[0;34m\u001b[0m\u001b[0m\n",
      "\u001b[0;31mClientError\u001b[0m: An error occurred (ValidationException) when calling the CreateEndpointConfig operation: 1 validation error detected: Value 'ml.m2.xlarge' at 'productionVariants.1.member.instanceType' failed to satisfy constraint: Member must satisfy enum value set: [ml.r5.12xlarge, ml.p2.xlarge, ml.m5.4xlarge, ml.m4.16xlarge, ml.r5.24xlarge, ml.p3.16xlarge, ml.m5.large, ml.t2.xlarge, ml.p2.16xlarge, ml.c4.2xlarge, ml.c5.2xlarge, ml.c4.4xlarge, ml.c5.4xlarge, ml.g4dn.xlarge, ml.g4dn.12xlarge, ml.g4dn.2xlarge, ml.c4.8xlarge, ml.c4.large, ml.c5.large, ml.g4dn.4xlarge, ml.c5.9xlarge, ml.g4dn.16xlarge, ml.c5.xlarge, ml.c4.xlarge, ml.g4dn.8xlarge, ml.t2.2xlarge, ml.t2.medium, ml.c5.18xlarge, ml.r5.2xlarge, ml.p3.2xlarge, ml.m5.xlarge, ml.m4.10xlarge, ml.t2.large, ml.r5.4xlarge, ml.m5.12xlarge, ml.m4.xlarge, ml.m5.24xlarge, ml.m4.2xlarge, ml.p2.8xlarge, ml.m5.2xlarge, ml.r5.xlarge, ml.r5.large, ml.p3.8xlarge, ml.m4.4xlarge]"
     ]
    }
   ],
   "source": [
    "# TODO: Deploy the trained model\n",
    "predictor = estimator.deploy(initial_instance_count=1, instance_type='ml.m2.xlarge')\n"
   ]
  },
  {
   "cell_type": "markdown",
   "metadata": {},
   "source": [
    "## Step 7 - Use the model for testing\n",
    "\n",
    "Once deployed, we can read in the test data and send it off to our deployed model to get some results. Once we collect all of the results we can determine how accurate our model is."
   ]
  },
  {
   "cell_type": "code",
   "execution_count": 58,
   "metadata": {},
   "outputs": [
    {
     "name": "stdout",
     "output_type": "stream",
     "text": [
      "2019-08-08 01:05:52 Starting - Preparing the instances for training\n",
      "2019-08-08 01:05:52 Downloading - Downloading input data\n",
      "2019-08-08 01:05:52 Training - Training image download completed. Training in progress.\n",
      "2019-08-08 01:05:52 Uploading - Uploading generated training model\n",
      "2019-08-08 01:05:52 Completed - Training job completed\u001b[31mbash: cannot set terminal process group (-1): Inappropriate ioctl for device\u001b[0m\n",
      "\u001b[31mbash: no job control in this shell\u001b[0m\n",
      "\u001b[31m2019-08-07 23:20:39,475 sagemaker-containers INFO     Imported framework sagemaker_pytorch_container.training\u001b[0m\n",
      "\u001b[31m2019-08-07 23:20:39,478 sagemaker-containers INFO     No GPUs detected (normal if no gpus installed)\u001b[0m\n",
      "\u001b[31m2019-08-07 23:20:39,491 sagemaker_pytorch_container.training INFO     Block until all host DNS lookups succeed.\u001b[0m\n",
      "\u001b[31m2019-08-07 23:20:39,494 sagemaker_pytorch_container.training INFO     Invoking user training script.\u001b[0m\n",
      "\u001b[31m2019-08-07 23:20:39,754 sagemaker-containers INFO     Module train does not provide a setup.py. \u001b[0m\n",
      "\u001b[31mGenerating setup.py\u001b[0m\n",
      "\u001b[31m2019-08-07 23:20:39,754 sagemaker-containers INFO     Generating setup.cfg\u001b[0m\n",
      "\u001b[31m2019-08-07 23:20:39,754 sagemaker-containers INFO     Generating MANIFEST.in\u001b[0m\n",
      "\u001b[31m2019-08-07 23:20:39,754 sagemaker-containers INFO     Installing module with the following command:\u001b[0m\n",
      "\u001b[31m/usr/bin/python -m pip install -U . -r requirements.txt\u001b[0m\n",
      "\u001b[31mProcessing /opt/ml/code\u001b[0m\n",
      "\u001b[31mCollecting pandas (from -r requirements.txt (line 1))\u001b[0m\n",
      "\u001b[31m  Downloading https://files.pythonhosted.org/packages/74/24/0cdbf8907e1e3bc5a8da03345c23cbed7044330bb8f73bb12e711a640a00/pandas-0.24.2-cp35-cp35m-manylinux1_x86_64.whl (10.0MB)\u001b[0m\n",
      "\u001b[31mCollecting numpy (from -r requirements.txt (line 2))\n",
      "  Downloading https://files.pythonhosted.org/packages/69/25/eef8d362bd216b11e7d005331a3cca3d19b0aa57569bde680070109b745c/numpy-1.17.0-cp35-cp35m-manylinux1_x86_64.whl (20.2MB)\u001b[0m\n",
      "\u001b[31mCollecting nltk (from -r requirements.txt (line 3))\n",
      "  Downloading https://files.pythonhosted.org/packages/87/16/4d247e27c55a7b6412e7c4c86f2500ae61afcbf5932b9e3491f8462f8d9e/nltk-3.4.4.zip (1.5MB)\u001b[0m\n",
      "\u001b[31mCollecting beautifulsoup4 (from -r requirements.txt (line 4))\n",
      "  Downloading https://files.pythonhosted.org/packages/1a/b7/34eec2fe5a49718944e215fde81288eec1fa04638aa3fb57c1c6cd0f98c3/beautifulsoup4-4.8.0-py3-none-any.whl (97kB)\u001b[0m\n",
      "\u001b[31mCollecting html5lib (from -r requirements.txt (line 5))\n",
      "  Downloading https://files.pythonhosted.org/packages/a5/62/bbd2be0e7943ec8504b517e62bab011b4946e1258842bc159e5dfde15b96/html5lib-1.0.1-py2.py3-none-any.whl (117kB)\u001b[0m\n",
      "\u001b[31mRequirement already satisfied, skipping upgrade: python-dateutil>=2.5.0 in /usr/local/lib/python3.5/dist-packages (from pandas->-r requirements.txt (line 1)) (2.7.5)\u001b[0m\n",
      "\u001b[31mCollecting pytz>=2011k (from pandas->-r requirements.txt (line 1))\u001b[0m\n",
      "\u001b[31m  Downloading https://files.pythonhosted.org/packages/87/76/46d697698a143e05f77bec5a526bf4e56a0be61d63425b68f4ba553b51f2/pytz-2019.2-py2.py3-none-any.whl (508kB)\u001b[0m\n",
      "\u001b[31mRequirement already satisfied, skipping upgrade: six in /usr/local/lib/python3.5/dist-packages (from nltk->-r requirements.txt (line 3)) (1.11.0)\u001b[0m\n",
      "\u001b[31mCollecting soupsieve>=1.2 (from beautifulsoup4->-r requirements.txt (line 4))\n",
      "  Downloading https://files.pythonhosted.org/packages/35/e3/25079e8911085ab76a6f2facae0771078260c930216ab0b0c44dc5c9bf31/soupsieve-1.9.2-py2.py3-none-any.whl\u001b[0m\n",
      "\u001b[31mCollecting webencodings (from html5lib->-r requirements.txt (line 5))\n",
      "  Downloading https://files.pythonhosted.org/packages/f4/24/2a3e3df732393fed8b3ebf2ec078f05546de641fe1b667ee316ec1dcf3b7/webencodings-0.5.1-py2.py3-none-any.whl\u001b[0m\n",
      "\u001b[31mBuilding wheels for collected packages: nltk, train\n",
      "  Running setup.py bdist_wheel for nltk: started\u001b[0m\n",
      "\u001b[31m  Running setup.py bdist_wheel for nltk: finished with status 'done'\n",
      "  Stored in directory: /root/.cache/pip/wheels/41/c8/31/48ace4468e236e0e8435f30d33e43df48594e4d53e367cf061\n",
      "  Running setup.py bdist_wheel for train: started\n",
      "  Running setup.py bdist_wheel for train: finished with status 'done'\n",
      "  Stored in directory: /tmp/pip-ephem-wheel-cache-u4xvnrjd/wheels/35/24/16/37574d11bf9bde50616c67372a334f94fa8356bc7164af8ca3\u001b[0m\n",
      "\u001b[31mSuccessfully built nltk train\u001b[0m\n",
      "\u001b[31mInstalling collected packages: numpy, pytz, pandas, nltk, soupsieve, beautifulsoup4, webencodings, html5lib, train\n",
      "  Found existing installation: numpy 1.15.4\n",
      "    Uninstalling numpy-1.15.4:\u001b[0m\n",
      "\u001b[31m      Successfully uninstalled numpy-1.15.4\u001b[0m\n",
      "\u001b[31mSuccessfully installed beautifulsoup4-4.8.0 html5lib-1.0.1 nltk-3.4.4 numpy-1.17.0 pandas-0.24.2 pytz-2019.2 soupsieve-1.9.2 train-1.0.0 webencodings-0.5.1\u001b[0m\n",
      "\u001b[31mYou are using pip version 18.1, however version 19.2.1 is available.\u001b[0m\n",
      "\u001b[31mYou should consider upgrading via the 'pip install --upgrade pip' command.\u001b[0m\n",
      "\u001b[31m2019-08-07 23:20:52,264 sagemaker-containers INFO     No GPUs detected (normal if no gpus installed)\u001b[0m\n",
      "\u001b[31m2019-08-07 23:20:52,278 sagemaker-containers INFO     Invoking user script\n",
      "\u001b[0m\n",
      "\u001b[31mTraining Env:\n",
      "\u001b[0m\n",
      "\u001b[31m{\n",
      "    \"network_interface_name\": \"eth0\",\n",
      "    \"channel_input_dirs\": {\n",
      "        \"training\": \"/opt/ml/input/data/training\"\n",
      "    },\n",
      "    \"log_level\": 20,\n",
      "    \"job_name\": \"sagemaker-pytorch-2019-08-06-19-28-05-2-2019-08-07-23-17-53-568\",\n",
      "    \"output_intermediate_dir\": \"/opt/ml/output/intermediate\",\n",
      "    \"resource_config\": {\n",
      "        \"current_host\": \"algo-1\",\n",
      "        \"hosts\": [\n",
      "            \"algo-1\"\n",
      "        ],\n",
      "        \"network_interface_name\": \"eth0\"\n",
      "    },\n",
      "    \"hyperparameters\": {\n",
      "        \"epochs\": 10,\n",
      "        \"hidden_dim\": 200\n",
      "    },\n",
      "    \"additional_framework_parameters\": {},\n",
      "    \"num_gpus\": 0,\n",
      "    \"input_config_dir\": \"/opt/ml/input/config\",\n",
      "    \"output_dir\": \"/opt/ml/output\",\n",
      "    \"framework_module\": \"sagemaker_pytorch_container.training:main\",\n",
      "    \"user_entry_point\": \"train.py\",\n",
      "    \"input_data_config\": {\n",
      "        \"training\": {\n",
      "            \"TrainingInputMode\": \"File\",\n",
      "            \"RecordWrapperType\": \"None\",\n",
      "            \"S3DistributionType\": \"FullyReplicated\"\n",
      "        }\n",
      "    },\n",
      "    \"module_name\": \"train\",\n",
      "    \"hosts\": [\n",
      "        \"algo-1\"\n",
      "    ],\n",
      "    \"output_data_dir\": \"/opt/ml/output/data\",\n",
      "    \"module_dir\": \"s3://sagemaker-us-east-2-952007629372/sagemaker-pytorch-2019-08-06-19-28-05-265/source/sourcedir.tar.gz\",\n",
      "    \"model_dir\": \"/opt/ml/model\",\n",
      "    \"num_cpus\": 4,\n",
      "    \"current_host\": \"algo-1\",\n",
      "    \"input_dir\": \"/opt/ml/input\"\u001b[0m\n",
      "\u001b[31m}\n",
      "\u001b[0m\n",
      "\u001b[31mEnvironment variables:\n",
      "\u001b[0m\n",
      "\u001b[31mPYTHONPATH=/usr/local/bin:/usr/lib/python35.zip:/usr/lib/python3.5:/usr/lib/python3.5/plat-x86_64-linux-gnu:/usr/lib/python3.5/lib-dynload:/usr/local/lib/python3.5/dist-packages:/usr/lib/python3/dist-packages\u001b[0m\n",
      "\u001b[31mSM_FRAMEWORK_MODULE=sagemaker_pytorch_container.training:main\u001b[0m\n",
      "\u001b[31mSM_INPUT_CONFIG_DIR=/opt/ml/input/config\u001b[0m\n",
      "\u001b[31mSM_INPUT_DATA_CONFIG={\"training\":{\"RecordWrapperType\":\"None\",\"S3DistributionType\":\"FullyReplicated\",\"TrainingInputMode\":\"File\"}}\u001b[0m\n",
      "\u001b[31mSM_NUM_CPUS=4\u001b[0m\n",
      "\u001b[31mSM_NUM_GPUS=0\u001b[0m\n",
      "\u001b[31mSM_HOSTS=[\"algo-1\"]\u001b[0m\n",
      "\u001b[31mSM_MODULE_NAME=train\u001b[0m\n",
      "\u001b[31mSM_USER_ARGS=[\"--epochs\",\"10\",\"--hidden_dim\",\"200\"]\u001b[0m\n",
      "\u001b[31mSM_FRAMEWORK_PARAMS={}\u001b[0m\n",
      "\u001b[31mSM_CHANNELS=[\"training\"]\u001b[0m\n",
      "\u001b[31mSM_CHANNEL_TRAINING=/opt/ml/input/data/training\u001b[0m\n",
      "\u001b[31mSM_OUTPUT_INTERMEDIATE_DIR=/opt/ml/output/intermediate\u001b[0m\n",
      "\u001b[31mSM_HPS={\"epochs\":10,\"hidden_dim\":200}\u001b[0m\n",
      "\u001b[31mSM_RESOURCE_CONFIG={\"current_host\":\"algo-1\",\"hosts\":[\"algo-1\"],\"network_interface_name\":\"eth0\"}\u001b[0m\n",
      "\u001b[31mSM_USER_ENTRY_POINT=train.py\u001b[0m\n",
      "\u001b[31mSM_NETWORK_INTERFACE_NAME=eth0\u001b[0m\n",
      "\u001b[31mSM_LOG_LEVEL=20\u001b[0m\n",
      "\u001b[31mSM_MODULE_DIR=s3://sagemaker-us-east-2-952007629372/sagemaker-pytorch-2019-08-06-19-28-05-265/source/sourcedir.tar.gz\u001b[0m\n",
      "\u001b[31mSM_INPUT_DIR=/opt/ml/input\u001b[0m\n",
      "\u001b[31mSM_OUTPUT_DATA_DIR=/opt/ml/output/data\u001b[0m\n",
      "\u001b[31mSM_OUTPUT_DIR=/opt/ml/output\u001b[0m\n",
      "\u001b[31mSM_TRAINING_ENV={\"additional_framework_parameters\":{},\"channel_input_dirs\":{\"training\":\"/opt/ml/input/data/training\"},\"current_host\":\"algo-1\",\"framework_module\":\"sagemaker_pytorch_container.training:main\",\"hosts\":[\"algo-1\"],\"hyperparameters\":{\"epochs\":10,\"hidden_dim\":200},\"input_config_dir\":\"/opt/ml/input/config\",\"input_data_config\":{\"training\":{\"RecordWrapperType\":\"None\",\"S3DistributionType\":\"FullyReplicated\",\"TrainingInputMode\":\"File\"}},\"input_dir\":\"/opt/ml/input\",\"job_name\":\"sagemaker-pytorch-2019-08-06-19-28-05-2-2019-08-07-23-17-53-568\",\"log_level\":20,\"model_dir\":\"/opt/ml/model\",\"module_dir\":\"s3://sagemaker-us-east-2-952007629372/sagemaker-pytorch-2019-08-06-19-28-05-265/source/sourcedir.tar.gz\",\"module_name\":\"train\",\"network_interface_name\":\"eth0\",\"num_cpus\":4,\"num_gpus\":0,\"output_data_dir\":\"/opt/ml/output/data\",\"output_dir\":\"/opt/ml/output\",\"output_intermediate_dir\":\"/opt/ml/output/intermediate\",\"resource_config\":{\"current_host\":\"algo-1\",\"hosts\":[\"algo-1\"],\"network_interface_name\":\"eth0\"},\"user_entry_point\":\"train.py\"}\u001b[0m\n",
      "\u001b[31mSM_HP_HIDDEN_DIM=200\u001b[0m\n",
      "\u001b[31mSM_HP_EPOCHS=10\u001b[0m\n",
      "\u001b[31mSM_MODEL_DIR=/opt/ml/model\u001b[0m\n",
      "\u001b[31mSM_CURRENT_HOST=algo-1\n",
      "\u001b[0m\n",
      "\u001b[31mInvoking script with the following command:\n",
      "\u001b[0m\n",
      "\u001b[31m/usr/bin/python -m train --epochs 10 --hidden_dim 200\n",
      "\n",
      "\u001b[0m\n",
      "\u001b[31mUsing device cpu.\u001b[0m\n",
      "\u001b[31mGet train data loader.\u001b[0m\n",
      "\u001b[31mModel loaded with embedding_dim 32, hidden_dim 200, vocab_size 5000.\u001b[0m\n",
      "\u001b[31mEpoch: 1, BCELoss: 0.6740777468194767\u001b[0m\n",
      "\u001b[31mEpoch: 2, BCELoss: 0.631865820106195\u001b[0m\n",
      "\u001b[31mEpoch: 3, BCELoss: 0.5317807757124609\u001b[0m\n",
      "\u001b[31mEpoch: 4, BCELoss: 0.4539955386093685\u001b[0m\n",
      "\u001b[31mEpoch: 5, BCELoss: 0.3916754898976307\u001b[0m\n",
      "\u001b[31mEpoch: 6, BCELoss: 0.3532942174648752\u001b[0m\n",
      "\u001b[31mEpoch: 7, BCELoss: 0.3393844743164218\u001b[0m\n",
      "\u001b[31mEpoch: 8, BCELoss: 0.3043571880885533\u001b[0m\n",
      "\u001b[31mEpoch: 9, BCELoss: 0.3032935967250746\u001b[0m\n",
      "\u001b[31mEpoch: 10, BCELoss: 0.28959563617803613\u001b[0m\n",
      "\u001b[31m2019-08-08 01:05:45,822 sagemaker-containers INFO     Reporting training SUCCESS\u001b[0m\n",
      "Billable seconds: 6360\n"
     ]
    }
   ],
   "source": [
    "#sagemaker-pytorch-2019-08-06-19-28-05-265\n",
    "# this function loads the already completed training job to the Estimater\n",
    "# For first please comment it\n",
    "\n",
    "my_training_job_name = 'sagemaker-pytorch-2019-08-06-19-28-05-2-2019-08-07-23-17-53-568'#'sagemaker-pytorch-2019-08-06-21-44-31-715'\n",
    "predictor = PyTorch.attach(my_training_job_name)"
   ]
  },
  {
   "cell_type": "code",
   "execution_count": 59,
   "metadata": {},
   "outputs": [],
   "source": [
    "test_X = pd.concat([pd.DataFrame(test_X_len), pd.DataFrame(test_X)], axis=1)"
   ]
  },
  {
   "cell_type": "code",
   "execution_count": 60,
   "metadata": {},
   "outputs": [],
   "source": [
    "# We split the data into chunks and send each chunk seperately, accumulating the results.\n",
    "\n",
    "def predict(data, rows=512):\n",
    "    split_array = np.array_split(data, int(data.shape[0] / float(rows) + 1))\n",
    "    predictions = np.array([])\n",
    "    for array in split_array:\n",
    "        predictions = np.append(predictions, predictor.predict(array))\n",
    "    \n",
    "    return predictions"
   ]
  },
  {
   "cell_type": "code",
   "execution_count": 61,
   "metadata": {},
   "outputs": [
    {
     "ename": "AttributeError",
     "evalue": "'PyTorch' object has no attribute 'predict'",
     "output_type": "error",
     "traceback": [
      "\u001b[0;31m---------------------------------------------------------------------------\u001b[0m",
      "\u001b[0;31mAttributeError\u001b[0m                            Traceback (most recent call last)",
      "\u001b[0;32m<ipython-input-61-46108efe51ea>\u001b[0m in \u001b[0;36m<module>\u001b[0;34m()\u001b[0m\n\u001b[0;32m----> 1\u001b[0;31m \u001b[0mpredictions\u001b[0m \u001b[0;34m=\u001b[0m \u001b[0mpredict\u001b[0m\u001b[0;34m(\u001b[0m\u001b[0mtest_X\u001b[0m\u001b[0;34m.\u001b[0m\u001b[0mvalues\u001b[0m\u001b[0;34m)\u001b[0m\u001b[0;34m\u001b[0m\u001b[0m\n\u001b[0m\u001b[1;32m      2\u001b[0m \u001b[0mpredictions\u001b[0m \u001b[0;34m=\u001b[0m \u001b[0;34m[\u001b[0m\u001b[0mround\u001b[0m\u001b[0;34m(\u001b[0m\u001b[0mnum\u001b[0m\u001b[0;34m)\u001b[0m \u001b[0;32mfor\u001b[0m \u001b[0mnum\u001b[0m \u001b[0;32min\u001b[0m \u001b[0mpredictions\u001b[0m\u001b[0;34m]\u001b[0m\u001b[0;34m\u001b[0m\u001b[0m\n",
      "\u001b[0;32m<ipython-input-60-215b27c43941>\u001b[0m in \u001b[0;36mpredict\u001b[0;34m(data, rows)\u001b[0m\n\u001b[1;32m      5\u001b[0m     \u001b[0mpredictions\u001b[0m \u001b[0;34m=\u001b[0m \u001b[0mnp\u001b[0m\u001b[0;34m.\u001b[0m\u001b[0marray\u001b[0m\u001b[0;34m(\u001b[0m\u001b[0;34m[\u001b[0m\u001b[0;34m]\u001b[0m\u001b[0;34m)\u001b[0m\u001b[0;34m\u001b[0m\u001b[0m\n\u001b[1;32m      6\u001b[0m     \u001b[0;32mfor\u001b[0m \u001b[0marray\u001b[0m \u001b[0;32min\u001b[0m \u001b[0msplit_array\u001b[0m\u001b[0;34m:\u001b[0m\u001b[0;34m\u001b[0m\u001b[0m\n\u001b[0;32m----> 7\u001b[0;31m         \u001b[0mpredictions\u001b[0m \u001b[0;34m=\u001b[0m \u001b[0mnp\u001b[0m\u001b[0;34m.\u001b[0m\u001b[0mappend\u001b[0m\u001b[0;34m(\u001b[0m\u001b[0mpredictions\u001b[0m\u001b[0;34m,\u001b[0m \u001b[0mpredictor\u001b[0m\u001b[0;34m.\u001b[0m\u001b[0mpredict\u001b[0m\u001b[0;34m(\u001b[0m\u001b[0marray\u001b[0m\u001b[0;34m)\u001b[0m\u001b[0;34m)\u001b[0m\u001b[0;34m\u001b[0m\u001b[0m\n\u001b[0m\u001b[1;32m      8\u001b[0m \u001b[0;34m\u001b[0m\u001b[0m\n\u001b[1;32m      9\u001b[0m     \u001b[0;32mreturn\u001b[0m \u001b[0mpredictions\u001b[0m\u001b[0;34m\u001b[0m\u001b[0m\n",
      "\u001b[0;31mAttributeError\u001b[0m: 'PyTorch' object has no attribute 'predict'"
     ]
    }
   ],
   "source": [
    "predictions = predict(test_X.values)\n",
    "predictions = [round(num) for num in predictions]"
   ]
  },
  {
   "cell_type": "code",
   "execution_count": 52,
   "metadata": {},
   "outputs": [
    {
     "data": {
      "text/plain": [
       "0.8468"
      ]
     },
     "execution_count": 52,
     "metadata": {},
     "output_type": "execute_result"
    }
   ],
   "source": [
    "from sklearn.metrics import accuracy_score\n",
    "accuracy_score(test_y, predictions)"
   ]
  },
  {
   "cell_type": "markdown",
   "metadata": {},
   "source": [
    "**Question:** How does this model compare to the XGBoost model you created earlier? Why might these two models perform differently on this dataset? Which do *you* think is better for sentiment analysis?\n",
    "\n",
    "<b>Answer:</b> XGBoost is an gradient boosting library designed to handle smaller variable problems with lesser training and more accuracy. But Deep learning is designed to large variable data supervised/un-supervised learning but it need more training. For sentiment analysis XGBoost is better because XGBoost is the state of the art in most regression and classification problems with better result and less training. since it is mono label classification problem."
   ]
  },
  {
   "cell_type": "markdown",
   "metadata": {},
   "source": [
    "### (TODO) More testing\n",
    "\n",
    "We now have a trained model which has been deployed and which we can send processed reviews to and which returns the predicted sentiment. However, ultimately we would like to be able to send our model an unprocessed review. That is, we would like to send the review itself as a string. For example, suppose we wish to send the following review to our model.\n"
   ]
  },
  {
   "cell_type": "code",
   "execution_count": 53,
   "metadata": {},
   "outputs": [],
   "source": [
    "test_review = 'The simplest pleasures in life are the best, and this film is one of them. Combining a rather basic storyline of love and adventure this movie transcends the usual weekend fair with wit and unmitigated charm.'"
   ]
  },
  {
   "cell_type": "markdown",
   "metadata": {},
   "source": [
    "The question we now need to answer is, how do we send this review to our model?\n",
    "\n",
    "Recall in the first section of this notebook we did a bunch of data processing to the IMDb dataset. In particular, we did two specific things to the provided reviews.\n",
    " - Removed any html tags and stemmed the input\n",
    " - Encoded the review as a sequence of integers using `word_dict`\n",
    " \n",
    "In order process the review we will need to repeat these two steps.\n",
    "\n",
    "**TODO**: Using the `review_to_words` and `convert_and_pad` methods from section one, convert `test_review` into a numpy array `test_data` suitable to send to our model. Remember that our model expects input of the form `review_length, review[500]`."
   ]
  },
  {
   "cell_type": "code",
   "execution_count": 54,
   "metadata": {},
   "outputs": [
    {
     "name": "stdout",
     "output_type": "stream",
     "text": [
      "[[   8    1    1 ...    0    0    0]\n",
      " [   7 1440 1222 ...    0    0    0]\n",
      " [   4 1222    1 ...    0    0    0]\n",
      " ...\n",
      " [   3 1807    1 ...    0    0    0]\n",
      " [   7 1097 1496 ...    0    0    0]\n",
      " [   5  894 1767 ...    0    0    0]]\n"
     ]
    }
   ],
   "source": [
    "data_X = None\n",
    "data_len = None\n",
    "input_data_words = review_to_words(test_review)\n",
    "data_X, data_len = convert_and_pad_data(word_dict, input_data_words)\n",
    "# print(data_len)\n",
    "# print(data_X[0])\n",
    "data_pack = np.column_stack((data_len, data_X))\n",
    "print(data_pack)\n",
    "data_pack = data_pack.reshape(1, -1)\n",
    "\n",
    "data = torch.from_numpy(data_pack)\n",
    "data = data.to(device)"
   ]
  },
  {
   "cell_type": "code",
   "execution_count": 55,
   "metadata": {},
   "outputs": [
    {
     "name": "stdout",
     "output_type": "stream",
     "text": [
      "    0     0     1     2     3     4     5     6     7    8    ...  490  491  \\\n",
      "0     8     1     1     1  1440  1222   704     1     1    0  ...    0    0   \n",
      "1     7  1440  1222   704     1     1  1097  1206     0    0  ...    0    0   \n",
      "2     4  1222     1  1046   704     0     0     0     0    0  ...    0    0   \n",
      "3     4   425   704     1     1     0     0     0     0    0  ...    0    0   \n",
      "4     4  1046     1  1222     1     0     0     0     0    0  ...    0    0   \n",
      "5     3     1  1496   704     0     0     0     0     0    0  ...    0    0   \n",
      "6     6   894     1     1   425     1  1496     0     0    0  ...    0    0   \n",
      "7     6  1206     1     1  1767   704  1206     0     0    0  ...    0    0   \n",
      "8     5   425     1     1     1   894     0     0     0    0  ...    0    0   \n",
      "9     8     1     1     1  1206     1  1222     1  1496    0  ...    0    0   \n",
      "10    4  1222     1  1730   704     0     0     0     0    0  ...    0    0   \n",
      "11    8     1     1  1730   704  1496     1  1097  1206    0  ...    0    0   \n",
      "12    4     1     1  1730     1     0     0     0     0    0  ...    0    0   \n",
      "13    9     1  1206     1  1496     1   894   704  1496    1  ...    0    0   \n",
      "14    5  1097     1  1097     1  1222     0     0     0    0  ...    0    0   \n",
      "15    7  1807   704   704  1914   704  1496     1     0    0  ...    0    0   \n",
      "16    4  1046     1     1  1206     0     0     0     0    0  ...    0    0   \n",
      "17    3  1807     1     1     0     0     0     0     0    0  ...    0    0   \n",
      "18    7  1097  1496     1     1     1     1  1120     0    0  ...    0    0   \n",
      "19    5   894  1767     1  1206     1     0     0     0    0  ...    0    0   \n",
      "\n",
      "    492  493  494  495  496  497  498  499  \n",
      "0     0    0    0    0    0    0    0    0  \n",
      "1     0    0    0    0    0    0    0    0  \n",
      "2     0    0    0    0    0    0    0    0  \n",
      "3     0    0    0    0    0    0    0    0  \n",
      "4     0    0    0    0    0    0    0    0  \n",
      "5     0    0    0    0    0    0    0    0  \n",
      "6     0    0    0    0    0    0    0    0  \n",
      "7     0    0    0    0    0    0    0    0  \n",
      "8     0    0    0    0    0    0    0    0  \n",
      "9     0    0    0    0    0    0    0    0  \n",
      "10    0    0    0    0    0    0    0    0  \n",
      "11    0    0    0    0    0    0    0    0  \n",
      "12    0    0    0    0    0    0    0    0  \n",
      "13    0    0    0    0    0    0    0    0  \n",
      "14    0    0    0    0    0    0    0    0  \n",
      "15    0    0    0    0    0    0    0    0  \n",
      "16    0    0    0    0    0    0    0    0  \n",
      "17    0    0    0    0    0    0    0    0  \n",
      "18    0    0    0    0    0    0    0    0  \n",
      "19    0    0    0    0    0    0    0    0  \n",
      "\n",
      "[20 rows x 501 columns]\n"
     ]
    }
   ],
   "source": [
    "# TODO: Convert test_review into a form usable by the model and save the results in test_data\n",
    "test_data = None\n",
    "predictions = None\n",
    "test_review_words = review_to_words(test_review)\n",
    "test_data, test_data_len = convert_and_pad_data(word_dict, test_review_words)\n",
    "test_data = pd.concat([pd.DataFrame(test_data_len), pd.DataFrame(test_data)], axis=1)\n",
    "print(test_data)"
   ]
  },
  {
   "cell_type": "markdown",
   "metadata": {},
   "source": [
    "Now that we have processed the review, we can send the resulting array to our model to predict the sentiment of the review."
   ]
  },
  {
   "cell_type": "code",
   "execution_count": 58,
   "metadata": {},
   "outputs": [
    {
     "data": {
      "text/plain": [
       "array([0.48007214, 0.3994868 , 0.2166497 , 0.54820126, 0.42972612,\n",
       "       0.3945137 , 0.6157694 , 0.32787687, 0.53193456, 0.58629394,\n",
       "       0.36237544, 0.5513351 , 0.5443086 , 0.6112492 , 0.6231468 ,\n",
       "       0.47983134, 0.32519004, 0.52465135, 0.67716765, 0.5257694 ],\n",
       "      dtype=float32)"
      ]
     },
     "execution_count": 58,
     "metadata": {},
     "output_type": "execute_result"
    }
   ],
   "source": [
    "predictor.predict(test_data.values)"
   ]
  },
  {
   "cell_type": "markdown",
   "metadata": {},
   "source": [
    "Since the return value of our model is close to `1`, we can be certain that the review we submitted is positive."
   ]
  },
  {
   "cell_type": "markdown",
   "metadata": {},
   "source": [
    "### Delete the endpoint\n",
    "\n",
    "Of course, just like in the XGBoost notebook, once we've deployed an endpoint it continues to run until we tell it to shut down. Since we are done using our endpoint for now, we can delete it."
   ]
  },
  {
   "cell_type": "code",
   "execution_count": 59,
   "metadata": {
    "scrolled": true
   },
   "outputs": [
    {
     "ename": "ClientError",
     "evalue": "An error occurred (ValidationException) when calling the DeleteEndpoint operation: Could not find endpoint \"arn:aws:sagemaker:us-east-2:952007629372:endpoint/sagemaker-pytorch-2019-08-06-19-28-05-265\".",
     "output_type": "error",
     "traceback": [
      "\u001b[0;31m---------------------------------------------------------------------------\u001b[0m",
      "\u001b[0;31mClientError\u001b[0m                               Traceback (most recent call last)",
      "\u001b[0;32m<ipython-input-59-46ef5e5e8b7c>\u001b[0m in \u001b[0;36m<module>\u001b[0;34m()\u001b[0m\n\u001b[0;32m----> 1\u001b[0;31m \u001b[0mestimator\u001b[0m\u001b[0;34m.\u001b[0m\u001b[0mdelete_endpoint\u001b[0m\u001b[0;34m(\u001b[0m\u001b[0;34m)\u001b[0m\u001b[0;34m\u001b[0m\u001b[0m\n\u001b[0m",
      "\u001b[0;32m~/anaconda3/envs/amazonei_mxnet_p36/lib/python3.6/site-packages/sagemaker/estimator.py\u001b[0m in \u001b[0;36mdelete_endpoint\u001b[0;34m(self)\u001b[0m\n\u001b[1;32m    621\u001b[0m         \"\"\"\n\u001b[1;32m    622\u001b[0m         \u001b[0mself\u001b[0m\u001b[0;34m.\u001b[0m\u001b[0m_ensure_latest_training_job\u001b[0m\u001b[0;34m(\u001b[0m\u001b[0merror_message\u001b[0m\u001b[0;34m=\u001b[0m\u001b[0;34m\"Endpoint was not created yet\"\u001b[0m\u001b[0;34m)\u001b[0m\u001b[0;34m\u001b[0m\u001b[0m\n\u001b[0;32m--> 623\u001b[0;31m         \u001b[0mself\u001b[0m\u001b[0;34m.\u001b[0m\u001b[0msagemaker_session\u001b[0m\u001b[0;34m.\u001b[0m\u001b[0mdelete_endpoint\u001b[0m\u001b[0;34m(\u001b[0m\u001b[0mself\u001b[0m\u001b[0;34m.\u001b[0m\u001b[0mlatest_training_job\u001b[0m\u001b[0;34m.\u001b[0m\u001b[0mname\u001b[0m\u001b[0;34m)\u001b[0m\u001b[0;34m\u001b[0m\u001b[0m\n\u001b[0m\u001b[1;32m    624\u001b[0m \u001b[0;34m\u001b[0m\u001b[0m\n\u001b[1;32m    625\u001b[0m     def transformer(\n",
      "\u001b[0;32m~/anaconda3/envs/amazonei_mxnet_p36/lib/python3.6/site-packages/sagemaker/session.py\u001b[0m in \u001b[0;36mdelete_endpoint\u001b[0;34m(self, endpoint_name)\u001b[0m\n\u001b[1;32m    961\u001b[0m         \"\"\"\n\u001b[1;32m    962\u001b[0m         \u001b[0mLOGGER\u001b[0m\u001b[0;34m.\u001b[0m\u001b[0minfo\u001b[0m\u001b[0;34m(\u001b[0m\u001b[0;34m\"Deleting endpoint with name: %s\"\u001b[0m\u001b[0;34m,\u001b[0m \u001b[0mendpoint_name\u001b[0m\u001b[0;34m)\u001b[0m\u001b[0;34m\u001b[0m\u001b[0m\n\u001b[0;32m--> 963\u001b[0;31m         \u001b[0mself\u001b[0m\u001b[0;34m.\u001b[0m\u001b[0msagemaker_client\u001b[0m\u001b[0;34m.\u001b[0m\u001b[0mdelete_endpoint\u001b[0m\u001b[0;34m(\u001b[0m\u001b[0mEndpointName\u001b[0m\u001b[0;34m=\u001b[0m\u001b[0mendpoint_name\u001b[0m\u001b[0;34m)\u001b[0m\u001b[0;34m\u001b[0m\u001b[0m\n\u001b[0m\u001b[1;32m    964\u001b[0m \u001b[0;34m\u001b[0m\u001b[0m\n\u001b[1;32m    965\u001b[0m     \u001b[0;32mdef\u001b[0m \u001b[0mdelete_endpoint_config\u001b[0m\u001b[0;34m(\u001b[0m\u001b[0mself\u001b[0m\u001b[0;34m,\u001b[0m \u001b[0mendpoint_config_name\u001b[0m\u001b[0;34m)\u001b[0m\u001b[0;34m:\u001b[0m\u001b[0;34m\u001b[0m\u001b[0m\n",
      "\u001b[0;32m~/anaconda3/envs/amazonei_mxnet_p36/lib/python3.6/site-packages/botocore/client.py\u001b[0m in \u001b[0;36m_api_call\u001b[0;34m(self, *args, **kwargs)\u001b[0m\n\u001b[1;32m    355\u001b[0m                     \"%s() only accepts keyword arguments.\" % py_operation_name)\n\u001b[1;32m    356\u001b[0m             \u001b[0;31m# The \"self\" in this scope is referring to the BaseClient.\u001b[0m\u001b[0;34m\u001b[0m\u001b[0;34m\u001b[0m\u001b[0m\n\u001b[0;32m--> 357\u001b[0;31m             \u001b[0;32mreturn\u001b[0m \u001b[0mself\u001b[0m\u001b[0;34m.\u001b[0m\u001b[0m_make_api_call\u001b[0m\u001b[0;34m(\u001b[0m\u001b[0moperation_name\u001b[0m\u001b[0;34m,\u001b[0m \u001b[0mkwargs\u001b[0m\u001b[0;34m)\u001b[0m\u001b[0;34m\u001b[0m\u001b[0m\n\u001b[0m\u001b[1;32m    358\u001b[0m \u001b[0;34m\u001b[0m\u001b[0m\n\u001b[1;32m    359\u001b[0m         \u001b[0m_api_call\u001b[0m\u001b[0;34m.\u001b[0m\u001b[0m__name__\u001b[0m \u001b[0;34m=\u001b[0m \u001b[0mstr\u001b[0m\u001b[0;34m(\u001b[0m\u001b[0mpy_operation_name\u001b[0m\u001b[0;34m)\u001b[0m\u001b[0;34m\u001b[0m\u001b[0m\n",
      "\u001b[0;32m~/anaconda3/envs/amazonei_mxnet_p36/lib/python3.6/site-packages/botocore/client.py\u001b[0m in \u001b[0;36m_make_api_call\u001b[0;34m(self, operation_name, api_params)\u001b[0m\n\u001b[1;32m    659\u001b[0m             \u001b[0merror_code\u001b[0m \u001b[0;34m=\u001b[0m \u001b[0mparsed_response\u001b[0m\u001b[0;34m.\u001b[0m\u001b[0mget\u001b[0m\u001b[0;34m(\u001b[0m\u001b[0;34m\"Error\"\u001b[0m\u001b[0;34m,\u001b[0m \u001b[0;34m{\u001b[0m\u001b[0;34m}\u001b[0m\u001b[0;34m)\u001b[0m\u001b[0;34m.\u001b[0m\u001b[0mget\u001b[0m\u001b[0;34m(\u001b[0m\u001b[0;34m\"Code\"\u001b[0m\u001b[0;34m)\u001b[0m\u001b[0;34m\u001b[0m\u001b[0m\n\u001b[1;32m    660\u001b[0m             \u001b[0merror_class\u001b[0m \u001b[0;34m=\u001b[0m \u001b[0mself\u001b[0m\u001b[0;34m.\u001b[0m\u001b[0mexceptions\u001b[0m\u001b[0;34m.\u001b[0m\u001b[0mfrom_code\u001b[0m\u001b[0;34m(\u001b[0m\u001b[0merror_code\u001b[0m\u001b[0;34m)\u001b[0m\u001b[0;34m\u001b[0m\u001b[0m\n\u001b[0;32m--> 661\u001b[0;31m             \u001b[0;32mraise\u001b[0m \u001b[0merror_class\u001b[0m\u001b[0;34m(\u001b[0m\u001b[0mparsed_response\u001b[0m\u001b[0;34m,\u001b[0m \u001b[0moperation_name\u001b[0m\u001b[0;34m)\u001b[0m\u001b[0;34m\u001b[0m\u001b[0m\n\u001b[0m\u001b[1;32m    662\u001b[0m         \u001b[0;32melse\u001b[0m\u001b[0;34m:\u001b[0m\u001b[0;34m\u001b[0m\u001b[0m\n\u001b[1;32m    663\u001b[0m             \u001b[0;32mreturn\u001b[0m \u001b[0mparsed_response\u001b[0m\u001b[0;34m\u001b[0m\u001b[0m\n",
      "\u001b[0;31mClientError\u001b[0m: An error occurred (ValidationException) when calling the DeleteEndpoint operation: Could not find endpoint \"arn:aws:sagemaker:us-east-2:952007629372:endpoint/sagemaker-pytorch-2019-08-06-19-28-05-265\"."
     ]
    }
   ],
   "source": [
    "estimator.delete_endpoint()"
   ]
  },
  {
   "cell_type": "markdown",
   "metadata": {},
   "source": [
    "## Step 6 (again) - Deploy the model for the web app\n",
    "\n",
    "Now that we know that our model is working, it's time to create some custom inference code so that we can send the model a review which has not been processed and have it determine the sentiment of the review.\n",
    "\n",
    "As we saw above, by default the estimator which we created, when deployed, will use the entry script and directory which we provided when creating the model. However, since we now wish to accept a string as input and our model expects a processed review, we need to write some custom inference code.\n",
    "\n",
    "We will store the code that we write in the `serve` directory. Provided in this directory is the `model.py` file that we used to construct our model, a `utils.py` file which contains the `review_to_words` and `convert_and_pad` pre-processing functions which we used during the initial data processing, and `predict.py`, the file which will contain our custom inference code. Note also that `requirements.txt` is present which will tell SageMaker what Python libraries are required by our custom inference code.\n",
    "\n",
    "When deploying a PyTorch model in SageMaker, you are expected to provide four functions which the SageMaker inference container will use.\n",
    " - `model_fn`: This function is the same function that we used in the training script and it tells SageMaker how to load our model.\n",
    " - `input_fn`: This function receives the raw serialized input that has been sent to the model's endpoint and its job is to de-serialize and make the input available for the inference code.\n",
    " - `output_fn`: This function takes the output of the inference code and its job is to serialize this output and return it to the caller of the model's endpoint.\n",
    " - `predict_fn`: The heart of the inference script, this is where the actual prediction is done and is the function which you will need to complete.\n",
    "\n",
    "For the simple website that we are constructing during this project, the `input_fn` and `output_fn` methods are relatively straightforward. We only require being able to accept a string as input and we expect to return a single value as output. You might imagine though that in a more complex application the input or output may be image data or some other binary data which would require some effort to serialize.\n",
    "\n",
    "### (TODO) Writing inference code\n",
    "\n",
    "Before writing our custom inference code, we will begin by taking a look at the code which has been provided."
   ]
  },
  {
   "cell_type": "code",
   "execution_count": 37,
   "metadata": {},
   "outputs": [
    {
     "name": "stdout",
     "output_type": "stream",
     "text": [
      "\u001b[34mimport\u001b[39;49;00m \u001b[04m\u001b[36margparse\u001b[39;49;00m\r\n",
      "\u001b[34mimport\u001b[39;49;00m \u001b[04m\u001b[36mjson\u001b[39;49;00m\r\n",
      "\u001b[34mimport\u001b[39;49;00m \u001b[04m\u001b[36mos\u001b[39;49;00m\r\n",
      "\u001b[34mimport\u001b[39;49;00m \u001b[04m\u001b[36mpickle\u001b[39;49;00m\r\n",
      "\u001b[34mimport\u001b[39;49;00m \u001b[04m\u001b[36msys\u001b[39;49;00m\r\n",
      "\u001b[34mimport\u001b[39;49;00m \u001b[04m\u001b[36msagemaker_containers\u001b[39;49;00m\r\n",
      "\u001b[34mimport\u001b[39;49;00m \u001b[04m\u001b[36mpandas\u001b[39;49;00m \u001b[34mas\u001b[39;49;00m \u001b[04m\u001b[36mpd\u001b[39;49;00m\r\n",
      "\u001b[34mimport\u001b[39;49;00m \u001b[04m\u001b[36mnumpy\u001b[39;49;00m \u001b[34mas\u001b[39;49;00m \u001b[04m\u001b[36mnp\u001b[39;49;00m\r\n",
      "\u001b[34mimport\u001b[39;49;00m \u001b[04m\u001b[36mtorch\u001b[39;49;00m\r\n",
      "\u001b[34mimport\u001b[39;49;00m \u001b[04m\u001b[36mtorch.nn\u001b[39;49;00m \u001b[34mas\u001b[39;49;00m \u001b[04m\u001b[36mnn\u001b[39;49;00m\r\n",
      "\u001b[34mimport\u001b[39;49;00m \u001b[04m\u001b[36mtorch.optim\u001b[39;49;00m \u001b[34mas\u001b[39;49;00m \u001b[04m\u001b[36moptim\u001b[39;49;00m\r\n",
      "\u001b[34mimport\u001b[39;49;00m \u001b[04m\u001b[36mtorch.utils.data\u001b[39;49;00m\r\n",
      "\u001b[34mimport\u001b[39;49;00m \u001b[04m\u001b[36mnltk\u001b[39;49;00m\r\n",
      "\u001b[34mfrom\u001b[39;49;00m \u001b[04m\u001b[36mnltk.corpus\u001b[39;49;00m \u001b[34mimport\u001b[39;49;00m stopwords\r\n",
      "\u001b[34mfrom\u001b[39;49;00m \u001b[04m\u001b[36mnltk.stem.porter\u001b[39;49;00m \u001b[34mimport\u001b[39;49;00m *\r\n",
      "\r\n",
      "\u001b[34mimport\u001b[39;49;00m \u001b[04m\u001b[36mre\u001b[39;49;00m\r\n",
      "\u001b[34mfrom\u001b[39;49;00m \u001b[04m\u001b[36mbs4\u001b[39;49;00m \u001b[34mimport\u001b[39;49;00m BeautifulSoup\r\n",
      "\r\n",
      "\u001b[34mfrom\u001b[39;49;00m \u001b[04m\u001b[36mmodel\u001b[39;49;00m \u001b[34mimport\u001b[39;49;00m LSTMClassifier\r\n",
      "\r\n",
      "\u001b[34mfrom\u001b[39;49;00m \u001b[04m\u001b[36mutils\u001b[39;49;00m \u001b[34mimport\u001b[39;49;00m review_to_words, convert_and_pad\r\n",
      "\r\n",
      "\u001b[34mdef\u001b[39;49;00m \u001b[32mmodel_fn\u001b[39;49;00m(model_dir):\r\n",
      "    \u001b[33m\"\"\"Load the PyTorch model from the `model_dir` directory.\"\"\"\u001b[39;49;00m\r\n",
      "    \u001b[34mprint\u001b[39;49;00m(\u001b[33m\"\u001b[39;49;00m\u001b[33mLoading model.\u001b[39;49;00m\u001b[33m\"\u001b[39;49;00m)\r\n",
      "\r\n",
      "    \u001b[37m# First, load the parameters used to create the model.\u001b[39;49;00m\r\n",
      "    model_info = {}\r\n",
      "    model_info_path = os.path.join(model_dir, \u001b[33m'\u001b[39;49;00m\u001b[33mmodel_info.pth\u001b[39;49;00m\u001b[33m'\u001b[39;49;00m)\r\n",
      "    \u001b[34mwith\u001b[39;49;00m \u001b[36mopen\u001b[39;49;00m(model_info_path, \u001b[33m'\u001b[39;49;00m\u001b[33mrb\u001b[39;49;00m\u001b[33m'\u001b[39;49;00m) \u001b[34mas\u001b[39;49;00m f:\r\n",
      "        model_info = torch.load(f)\r\n",
      "\r\n",
      "    \u001b[34mprint\u001b[39;49;00m(\u001b[33m\"\u001b[39;49;00m\u001b[33mmodel_info: {}\u001b[39;49;00m\u001b[33m\"\u001b[39;49;00m.format(model_info))\r\n",
      "\r\n",
      "    \u001b[37m# Determine the device and construct the model.\u001b[39;49;00m\r\n",
      "    device = torch.device(\u001b[33m\"\u001b[39;49;00m\u001b[33mcuda\u001b[39;49;00m\u001b[33m\"\u001b[39;49;00m \u001b[34mif\u001b[39;49;00m torch.cuda.is_available() \u001b[34melse\u001b[39;49;00m \u001b[33m\"\u001b[39;49;00m\u001b[33mcpu\u001b[39;49;00m\u001b[33m\"\u001b[39;49;00m)\r\n",
      "    model = LSTMClassifier(model_info[\u001b[33m'\u001b[39;49;00m\u001b[33membedding_dim\u001b[39;49;00m\u001b[33m'\u001b[39;49;00m], model_info[\u001b[33m'\u001b[39;49;00m\u001b[33mhidden_dim\u001b[39;49;00m\u001b[33m'\u001b[39;49;00m], model_info[\u001b[33m'\u001b[39;49;00m\u001b[33mvocab_size\u001b[39;49;00m\u001b[33m'\u001b[39;49;00m])\r\n",
      "\r\n",
      "    \u001b[37m# Load the store model parameters.\u001b[39;49;00m\r\n",
      "    model_path = os.path.join(model_dir, \u001b[33m'\u001b[39;49;00m\u001b[33mmodel.pth\u001b[39;49;00m\u001b[33m'\u001b[39;49;00m)\r\n",
      "    \u001b[34mwith\u001b[39;49;00m \u001b[36mopen\u001b[39;49;00m(model_path, \u001b[33m'\u001b[39;49;00m\u001b[33mrb\u001b[39;49;00m\u001b[33m'\u001b[39;49;00m) \u001b[34mas\u001b[39;49;00m f:\r\n",
      "        model.load_state_dict(torch.load(f))\r\n",
      "\r\n",
      "    \u001b[37m# Load the saved word_dict.\u001b[39;49;00m\r\n",
      "    word_dict_path = os.path.join(model_dir, \u001b[33m'\u001b[39;49;00m\u001b[33mword_dict.pkl\u001b[39;49;00m\u001b[33m'\u001b[39;49;00m)\r\n",
      "    \u001b[34mwith\u001b[39;49;00m \u001b[36mopen\u001b[39;49;00m(word_dict_path, \u001b[33m'\u001b[39;49;00m\u001b[33mrb\u001b[39;49;00m\u001b[33m'\u001b[39;49;00m) \u001b[34mas\u001b[39;49;00m f:\r\n",
      "        model.word_dict = pickle.load(f)\r\n",
      "\r\n",
      "    model.to(device).eval()\r\n",
      "\r\n",
      "    \u001b[34mprint\u001b[39;49;00m(\u001b[33m\"\u001b[39;49;00m\u001b[33mDone loading model.\u001b[39;49;00m\u001b[33m\"\u001b[39;49;00m)\r\n",
      "    \u001b[34mreturn\u001b[39;49;00m model\r\n",
      "\r\n",
      "\u001b[34mdef\u001b[39;49;00m \u001b[32minput_fn\u001b[39;49;00m(serialized_input_data, content_type):\r\n",
      "    \u001b[34mprint\u001b[39;49;00m(\u001b[33m'\u001b[39;49;00m\u001b[33mDeserializing the input data.\u001b[39;49;00m\u001b[33m'\u001b[39;49;00m)\r\n",
      "    \u001b[34mif\u001b[39;49;00m content_type == \u001b[33m'\u001b[39;49;00m\u001b[33mtext/plain\u001b[39;49;00m\u001b[33m'\u001b[39;49;00m:\r\n",
      "        data = serialized_input_data.decode(\u001b[33m'\u001b[39;49;00m\u001b[33mutf-8\u001b[39;49;00m\u001b[33m'\u001b[39;49;00m)\r\n",
      "        \u001b[34mreturn\u001b[39;49;00m data\r\n",
      "    \u001b[34mraise\u001b[39;49;00m \u001b[36mException\u001b[39;49;00m(\u001b[33m'\u001b[39;49;00m\u001b[33mRequested unsupported ContentType in content_type: \u001b[39;49;00m\u001b[33m'\u001b[39;49;00m + content_type)\r\n",
      "\r\n",
      "\u001b[34mdef\u001b[39;49;00m \u001b[32moutput_fn\u001b[39;49;00m(prediction_output, accept):\r\n",
      "    \u001b[34mprint\u001b[39;49;00m(\u001b[33m'\u001b[39;49;00m\u001b[33mSerializing the generated output.\u001b[39;49;00m\u001b[33m'\u001b[39;49;00m)\r\n",
      "    \u001b[34mprint\u001b[39;49;00m(prediction_output)\r\n",
      "    \u001b[37m# return str(prediction_output.item())\u001b[39;49;00m\r\n",
      "    \u001b[34mreturn\u001b[39;49;00m \u001b[36mstr\u001b[39;49;00m(prediction_output)\r\n",
      "\r\n",
      "\u001b[34mdef\u001b[39;49;00m \u001b[32mpredict_fn\u001b[39;49;00m(input_data, model):\r\n",
      "    \u001b[34mprint\u001b[39;49;00m(\u001b[33m'\u001b[39;49;00m\u001b[33mInferring sentiment of input data.\u001b[39;49;00m\u001b[33m'\u001b[39;49;00m)\r\n",
      "\r\n",
      "    device = torch.device(\u001b[33m\"\u001b[39;49;00m\u001b[33mcuda\u001b[39;49;00m\u001b[33m\"\u001b[39;49;00m \u001b[34mif\u001b[39;49;00m torch.cuda.is_available() \u001b[34melse\u001b[39;49;00m \u001b[33m\"\u001b[39;49;00m\u001b[33mcpu\u001b[39;49;00m\u001b[33m\"\u001b[39;49;00m)\r\n",
      "    \r\n",
      "    \u001b[34mif\u001b[39;49;00m model.word_dict \u001b[35mis\u001b[39;49;00m \u001b[36mNone\u001b[39;49;00m:\r\n",
      "        \u001b[34mraise\u001b[39;49;00m \u001b[36mException\u001b[39;49;00m(\u001b[33m'\u001b[39;49;00m\u001b[33mModel has not been loaded properly, no word_dict.\u001b[39;49;00m\u001b[33m'\u001b[39;49;00m)\r\n",
      "    \r\n",
      "    \u001b[37m# TODO: Process input_data so that it is ready to be sent to our model.\u001b[39;49;00m\r\n",
      "    \u001b[37m#       You should produce two variables:\u001b[39;49;00m\r\n",
      "    \u001b[37m#         data_X   - A sequence of length 500 which represents the converted review\u001b[39;49;00m\r\n",
      "    \u001b[37m#         data_len - The length of the review\u001b[39;49;00m\r\n",
      "    \r\n",
      "    data_X = \u001b[36mNone\u001b[39;49;00m\r\n",
      "    data_len = \u001b[36mNone\u001b[39;49;00m\r\n",
      "    input_data_words = review_to_words(input_data)\r\n",
      "    data_X, data_len = convert_and_pad(model.word_dict, input_data_words)\r\n",
      "    \u001b[37m# data_X = pd.concat([pd.DataFrame(test_data_len), pd.DataFrame(test_data)], axis=1)\u001b[39;49;00m\r\n",
      "\r\n",
      "    \u001b[37m# Using data_X and data_len we construct an appropriate input tensor. Remember\u001b[39;49;00m\r\n",
      "    \u001b[37m# that our model expects input data of the form 'len, review[500]'.\u001b[39;49;00m\r\n",
      "    \u001b[37m# data_pack = np.hstack((data_len, data_X))\u001b[39;49;00m\r\n",
      "    data_pack = np.hstack((data_len, data_X))\r\n",
      "    \r\n",
      "    data_pack = data_pack.reshape(\u001b[34m1\u001b[39;49;00m, -\u001b[34m1\u001b[39;49;00m)\r\n",
      "    \r\n",
      "    data = torch.from_numpy(data_pack)\r\n",
      "    data = data.to(device)\r\n",
      "\r\n",
      "    \u001b[37m# Make sure to put the model into evaluation mode\u001b[39;49;00m\r\n",
      "    model.eval()\r\n",
      "\r\n",
      "    \u001b[37m# TODO: Compute the result of applying the model to the input data. The variable `result` should\u001b[39;49;00m\r\n",
      "    \u001b[37m#       be a numpy array which contains a single integer which is either 1 or 0\u001b[39;49;00m\r\n",
      "\r\n",
      "    \u001b[34mwith\u001b[39;49;00m torch.no_grad():\r\n",
      "        output = model.forward(data)\r\n",
      "        \r\n",
      "    result = np.round(output.numpy())\r\n",
      "    \u001b[37m# result = predictor.predict(data.values)\u001b[39;49;00m\r\n",
      "    \u001b[34mprint\u001b[39;49;00m(result)\r\n",
      "\r\n",
      "    \u001b[34mreturn\u001b[39;49;00m result\r\n",
      "\r\n",
      "\u001b[34mdef\u001b[39;49;00m \u001b[32mreview_to_words\u001b[39;49;00m(review):\r\n",
      "    nltk.download(\u001b[33m\"\u001b[39;49;00m\u001b[33mstopwords\u001b[39;49;00m\u001b[33m\"\u001b[39;49;00m, quiet=\u001b[36mTrue\u001b[39;49;00m)\r\n",
      "    stemmer = PorterStemmer()\r\n",
      "    \r\n",
      "    text = BeautifulSoup(review, \u001b[33m\"\u001b[39;49;00m\u001b[33mhtml.parser\u001b[39;49;00m\u001b[33m\"\u001b[39;49;00m).get_text() \u001b[37m# Remove HTML tags\u001b[39;49;00m\r\n",
      "    text = re.sub(\u001b[33mr\u001b[39;49;00m\u001b[33m\"\u001b[39;49;00m\u001b[33m[^a-zA-Z0-9]\u001b[39;49;00m\u001b[33m\"\u001b[39;49;00m, \u001b[33m\"\u001b[39;49;00m\u001b[33m \u001b[39;49;00m\u001b[33m\"\u001b[39;49;00m, text.lower()) \u001b[37m# Convert to lower case\u001b[39;49;00m\r\n",
      "    words = text.split() \u001b[37m# Split string into words\u001b[39;49;00m\r\n",
      "    words = [w \u001b[34mfor\u001b[39;49;00m w \u001b[35min\u001b[39;49;00m words \u001b[34mif\u001b[39;49;00m w \u001b[35mnot\u001b[39;49;00m \u001b[35min\u001b[39;49;00m stopwords.words(\u001b[33m\"\u001b[39;49;00m\u001b[33menglish\u001b[39;49;00m\u001b[33m\"\u001b[39;49;00m)] \u001b[37m# Remove stopwords\u001b[39;49;00m\r\n",
      "    words = [PorterStemmer().stem(w) \u001b[34mfor\u001b[39;49;00m w \u001b[35min\u001b[39;49;00m words] \u001b[37m# stem\u001b[39;49;00m\r\n",
      "    \r\n",
      "    \u001b[34mreturn\u001b[39;49;00m words\r\n",
      "\r\n",
      "\u001b[34mdef\u001b[39;49;00m \u001b[32mconvert_and_pad\u001b[39;49;00m(word_dict, sentence, pad=\u001b[34m500\u001b[39;49;00m):\r\n",
      "    NOWORD = \u001b[34m0\u001b[39;49;00m \u001b[37m# We will use 0 to represent the 'no word' category\u001b[39;49;00m\r\n",
      "    INFREQ = \u001b[34m1\u001b[39;49;00m \u001b[37m# and we use 1 to represent the infrequent words, i.e., words not appearing in word_dict\u001b[39;49;00m\r\n",
      "    \r\n",
      "    working_sentence = [NOWORD] * pad\r\n",
      "    \r\n",
      "    \u001b[34mfor\u001b[39;49;00m word_index, word \u001b[35min\u001b[39;49;00m \u001b[36menumerate\u001b[39;49;00m(sentence[:pad]):\r\n",
      "        \u001b[34mif\u001b[39;49;00m word \u001b[35min\u001b[39;49;00m word_dict:\r\n",
      "            working_sentence[word_index] = word_dict[word]\r\n",
      "        \u001b[34melse\u001b[39;49;00m:\r\n",
      "            working_sentence[word_index] = INFREQ\r\n",
      "            \r\n",
      "    \u001b[34mreturn\u001b[39;49;00m working_sentence, \u001b[36mmin\u001b[39;49;00m(\u001b[36mlen\u001b[39;49;00m(sentence), pad)\r\n",
      "\r\n",
      "\u001b[34mdef\u001b[39;49;00m \u001b[32mconvert_and_pad_data\u001b[39;49;00m(word_dict, data, pad=\u001b[34m500\u001b[39;49;00m):\r\n",
      "    result = []\r\n",
      "    lengths = []\r\n",
      "    \r\n",
      "    \u001b[34mfor\u001b[39;49;00m sentence \u001b[35min\u001b[39;49;00m data:\r\n",
      "        converted, leng = convert_and_pad(word_dict, sentence, pad)\r\n",
      "        result.append(converted)\r\n",
      "        lengths.append(leng)\r\n",
      "        \r\n",
      "    \u001b[34mreturn\u001b[39;49;00m np.array(result), np.array(lengths)\r\n"
     ]
    }
   ],
   "source": [
    "!pygmentize serve/predict.py"
   ]
  },
  {
   "cell_type": "markdown",
   "metadata": {},
   "source": [
    "As mentioned earlier, the `model_fn` method is the same as the one provided in the training code and the `input_fn` and `output_fn` methods are very simple and your task will be to complete the `predict_fn` method. Make sure that you save the completed file as `predict.py` in the `serve` directory.\n",
    "\n",
    "**TODO**: Complete the `predict_fn()` method in the `serve/predict.py` file."
   ]
  },
  {
   "cell_type": "markdown",
   "metadata": {},
   "source": [
    "### Deploying the model\n",
    "\n",
    "Now that the custom inference code has been written, we will create and deploy our model. To begin with, we need to construct a new PyTorchModel object which points to the model artifacts created during training and also points to the inference code that we wish to use. Then we can call the deploy method to launch the deployment container.\n",
    "\n",
    "**NOTE**: The default behaviour for a deployed PyTorch model is to assume that any input passed to the predictor is a `numpy` array. In our case we want to send a string so we need to construct a simple wrapper around the `RealTimePredictor` class to accomodate simple strings. In a more complicated situation you may want to provide a serialization object, for example if you wanted to sent image data."
   ]
  },
  {
   "cell_type": "markdown",
   "metadata": {},
   "source": [
    "## Deploy the model for the web app"
   ]
  },
  {
   "cell_type": "code",
   "execution_count": 60,
   "metadata": {},
   "outputs": [
    {
     "name": "stdout",
     "output_type": "stream",
     "text": [
      "-----------------------------------------------------------------------------------------------------!"
     ]
    }
   ],
   "source": [
    "from sagemaker.predictor import RealTimePredictor\n",
    "from sagemaker.pytorch import PyTorchModel\n",
    "\n",
    "class StringPredictor(RealTimePredictor):\n",
    "    def __init__(self, endpoint_name, sagemaker_session):\n",
    "        super(StringPredictor, self).__init__(endpoint_name, sagemaker_session, content_type='text/plain')\n",
    "\n",
    "model = PyTorchModel(model_data=estimator.model_data,\n",
    "                     role = role,\n",
    "                     framework_version='0.4.0',\n",
    "                     entry_point='predict.py',\n",
    "                     source_dir='serve',\n",
    "                     predictor_cls=StringPredictor)\n",
    "predictor = model.deploy(initial_instance_count=1, instance_type='ml.m4.xlarge')"
   ]
  },
  {
   "cell_type": "markdown",
   "metadata": {},
   "source": [
    "### Testing the model\n",
    "\n",
    "Now that we have deployed our model with the custom inference code, we should test to see if everything is working. Here we test our model by loading the first `250` positive and negative reviews and send them to the endpoint, then collect the results. The reason for only sending some of the data is that the amount of time it takes for our model to process the input and then perform inference is quite long and so testing the entire data set would be prohibitive."
   ]
  },
  {
   "cell_type": "code",
   "execution_count": 61,
   "metadata": {},
   "outputs": [],
   "source": [
    "import glob\n",
    "\n",
    "def test_reviews(data_dir='../data/aclImdb', stop=250):\n",
    "    \n",
    "    results = []\n",
    "    ground = []\n",
    "    \n",
    "    # We make sure to test both positive and negative reviews    \n",
    "    for sentiment in ['pos', 'neg']:\n",
    "        \n",
    "        path = os.path.join(data_dir, 'test', sentiment, '*.txt')\n",
    "        files = glob.glob(path)\n",
    "        \n",
    "        files_read = 0\n",
    "        \n",
    "        print('Starting ', sentiment, ' files')\n",
    "        \n",
    "        # Iterate through the files and send them to the predictor\n",
    "        for f in files:\n",
    "            with open(f) as review:\n",
    "                # First, we store the ground truth (was the review positive or negative)\n",
    "                if sentiment == 'pos':\n",
    "                    ground.append(1)\n",
    "                else:\n",
    "                    ground.append(0)\n",
    "                # Read in the review and convert to 'utf-8' for transmission via HTTP\n",
    "                review_input = review.read().encode('utf-8')\n",
    "                # Send the review to the predictor and store the results\n",
    "                result_s = predictor.predict(review_input).decode('UTF-8')\n",
    "                result_s = int(float(result_s))\n",
    "                # review_input = int.from_bytes(review_input, byteorder='big', signed=True)\n",
    "                # print(result_s)\n",
    "                results.append(result_s)\n",
    "                \n",
    "            # Sending reviews to our endpoint one at a time takes a while so we\n",
    "            # only send a small number of reviews\n",
    "            files_read += 1\n",
    "            if files_read == stop:\n",
    "                break\n",
    "            \n",
    "    return ground, results"
   ]
  },
  {
   "cell_type": "code",
   "execution_count": 62,
   "metadata": {
    "scrolled": true
   },
   "outputs": [
    {
     "name": "stdout",
     "output_type": "stream",
     "text": [
      "Starting  pos  files\n"
     ]
    },
    {
     "ename": "ModelError",
     "evalue": "An error occurred (ModelError) when calling the InvokeEndpoint operation: Received server error (500) from model with message \"<!DOCTYPE HTML PUBLIC \"-//W3C//DTD HTML 3.2 Final//EN\">\n<title>500 Internal Server Error</title>\n<h1>Internal Server Error</h1>\n<p>The server encountered an internal error and was unable to complete your request.  Either the server is overloaded or there is an error in the application.</p>\n\". See https://us-east-2.console.aws.amazon.com/cloudwatch/home?region=us-east-2#logEventViewer:group=/aws/sagemaker/Endpoints/sagemaker-pytorch-2019-08-06-22-35-16-677 in account 952007629372 for more information.",
     "output_type": "error",
     "traceback": [
      "\u001b[0;31m---------------------------------------------------------------------------\u001b[0m",
      "\u001b[0;31mModelError\u001b[0m                                Traceback (most recent call last)",
      "\u001b[0;32m<ipython-input-62-27d1fd4b7c7b>\u001b[0m in \u001b[0;36m<module>\u001b[0;34m()\u001b[0m\n\u001b[0;32m----> 1\u001b[0;31m \u001b[0mground\u001b[0m\u001b[0;34m,\u001b[0m \u001b[0mresults\u001b[0m \u001b[0;34m=\u001b[0m \u001b[0mtest_reviews\u001b[0m\u001b[0;34m(\u001b[0m\u001b[0;34m)\u001b[0m\u001b[0;34m\u001b[0m\u001b[0m\n\u001b[0m",
      "\u001b[0;32m<ipython-input-61-0a82bfe711ea>\u001b[0m in \u001b[0;36mtest_reviews\u001b[0;34m(data_dir, stop)\u001b[0m\n\u001b[1;32m     27\u001b[0m                 \u001b[0mreview_input\u001b[0m \u001b[0;34m=\u001b[0m \u001b[0mreview\u001b[0m\u001b[0;34m.\u001b[0m\u001b[0mread\u001b[0m\u001b[0;34m(\u001b[0m\u001b[0;34m)\u001b[0m\u001b[0;34m.\u001b[0m\u001b[0mencode\u001b[0m\u001b[0;34m(\u001b[0m\u001b[0;34m'utf-8'\u001b[0m\u001b[0;34m)\u001b[0m\u001b[0;34m\u001b[0m\u001b[0m\n\u001b[1;32m     28\u001b[0m                 \u001b[0;31m# Send the review to the predictor and store the results\u001b[0m\u001b[0;34m\u001b[0m\u001b[0;34m\u001b[0m\u001b[0m\n\u001b[0;32m---> 29\u001b[0;31m                 \u001b[0mresult_s\u001b[0m \u001b[0;34m=\u001b[0m \u001b[0mpredictor\u001b[0m\u001b[0;34m.\u001b[0m\u001b[0mpredict\u001b[0m\u001b[0;34m(\u001b[0m\u001b[0mreview_input\u001b[0m\u001b[0;34m)\u001b[0m\u001b[0;34m.\u001b[0m\u001b[0mdecode\u001b[0m\u001b[0;34m(\u001b[0m\u001b[0;34m'UTF-8'\u001b[0m\u001b[0;34m)\u001b[0m\u001b[0;34m\u001b[0m\u001b[0m\n\u001b[0m\u001b[1;32m     30\u001b[0m                 \u001b[0mresult_s\u001b[0m \u001b[0;34m=\u001b[0m \u001b[0mint\u001b[0m\u001b[0;34m(\u001b[0m\u001b[0mfloat\u001b[0m\u001b[0;34m(\u001b[0m\u001b[0mresult_s\u001b[0m\u001b[0;34m)\u001b[0m\u001b[0;34m)\u001b[0m\u001b[0;34m\u001b[0m\u001b[0m\n\u001b[1;32m     31\u001b[0m                 \u001b[0;31m# review_input = int.from_bytes(review_input, byteorder='big', signed=True)\u001b[0m\u001b[0;34m\u001b[0m\u001b[0;34m\u001b[0m\u001b[0m\n",
      "\u001b[0;32m~/anaconda3/envs/amazonei_mxnet_p36/lib/python3.6/site-packages/sagemaker/predictor.py\u001b[0m in \u001b[0;36mpredict\u001b[0;34m(self, data, initial_args)\u001b[0m\n\u001b[1;32m     97\u001b[0m \u001b[0;34m\u001b[0m\u001b[0m\n\u001b[1;32m     98\u001b[0m         \u001b[0mrequest_args\u001b[0m \u001b[0;34m=\u001b[0m \u001b[0mself\u001b[0m\u001b[0;34m.\u001b[0m\u001b[0m_create_request_args\u001b[0m\u001b[0;34m(\u001b[0m\u001b[0mdata\u001b[0m\u001b[0;34m,\u001b[0m \u001b[0minitial_args\u001b[0m\u001b[0;34m)\u001b[0m\u001b[0;34m\u001b[0m\u001b[0m\n\u001b[0;32m---> 99\u001b[0;31m         \u001b[0mresponse\u001b[0m \u001b[0;34m=\u001b[0m \u001b[0mself\u001b[0m\u001b[0;34m.\u001b[0m\u001b[0msagemaker_session\u001b[0m\u001b[0;34m.\u001b[0m\u001b[0msagemaker_runtime_client\u001b[0m\u001b[0;34m.\u001b[0m\u001b[0minvoke_endpoint\u001b[0m\u001b[0;34m(\u001b[0m\u001b[0;34m**\u001b[0m\u001b[0mrequest_args\u001b[0m\u001b[0;34m)\u001b[0m\u001b[0;34m\u001b[0m\u001b[0m\n\u001b[0m\u001b[1;32m    100\u001b[0m         \u001b[0;32mreturn\u001b[0m \u001b[0mself\u001b[0m\u001b[0;34m.\u001b[0m\u001b[0m_handle_response\u001b[0m\u001b[0;34m(\u001b[0m\u001b[0mresponse\u001b[0m\u001b[0;34m)\u001b[0m\u001b[0;34m\u001b[0m\u001b[0m\n\u001b[1;32m    101\u001b[0m \u001b[0;34m\u001b[0m\u001b[0m\n",
      "\u001b[0;32m~/anaconda3/envs/amazonei_mxnet_p36/lib/python3.6/site-packages/botocore/client.py\u001b[0m in \u001b[0;36m_api_call\u001b[0;34m(self, *args, **kwargs)\u001b[0m\n\u001b[1;32m    355\u001b[0m                     \"%s() only accepts keyword arguments.\" % py_operation_name)\n\u001b[1;32m    356\u001b[0m             \u001b[0;31m# The \"self\" in this scope is referring to the BaseClient.\u001b[0m\u001b[0;34m\u001b[0m\u001b[0;34m\u001b[0m\u001b[0m\n\u001b[0;32m--> 357\u001b[0;31m             \u001b[0;32mreturn\u001b[0m \u001b[0mself\u001b[0m\u001b[0;34m.\u001b[0m\u001b[0m_make_api_call\u001b[0m\u001b[0;34m(\u001b[0m\u001b[0moperation_name\u001b[0m\u001b[0;34m,\u001b[0m \u001b[0mkwargs\u001b[0m\u001b[0;34m)\u001b[0m\u001b[0;34m\u001b[0m\u001b[0m\n\u001b[0m\u001b[1;32m    358\u001b[0m \u001b[0;34m\u001b[0m\u001b[0m\n\u001b[1;32m    359\u001b[0m         \u001b[0m_api_call\u001b[0m\u001b[0;34m.\u001b[0m\u001b[0m__name__\u001b[0m \u001b[0;34m=\u001b[0m \u001b[0mstr\u001b[0m\u001b[0;34m(\u001b[0m\u001b[0mpy_operation_name\u001b[0m\u001b[0;34m)\u001b[0m\u001b[0;34m\u001b[0m\u001b[0m\n",
      "\u001b[0;32m~/anaconda3/envs/amazonei_mxnet_p36/lib/python3.6/site-packages/botocore/client.py\u001b[0m in \u001b[0;36m_make_api_call\u001b[0;34m(self, operation_name, api_params)\u001b[0m\n\u001b[1;32m    659\u001b[0m             \u001b[0merror_code\u001b[0m \u001b[0;34m=\u001b[0m \u001b[0mparsed_response\u001b[0m\u001b[0;34m.\u001b[0m\u001b[0mget\u001b[0m\u001b[0;34m(\u001b[0m\u001b[0;34m\"Error\"\u001b[0m\u001b[0;34m,\u001b[0m \u001b[0;34m{\u001b[0m\u001b[0;34m}\u001b[0m\u001b[0;34m)\u001b[0m\u001b[0;34m.\u001b[0m\u001b[0mget\u001b[0m\u001b[0;34m(\u001b[0m\u001b[0;34m\"Code\"\u001b[0m\u001b[0;34m)\u001b[0m\u001b[0;34m\u001b[0m\u001b[0m\n\u001b[1;32m    660\u001b[0m             \u001b[0merror_class\u001b[0m \u001b[0;34m=\u001b[0m \u001b[0mself\u001b[0m\u001b[0;34m.\u001b[0m\u001b[0mexceptions\u001b[0m\u001b[0;34m.\u001b[0m\u001b[0mfrom_code\u001b[0m\u001b[0;34m(\u001b[0m\u001b[0merror_code\u001b[0m\u001b[0;34m)\u001b[0m\u001b[0;34m\u001b[0m\u001b[0m\n\u001b[0;32m--> 661\u001b[0;31m             \u001b[0;32mraise\u001b[0m \u001b[0merror_class\u001b[0m\u001b[0;34m(\u001b[0m\u001b[0mparsed_response\u001b[0m\u001b[0;34m,\u001b[0m \u001b[0moperation_name\u001b[0m\u001b[0;34m)\u001b[0m\u001b[0;34m\u001b[0m\u001b[0m\n\u001b[0m\u001b[1;32m    662\u001b[0m         \u001b[0;32melse\u001b[0m\u001b[0;34m:\u001b[0m\u001b[0;34m\u001b[0m\u001b[0m\n\u001b[1;32m    663\u001b[0m             \u001b[0;32mreturn\u001b[0m \u001b[0mparsed_response\u001b[0m\u001b[0;34m\u001b[0m\u001b[0m\n",
      "\u001b[0;31mModelError\u001b[0m: An error occurred (ModelError) when calling the InvokeEndpoint operation: Received server error (500) from model with message \"<!DOCTYPE HTML PUBLIC \"-//W3C//DTD HTML 3.2 Final//EN\">\n<title>500 Internal Server Error</title>\n<h1>Internal Server Error</h1>\n<p>The server encountered an internal error and was unable to complete your request.  Either the server is overloaded or there is an error in the application.</p>\n\". See https://us-east-2.console.aws.amazon.com/cloudwatch/home?region=us-east-2#logEventViewer:group=/aws/sagemaker/Endpoints/sagemaker-pytorch-2019-08-06-22-35-16-677 in account 952007629372 for more information."
     ]
    }
   ],
   "source": [
    "ground, results = test_reviews()"
   ]
  },
  {
   "cell_type": "code",
   "execution_count": null,
   "metadata": {},
   "outputs": [],
   "source": [
    "out = torch.tensor(0.55)\n",
    "result = np.round(out.item(),0)\n",
    "\n",
    "print(result)"
   ]
  },
  {
   "cell_type": "code",
   "execution_count": null,
   "metadata": {},
   "outputs": [],
   "source": [
    "from sklearn.metrics import accuracy_score\n",
    "accuracy_score(ground, results)"
   ]
  },
  {
   "cell_type": "markdown",
   "metadata": {},
   "source": [
    "As an additional test, we can try sending the `test_review` that we looked at earlier."
   ]
  },
  {
   "cell_type": "code",
   "execution_count": null,
   "metadata": {},
   "outputs": [],
   "source": [
    "test_review = 'The simplest pleasures in life are the best, and this film is one of them. Combining a rather basic storyline of love and adventure this movie transcends the usual weekend fair with wit and unmitigated charm.'\n",
    "predictor.predict(test_review).decode('UTF-8')"
   ]
  },
  {
   "cell_type": "markdown",
   "metadata": {},
   "source": [
    "Now that we know our endpoint is working as expected, we can set up the web page that will interact with it. If you don't have time to finish the project now, make sure to skip down to the end of this notebook and shut down your endpoint. You can deploy it again when you come back."
   ]
  },
  {
   "cell_type": "markdown",
   "metadata": {},
   "source": [
    "## Step 7 (again): Use the model for the web app\n",
    "\n",
    "> **TODO:** This entire section and the next contain tasks for you to complete, mostly using the AWS console.\n",
    "\n",
    "So far we have been accessing our model endpoint by constructing a predictor object which uses the endpoint and then just using the predictor object to perform inference. What if we wanted to create a web app which accessed our model? The way things are set up currently makes that not possible since in order to access a SageMaker endpoint the app would first have to authenticate with AWS using an IAM role which included access to SageMaker endpoints. However, there is an easier way! We just need to use some additional AWS services.\n",
    "\n",
    "<img src=\"Web App Diagram.svg\">\n",
    "\n",
    "The diagram above gives an overview of how the various services will work together. On the far right is the model which we trained above and which is deployed using SageMaker. On the far left is our web app that collects a user's movie review, sends it off and expects a positive or negative sentiment in return.\n",
    "\n",
    "In the middle is where some of the magic happens. We will construct a Lambda function, which you can think of as a straightforward Python function that can be executed whenever a specified event occurs. We will give this function permission to send and recieve data from a SageMaker endpoint.\n",
    "\n",
    "Lastly, the method we will use to execute the Lambda function is a new endpoint that we will create using API Gateway. This endpoint will be a url that listens for data to be sent to it. Once it gets some data it will pass that data on to the Lambda function and then return whatever the Lambda function returns. Essentially it will act as an interface that lets our web app communicate with the Lambda function.\n",
    "\n",
    "### Setting up a Lambda function\n",
    "\n",
    "The first thing we are going to do is set up a Lambda function. This Lambda function will be executed whenever our public API has data sent to it. When it is executed it will receive the data, perform any sort of processing that is required, send the data (the review) to the SageMaker endpoint we've created and then return the result.\n",
    "\n",
    "#### Part A: Create an IAM Role for the Lambda function\n",
    "\n",
    "Since we want the Lambda function to call a SageMaker endpoint, we need to make sure that it has permission to do so. To do this, we will construct a role that we can later give the Lambda function.\n",
    "\n",
    "Using the AWS Console, navigate to the **IAM** page and click on **Roles**. Then, click on **Create role**. Make sure that the **AWS service** is the type of trusted entity selected and choose **Lambda** as the service that will use this role, then click **Next: Permissions**.\n",
    "\n",
    "In the search box type `sagemaker` and select the check box next to the **AmazonSageMakerFullAccess** policy. Then, click on **Next: Review**.\n",
    "\n",
    "Lastly, give this role a name. Make sure you use a name that you will remember later on, for example `LambdaSageMakerRole`. Then, click on **Create role**.\n",
    "\n",
    "#### Part B: Create a Lambda function\n",
    "\n",
    "Now it is time to actually create the Lambda function.\n",
    "\n",
    "Using the AWS Console, navigate to the AWS Lambda page and click on **Create a function**. When you get to the next page, make sure that **Author from scratch** is selected. Now, name your Lambda function, using a name that you will remember later on, for example `sentiment_analysis_func`. Make sure that the **Python 3.6** runtime is selected and then choose the role that you created in the previous part. Then, click on **Create Function**.\n",
    "\n",
    "On the next page you will see some information about the Lambda function you've just created. If you scroll down you should see an editor in which you can write the code that will be executed when your Lambda function is triggered. In our example, we will use the code below. \n",
    "\n",
    "```python\n",
    "# We need to use the low-level library to interact with SageMaker since the SageMaker API\n",
    "# is not available natively through Lambda.\n",
    "import boto3\n",
    "\n",
    "def lambda_handler(event, context):\n",
    "\n",
    "    # The SageMaker runtime is what allows us to invoke the endpoint that we've created.\n",
    "    runtime = boto3.Session().client('sagemaker-runtime')\n",
    "\n",
    "    # Now we use the SageMaker runtime to invoke our endpoint, sending the review we were given\n",
    "    response = runtime.invoke_endpoint(EndpointName = '**ENDPOINT NAME HERE**',    # The name of the endpoint we created\n",
    "                                       ContentType = 'text/plain',                 # The data format that is expected\n",
    "                                       Body = event['body'])                       # The actual review\n",
    "\n",
    "    # The response is an HTTP response whose body contains the result of our inference\n",
    "    result = response['Body'].read().decode('utf-8')\n",
    "\n",
    "    return {\n",
    "        'statusCode' : 200,\n",
    "        'headers' : { 'Content-Type' : 'text/plain', 'Access-Control-Allow-Origin' : '*' },\n",
    "        'body' : result\n",
    "    }\n",
    "```\n",
    "\n",
    "Once you have copy and pasted the code above into the Lambda code editor, replace the `**ENDPOINT NAME HERE**` portion with the name of the endpoint that we deployed earlier. You can determine the name of the endpoint using the code cell below."
   ]
  },
  {
   "cell_type": "code",
   "execution_count": null,
   "metadata": {},
   "outputs": [],
   "source": [
    "# We need to use the low-level library to interact with SageMaker since the SageMaker API\n",
    "# is not available natively through Lambda.\n",
    "import json\n",
    "import boto3\n",
    "\n",
    "def lambda_handler(event, context):\n",
    "\n",
    "    # The SageMaker runtime is what allows us to invoke the endpoint that we've created.\n",
    "    runtime = boto3.Session().client('sagemaker-runtime')\n",
    "\n",
    "    # Now we use the SageMaker runtime to invoke our endpoint, sending the review we were given\n",
    "    response = runtime.invoke_endpoint(EndpointName = 'sagemaker-pytorch-2019-02-20-17-49-05-967',    # The name of the endpoint we created\n",
    "                                       ContentType = 'text/plain',                 # The data format that is expected\n",
    "                                       Body = event['body'])                       # The actual review\n",
    "\n",
    "    # The response is an HTTP response whose body contains the result of our inference\n",
    "    result = response['Body'].read().decode('utf-8')\n",
    "    result = int(float(result))\n",
    "\n",
    "    return {\n",
    "        'statusCode' : 200,\n",
    "        'headers' : { 'Content-Type' : 'text/plain', 'Access-Control-Allow-Origin' : '*' },\n",
    "        'body' : result\n",
    "    }"
   ]
  },
  {
   "cell_type": "code",
   "execution_count": null,
   "metadata": {},
   "outputs": [],
   "source": [
    "predictor.endpoint"
   ]
  },
  {
   "cell_type": "markdown",
   "metadata": {},
   "source": [
    "Once you have added the endpoint name to the Lambda function, click on **Save**. Your Lambda function is now up and running. Next we need to create a way for our web app to execute the Lambda function.\n",
    "\n",
    "### Setting up API Gateway\n",
    "\n",
    "Now that our Lambda function is set up, it is time to create a new API using API Gateway that will trigger the Lambda function we have just created.\n",
    "\n",
    "Using AWS Console, navigate to **Amazon API Gateway** and then click on **Get started**.\n",
    "\n",
    "On the next page, make sure that **New API** is selected and give the new api a name, for example, `sentiment_analysis_api`. Then, click on **Create API**.\n",
    "\n",
    "Now we have created an API, however it doesn't currently do anything. What we want it to do is to trigger the Lambda function that we created earlier.\n",
    "\n",
    "Select the **Actions** dropdown menu and click **Create Method**. A new blank method will be created, select its dropdown menu and select **POST**, then click on the check mark beside it.\n",
    "\n",
    "For the integration point, make sure that **Lambda Function** is selected and click on the **Use Lambda Proxy integration**. This option makes sure that the data that is sent to the API is then sent directly to the Lambda function with no processing. It also means that the return value must be a proper response object as it will also not be processed by API Gateway.\n",
    "\n",
    "Type the name of the Lambda function you created earlier into the **Lambda Function** text entry box and then click on **Save**. Click on **OK** in the pop-up box that then appears, giving permission to API Gateway to invoke the Lambda function you created.\n",
    "\n",
    "The last step in creating the API Gateway is to select the **Actions** dropdown and click on **Deploy API**. You will need to create a new Deployment stage and name it anything you like, for example `prod`.\n",
    "\n",
    "You have now successfully set up a public API to access your SageMaker model. Make sure to copy or write down the URL provided to invoke your newly created public API as this will be needed in the next step. This URL can be found at the top of the page, highlighted in blue next to the text **Invoke URL**."
   ]
  },
  {
   "cell_type": "markdown",
   "metadata": {},
   "source": [
    "## Step 4: Deploying our web app\n",
    "\n",
    "Now that we have a publicly available API, we can start using it in a web app. For our purposes, we have provided a simple static html file which can make use of the public api you created earlier.\n",
    "\n",
    "In the `website` folder there should be a file called `index.html`. Download the file to your computer and open that file up in a text editor of your choice. There should be a line which contains **\\*\\*REPLACE WITH PUBLIC API URL\\*\\***. Replace this string with the url that you wrote down in the last step and then save the file.\n",
    "\n",
    "Now, if you open `index.html` on your local computer, your browser will behave as a local web server and you can use the provided site to interact with your SageMaker model.\n",
    "\n",
    "If you'd like to go further, you can host this html file anywhere you'd like, for example using github or hosting a static site on Amazon's S3. Once you have done this you can share the link with anyone you'd like and have them play with it too!\n",
    "\n",
    "> **Important Note** In order for the web app to communicate with the SageMaker endpoint, the endpoint has to actually be deployed and running. This means that you are paying for it. Make sure that the endpoint is running when you want to use the web app but that you shut it down when you don't need it, otherwise you will end up with a surprisingly large AWS bill.\n",
    "\n",
    "**TODO:** Make sure that you include the edited `index.html` file in your project submission."
   ]
  },
  {
   "cell_type": "markdown",
   "metadata": {},
   "source": [
    "Now that your web app is working, trying playing around with it and see how well it works.\n",
    "\n",
    "**Question**: Give an example of a review that you entered into your web app. What was the predicted sentiment of your example review?\n",
    "\n",
    "I took some reviews in rottentomatoes for \"THE LEGO MOVIE 2\"\n",
    "\n",
    "Critic: For shockingly long stretches, this new Lego Movie is more of an ungainly, plodding jumble than a functional film.\n",
    "\n",
    "result: Your review was NEGATIVE\n",
    "\n",
    "Critic: Like the plastic bricks themselves, these movies are as much fun for adults as for kids\n",
    "\n",
    "result: Your review was POSITIVE\n",
    "\n",
    "Critic: Not only are things no longer \"awesome,\" they're all the way down to just \"meh.\"\n",
    "\n",
    "result: Your review was NEGATIVE\n",
    "\n",
    "Critic: Some secret ingredient is missing from this Lego Movie's attempt to recapture the spirit of the original.\n",
    "\n",
    "result: Your review was NEGATIVE\n",
    "\n",
    "Critic: Emmet is still a sweet, adorably goofy hero who never quite has what it takes, and Banks is brilliant as Lucy, the real brains and brawn of the operation who grows increasingly frustrated with her friend's relentless optimism.\n",
    "\n",
    "result: Your review was POSITIVE\n"
   ]
  },
  {
   "cell_type": "code",
   "execution_count": null,
   "metadata": {},
   "outputs": [],
   "source": [
    "predictor.delete_endpoint()"
   ]
  }
 ],
 "metadata": {
  "kernelspec": {
   "display_name": "conda_amazonei_mxnet_p36",
   "language": "python",
   "name": "conda_amazonei_mxnet_p36"
  },
  "language_info": {
   "codemirror_mode": {
    "name": "ipython",
    "version": 3
   },
   "file_extension": ".py",
   "mimetype": "text/x-python",
   "name": "python",
   "nbconvert_exporter": "python",
   "pygments_lexer": "ipython3",
   "version": "3.6.5"
  }
 },
 "nbformat": 4,
 "nbformat_minor": 2
}
