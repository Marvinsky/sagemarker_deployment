{
 "cells": [
  {
   "cell_type": "markdown",
   "metadata": {},
   "source": [
    "## Sentiment Analysis using Recurrent Neural Network"
   ]
  },
  {
   "cell_type": "markdown",
   "metadata": {},
   "source": [
    "### Step 1: Downloading the data"
   ]
  },
  {
   "cell_type": "code",
   "execution_count": 17,
   "metadata": {},
   "outputs": [
    {
     "name": "stdout",
     "output_type": "stream",
     "text": [
      "mkdir: cannot create directory ‘../data’: File exists\n",
      "--2019-08-05 19:33:35--  http://ai.stanford.edu/~amaas/data/sentiment/aclImdb_v1.tar.gz\n",
      "Resolving ai.stanford.edu (ai.stanford.edu)... 171.64.68.10\n",
      "Connecting to ai.stanford.edu (ai.stanford.edu)|171.64.68.10|:80... connected.\n",
      "HTTP request sent, awaiting response... 200 OK\n",
      "Length: 84125825 (80M) [application/x-gzip]\n",
      "Saving to: ‘../data/aclImdb_v1.tar.gz’\n",
      "\n",
      "../data/aclImdb_v1. 100%[===================>]  80.23M  3.66MB/s    in 36s     \n",
      "\n",
      "2019-08-05 19:34:12 (2.20 MB/s) - ‘../data/aclImdb_v1.tar.gz’ saved [84125825/84125825]\n",
      "\n"
     ]
    }
   ],
   "source": [
    "\n",
    "%mkdir ../data\n",
    "!wget -O ../data/aclImdb_v1.tar.gz http://ai.stanford.edu/~amaas/data/sentiment/aclImdb_v1.tar.gz\n",
    "!tar -zxf ../data/aclImdb_v1.tar.gz -C ../data"
   ]
  },
  {
   "cell_type": "markdown",
   "metadata": {},
   "source": [
    "## Preparing and Processing Data"
   ]
  },
  {
   "cell_type": "markdown",
   "metadata": {},
   "source": [
    "### Step 2: Preparing and Processing the data"
   ]
  },
  {
   "cell_type": "code",
   "execution_count": 18,
   "metadata": {},
   "outputs": [],
   "source": [
    "import os\n",
    "import glob\n",
    "\n",
    "def read_imdb_data(data_dir='../data/aclImdb'):\n",
    "    data = {}\n",
    "    labels = {}\n",
    "    \n",
    "    for data_type in ['train', 'test']:\n",
    "        data[data_type] = {}\n",
    "        labels[data_type] = {}\n",
    "        \n",
    "        for sentiment in ['pos', 'neg']:\n",
    "            data[data_type][sentiment] = []\n",
    "            labels[data_type][sentiment] = []\n",
    "            \n",
    "            path = os.path.join(data_dir, data_type, sentiment, '*.txt')\n",
    "            files = glob.glob(path)\n",
    "            \n",
    "            for f in files:\n",
    "                with open(f) as review:\n",
    "                    data[data_type][sentiment].append(review.read())\n",
    "                    # Here we represent a positive review by '1' and a negative review by '0'\n",
    "                    labels[data_type][sentiment].append(1 if sentiment == 'pos' else 0)\n",
    "                    \n",
    "            assert len(data[data_type][sentiment]) == len(labels[data_type][sentiment]), \\\n",
    "                    \"{}/{} data size does not match labels size\".format(data_type, sentiment)\n",
    "                \n",
    "    return data, labels"
   ]
  },
  {
   "cell_type": "code",
   "execution_count": 19,
   "metadata": {},
   "outputs": [
    {
     "name": "stdout",
     "output_type": "stream",
     "text": [
      "IMDB reviews: train = 12500 pos / 12500 neg, test = 12500 pos / 12500 neg\n"
     ]
    }
   ],
   "source": [
    "data, labels = read_imdb_data()\n",
    "print(\"IMDB reviews: train = {} pos / {} neg, test = {} pos / {} neg\".format(\n",
    "            len(data['train']['pos']), len(data['train']['neg']),\n",
    "            len(data['test']['pos']), len(data['test']['neg'])))"
   ]
  },
  {
   "cell_type": "code",
   "execution_count": 20,
   "metadata": {},
   "outputs": [],
   "source": [
    "from sklearn.utils import shuffle\n",
    "\n",
    "def prepare_imdb_data(data, labels):\n",
    "    \"\"\"Prepare training and test sets from IMDb movie reviews.\"\"\"\n",
    "    \n",
    "    #Combine positive and negative reviews and labels\n",
    "    data_train = data['train']['pos'] + data['train']['neg']\n",
    "    data_test = data['test']['pos'] + data['test']['neg']\n",
    "    labels_train = labels['train']['pos'] + labels['train']['neg']\n",
    "    labels_test = labels['test']['pos'] + labels['test']['neg']\n",
    "    \n",
    "    #Shuffle reviews and corresponding labels within training and test sets\n",
    "    data_train, labels_train = shuffle(data_train, labels_train)\n",
    "    data_test, labels_test = shuffle(data_test, labels_test)\n",
    "    \n",
    "    # Return a unified training data, test data, training labels, test labets\n",
    "    return data_train, data_test, labels_train, labels_test"
   ]
  },
  {
   "cell_type": "code",
   "execution_count": 21,
   "metadata": {},
   "outputs": [
    {
     "name": "stdout",
     "output_type": "stream",
     "text": [
      "IMDb reviews (combined): train = 25000, test = 25000\n"
     ]
    }
   ],
   "source": [
    "train_X, test_X, train_y, test_y = prepare_imdb_data(data, labels)\n",
    "print(\"IMDb reviews (combined): train = {}, test = {}\".format(len(train_X), len(test_X)))"
   ]
  },
  {
   "cell_type": "code",
   "execution_count": 22,
   "metadata": {},
   "outputs": [
    {
     "name": "stdout",
     "output_type": "stream",
     "text": [
      "i really did not watch this show as often when i was a child but the first episode i remember ever seeing is the episode where Kimmy Gibbler pierced Stephanie ears. when i started high school back in 2000. i had problems all through out high school and i'd rather not get into that. but i used to always watch saved by the bell but that show really reminded me of the problems i faced at school, and it rarely showed the kids parents. saved by the bell is okay, but not a good family show. a few days after i graduated high school in 2004. i turned the TV to the family channel and day after day i got addicted to full house. i could even push the info button and see the year it came out and i would remember what i was doing during that time period. the episode was about to come on and it was titled \"birthday blues\" and to this day it is most favorite episode, it's sad, with a happy ending, and you see Kimmy Gibbler in a way she doesn't act in other episodes, she actually shows her serious side. i have seasons 1,2,3,4,5, and 6 on DVD and i am waiting for 7 and 8. i wished somehow they could have a documentary and some commentaries from the cast members. i don't why some people have a hatred for this show because you don't see trash and violence on this show. and for those who hate this show, i pray for you because you might have grown up in a dysfunctional family where there was no love. but full house in my opinion is a family living in heaven where everyone is happy and good things always happen. and the characters are so awesome. Danny Tanner reminds me of my mother and grandmother. Joey is good natured and is always in a good mood. when i was a child i used to be just like Jesse and he is the first actor on TV as a guy that is so obsessed with hair. somehow you can actually tell that DJ is a California girl. i really like the episodes with Kimmy Gibbler because she always makes me smile and brightens my day when i watch her. and Stephanie is so cool. also i have a hard time telling the Olsen twins apart. i want my kids to watch it one day. but full house is my #1 favorite show and Sabrina the teenage witch is my #2 favorite. one day, sometime before i die, i would really like to meet all the cast of full house in person. the first 3 seasons are kinda boring but they start getting better in the 4th season. i just wished they could have made a 9th season. they stopped making full house in 1995 and in the fall of 1996 Sabrina the teenage witch came out (which is a similar family show)but full house is a very loving show and they have their good times and bad times, and yes, i understand, if your a wild trashy type person your going to hate this show but this is a show for happiness and it is also moral show. also i would like to say that the first 3 seasons is good kid shows but around the 4th and 5th seasons DJ and Stephanie become teenagers. also i noticed, not only with full house but a lot of shows, they never talk about the problems in the world and politics, like when full house was on the air during the gulf war in 1991 and during the time of the Oklahoma City bombing in 1995, they never mention anything about it. also steve was my favorite DJ's boyfriend, the ones with viper and nelson were'nt very interesting. but season 5 and 6 i think are the best. i just wished they would have made a 9th season because, it left a big question mark in my head, because on the last episode in the last minute, dj gets a surprise and goes to her prom with her ex boyfriend steve, i always wondered if they got back together. and i liked how in the final seasons, DJ was always the responisible one and stephanie was always wanting to do something daring, like in the episode \"stephanie's wild ride\"\n",
      "1\n"
     ]
    }
   ],
   "source": [
    "print(train_X[100])\n",
    "print(train_y[100])"
   ]
  },
  {
   "cell_type": "code",
   "execution_count": 23,
   "metadata": {},
   "outputs": [],
   "source": [
    "import nltk\n",
    "from nltk.corpus import stopwords\n",
    "from nltk.stem.porter import *\n",
    "\n",
    "import re\n",
    "from bs4 import BeautifulSoup\n",
    "\n",
    "def review_to_words(review):\n",
    "    nltk.download(\"stopwords\", quiet=True)\n",
    "    stemmer = PorterStemmer()\n",
    "    \n",
    "    text = BeautifulSoup(review, \"html.parser\").get_text() # Remove HTML tags\n",
    "    text = re.sub(r\"[^a-zA-Z0-9]\", \" \", text.lower()) # Convert to lower case\n",
    "    words = text.split() # Split string into words\n",
    "    words = [w for w in words if w not in stopwords.words(\"english\")] # Remove stopwords\n",
    "    words = [PorterStemmer().stem(w) for w in words] # stem\n",
    "    \n",
    "    return words"
   ]
  },
  {
   "cell_type": "markdown",
   "metadata": {},
   "source": [
    "### Question: What does review_to_words do?\n",
    "\n",
    "The review_to_words method defined above uses BeautifulSoup to remove any html tags that appear and uses the nltk package to tokenize the reviews. As a check to ensure we know how everything is working, try applying review_to_words to one of the reviews in the training set."
   ]
  },
  {
   "cell_type": "code",
   "execution_count": 24,
   "metadata": {},
   "outputs": [
    {
     "data": {
      "text/plain": [
       "['realli',\n",
       " 'watch',\n",
       " 'show',\n",
       " 'often',\n",
       " 'child',\n",
       " 'first',\n",
       " 'episod',\n",
       " 'rememb',\n",
       " 'ever',\n",
       " 'see',\n",
       " 'episod',\n",
       " 'kimmi',\n",
       " 'gibbler',\n",
       " 'pierc',\n",
       " 'stephani',\n",
       " 'ear',\n",
       " 'start',\n",
       " 'high',\n",
       " 'school',\n",
       " 'back',\n",
       " '2000',\n",
       " 'problem',\n",
       " 'high',\n",
       " 'school',\n",
       " 'rather',\n",
       " 'get',\n",
       " 'use',\n",
       " 'alway',\n",
       " 'watch',\n",
       " 'save',\n",
       " 'bell',\n",
       " 'show',\n",
       " 'realli',\n",
       " 'remind',\n",
       " 'problem',\n",
       " 'face',\n",
       " 'school',\n",
       " 'rare',\n",
       " 'show',\n",
       " 'kid',\n",
       " 'parent',\n",
       " 'save',\n",
       " 'bell',\n",
       " 'okay',\n",
       " 'good',\n",
       " 'famili',\n",
       " 'show',\n",
       " 'day',\n",
       " 'graduat',\n",
       " 'high',\n",
       " 'school',\n",
       " '2004',\n",
       " 'turn',\n",
       " 'tv',\n",
       " 'famili',\n",
       " 'channel',\n",
       " 'day',\n",
       " 'day',\n",
       " 'got',\n",
       " 'addict',\n",
       " 'full',\n",
       " 'hous',\n",
       " 'could',\n",
       " 'even',\n",
       " 'push',\n",
       " 'info',\n",
       " 'button',\n",
       " 'see',\n",
       " 'year',\n",
       " 'came',\n",
       " 'would',\n",
       " 'rememb',\n",
       " 'time',\n",
       " 'period',\n",
       " 'episod',\n",
       " 'come',\n",
       " 'titl',\n",
       " 'birthday',\n",
       " 'blue',\n",
       " 'day',\n",
       " 'favorit',\n",
       " 'episod',\n",
       " 'sad',\n",
       " 'happi',\n",
       " 'end',\n",
       " 'see',\n",
       " 'kimmi',\n",
       " 'gibbler',\n",
       " 'way',\n",
       " 'act',\n",
       " 'episod',\n",
       " 'actual',\n",
       " 'show',\n",
       " 'seriou',\n",
       " 'side',\n",
       " 'season',\n",
       " '1',\n",
       " '2',\n",
       " '3',\n",
       " '4',\n",
       " '5',\n",
       " '6',\n",
       " 'dvd',\n",
       " 'wait',\n",
       " '7',\n",
       " '8',\n",
       " 'wish',\n",
       " 'somehow',\n",
       " 'could',\n",
       " 'documentari',\n",
       " 'commentari',\n",
       " 'cast',\n",
       " 'member',\n",
       " 'peopl',\n",
       " 'hatr',\n",
       " 'show',\n",
       " 'see',\n",
       " 'trash',\n",
       " 'violenc',\n",
       " 'show',\n",
       " 'hate',\n",
       " 'show',\n",
       " 'pray',\n",
       " 'might',\n",
       " 'grown',\n",
       " 'dysfunct',\n",
       " 'famili',\n",
       " 'love',\n",
       " 'full',\n",
       " 'hous',\n",
       " 'opinion',\n",
       " 'famili',\n",
       " 'live',\n",
       " 'heaven',\n",
       " 'everyon',\n",
       " 'happi',\n",
       " 'good',\n",
       " 'thing',\n",
       " 'alway',\n",
       " 'happen',\n",
       " 'charact',\n",
       " 'awesom',\n",
       " 'danni',\n",
       " 'tanner',\n",
       " 'remind',\n",
       " 'mother',\n",
       " 'grandmoth',\n",
       " 'joey',\n",
       " 'good',\n",
       " 'natur',\n",
       " 'alway',\n",
       " 'good',\n",
       " 'mood',\n",
       " 'child',\n",
       " 'use',\n",
       " 'like',\n",
       " 'jess',\n",
       " 'first',\n",
       " 'actor',\n",
       " 'tv',\n",
       " 'guy',\n",
       " 'obsess',\n",
       " 'hair',\n",
       " 'somehow',\n",
       " 'actual',\n",
       " 'tell',\n",
       " 'dj',\n",
       " 'california',\n",
       " 'girl',\n",
       " 'realli',\n",
       " 'like',\n",
       " 'episod',\n",
       " 'kimmi',\n",
       " 'gibbler',\n",
       " 'alway',\n",
       " 'make',\n",
       " 'smile',\n",
       " 'brighten',\n",
       " 'day',\n",
       " 'watch',\n",
       " 'stephani',\n",
       " 'cool',\n",
       " 'also',\n",
       " 'hard',\n",
       " 'time',\n",
       " 'tell',\n",
       " 'olsen',\n",
       " 'twin',\n",
       " 'apart',\n",
       " 'want',\n",
       " 'kid',\n",
       " 'watch',\n",
       " 'one',\n",
       " 'day',\n",
       " 'full',\n",
       " 'hous',\n",
       " '1',\n",
       " 'favorit',\n",
       " 'show',\n",
       " 'sabrina',\n",
       " 'teenag',\n",
       " 'witch',\n",
       " '2',\n",
       " 'favorit',\n",
       " 'one',\n",
       " 'day',\n",
       " 'sometim',\n",
       " 'die',\n",
       " 'would',\n",
       " 'realli',\n",
       " 'like',\n",
       " 'meet',\n",
       " 'cast',\n",
       " 'full',\n",
       " 'hous',\n",
       " 'person',\n",
       " 'first',\n",
       " '3',\n",
       " 'season',\n",
       " 'kinda',\n",
       " 'bore',\n",
       " 'start',\n",
       " 'get',\n",
       " 'better',\n",
       " '4th',\n",
       " 'season',\n",
       " 'wish',\n",
       " 'could',\n",
       " 'made',\n",
       " '9th',\n",
       " 'season',\n",
       " 'stop',\n",
       " 'make',\n",
       " 'full',\n",
       " 'hous',\n",
       " '1995',\n",
       " 'fall',\n",
       " '1996',\n",
       " 'sabrina',\n",
       " 'teenag',\n",
       " 'witch',\n",
       " 'came',\n",
       " 'similar',\n",
       " 'famili',\n",
       " 'show',\n",
       " 'full',\n",
       " 'hous',\n",
       " 'love',\n",
       " 'show',\n",
       " 'good',\n",
       " 'time',\n",
       " 'bad',\n",
       " 'time',\n",
       " 'ye',\n",
       " 'understand',\n",
       " 'wild',\n",
       " 'trashi',\n",
       " 'type',\n",
       " 'person',\n",
       " 'go',\n",
       " 'hate',\n",
       " 'show',\n",
       " 'show',\n",
       " 'happi',\n",
       " 'also',\n",
       " 'moral',\n",
       " 'show',\n",
       " 'also',\n",
       " 'would',\n",
       " 'like',\n",
       " 'say',\n",
       " 'first',\n",
       " '3',\n",
       " 'season',\n",
       " 'good',\n",
       " 'kid',\n",
       " 'show',\n",
       " 'around',\n",
       " '4th',\n",
       " '5th',\n",
       " 'season',\n",
       " 'dj',\n",
       " 'stephani',\n",
       " 'becom',\n",
       " 'teenag',\n",
       " 'also',\n",
       " 'notic',\n",
       " 'full',\n",
       " 'hous',\n",
       " 'lot',\n",
       " 'show',\n",
       " 'never',\n",
       " 'talk',\n",
       " 'problem',\n",
       " 'world',\n",
       " 'polit',\n",
       " 'like',\n",
       " 'full',\n",
       " 'hous',\n",
       " 'air',\n",
       " 'gulf',\n",
       " 'war',\n",
       " '1991',\n",
       " 'time',\n",
       " 'oklahoma',\n",
       " 'citi',\n",
       " 'bomb',\n",
       " '1995',\n",
       " 'never',\n",
       " 'mention',\n",
       " 'anyth',\n",
       " 'also',\n",
       " 'steve',\n",
       " 'favorit',\n",
       " 'dj',\n",
       " 'boyfriend',\n",
       " 'one',\n",
       " 'viper',\n",
       " 'nelson',\n",
       " 'nt',\n",
       " 'interest',\n",
       " 'season',\n",
       " '5',\n",
       " '6',\n",
       " 'think',\n",
       " 'best',\n",
       " 'wish',\n",
       " 'would',\n",
       " 'made',\n",
       " '9th',\n",
       " 'season',\n",
       " 'left',\n",
       " 'big',\n",
       " 'question',\n",
       " 'mark',\n",
       " 'head',\n",
       " 'last',\n",
       " 'episod',\n",
       " 'last',\n",
       " 'minut',\n",
       " 'dj',\n",
       " 'get',\n",
       " 'surpris',\n",
       " 'goe',\n",
       " 'prom',\n",
       " 'ex',\n",
       " 'boyfriend',\n",
       " 'steve',\n",
       " 'alway',\n",
       " 'wonder',\n",
       " 'got',\n",
       " 'back',\n",
       " 'togeth',\n",
       " 'like',\n",
       " 'final',\n",
       " 'season',\n",
       " 'dj',\n",
       " 'alway',\n",
       " 'responis',\n",
       " 'one',\n",
       " 'stephani',\n",
       " 'alway',\n",
       " 'want',\n",
       " 'someth',\n",
       " 'dare',\n",
       " 'like',\n",
       " 'episod',\n",
       " 'stephani',\n",
       " 'wild',\n",
       " 'ride']"
      ]
     },
     "execution_count": 24,
     "metadata": {},
     "output_type": "execute_result"
    }
   ],
   "source": [
    "# TODO: Apply review_to_words to a review (train_X[100] or any other review)\n",
    "review_to_words(train_X[100])"
   ]
  },
  {
   "cell_type": "code",
   "execution_count": 25,
   "metadata": {},
   "outputs": [],
   "source": [
    "import pickle\n",
    "\n",
    "cache_dir = os.path.join(\"../cache\", \"sentiment_analysis\")  # where to store cache files\n",
    "os.makedirs(cache_dir, exist_ok=True)  # ensure cache directory exists\n",
    "\n",
    "def preprocess_data(data_train, data_test, labels_train, labels_test,\n",
    "                    cache_dir=cache_dir, cache_file=\"preprocessed_data.pkl\"):\n",
    "    \"\"\"Convert each review to words; read from cache if available.\"\"\"\n",
    "\n",
    "    # If cache_file is not None, try to read from it first\n",
    "    cache_data = None\n",
    "    print(cache_file)\n",
    "    if cache_file is not None:\n",
    "        try:\n",
    "            with open(os.path.join(cache_dir, cache_file), \"rb\") as f:\n",
    "                cache_data = pickle.load(f)\n",
    "            print(\"Read preprocessed data from cache file:\", cache_file)\n",
    "        except:\n",
    "            print(\"File not found\")\n",
    "            pass  # unable to read from cache, but that's okay\n",
    "    \n",
    "    # If cache is missing, then do the heavy lifting\n",
    "    if cache_data is None:\n",
    "        print('Preprocess training and test data to obtain words for each review')\n",
    "        # Preprocess training and test data to obtain words for each review\n",
    "        #words_train = list(map(review_to_words, data_train))\n",
    "        #words_test = list(map(review_to_words, data_test))\n",
    "        words_train = [review_to_words(review) for review in data_train]\n",
    "        words_test = [review_to_words(review) for review in data_test]\n",
    "        \n",
    "        # Write to cache file for future runs\n",
    "        print('Preprocess training and test data to obtain words for each review')\n",
    "        if cache_file is not None:\n",
    "            cache_data = dict(words_train=words_train, words_test=words_test,\n",
    "                              labels_train=labels_train, labels_test=labels_test)\n",
    "            with open(os.path.join(cache_dir, cache_file), \"wb\") as f:\n",
    "                pickle.dump(cache_data, f)\n",
    "            print(\"Wrote preprocessed data to cache file:\", cache_file)\n",
    "    else:\n",
    "        print('Unpack data loaded from cache file')\n",
    "        # Unpack data loaded from cache file\n",
    "        words_train, words_test, labels_train, labels_test = (cache_data['words_train'],\n",
    "                cache_data['words_test'], cache_data['labels_train'], cache_data['labels_test'])\n",
    "    \n",
    "    return words_train, words_test, labels_train, labels_test"
   ]
  },
  {
   "cell_type": "code",
   "execution_count": 26,
   "metadata": {},
   "outputs": [
    {
     "name": "stdout",
     "output_type": "stream",
     "text": [
      "preprocessed_data.pkl\n",
      "Read preprocessed data from cache file: preprocessed_data.pkl\n",
      "Unpack data loaded from cache file\n"
     ]
    }
   ],
   "source": [
    "# Preprocess data\n",
    "train_X, test_X, train_y, test_y = preprocess_data(train_X, test_X, train_y, test_y)"
   ]
  },
  {
   "cell_type": "code",
   "execution_count": 28,
   "metadata": {},
   "outputs": [],
   "source": [
    "import numpy as np\n",
    "import re\n",
    "from collections import Counter\n",
    "\n",
    "def build_dict(data, vocab_size = 5000):\n",
    "    \"\"\"Construct and return a dictionary mapping each of the most frequently appearing words to a unique integer.\"\"\"\n",
    "    \n",
    "    # TODO: Determine how often each word appears in `data`. Note that `data` is a list of sentences and that a\n",
    "    #       sentence is a list of words.\n",
    "    # print(np.concatenate( data[0:5], axis=0 ))\n",
    "    word_counts = Counter(np.concatenate( data, axis=0 ))\n",
    "    # print(word_counts)\n",
    "    # word_count = {} # A dict storing the words that appear in the reviews along with how often they occur\n",
    "    \n",
    "    # TODO: Sort the words found in `data` so that sorted_words[0] is the most frequently appearing word and\n",
    "    #       sorted_words[-1] is the least frequently appearing word.\n",
    "    \n",
    "    sorted_words = sorted(word_counts, key=word_counts.get, reverse=True)\n",
    "    # print(sorted_words[-1])\n",
    "    \n",
    "    word_dict = {} # This is what we are building, a dictionary that translates words into integers\n",
    "    for idx, word in enumerate(sorted_words[:vocab_size - 2]): # The -2 is so that we save room for the 'no word'\n",
    "        word_dict[word] = idx + 2                              # 'infrequent' labels\n",
    "        \n",
    "    return word_dict"
   ]
  },
  {
   "cell_type": "code",
   "execution_count": 29,
   "metadata": {},
   "outputs": [
    {
     "name": "stdout",
     "output_type": "stream",
     "text": [
      "{'movi': 2, 'film': 3, 'one': 4, 'like': 5, 'time': 6, 'good': 7, 'make': 8, 'charact': 9, 'get': 10, 'see': 11, 'watch': 12, 'stori': 13, 'even': 14, 'would': 15, 'realli': 16, 'well': 17, 'scene': 18, 'look': 19, 'show': 20, 'much': 21, 'end': 22, 'peopl': 23, 'bad': 24, 'go': 25, 'great': 26, 'also': 27, 'first': 28, 'love': 29, 'think': 30, 'way': 31, 'act': 32, 'play': 33, 'made': 34, 'thing': 35, 'could': 36, 'know': 37, 'say': 38, 'seem': 39, 'work': 40, 'plot': 41, 'two': 42, 'actor': 43, 'year': 44, 'come': 45, 'mani': 46, 'seen': 47, 'take': 48, 'want': 49, 'life': 50, 'never': 51, 'littl': 52, 'best': 53, 'tri': 54, 'man': 55, 'ever': 56, 'give': 57, 'better': 58, 'still': 59, 'perform': 60, 'find': 61, 'feel': 62, 'part': 63, 'back': 64, 'use': 65, 'someth': 66, 'director': 67, 'actual': 68, 'interest': 69, 'lot': 70, 'real': 71, 'old': 72, 'cast': 73, 'though': 74, 'live': 75, 'star': 76, 'enjoy': 77, 'guy': 78, 'anoth': 79, 'new': 80, 'role': 81, 'noth': 82, '10': 83, 'funni': 84, 'music': 85, 'point': 86, 'start': 87, 'set': 88, 'girl': 89, 'origin': 90, 'day': 91, 'world': 92, 'everi': 93, 'believ': 94, 'turn': 95, 'quit': 96, 'direct': 97, 'us': 98, 'thought': 99, 'fact': 100, 'minut': 101, 'horror': 102, 'kill': 103, 'action': 104, 'comedi': 105, 'pretti': 106, 'young': 107, 'wonder': 108, 'happen': 109, 'around': 110, 'got': 111, 'effect': 112, 'right': 113, 'long': 114, 'howev': 115, 'big': 116, 'line': 117, 'famili': 118, 'enough': 119, 'seri': 120, 'may': 121, 'need': 122, 'fan': 123, 'bit': 124, 'script': 125, 'beauti': 126, 'person': 127, 'becom': 128, 'without': 129, 'must': 130, 'alway': 131, 'friend': 132, 'tell': 133, 'reason': 134, 'saw': 135, 'last': 136, 'final': 137, 'kid': 138, 'almost': 139, 'put': 140, 'least': 141, 'sure': 142, 'done': 143, 'whole': 144, 'place': 145, 'complet': 146, 'kind': 147, 'expect': 148, 'differ': 149, 'shot': 150, 'far': 151, 'mean': 152, 'anyth': 153, 'book': 154, 'laugh': 155, 'might': 156, 'name': 157, 'sinc': 158, 'begin': 159, '2': 160, 'probabl': 161, 'woman': 162, 'help': 163, 'entertain': 164, 'let': 165, 'screen': 166, 'call': 167, 'tv': 168, 'moment': 169, 'away': 170, 'read': 171, 'yet': 172, 'rather': 173, 'worst': 174, 'run': 175, 'fun': 176, 'lead': 177, 'hard': 178, 'audienc': 179, 'idea': 180, 'anyon': 181, 'episod': 182, 'american': 183, 'found': 184, 'appear': 185, 'bore': 186, 'especi': 187, 'although': 188, 'hope': 189, 'keep': 190, 'cours': 191, 'anim': 192, 'job': 193, 'goe': 194, 'move': 195, 'sens': 196, 'dvd': 197, 'version': 198, 'war': 199, 'money': 200, 'someon': 201, 'mind': 202, 'mayb': 203, 'problem': 204, 'true': 205, 'hous': 206, 'everyth': 207, 'nice': 208, 'second': 209, 'rate': 210, 'three': 211, 'night': 212, 'face': 213, 'follow': 214, 'recommend': 215, 'product': 216, 'main': 217, 'worth': 218, 'leav': 219, 'human': 220, 'special': 221, 'excel': 222, 'togeth': 223, 'wast': 224, 'sound': 225, 'everyon': 226, 'john': 227, 'hand': 228, '1': 229, 'father': 230, 'later': 231, 'eye': 232, 'said': 233, 'view': 234, 'instead': 235, 'review': 236, 'boy': 237, 'high': 238, 'hour': 239, 'miss': 240, 'classic': 241, 'talk': 242, 'wife': 243, 'understand': 244, 'left': 245, 'care': 246, 'black': 247, 'death': 248, 'open': 249, 'murder': 250, 'write': 251, 'half': 252, 'head': 253, 'rememb': 254, 'chang': 255, 'viewer': 256, 'fight': 257, 'gener': 258, 'surpris': 259, 'includ': 260, 'short': 261, 'die': 262, 'fall': 263, 'less': 264, 'els': 265, 'entir': 266, 'piec': 267, 'involv': 268, 'pictur': 269, 'simpli': 270, 'power': 271, 'top': 272, 'home': 273, 'total': 274, 'usual': 275, 'budget': 276, 'attempt': 277, 'suppos': 278, 'releas': 279, 'hollywood': 280, 'terribl': 281, 'song': 282, 'men': 283, 'possibl': 284, 'featur': 285, 'portray': 286, 'disappoint': 287, '3': 288, 'poor': 289, 'coupl': 290, 'camera': 291, 'stupid': 292, 'dead': 293, 'wrong': 294, 'produc': 295, 'low': 296, 'video': 297, 'either': 298, 'aw': 299, 'definit': 300, 'except': 301, 'rest': 302, 'given': 303, 'absolut': 304, 'women': 305, 'lack': 306, 'word': 307, 'writer': 308, 'titl': 309, 'talent': 310, 'decid': 311, 'full': 312, 'perfect': 313, 'along': 314, 'style': 315, 'close': 316, 'truli': 317, 'school': 318, 'save': 319, 'emot': 320, 'age': 321, 'sex': 322, 'next': 323, 'bring': 324, 'mr': 325, 'case': 326, 'killer': 327, 'heart': 328, 'comment': 329, 'sort': 330, 'creat': 331, 'perhap': 332, 'came': 333, 'brother': 334, 'sever': 335, 'joke': 336, 'art': 337, 'dialogu': 338, 'game': 339, 'small': 340, 'base': 341, 'flick': 342, 'written': 343, 'sequenc': 344, 'meet': 345, 'earli': 346, 'often': 347, 'other': 348, 'mother': 349, 'develop': 350, 'humor': 351, 'actress': 352, 'consid': 353, 'dark': 354, 'guess': 355, 'amaz': 356, 'unfortun': 357, 'light': 358, 'lost': 359, 'exampl': 360, 'cinema': 361, 'drama': 362, 'ye': 363, 'white': 364, 'experi': 365, 'imagin': 366, 'mention': 367, 'stop': 368, 'natur': 369, 'forc': 370, 'manag': 371, 'felt': 372, 'cut': 373, 'present': 374, 'children': 375, 'fail': 376, 'son': 377, 'support': 378, 'car': 379, 'qualiti': 380, 'ask': 381, 'hit': 382, 'side': 383, 'voic': 384, 'extrem': 385, 'impress': 386, 'evil': 387, 'wors': 388, 'went': 389, 'stand': 390, 'certainli': 391, 'basic': 392, 'oh': 393, 'overal': 394, 'favorit': 395, 'horribl': 396, 'mysteri': 397, 'number': 398, 'type': 399, 'danc': 400, 'wait': 401, 'hero': 402, 'alreadi': 403, '5': 404, 'learn': 405, 'matter': 406, '4': 407, 'michael': 408, 'genr': 409, 'fine': 410, 'despit': 411, 'throughout': 412, 'walk': 413, 'success': 414, 'histori': 415, 'question': 416, 'zombi': 417, 'town': 418, 'realiz': 419, 'relationship': 420, 'child': 421, 'past': 422, 'daughter': 423, 'late': 424, 'b': 425, 'wish': 426, 'credit': 427, 'hate': 428, 'event': 429, 'theme': 430, 'touch': 431, 'citi': 432, 'today': 433, 'sometim': 434, 'behind': 435, 'god': 436, 'twist': 437, 'sit': 438, 'stay': 439, 'annoy': 440, 'deal': 441, 'abl': 442, 'rent': 443, 'pleas': 444, 'edit': 445, 'blood': 446, 'deserv': 447, 'anyway': 448, 'comic': 449, 'appar': 450, 'soon': 451, 'gave': 452, 'etc': 453, 'level': 454, 'slow': 455, 'chanc': 456, 'score': 457, 'bodi': 458, 'brilliant': 459, 'incred': 460, 'figur': 461, 'situat': 462, 'major': 463, 'self': 464, 'stuff': 465, 'decent': 466, 'element': 467, 'dream': 468, 'return': 469, 'obvious': 470, 'order': 471, 'continu': 472, 'pace': 473, 'ridicul': 474, 'happi': 475, 'highli': 476, 'add': 477, 'group': 478, 'thank': 479, 'ladi': 480, 'novel': 481, 'speak': 482, 'pain': 483, 'career': 484, 'shoot': 485, 'strang': 486, 'heard': 487, 'sad': 488, 'husband': 489, 'polic': 490, 'import': 491, 'break': 492, 'took': 493, 'strong': 494, 'cannot': 495, 'predict': 496, 'robert': 497, 'violenc': 498, 'hilari': 499, 'recent': 500, 'countri': 501, 'known': 502, 'particularli': 503, 'pick': 504, 'documentari': 505, 'season': 506, 'critic': 507, 'jame': 508, 'compar': 509, 'obviou': 510, 'alon': 511, 'told': 512, 'state': 513, 'visual': 514, 'rock': 515, 'theater': 516, 'exist': 517, 'offer': 518, 'opinion': 519, 'gore': 520, 'hold': 521, 'crap': 522, 'result': 523, 'hear': 524, 'room': 525, 'realiti': 526, 'effort': 527, 'clich': 528, 'thriller': 529, 'caus': 530, 'explain': 531, 'serious': 532, 'sequel': 533, 'king': 534, 'local': 535, 'ago': 536, 'none': 537, 'hell': 538, 'note': 539, 'allow': 540, 'david': 541, 'sister': 542, 'simpl': 543, 'femal': 544, 'deliv': 545, 'ok': 546, 'convinc': 547, 'class': 548, 'check': 549, 'suspens': 550, 'win': 551, 'buy': 552, 'oscar': 553, 'huge': 554, 'valu': 555, 'sexual': 556, 'cool': 557, 'scari': 558, 'similar': 559, 'excit': 560, 'exactli': 561, 'provid': 562, 'apart': 563, 'shown': 564, 'avoid': 565, 'seriou': 566, 'english': 567, 'whose': 568, 'taken': 569, 'cinematographi': 570, 'shock': 571, 'polit': 572, 'spoiler': 573, 'offic': 574, 'across': 575, 'middl': 576, 'street': 577, 'pass': 578, 'messag': 579, 'somewhat': 580, 'charm': 581, 'silli': 582, 'modern': 583, 'confus': 584, 'filmmak': 585, 'form': 586, 'tale': 587, 'singl': 588, 'jack': 589, 'mostli': 590, 'carri': 591, 'attent': 592, 'william': 593, 'sing': 594, 'subject': 595, 'five': 596, 'richard': 597, 'prove': 598, 'team': 599, 'stage': 600, 'unlik': 601, 'cop': 602, 'georg': 603, 'televis': 604, 'monster': 605, 'earth': 606, 'villain': 607, 'cover': 608, 'pay': 609, 'marri': 610, 'toward': 611, 'build': 612, 'pull': 613, 'parent': 614, 'due': 615, 'fill': 616, 'respect': 617, 'dialog': 618, 'four': 619, 'remind': 620, 'futur': 621, 'typic': 622, 'weak': 623, '7': 624, 'cheap': 625, 'intellig': 626, 'british': 627, 'atmospher': 628, '80': 629, 'clearli': 630, 'paul': 631, 'non': 632, 'dog': 633, 'artist': 634, 'knew': 635, '8': 636, 'fast': 637, 'crime': 638, 'easili': 639, 'escap': 640, 'adult': 641, 'doubt': 642, 'detail': 643, 'date': 644, 'member': 645, 'fire': 646, 'romant': 647, 'gun': 648, 'drive': 649, 'straight': 650, 'beyond': 651, 'fit': 652, 'attack': 653, 'imag': 654, 'upon': 655, 'posit': 656, 'whether': 657, 'fantast': 658, 'peter': 659, 'appreci': 660, 'captur': 661, 'aspect': 662, 'ten': 663, 'plan': 664, 'discov': 665, 'remain': 666, 'period': 667, 'near': 668, 'realist': 669, 'air': 670, 'mark': 671, 'red': 672, 'dull': 673, 'adapt': 674, 'within': 675, 'spend': 676, 'lose': 677, 'materi': 678, 'color': 679, 'chase': 680, 'mari': 681, 'storylin': 682, 'forget': 683, 'bunch': 684, 'clear': 685, 'lee': 686, 'victim': 687, 'nearli': 688, 'box': 689, 'york': 690, 'inspir': 691, 'match': 692, 'finish': 693, 'mess': 694, 'standard': 695, 'easi': 696, 'truth': 697, 'suffer': 698, 'busi': 699, 'space': 700, 'dramat': 701, 'bill': 702, 'western': 703, 'e': 704, 'list': 705, 'battl': 706, 'notic': 707, 'de': 708, 'french': 709, 'ad': 710, '9': 711, 'tom': 712, 'larg': 713, 'among': 714, 'eventu': 715, 'accept': 716, 'train': 717, 'agre': 718, 'spirit': 719, 'soundtrack': 720, 'third': 721, 'teenag': 722, 'soldier': 723, 'adventur': 724, 'famou': 725, 'sorri': 726, 'suggest': 727, 'drug': 728, 'cri': 729, 'babi': 730, 'normal': 731, 'troubl': 732, 'ultim': 733, 'contain': 734, 'certain': 735, 'cultur': 736, 'romanc': 737, 'rare': 738, 'lame': 739, 'somehow': 740, 'mix': 741, 'disney': 742, 'gone': 743, 'cartoon': 744, 'student': 745, 'fear': 746, 'reveal': 747, 'kept': 748, 'suck': 749, 'attract': 750, 'appeal': 751, 'premis': 752, 'greatest': 753, 'design': 754, 'secret': 755, 'shame': 756, 'throw': 757, 'scare': 758, 'copi': 759, 'wit': 760, 'admit': 761, 'america': 762, 'relat': 763, 'brought': 764, 'particular': 765, 'screenplay': 766, 'whatev': 767, 'pure': 768, '70': 769, 'averag': 770, 'harri': 771, 'master': 772, 'describ': 773, 'male': 774, 'treat': 775, '20': 776, 'issu': 777, 'fantasi': 778, 'warn': 779, 'inde': 780, 'background': 781, 'forward': 782, 'project': 783, 'free': 784, 'japanes': 785, 'memor': 786, 'poorli': 787, 'award': 788, 'locat': 789, 'amus': 790, 'potenti': 791, 'struggl': 792, 'magic': 793, 'weird': 794, 'societi': 795, 'okay': 796, 'doctor': 797, 'accent': 798, 'imdb': 799, 'hot': 800, 'water': 801, '30': 802, 'dr': 803, 'express': 804, 'alien': 805, 'odd': 806, 'choic': 807, 'crazi': 808, 'studio': 809, 'fiction': 810, 'control': 811, 'becam': 812, 'masterpiec': 813, 'difficult': 814, 'fli': 815, 'joe': 816, 'scream': 817, 'costum': 818, 'lover': 819, 'uniqu': 820, 'refer': 821, 'remak': 822, 'vampir': 823, 'girlfriend': 824, 'prison': 825, 'execut': 826, 'wear': 827, 'jump': 828, 'unless': 829, 'wood': 830, 'creepi': 831, 'cheesi': 832, 'superb': 833, 'otherwis': 834, 'parti': 835, 'roll': 836, 'ghost': 837, 'mad': 838, 'public': 839, 'depict': 840, 'earlier': 841, 'week': 842, 'moral': 843, 'badli': 844, 'jane': 845, 'dumb': 846, 'fi': 847, 'flaw': 848, 'grow': 849, 'deep': 850, 'sci': 851, 'cat': 852, 'maker': 853, 'connect': 854, 'older': 855, 'footag': 856, 'bother': 857, 'plenti': 858, 'outsid': 859, 'stick': 860, 'gay': 861, 'catch': 862, 'co': 863, 'plu': 864, 'popular': 865, 'equal': 866, 'social': 867, 'disturb': 868, 'quickli': 869, 'perfectli': 870, 'dress': 871, 'era': 872, '90': 873, 'mistak': 874, 'lie': 875, 'previou': 876, 'ride': 877, 'combin': 878, 'concept': 879, 'band': 880, 'surviv': 881, 'rich': 882, 'answer': 883, 'front': 884, 'sweet': 885, 'christma': 886, 'insid': 887, 'bare': 888, 'concern': 889, 'eat': 890, 'ben': 891, 'beat': 892, 'listen': 893, 'c': 894, 'term': 895, 'serv': 896, 'meant': 897, 'la': 898, 'german': 899, 'stereotyp': 900, 'hardli': 901, 'innoc': 902, 'law': 903, 'desper': 904, 'memori': 905, 'promis': 906, 'cute': 907, 'intent': 908, 'steal': 909, 'inform': 910, 'variou': 911, 'brain': 912, 'post': 913, 'tone': 914, 'island': 915, 'amount': 916, 'track': 917, 'compani': 918, 'nuditi': 919, 'store': 920, 'claim': 921, 'flat': 922, '50': 923, 'hair': 924, 'univers': 925, 'land': 926, 'danger': 927, 'fairli': 928, 'kick': 929, 'scott': 930, 'player': 931, 'step': 932, 'plain': 933, 'crew': 934, 'toni': 935, 'share': 936, 'centuri': 937, 'tast': 938, 'achiev': 939, 'engag': 940, 'cold': 941, 'travel': 942, 'record': 943, 'rip': 944, 'suit': 945, 'manner': 946, 'sadli': 947, 'wrote': 948, 'spot': 949, 'tension': 950, 'intens': 951, 'fascin': 952, 'familiar': 953, 'burn': 954, 'remark': 955, 'depth': 956, 'histor': 957, 'destroy': 958, 'sleep': 959, 'purpos': 960, 'languag': 961, 'ruin': 962, 'ignor': 963, 'delight': 964, 'unbeliev': 965, 'italian': 966, 'soul': 967, 'abil': 968, 'collect': 969, 'clever': 970, 'detect': 971, 'violent': 972, 'rape': 973, 'reach': 974, 'door': 975, 'scienc': 976, 'trash': 977, 'liter': 978, 'reveng': 979, 'caught': 980, 'commun': 981, 'creatur': 982, 'trip': 983, 'approach': 984, 'fashion': 985, 'intrigu': 986, 'skill': 987, 'paint': 988, 'introduc': 989, 'channel': 990, 'complex': 991, 'camp': 992, 'christian': 993, 'extra': 994, 'hole': 995, 'ann': 996, 'mental': 997, 'immedi': 998, 'limit': 999, '6': 1000, 'million': 1001, 'slightli': 1002, 'mere': 1003, 'comput': 1004, 'slasher': 1005, 'conclus': 1006, 'suddenli': 1007, 'imposs': 1008, 'neither': 1009, 'crimin': 1010, 'teen': 1011, 'nation': 1012, 'physic': 1013, 'spent': 1014, 'respons': 1015, 'planet': 1016, 'receiv': 1017, 'fake': 1018, 'blue': 1019, 'sick': 1020, 'bizarr': 1021, 'embarrass': 1022, 'indian': 1023, '15': 1024, 'ring': 1025, 'pop': 1026, 'drop': 1027, 'drag': 1028, 'haunt': 1029, 'pointless': 1030, 'suspect': 1031, 'search': 1032, 'edg': 1033, 'handl': 1034, 'common': 1035, 'biggest': 1036, 'arriv': 1037, 'hurt': 1038, 'faith': 1039, 'technic': 1040, 'angel': 1041, 'dad': 1042, 'genuin': 1043, 'solid': 1044, 'f': 1045, 'awesom': 1046, 'van': 1047, 'focu': 1048, 'former': 1049, 'colleg': 1050, 'count': 1051, 'tear': 1052, 'heavi': 1053, 'rais': 1054, 'wall': 1055, 'visit': 1056, 'younger': 1057, 'laughabl': 1058, 'sign': 1059, 'excus': 1060, 'fair': 1061, 'cult': 1062, 'key': 1063, 'tough': 1064, 'motion': 1065, 'super': 1066, 'desir': 1067, 'addit': 1068, 'stun': 1069, 'exploit': 1070, 'cloth': 1071, 'smith': 1072, 'tortur': 1073, 'davi': 1074, 'race': 1075, 'author': 1076, 'cross': 1077, 'jim': 1078, 'minor': 1079, 'focus': 1080, 'compel': 1081, 'consist': 1082, 'chemistri': 1083, 'pathet': 1084, 'commit': 1085, 'park': 1086, 'frank': 1087, 'obsess': 1088, 'tradit': 1089, 'grade': 1090, '60': 1091, 'asid': 1092, 'brutal': 1093, 'somewher': 1094, 'steve': 1095, 'depress': 1096, 'grant': 1097, 'explor': 1098, 'opportun': 1099, 'rule': 1100, 'u': 1101, 'honest': 1102, 'besid': 1103, 'dub': 1104, 'anti': 1105, 'intend': 1106, 'trailer': 1107, 'bar': 1108, 'scientist': 1109, 'longer': 1110, 'west': 1111, 'regard': 1112, 'decad': 1113, 'judg': 1114, 'silent': 1115, 'armi': 1116, 'creativ': 1117, 'wild': 1118, 'south': 1119, 'g': 1120, 'stewart': 1121, 'draw': 1122, 'road': 1123, 'govern': 1124, 'boss': 1125, 'ex': 1126, 'practic': 1127, 'surprisingli': 1128, 'club': 1129, 'gang': 1130, 'motiv': 1131, 'festiv': 1132, 'london': 1133, 'green': 1134, 'page': 1135, 'redeem': 1136, 'machin': 1137, 'display': 1138, 'idiot': 1139, 'aliv': 1140, 'militari': 1141, 'thrill': 1142, 'repeat': 1143, 'folk': 1144, 'nobodi': 1145, 'yeah': 1146, '100': 1147, '40': 1148, 'garbag': 1149, 'journey': 1150, 'smile': 1151, 'tire': 1152, 'ground': 1153, 'mood': 1154, 'bought': 1155, 'cost': 1156, 'stone': 1157, 'sam': 1158, 'mouth': 1159, 'noir': 1160, 'terrif': 1161, 'agent': 1162, 'requir': 1163, 'utterli': 1164, 'area': 1165, 'honestli': 1166, 'sexi': 1167, 'report': 1168, 'geniu': 1169, 'glad': 1170, 'enter': 1171, 'humour': 1172, 'investig': 1173, 'serial': 1174, 'passion': 1175, 'occasion': 1176, 'narr': 1177, 'marriag': 1178, 'climax': 1179, 'studi': 1180, 'industri': 1181, 'center': 1182, 'nowher': 1183, 'ship': 1184, 'demon': 1185, 'charli': 1186, 'loos': 1187, 'bear': 1188, 'hors': 1189, 'wow': 1190, 'hang': 1191, 'graphic': 1192, 'admir': 1193, 'giant': 1194, 'send': 1195, 'damn': 1196, 'loud': 1197, 'subtl': 1198, 'profession': 1199, 'nake': 1200, 'rel': 1201, 'blow': 1202, 'bottom': 1203, 'insult': 1204, 'batman': 1205, 'r': 1206, 'boyfriend': 1207, 'kelli': 1208, 'doubl': 1209, 'initi': 1210, 'frame': 1211, 'gem': 1212, 'opera': 1213, 'affect': 1214, 'drawn': 1215, 'cinemat': 1216, 'church': 1217, 'challeng': 1218, 'nightmar': 1219, 'seek': 1220, 'fulli': 1221, 'evid': 1222, 'j': 1223, 'l': 1224, 'conflict': 1225, 'arm': 1226, 'essenti': 1227, 'grace': 1228, 'wind': 1229, 'henri': 1230, 'christoph': 1231, 'narrat': 1232, 'assum': 1233, 'witch': 1234, 'push': 1235, 'hunt': 1236, 'wise': 1237, 'chri': 1238, 'month': 1239, 'repres': 1240, 'nomin': 1241, 'sceneri': 1242, 'avail': 1243, 'affair': 1244, 'hide': 1245, 'smart': 1246, 'bond': 1247, 'justic': 1248, 'thu': 1249, 'flashback': 1250, 'outstand': 1251, 'interview': 1252, 'satisfi': 1253, 'presenc': 1254, 'constantli': 1255, 'bed': 1256, 'central': 1257, 'sell': 1258, 'iron': 1259, 'content': 1260, 'gag': 1261, 'everybodi': 1262, 'hotel': 1263, 'slowli': 1264, 'hire': 1265, 'system': 1266, 'charl': 1267, 'thrown': 1268, 'hey': 1269, 'individu': 1270, 'adam': 1271, 'allen': 1272, 'jone': 1273, 'mediocr': 1274, 'billi': 1275, 'lesson': 1276, 'ray': 1277, 'cameo': 1278, 'photographi': 1279, 'fellow': 1280, 'pari': 1281, 'strike': 1282, 'independ': 1283, 'rise': 1284, 'absurd': 1285, 'brief': 1286, 'neg': 1287, 'phone': 1288, 'impact': 1289, 'born': 1290, 'ill': 1291, 'model': 1292, 'fresh': 1293, 'angl': 1294, 'spoil': 1295, 'abus': 1296, 'likabl': 1297, 'hill': 1298, 'discuss': 1299, 'sight': 1300, 'ahead': 1301, 'photograph': 1302, 'sent': 1303, 'occur': 1304, 'blame': 1305, 'logic': 1306, 'shine': 1307, 'bruce': 1308, 'mainli': 1309, 'skip': 1310, 'commerci': 1311, 'forev': 1312, 'teacher': 1313, 'segment': 1314, 'held': 1315, 'surround': 1316, 'zero': 1317, 'blond': 1318, 'satir': 1319, 'trap': 1320, 'resembl': 1321, 'summer': 1322, 'six': 1323, 'queen': 1324, 'ball': 1325, 'fool': 1326, 'tragedi': 1327, 'twice': 1328, 'sub': 1329, 'reaction': 1330, 'pack': 1331, 'bomb': 1332, 'hospit': 1333, 'protagonist': 1334, 'will': 1335, 'sport': 1336, 'mile': 1337, 'mom': 1338, 'jerri': 1339, 'drink': 1340, 'vote': 1341, 'trust': 1342, 'encount': 1343, 'plane': 1344, 'station': 1345, 'al': 1346, 'program': 1347, 'current': 1348, 'martin': 1349, 'choos': 1350, 'celebr': 1351, 'join': 1352, 'field': 1353, 'tragic': 1354, 'favourit': 1355, 'lord': 1356, 'round': 1357, 'vision': 1358, 'robot': 1359, 'jean': 1360, 'tie': 1361, 'arthur': 1362, 'fortun': 1363, 'roger': 1364, 'random': 1365, 'psycholog': 1366, 'dread': 1367, 'intern': 1368, 'epic': 1369, 'prefer': 1370, 'nonsens': 1371, 'improv': 1372, 'pleasur': 1373, 'highlight': 1374, 'legend': 1375, 'formula': 1376, 'dollar': 1377, 'tape': 1378, '11': 1379, 'gorgeou': 1380, 'porn': 1381, 'object': 1382, 'fox': 1383, 'wide': 1384, 'thin': 1385, 'influenc': 1386, 'buddi': 1387, 'ugli': 1388, 'prepar': 1389, 'nasti': 1390, 'ii': 1391, 'progress': 1392, 'reflect': 1393, 'supposedli': 1394, 'warm': 1395, 'worthi': 1396, 'youth': 1397, 'unusu': 1398, 'length': 1399, 'latter': 1400, 'crash': 1401, 'seven': 1402, 'superior': 1403, 'childhood': 1404, 'shop': 1405, 'remot': 1406, 'theatr': 1407, 'pilot': 1408, 'funniest': 1409, 'disgust': 1410, 'paid': 1411, 'trick': 1412, 'fell': 1413, 'convers': 1414, 'castl': 1415, 'establish': 1416, 'rob': 1417, 'disast': 1418, 'gangster': 1419, 'ident': 1420, 'mine': 1421, 'suicid': 1422, 'disappear': 1423, 'heaven': 1424, 'forgotten': 1425, 'heroin': 1426, 'decis': 1427, 'singer': 1428, 'mask': 1429, 'tend': 1430, 'brian': 1431, 'partner': 1432, 'recogn': 1433, 'alan': 1434, 'desert': 1435, 'ms': 1436, 'p': 1437, 'sky': 1438, 'thoroughli': 1439, 'stuck': 1440, 'accur': 1441, 'replac': 1442, 'market': 1443, 'eddi': 1444, 'andi': 1445, 'danni': 1446, 'commentari': 1447, 'seemingli': 1448, 'uncl': 1449, 'clue': 1450, 'jackson': 1451, 'devil': 1452, 'therefor': 1453, 'pair': 1454, 'that': 1455, 'refus': 1456, 'ed': 1457, 'unit': 1458, 'accid': 1459, 'fault': 1460, 'fate': 1461, 'river': 1462, 'tune': 1463, 'afraid': 1464, 'russian': 1465, 'stephen': 1466, 'clean': 1467, 'hidden': 1468, 'quick': 1469, 'convey': 1470, 'instanc': 1471, 'irrit': 1472, 'readi': 1473, 'captain': 1474, 'test': 1475, 'european': 1476, 'insan': 1477, 'frustrat': 1478, 'daniel': 1479, 'food': 1480, '1950': 1481, 'wed': 1482, 'rescu': 1483, 'chines': 1484, 'lock': 1485, 'dirti': 1486, 'angri': 1487, 'joy': 1488, 'price': 1489, 'steven': 1490, 'cage': 1491, 'bland': 1492, 'rang': 1493, 'anymor': 1494, 'wooden': 1495, 'rush': 1496, 'jason': 1497, 'news': 1498, 'n': 1499, 'martial': 1500, 'worri': 1501, '12': 1502, 'twenti': 1503, 'board': 1504, 'led': 1505, 'symbol': 1506, 'cgi': 1507, 'transform': 1508, 'hunter': 1509, 'invent': 1510, 'onto': 1511, 'x': 1512, 'sentiment': 1513, 'johnni': 1514, 'piti': 1515, 'explan': 1516, 'attitud': 1517, 'process': 1518, 'owner': 1519, 'awar': 1520, 'aim': 1521, 'target': 1522, 'necessari': 1523, 'favor': 1524, 'energi': 1525, 'floor': 1526, 'opposit': 1527, 'religi': 1528, 'blind': 1529, 'insight': 1530, 'window': 1531, 'chick': 1532, 'movement': 1533, 'possess': 1534, 'mountain': 1535, 'comparison': 1536, 'deepli': 1537, 'research': 1538, 'whatsoev': 1539, 'rain': 1540, 'comed': 1541, 'grand': 1542, 'began': 1543, 'mid': 1544, 'bank': 1545, 'shadow': 1546, 'parodi': 1547, 'princ': 1548, 'friendship': 1549, 'taylor': 1550, 'pre': 1551, 'weapon': 1552, 'credibl': 1553, 'dougla': 1554, 'teach': 1555, 'flesh': 1556, 'hint': 1557, 'terror': 1558, 'bloodi': 1559, 'protect': 1560, 'marvel': 1561, 'watchabl': 1562, 'anybodi': 1563, 'accord': 1564, 'drunk': 1565, 'load': 1566, 'leader': 1567, 'superman': 1568, 'freddi': 1569, 'brown': 1570, 'tim': 1571, 'seat': 1572, 'appropri': 1573, 'jeff': 1574, 'hitler': 1575, 'unknown': 1576, 'knock': 1577, 'keaton': 1578, 'charg': 1579, 'villag': 1580, 'england': 1581, 'enemi': 1582, 'empti': 1583, 'unnecessari': 1584, 'media': 1585, 'craft': 1586, 'perspect': 1587, 'wave': 1588, 'utter': 1589, 'strength': 1590, 'buck': 1591, 'dare': 1592, 'correct': 1593, 'kiss': 1594, 'nativ': 1595, 'contrast': 1596, 'ford': 1597, 'magnific': 1598, 'distract': 1599, 'chill': 1600, 'knowledg': 1601, 'anywher': 1602, 'soap': 1603, 'nazi': 1604, 'speed': 1605, 'ice': 1606, 'fred': 1607, '1980': 1608, 'mission': 1609, 'breath': 1610, 'moon': 1611, 'crowd': 1612, 'joan': 1613, 'jr': 1614, '000': 1615, 'soft': 1616, 'frighten': 1617, 'kate': 1618, 'hundr': 1619, 'dan': 1620, 'nick': 1621, 'dick': 1622, 'dozen': 1623, 'radio': 1624, 'simon': 1625, 'somebodi': 1626, 'shakespear': 1627, 'loss': 1628, 'thousand': 1629, 'andrew': 1630, 'academi': 1631, 'account': 1632, 'quot': 1633, 'sum': 1634, 'vehicl': 1635, 'root': 1636, '1970': 1637, 'leg': 1638, 'convent': 1639, 'behavior': 1640, 'regular': 1641, 'gold': 1642, 'worker': 1643, 'compet': 1644, 'pretenti': 1645, 'demand': 1646, 'privat': 1647, 'stretch': 1648, 'interpret': 1649, 'notabl': 1650, 'lynch': 1651, 'explos': 1652, 'candi': 1653, 'japan': 1654, 'debut': 1655, 'constant': 1656, 'tarzan': 1657, 'spi': 1658, 'prais': 1659, 'sea': 1660, 'revolv': 1661, 'translat': 1662, 'quiet': 1663, 'ass': 1664, 'sat': 1665, 'threaten': 1666, 'technolog': 1667, 'failur': 1668, 'jesu': 1669, 'franc': 1670, 'aid': 1671, 'punch': 1672, 'kevin': 1673, 'toy': 1674, 'met': 1675, 'higher': 1676, 'interact': 1677, 'abandon': 1678, 'mike': 1679, 'vh': 1680, 'command': 1681, 'bet': 1682, 'separ': 1683, 'confront': 1684, 'gotten': 1685, 'servic': 1686, 'stunt': 1687, 'belong': 1688, 'site': 1689, 'techniqu': 1690, 'recal': 1691, 'cabl': 1692, 'foot': 1693, 'freak': 1694, 'bug': 1695, 'capabl': 1696, 'fu': 1697, 'african': 1698, 'bright': 1699, 'jimmi': 1700, 'stock': 1701, 'fat': 1702, 'succeed': 1703, 'presid': 1704, 'boat': 1705, 'clark': 1706, 'spanish': 1707, 'gene': 1708, 'structur': 1709, 'kidnap': 1710, 'paper': 1711, 'whilst': 1712, 'belief': 1713, 'factor': 1714, 'educ': 1715, 'complic': 1716, 'bob': 1717, 'realism': 1718, 'attend': 1719, 'tree': 1720, 'realis': 1721, 'witti': 1722, 'finest': 1723, 'santa': 1724, 'assist': 1725, 'broken': 1726, 'v': 1727, 'depart': 1728, 'determin': 1729, 'observ': 1730, 'up': 1731, 'smoke': 1732, 'lewi': 1733, 'oper': 1734, 'routin': 1735, 'fame': 1736, 'domin': 1737, 'hat': 1738, 'rubbish': 1739, 'lone': 1740, 'foreign': 1741, 'morgan': 1742, 'safe': 1743, 'hook': 1744, 'kinda': 1745, 'advanc': 1746, 'numer': 1747, 'rank': 1748, 'vs': 1749, 'washington': 1750, 'civil': 1751, 'rose': 1752, 'shape': 1753, 'shallow': 1754, 'werewolf': 1755, 'gari': 1756, 'morn': 1757, 'accomplish': 1758, 'winner': 1759, 'ordinari': 1760, 'kong': 1761, 'virtual': 1762, 'whenev': 1763, 'grab': 1764, 'peac': 1765, 'h': 1766, 'offens': 1767, 'luck': 1768, 'activ': 1769, 'welcom': 1770, 'unfunni': 1771, 'contriv': 1772, 'complain': 1773, 'bigger': 1774, 'patient': 1775, 'trek': 1776, 'con': 1777, 'pretend': 1778, 'dimension': 1779, 'flash': 1780, 'eric': 1781, 'code': 1782, 'wake': 1783, 'lesbian': 1784, 'cain': 1785, 'dri': 1786, 'manipul': 1787, 'statu': 1788, 'guard': 1789, 'dancer': 1790, 'corrupt': 1791, 'albert': 1792, 'awkward': 1793, 'signific': 1794, 'speech': 1795, 'gain': 1796, 'sourc': 1797, 'context': 1798, 'sean': 1799, 'corni': 1800, 'clip': 1801, 'anthoni': 1802, '13': 1803, 'psycho': 1804, 'priest': 1805, 'reli': 1806, 'curiou': 1807, 'w': 1808, 'advic': 1809, 'theatric': 1810, 'religion': 1811, 'flow': 1812, 'addict': 1813, 'jennif': 1814, 'skin': 1815, 'secur': 1816, 'howard': 1817, 'asian': 1818, 'specif': 1819, 'organ': 1820, 'comfort': 1821, 'core': 1822, 'luke': 1823, 'promot': 1824, 'golden': 1825, 'lucki': 1826, 'cash': 1827, 'cheat': 1828, 'dislik': 1829, 'lower': 1830, 'associ': 1831, 'devic': 1832, 'degre': 1833, 'balanc': 1834, 'spell': 1835, 'regret': 1836, 'frankli': 1837, 'contribut': 1838, 'wing': 1839, 'frequent': 1840, 'forgiv': 1841, 'print': 1842, 'sake': 1843, 'lake': 1844, 'thoma': 1845, 'betti': 1846, 'mass': 1847, 'unexpect': 1848, 'crack': 1849, 'gordon': 1850, 'construct': 1851, 'unfold': 1852, 'categori': 1853, 'invit': 1854, 'grown': 1855, 'depend': 1856, 'amateur': 1857, 'condit': 1858, 'matur': 1859, 'walter': 1860, 'grew': 1861, 'honor': 1862, 'intellectu': 1863, 'anna': 1864, 'sole': 1865, 'veteran': 1866, 'spectacular': 1867, 'mirror': 1868, 'sudden': 1869, 'card': 1870, 'robin': 1871, 'meanwhil': 1872, 'gift': 1873, 'freedom': 1874, 'demonstr': 1875, 'grip': 1876, 'experienc': 1877, 'liner': 1878, 'overli': 1879, 'brilliantli': 1880, 'unabl': 1881, 'subtitl': 1882, 'drew': 1883, 'circumst': 1884, 'theori': 1885, 'crappi': 1886, 'section': 1887, 'sheriff': 1888, 'colour': 1889, 'oliv': 1890, 'pile': 1891, 'cook': 1892, 'path': 1893, 'laughter': 1894, 'altern': 1895, 'sheer': 1896, 'parker': 1897, 'matt': 1898, 'sinatra': 1899, 'lawyer': 1900, 'wander': 1901, 'treatment': 1902, 'relief': 1903, 'accident': 1904, 'hall': 1905, 'defin': 1906, 'captiv': 1907, 'dragon': 1908, 'hank': 1909, 'halloween': 1910, 'gratuit': 1911, 'moor': 1912, 'barbara': 1913, 'wayn': 1914, 'broadway': 1915, 'kung': 1916, 'cowboy': 1917, 'k': 1918, 'wound': 1919, 'unintent': 1920, 'jacki': 1921, 'canadian': 1922, 'surreal': 1923, 'statement': 1924, 'winter': 1925, 'spoof': 1926, 'treasur': 1927, 'cheer': 1928, 'gonna': 1929, 'compos': 1930, 'fare': 1931, 'fish': 1932, 'unrealist': 1933, 'emerg': 1934, 'victor': 1935, 'woodi': 1936, 'sensit': 1937, 'neighbor': 1938, 'ran': 1939, 'sympathet': 1940, 'driven': 1941, 'overlook': 1942, 'topic': 1943, 'menac': 1944, 'expos': 1945, 'glass': 1946, 'authent': 1947, 'ancient': 1948, 'gross': 1949, 'handsom': 1950, 'michel': 1951, 'chief': 1952, 'network': 1953, 'nevertheless': 1954, 'stranger': 1955, 'comedian': 1956, 'russel': 1957, 'contemporari': 1958, 'cinderella': 1959, 'built': 1960, 'pleasant': 1961, 'feet': 1962, 'underr': 1963, 'letter': 1964, 'consider': 1965, 'blockbust': 1966, 'endless': 1967, 'gori': 1968, 'miser': 1969, 'earn': 1970, 'brook': 1971, 'switch': 1972, 'solv': 1973, 'convict': 1974, 'bullet': 1975, 'victoria': 1976, 'edward': 1977, 'joseph': 1978, 'virgin': 1979, 'scale': 1980, '0': 1981, 'chosen': 1982, 'alex': 1983, 'scenario': 1984, 'cynic': 1985, 'sword': 1986, 'outrag': 1987, 'gut': 1988, 'com': 1989, 'curs': 1990, 'juli': 1991, 'substanc': 1992, 'monkey': 1993, 'proper': 1994, 'screenwrit': 1995, 'uk': 1996, 'driver': 1997, 'wrap': 1998, 'indic': 1999, 'court': 2000, 'bird': 2001, 'par': 2002, 'remov': 2003, 'rental': 2004, 'loser': 2005, 'naiv': 2006, 'grave': 2007, 'advertis': 2008, 'inevit': 2009, 'consequ': 2010, 'roy': 2011, 'nanci': 2012, 'fatal': 2013, 'slap': 2014, 'le': 2015, 'brave': 2016, 'bridg': 2017, 'germani': 2018, 'invis': 2019, 'anger': 2020, 'loui': 2021, 'ador': 2022, 'provok': 2023, 'footbal': 2024, 'anderson': 2025, 'alcohol': 2026, 'chan': 2027, 'stumbl': 2028, 'professor': 2029, 'willi': 2030, 'ryan': 2031, 'patrick': 2032, '1930': 2033, 'australian': 2034, 'sharp': 2035, 'assassin': 2036, 'bat': 2037, 'strongli': 2038, 'liber': 2039, 'deni': 2040, 'heck': 2041, 'amateurish': 2042, 'cell': 2043, 'eight': 2044, 'refresh': 2045, 'lousi': 2046, 'saturday': 2047, 'ape': 2048, 'trilog': 2049, 'sin': 2050, 'resid': 2051, 'vagu': 2052, 'justifi': 2053, 'san': 2054, 'sympathi': 2055, 'creator': 2056, 'terrifi': 2057, 'indi': 2058, 'mini': 2059, 'reput': 2060, 'defeat': 2061, 'prevent': 2062, 'endur': 2063, 'tabl': 2064, 'expert': 2065, 'task': 2066, 'tediou': 2067, 'employ': 2068, 'rival': 2069, 'che': 2070, 'offend': 2071, 'basebal': 2072, 'trial': 2073, 'imit': 2074, 'beach': 2075, 'europ': 2076, 'max': 2077, 'weekend': 2078, 'fairi': 2079, 'pitch': 2080, 'dig': 2081, 'complaint': 2082, 'risk': 2083, 'murphi': 2084, 'format': 2085, 'purchas': 2086, 'nois': 2087, 'bite': 2088, 'reminisc': 2089, 'glimps': 2090, 'harsh': 2091, 'tini': 2092, 'titan': 2093, 'hype': 2094, 'powel': 2095, 'prime': 2096, '14': 2097, 'asleep': 2098, 'till': 2099, 'north': 2100, 'strip': 2101, 'fals': 2102, 'destruct': 2103, 'texa': 2104, 'africa': 2105, 'descript': 2106, 'revel': 2107, 'spin': 2108, 'uninterest': 2109, 'semi': 2110, 'arrest': 2111, 'sitcom': 2112, 'surfac': 2113, 'excess': 2114, 'inner': 2115, 'massiv': 2116, 'argu': 2117, 'makeup': 2118, 'twin': 2119, 'hitchcock': 2120, 'controversi': 2121, 'maintain': 2122, 'dinosaur': 2123, 'kim': 2124, 'ludicr': 2125, 'stare': 2126, 'ideal': 2127, 'expens': 2128, 'melodrama': 2129, 'insist': 2130, 'reject': 2131, 'supernatur': 2132, 'atroci': 2133, 'erot': 2134, 'ga': 2135, 'host': 2136, 'nail': 2137, 'columbo': 2138, 'press': 2139, 'forest': 2140, 'subplot': 2141, 'ala': 2142, 'dude': 2143, 'cant': 2144, 'identifi': 2145, 'presum': 2146, 'notch': 2147, 'plagu': 2148, 'method': 2149, 'closer': 2150, 'crude': 2151, 'forgett': 2152, 'guest': 2153, 'character': 2154, 'lion': 2155, 'princess': 2156, 'ear': 2157, 'border': 2158, 'landscap': 2159, 'beast': 2160, 'foster': 2161, 'storytel': 2162, 'previous': 2163, 'accus': 2164, 'bound': 2165, 'damag': 2166, 'urban': 2167, 'birth': 2168, 'aunt': 2169, 'jungl': 2170, 'pacino': 2171, 'chose': 2172, 'doll': 2173, 'nude': 2174, 'thirti': 2175, 'guid': 2176, 'propaganda': 2177, 'jess': 2178, 'emma': 2179, 'pet': 2180, 'whoever': 2181, 'mainstream': 2182, '25': 2183, 'mate': 2184, 'warrior': 2185, 'friday': 2186, 'merit': 2187, 'deadli': 2188, 'upset': 2189, 'gritti': 2190, 'cooper': 2191, 'exact': 2192, 'size': 2193, 'poster': 2194, 'latest': 2195, 'ton': 2196, 'contact': 2197, 'buff': 2198, 'rough': 2199, 'settl': 2200, 'corps': 2201, 'citizen': 2202, '1990': 2203, 'wilson': 2204, 'popul': 2205, 'sun': 2206, 'warner': 2207, 'contest': 2208, 'blend': 2209, 'select': 2210, 'pitt': 2211, 'environ': 2212, 'metal': 2213, 'alic': 2214, 'bu': 2215, 'mgm': 2216, 'overcom': 2217, 'widow': 2218, 'rat': 2219, 'guilti': 2220, 'lift': 2221, 'revolut': 2222, 'particip': 2223, 'ted': 2224, 'link': 2225, 'prostitut': 2226, 'moron': 2227, 'corner': 2228, 'exagger': 2229, 'corpor': 2230, 'afternoon': 2231, '1960': 2232, 'johnson': 2233, 'matrix': 2234, 'accompani': 2235, 'leagu': 2236, 'holm': 2237, 'hood': 2238, 'doom': 2239, 'sincer': 2240, 'clair': 2241, 'friendli': 2242, 'multipl': 2243, 'instal': 2244, 'aka': 2245, 'blah': 2246, 'advis': 2247, 'defend': 2248, 'examin': 2249, 'campi': 2250, 'irish': 2251, 'junk': 2252, 'lugosi': 2253, 'string': 2254, 'hip': 2255, 'grim': 2256, 'sunday': 2257, 'icon': 2258, 'pro': 2259, 'rachel': 2260, 'shake': 2261, 'shut': 2262, 'tight': 2263, 'confid': 2264, 'varieti': 2265, 'medic': 2266, 'attach': 2267, 'directli': 2268, 'jaw': 2269, 'mexican': 2270, 'denni': 2271, 'sullivan': 2272, 'goal': 2273, 'prior': 2274, 'sentenc': 2275, 'breast': 2276, 'legendari': 2277, 'duke': 2278, 'truck': 2279, 'courag': 2280, 'vietnam': 2281, 'terrorist': 2282, 'dean': 2283, 'sarah': 2284, 'bourn': 2285, 'entri': 2286, 'un': 2287, 'donald': 2288, 'nose': 2289, 'split': 2290, 'behav': 2291, 'yell': 2292, 'hong': 2293, 'proceed': 2294, 'stolen': 2295, 'everywher': 2296, 'lifetim': 2297, 'jerk': 2298, 'forth': 2299, 'buri': 2300, 'confess': 2301, 'borrow': 2302, 'crush': 2303, 'concentr': 2304, 'unconvinc': 2305, 'swim': 2306, 'gather': 2307, 'turkey': 2308, 'lip': 2309, 'deliveri': 2310, 'california': 2311, 'spite': 2312, 'pan': 2313, 'julia': 2314, 'proud': 2315, 'reward': 2316, 'offici': 2317, 'quest': 2318, 'freeman': 2319, 'hoffman': 2320, 'china': 2321, 'downright': 2322, 'flight': 2323, 'sink': 2324, 'inept': 2325, 'fabul': 2326, 'betray': 2327, 'worthwhil': 2328, 'fade': 2329, 'sir': 2330, 'notori': 2331, 'jail': 2332, 'jon': 2333, 'encourag': 2334, 'lazi': 2335, 'branagh': 2336, 'retard': 2337, 'cousin': 2338, 'teeth': 2339, 'bag': 2340, 'survivor': 2341, 'bell': 2342, 'shower': 2343, 'lisa': 2344, 'susan': 2345, 'imageri': 2346, 'relev': 2347, 'storm': 2348, 'facial': 2349, 'finger': 2350, 'quirki': 2351, 'hugh': 2352, 'shark': 2353, 'stab': 2354, 'summari': 2355, 'toler': 2356, 'tremend': 2357, 'bride': 2358, 'alright': 2359, 'mexico': 2360, 'trade': 2361, 'bitter': 2362, 'blown': 2363, 'pose': 2364, 'von': 2365, 'hyster': 2366, 'ha': 2367, 'bone': 2368, 'afterward': 2369, 'address': 2370, 'scheme': 2371, 'larri': 2372, 'christ': 2373, 'cruel': 2374, 'ron': 2375, 'ned': 2376, 'pursu': 2377, 'distinct': 2378, 'screw': 2379, 'tour': 2380, 'swear': 2381, 'beg': 2382, 'thumb': 2383, 'snake': 2384, 'feed': 2385, 'traci': 2386, 'obscur': 2387, 'photo': 2388, 'mechan': 2389, 'chair': 2390, 'raw': 2391, 'occas': 2392, 'stomach': 2393, 'render': 2394, 'holiday': 2395, 'resist': 2396, 'gruesom': 2397, 'southern': 2398, 'heavili': 2399, 'hardi': 2400, 'cabin': 2401, 'argument': 2402, 'chain': 2403, 'necessarili': 2404, 'sidney': 2405, 'racist': 2406, 'philip': 2407, 'india': 2408, 'understood': 2409, 'indulg': 2410, 'satan': 2411, 'pregnant': 2412, 'forgot': 2413, 'outfit': 2414, 'lay': 2415, 'belov': 2416, 'midnight': 2417, 'obnoxi': 2418, 'integr': 2419, 'stalk': 2420, 'tongu': 2421, 'fourth': 2422, 'garden': 2423, '17': 2424, 'inhabit': 2425, 'restor': 2426, 'ticket': 2427, 'magazin': 2428, 'carol': 2429, 'slapstick': 2430, 'deeper': 2431, 'shoe': 2432, 'brad': 2433, 'devot': 2434, 'incid': 2435, 'lincoln': 2436, 'lili': 2437, 'guarante': 2438, 'divorc': 2439, 'underground': 2440, 'maria': 2441, 'elizabeth': 2442, 'benefit': 2443, 'disbelief': 2444, 'anticip': 2445, 'sandler': 2446, 'explod': 2447, 'mildli': 2448, 'princip': 2449, 'creation': 2450, 'greater': 2451, 'cring': 2452, 'capit': 2453, 'slave': 2454, 'amazingli': 2455, 'bbc': 2456, 'funnier': 2457, 'introduct': 2458, 'extraordinari': 2459, 'halfway': 2460, 'lesli': 2461, 'punish': 2462, 'extent': 2463, 'enhanc': 2464, 'wreck': 2465, 'overwhelm': 2466, 'tap': 2467, 'transfer': 2468, 'advantag': 2469, 'text': 2470, 'jessica': 2471, 'plant': 2472, 'horrif': 2473, 'deliber': 2474, 'dynam': 2475, 'east': 2476, 'lane': 2477, 'lo': 2478, 'preview': 2479, 'error': 2480, 'miscast': 2481, 'vincent': 2482, 'homosexu': 2483, 'miller': 2484, 'ensu': 2485, '2000': 2486, 'appli': 2487, 'basi': 2488, 'sophist': 2489, 'vacat': 2490, 'measur': 2491, 'sleazi': 2492, 'bollywood': 2493, 'via': 2494, 'elev': 2495, 'uncomfort': 2496, 'mansion': 2497, 'reed': 2498, 'extend': 2499, 'spoken': 2500, 'steel': 2501, 'fix': 2502, 'stanley': 2503, 'breathtak': 2504, 'savag': 2505, 'blair': 2506, 'hippi': 2507, 'beer': 2508, 'overact': 2509, 'melt': 2510, 'mous': 2511, 'cathol': 2512, 'conceiv': 2513, 'daili': 2514, 'assign': 2515, 'goofi': 2516, 'alter': 2517, 'dentist': 2518, 'nowaday': 2519, 'oppos': 2520, 'carpent': 2521, 'sacrific': 2522, 'inspector': 2523, 'succe': 2524, 'subsequ': 2525, 'everyday': 2526, 'burt': 2527, 'properli': 2528, 'circl': 2529, 'neck': 2530, 'laura': 2531, 'block': 2532, 'massacr': 2533, 'christi': 2534, 'grey': 2535, 'fallen': 2536, 'access': 2537, 'fay': 2538, 'portrait': 2539, 'concert': 2540, 'mob': 2541, 'pool': 2542, 'lesser': 2543, 'seagal': 2544, 'usa': 2545, 'relax': 2546, 'isol': 2547, 'sinist': 2548, 'react': 2549, 'chees': 2550, 'jewish': 2551, 'jake': 2552, 'competit': 2553, 'stink': 2554, 'nine': 2555, 'lyric': 2556, '2006': 2557, 'appal': 2558, 'spiritu': 2559, 'ironi': 2560, 'chop': 2561, 'nonetheless': 2562, 'creep': 2563, 'immens': 2564, 'suitabl': 2565, 'showcas': 2566, 'nut': 2567, 'franchis': 2568, 'reduc': 2569, 'spring': 2570, 'navi': 2571, 'sold': 2572, 'luci': 2573, 'rage': 2574, 'user': 2575, 'adopt': 2576, 'shirt': 2577, 'retir': 2578, 'needless': 2579, 'per': 2580, 'stanwyck': 2581, 'uninspir': 2582, 'bulli': 2583, 'zone': 2584, 'bath': 2585, 'asham': 2586, 'nurs': 2587, 'jay': 2588, 'digit': 2589, 'laid': 2590, 'upper': 2591, '1940': 2592, 'amongst': 2593, 'broadcast': 2594, 'sutherland': 2595, 'illustr': 2596, 'oddli': 2597, '2001': 2598, 'throat': 2599, 'brando': 2600, 'stylish': 2601, 'aspir': 2602, 'fulfil': 2603, 'disguis': 2604, 'baker': 2605, 'pound': 2606, 'nobl': 2607, 'wwii': 2608, 'em': 2609, 'endear': 2610, 'neighborhood': 2611, 'impli': 2612, 'thief': 2613, 'wanna': 2614, '18': 2615, 'pride': 2616, 'dinner': 2617, 'shoulder': 2618, 'distribut': 2619, 'albeit': 2620, 'diseas': 2621, 'tens': 2622, 'coher': 2623, 'dawn': 2624, '16': 2625, 'cinematograph': 2626, 'bo': 2627, 'prop': 2628, 'bett': 2629, 'rochest': 2630, 'shift': 2631, 'function': 2632, 'knife': 2633, 'snow': 2634, 'poignant': 2635, 'matthau': 2636, 'contract': 2637, 'silenc': 2638, 'forti': 2639, 'surf': 2640, 'wash': 2641, 'shout': 2642, 'rebel': 2643, 'widmark': 2644, 'cancel': 2645, 'proof': 2646, 'henc': 2647, 'height': 2648, 'heat': 2649, 'derek': 2650, 'silver': 2651, 'cannib': 2652, 'horrend': 2653, 'eeri': 2654, 'duti': 2655, 'chuck': 2656, 'reunion': 2657, 'internet': 2658, 'mindless': 2659, 'elvira': 2660, 'instinct': 2661, 'greatli': 2662, 'incoher': 2663, 'mill': 2664, 'spielberg': 2665, 'repetit': 2666, 'etern': 2667, 'premier': 2668, 'innov': 2669, 'glori': 2670, 'neat': 2671, 'torn': 2672, 'absorb': 2673, 'pie': 2674, 'alik': 2675, 'elvi': 2676, 'musician': 2677, 'homag': 2678, 'infam': 2679, 'britain': 2680, 'itali': 2681, 'trite': 2682, 'precis': 2683, 'crisi': 2684, 'lovabl': 2685, 'diamond': 2686, 'racism': 2687, 'fbi': 2688, 'announc': 2689, 'blank': 2690, 'burton': 2691, 'redempt': 2692, 'wealthi': 2693, 'nelson': 2694, 'bang': 2695, 'horrifi': 2696, 'pat': 2697, 'chaplin': 2698, 'dedic': 2699, 'wilder': 2700, 'parallel': 2701, 'helen': 2702, 'hammer': 2703, 'happili': 2704, 'ensembl': 2705, 'resolut': 2706, 'flop': 2707, 'streisand': 2708, 'disagre': 2709, 'carter': 2710, 'broke': 2711, 'st': 2712, 'factori': 2713, 'mar': 2714, 'oil': 2715, 'triumph': 2716, 'cube': 2717, 'conclud': 2718, 'plastic': 2719, 'chuckl': 2720, 'own': 2721, 'march': 2722, 'weight': 2723, 'bush': 2724, 'fighter': 2725, 'vega': 2726, 'rocket': 2727, 'row': 2728, 'climb': 2729, 'kurt': 2730, 'dump': 2731, 'dane': 2732, 'mst3k': 2733, 'thug': 2734, 'enorm': 2735, 'sensibl': 2736, 'meaning': 2737, 'wherea': 2738, 'spare': 2739, 'lust': 2740, 'boot': 2741, 'unforgett': 2742, 'luca': 2743, 'engin': 2744, 'adequ': 2745, 'rap': 2746, 'bobbi': 2747, 'caricatur': 2748, 'dear': 2749, 'brand': 2750, 'fifti': 2751, 'stress': 2752, 'difficulti': 2753, 'butt': 2754, 'threat': 2755, 'arnold': 2756, 'karloff': 2757, 'homeless': 2758, 'hamlet': 2759, 'fest': 2760, 'swing': 2761, 'polish': 2762, 'secretari': 2763, 'ego': 2764, 'elabor': 2765, 'ralph': 2766, 'flynn': 2767, 'journalist': 2768, 'arrog': 2769, 'barri': 2770, 'fanci': 2771, 'puppet': 2772, 'induc': 2773, 'resort': 2774, 'arrang': 2775, 'unbear': 2776, 'float': 2777, 'conspiraci': 2778, 'simpson': 2779, 'spike': 2780, 'tool': 2781, 'grate': 2782, 'cruis': 2783, 'boll': 2784, 'basement': 2785, 'pig': 2786, 'guilt': 2787, 'exercis': 2788, 'tribut': 2789, 'muppet': 2790, 'choreograph': 2791, 'phillip': 2792, 'fianc': 2793, 'document': 2794, 'korean': 2795, 'ward': 2796, 'tower': 2797, 'file': 2798, 'ham': 2799, 'puzzl': 2800, 'toilet': 2801, 'layer': 2802, 'slip': 2803, 'babe': 2804, 'stan': 2805, 'medium': 2806, 'editor': 2807, 'item': 2808, '24': 2809, 'scarecrow': 2810, 'larger': 2811, 'inexplic': 2812, 'spark': 2813, 'glover': 2814, 'denzel': 2815, 'assur': 2816, 'philosoph': 2817, 'orient': 2818, 'librari': 2819, 'territori': 2820, 'minim': 2821, 'catherin': 2822, 'slaughter': 2823, 'transit': 2824, 'persona': 2825, 'portion': 2826, 'superfici': 2827, 'doc': 2828, 'jeremi': 2829, 'wolf': 2830, 'boredom': 2831, 'owe': 2832, 'sneak': 2833, 'ban': 2834, 'jet': 2835, 'walken': 2836, 'shi': 2837, 'curti': 2838, 'financi': 2839, 'dorothi': 2840, 'pg': 2841, 'ambigu': 2842, 'eleph': 2843, 'multi': 2844, 'backdrop': 2845, 'metaphor': 2846, 'profound': 2847, 'hudson': 2848, 'cusack': 2849, 'whale': 2850, 'viru': 2851, 'stiff': 2852, 'notion': 2853, 'rave': 2854, 'hack': 2855, 'ultra': 2856, 'elsewher': 2857, '2005': 2858, 'implaus': 2859, 'birthday': 2860, 'union': 2861, 'gadget': 2862, 'urg': 2863, '1st': 2864, 'eva': 2865, 'squar': 2866, 'distanc': 2867, 'poison': 2868, 'afford': 2869, 'newspap': 2870, 'disc': 2871, 'canada': 2872, 'hawk': 2873, 'reader': 2874, 'pad': 2875, 'lloyd': 2876, 'superhero': 2877, 'bibl': 2878, 'slight': 2879, 'eastwood': 2880, 'deriv': 2881, 'skit': 2882, 'essenc': 2883, 'charisma': 2884, 'huh': 2885, 'restaur': 2886, 'montag': 2887, 'button': 2888, 'cure': 2889, 'drown': 2890, 'heston': 2891, 'health': 2892, 'spread': 2893, 'sadist': 2894, 'lab': 2895, 'dealt': 2896, 'scoobi': 2897, 'estat': 2898, 'peak': 2899, 'companion': 2900, 'fetch': 2901, 'gradual': 2902, 'godfath': 2903, 'invest': 2904, 'muslim': 2905, 'maniac': 2906, 'subtleti': 2907, 'countless': 2908, 'alli': 2909, 'ritter': 2910, 'tea': 2911, 'cup': 2912, 'miik': 2913, 'gothic': 2914, 'kane': 2915, 'servant': 2916, 'heroic': 2917, 'salli': 2918, 'elect': 2919, 'charismat': 2920, 'electr': 2921, 'iii': 2922, 'briefli': 2923, 'admittedli': 2924, 'neil': 2925, 'reel': 2926, 'cole': 2927, 'tender': 2928, 'nuanc': 2929, 'ingredi': 2930, 'grandmoth': 2931, 'resourc': 2932, 'bud': 2933, 'toss': 2934, 'wannab': 2935, 'dawson': 2936, 'reev': 2937, 'stronger': 2938, 'kubrick': 2939, 'pit': 2940, 'mild': 2941, 'carrey': 2942, 'mafia': 2943, 'label': 2944, 'poverti': 2945, 'gate': 2946, 'stood': 2947, 'pauli': 2948, 'shall': 2949, 'punk': 2950, 'burst': 2951, 'outcom': 2952, 'smash': 2953, 'bakshi': 2954, 'ian': 2955, 'cardboard': 2956, 'terri': 2957, 'smooth': 2958, 'cox': 2959, 'updat': 2960, 'tag': 2961, 'astair': 2962, 'assault': 2963, 'easier': 2964, 'fond': 2965, 'useless': 2966, 'increasingli': 2967, 'coincid': 2968, 'sketch': 2969, 'resolv': 2970, 'divers': 2971, 'rex': 2972, 'vari': 2973, 'melodramat': 2974, 'fist': 2975, 'exchang': 2976, '2002': 2977, 'vulner': 2978, 'qualifi': 2979, 'samurai': 2980, 'brillianc': 2981, 'scratch': 2982, 'luckili': 2983, 'be': 2984, 'suspend': 2985, 'reynold': 2986, 'insert': 2987, 'blast': 2988, 'templ': 2989, 'conveni': 2990, 'tame': 2991, 'gotta': 2992, 'coach': 2993, 'meat': 2994, 'ambiti': 2995, 'strictli': 2996, 'farm': 2997, 'soprano': 2998, 'jami': 2999, 'seventi': 3000, 'nuclear': 3001, 'pin': 3002, 'walker': 3003, 'hamilton': 3004, 'matthew': 3005, 'fisher': 3006, 'eccentr': 3007, 'kudo': 3008, 'spooki': 3009, 'instantli': 3010, 'empir': 3011, 'brosnan': 3012, 'revers': 3013, 'worthless': 3014, 'convolut': 3015, 'recreat': 3016, 'ninja': 3017, 'butcher': 3018, 'timeless': 3019, 'clock': 3020, 'struck': 3021, 'monk': 3022, 'joey': 3023, 'discoveri': 3024, 'cave': 3025, 'grasp': 3026, 'closet': 3027, 'evok': 3028, 'importantli': 3029, 'sloppi': 3030, 'pal': 3031, 'bleak': 3032, 'seller': 3033, 'partli': 3034, 'eighti': 3035, 'mitchel': 3036, 'clown': 3037, 'sidekick': 3038, 'inconsist': 3039, 'gray': 3040, 'declar': 3041, 'cliff': 3042, 'wipe': 3043, 'communist': 3044, 'norman': 3045, 'fifteen': 3046, 'selfish': 3047, 'miracl': 3048, 'piano': 3049, '45': 3050, 'ho': 3051, 'destin': 3052, 'aforement': 3053, 'farc': 3054, 'seed': 3055, 'websit': 3056, 'cheek': 3057, 'flawless': 3058, 'enthusiast': 3059, 'psychiatrist': 3060, 'superbl': 3061, 'australia': 3062, 'debat': 3063, 'lifestyl': 3064, 'chew': 3065, 'stoog': 3066, 'kitchen': 3067, 'emili': 3068, 'akshay': 3069, 'directori': 3070, 'slice': 3071, 'wick': 3072, 'abc': 3073, 'bash': 3074, 'splatter': 3075, 'anni': 3076, 'dash': 3077, 'pressur': 3078, 'wrestl': 3079, 'dire': 3080, 'regardless': 3081, 'incompet': 3082, 'drivel': 3083, 'soviet': 3084, 'beaten': 3085, 'helicopt': 3086, 'prize': 3087, 'mann': 3088, 'curios': 3089, 'cia': 3090, 'artifici': 3091, 'duo': 3092, 'jar': 3093, 'increas': 3094, 'doo': 3095, 'suppli': 3096, 'judi': 3097, 'pleasantli': 3098, 'ken': 3099, 'boil': 3100, 'cameron': 3101, 'chapter': 3102, 'distant': 3103, 'glow': 3104, 'seduc': 3105, 'flower': 3106, 'dave': 3107, 'blob': 3108, 'lou': 3109, 'cagney': 3110, 'recov': 3111, 'combat': 3112, 'turner': 3113, 'ellen': 3114, 'psychot': 3115, 'eleg': 3116, 'ranger': 3117, 'favour': 3118, 'craig': 3119, 'hop': 3120, 'splendid': 3121, 'drunken': 3122, 'goldberg': 3123, 'perri': 3124, 'glenn': 3125, 'francisco': 3126, 'craven': 3127, 'web': 3128, 'panic': 3129, 'laurel': 3130, 'philosophi': 3131, 'graduat': 3132, 'wizard': 3133, 'gentl': 3134, 'ruth': 3135, 'flip': 3136, 'fx': 3137, 'falk': 3138, '20th': 3139, 'hatr': 3140, 'greek': 3141, 'min': 3142, 'slightest': 3143, 'rid': 3144, 'shortli': 3145, 'plausibl': 3146, 'alexand': 3147, 'modesti': 3148, 'gandhi': 3149, 'fund': 3150, 'jealou': 3151, 'futurist': 3152, 'unpleas': 3153, 'lend': 3154, 'tall': 3155, 'felix': 3156, 'manhattan': 3157, 'knight': 3158, 'preciou': 3159, 'dracula': 3160, 'ocean': 3161, 'we': 3162, 'harm': 3163, 'holi': 3164, 'legal': 3165, 'childish': 3166, 'ami': 3167, 'nod': 3168, 'bless': 3169, 'mock': 3170, 'scientif': 3171, 'overdon': 3172, 'giallo': 3173, 'digniti': 3174, 'thread': 3175, 'reviv': 3176, 'forbidden': 3177, 'explicit': 3178, 'tank': 3179, '99': 3180, 'mel': 3181, 'yesterday': 3182, 'repeatedli': 3183, 'torment': 3184, 'fever': 3185, '2004': 3186, 'awaken': 3187, 'eve': 3188, 'margaret': 3189, 'pirat': 3190, 'nerv': 3191, 'unwatch': 3192, 'elderli': 3193, 'thick': 3194, 'broad': 3195, 'awe': 3196, 'verhoeven': 3197, 'ah': 3198, 'kay': 3199, 'ambit': 3200, 'romero': 3201, 'automat': 3202, 'eas': 3203, 'roman': 3204, 'griffith': 3205, 'rivet': 3206, 'launch': 3207, 'acclaim': 3208, 'publish': 3209, 'absenc': 3210, 'lean': 3211, 'politician': 3212, 'uniform': 3213, 'timothi': 3214, 'royal': 3215, 'custom': 3216, 'bin': 3217, 'stiller': 3218, 'warren': 3219, 'transport': 3220, 'gabriel': 3221, 'termin': 3222, 'tomato': 3223, 'foul': 3224, 'darker': 3225, 'homicid': 3226, 'wallac': 3227, 'crook': 3228, 'bathroom': 3229, 'pierc': 3230, 'purpl': 3231, 'stinker': 3232, 'antic': 3233, 'pulp': 3234, 'phrase': 3235, 'sunshin': 3236, 'kenneth': 3237, '2003': 3238, 'rambo': 3239, 'revolutionari': 3240, 'evolv': 3241, 'packag': 3242, 'horrid': 3243, 'q': 3244, 'album': 3245, 'ought': 3246, 'juvenil': 3247, 'sixti': 3248, 'saint': 3249, 'prom': 3250, 'awak': 3251, 'donna': 3252, 'li': 3253, 'hollow': 3254, 'viciou': 3255, 'karen': 3256, 'brazil': 3257, 'contrari': 3258, 'eyr': 3259, 'coloni': 3260, 'pray': 3261, 'marin': 3262, 'choreographi': 3263, 'candid': 3264, 'stole': 3265, 'overr': 3266, 'blade': 3267, 'defi': 3268, 'boast': 3269, 'twelv': 3270, 'nerd': 3271, 'conserv': 3272, 'ireland': 3273, 'mummi': 3274, 'option': 3275, 'dose': 3276, 'beatti': 3277, 'ramon': 3278, 'kapoor': 3279, 'mildr': 3280, 'protest': 3281, 'detract': 3282, 'confirm': 3283, 'natali': 3284, 'flame': 3285, 'fulci': 3286, 'funer': 3287, 'kirk': 3288, 'trio': 3289, 'global': 3290, 'jazz': 3291, 'altman': 3292, 'collabor': 3293, 'astonish': 3294, 'audio': 3295, 'enterpris': 3296, 'shade': 3297, 'delici': 3298, 'mystic': 3299, 'bottl': 3300, 'spit': 3301, 'blake': 3302, 'leap': 3303, 'whip': 3304, 'racial': 3305, 'nicholson': 3306, 'bull': 3307, 'yellow': 3308, 'tommi': 3309, 'destini': 3310, 'threw': 3311, 'todd': 3312, 'harder': 3313, 'altogeth': 3314, 'merci': 3315, 'enchant': 3316, 'bedroom': 3317, 'pseudo': 3318, 'popcorn': 3319, 'reunit': 3320, 'vivid': 3321, 'adolesc': 3322, 'staff': 3323, 'meaningless': 3324, 'inherit': 3325, 'visibl': 3326, 'neo': 3327, 'fonda': 3328, 'swedish': 3329, 'bust': 3330, 'roommat': 3331, 'decor': 3332, 'fanat': 3333, 'uneven': 3334, 'lemmon': 3335, 'edi': 3336, 'jew': 3337, 'kennedi': 3338, 'synopsi': 3339, 'ruthless': 3340, 'exhibit': 3341, 'suspici': 3342, 'wire': 3343, 'leonard': 3344, 'reserv': 3345, 'tip': 3346, 'respond': 3347, 'befriend': 3348, 'crocodil': 3349, 'atlanti': 3350, 'voight': 3351, 'await': 3352, 'lawrenc': 3353, 'madonna': 3354, 'moodi': 3355, 'voyag': 3356, 'holli': 3357, 'chao': 3358, 'garner': 3359, 'incident': 3360, 'palma': 3361, 'bargain': 3362, 'ventur': 3363, 'rural': 3364, 'clumsi': 3365, 'abysm': 3366, 'audit': 3367, 'bradi': 3368, 'bold': 3369, 'carl': 3370, 'unsettl': 3371, 'clint': 3372, 'dimens': 3373, '2007': 3374, 'centr': 3375, 'echo': 3376, '2nd': 3377, 'lit': 3378, 'poetic': 3379, 'trail': 3380, 'humili': 3381, 'cuba': 3382, 'nearbi': 3383, 'neglect': 3384, 'mall': 3385, 'acknowledg': 3386, 'cd': 3387, 'characterist': 3388, 'daddi': 3389, 'wealth': 3390, 'ant': 3391, 'cari': 3392, 'tiger': 3393, 'immigr': 3394, 'hart': 3395, 'troop': 3396, 'elimin': 3397, 'imperson': 3398, 'timon': 3399, 'versu': 3400, 'marshal': 3401, 'jeffrey': 3402, 'solo': 3403, 'saga': 3404, 'celluloid': 3405, 'paus': 3406, 'pun': 3407, 'infect': 3408, 'collaps': 3409, 'mistaken': 3410, 'repuls': 3411, 'mickey': 3412, 'domest': 3413, 'prejudic': 3414, 'homer': 3415, 'milk': 3416, '1996': 3417, 'gear': 3418, 'ginger': 3419, 'hbo': 3420, 'coat': 3421, 'promin': 3422, 'olivi': 3423, 'coffe': 3424, 'inan': 3425, 'apolog': 3426, 'assembl': 3427, 'equip': 3428, 'sore': 3429, 'undoubtedli': 3430, 'tribe': 3431, 'interrupt': 3432, 'leon': 3433, 'inappropri': 3434, 'cake': 3435, 'pant': 3436, 'harvey': 3437, 'chest': 3438, 'institut': 3439, 'vulgar': 3440, 'pen': 3441, 'furthermor': 3442, 'consum': 3443, 'humbl': 3444, 'brooklyn': 3445, 'jenni': 3446, 'highest': 3447, 'devast': 3448, 'colleagu': 3449, 'polanski': 3450, 'embrac': 3451, 'colonel': 3452, 'pot': 3453, 'trace': 3454, 'instant': 3455, 'retain': 3456, 'aveng': 3457, 'primari': 3458, 'maggi': 3459, 'exot': 3460, 'solut': 3461, 'airplan': 3462, 'florida': 3463, '3rd': 3464, '1999': 3465, 'illog': 3466, 'ya': 3467, 'sale': 3468, 'disabl': 3469, 'strain': 3470, 'bowl': 3471, 'smaller': 3472, 'descend': 3473, 'cope': 3474, 'poke': 3475, 'gender': 3476, 'linda': 3477, 'principl': 3478, 'outer': 3479, 'dutch': 3480, 'rick': 3481, 'dian': 3482, 'godzilla': 3483, 'wive': 3484, 'seduct': 3485, 'blatant': 3486, 'predecessor': 3487, 'yard': 3488, 'mixtur': 3489, 'bubbl': 3490, 'devoid': 3491, 'inferior': 3492, 'vast': 3493, 'secondli': 3494, 'dive': 3495, 'lol': 3496, 'gloriou': 3497, 'glamor': 3498, 'rabbit': 3499, 'beneath': 3500, 'cue': 3501, 'scope': 3502, 'dud': 3503, 'hal': 3504, 'primarili': 3505, 'gundam': 3506, 'casual': 3507, 'trademark': 3508, 'talki': 3509, 'simplist': 3510, 'senseless': 3511, 'shelf': 3512, 'alfr': 3513, 'countrysid': 3514, 'arab': 3515, 'shirley': 3516, 'streep': 3517, 'aggress': 3518, 'breed': 3519, 'april': 3520, 'museum': 3521, 'alert': 3522, 'pearl': 3523, 'z': 3524, 'myer': 3525, 'disjoint': 3526, 'invas': 3527, 'domino': 3528, 'hideou': 3529, 'et': 3530, 'garbo': 3531, 'grinch': 3532, 'stir': 3533, 'applaud': 3534, 'vanish': 3535, 'rendit': 3536, 'robinson': 3537, 'uwe': 3538, 'loyal': 3539, 'slide': 3540, 'boom': 3541, 'experiment': 3542, 'acid': 3543, 'hopeless': 3544, 'mail': 3545, 'defens': 3546, 'oz': 3547, 'sh': 3548, 'mayor': 3549, 'stack': 3550, 'obtain': 3551, 'disgrac': 3552, 'hardcor': 3553, 'unhappi': 3554, 'stellar': 3555, 'maci': 3556, 'khan': 3557, 'illeg': 3558, 'robberi': 3559, 'amanda': 3560, 'diana': 3561, 'fri': 3562, 'berlin': 3563, 'grandfath': 3564, 'dismiss': 3565, 'soccer': 3566, 'incomprehens': 3567, 'blew': 3568, 'psychic': 3569, 'emphasi': 3570, 'tenant': 3571, 'span': 3572, 'spider': 3573, 'declin': 3574, 'topless': 3575, 'recruit': 3576, 'scroog': 3577, 'wont': 3578, 'craze': 3579, 'hartley': 3580, 'rifl': 3581, 'counter': 3582, 'dicken': 3583, 'tempt': 3584, 'ration': 3585, 'faster': 3586, 'bitch': 3587, 'niro': 3588, 'trashi': 3589, 'porno': 3590, 'wet': 3591, 'sibl': 3592, 'shaw': 3593, 'goer': 3594, 'sympath': 3595, 'intim': 3596, 'resurrect': 3597, 'ethnic': 3598, 'riot': 3599, 'shed': 3600, 'parad': 3601, 'justin': 3602, 'lumet': 3603, 'revolt': 3604, 'woo': 3605, 'immort': 3606, 'lena': 3607, '00': 3608, 'weakest': 3609, 'ballet': 3610, 'rider': 3611, 'commend': 3612, 'region': 3613, 'farmer': 3614, 'biographi': 3615, 'steam': 3616, 'partial': 3617, 'ensur': 3618, 'unreal': 3619, 'gap': 3620, 'slick': 3621, 'dealer': 3622, 'patriot': 3623, 'honesti': 3624, 'wheel': 3625, 'nephew': 3626, 'hesit': 3627, 'andr': 3628, 'enlighten': 3629, 'eager': 3630, 'choru': 3631, 'feminist': 3632, 'worm': 3633, 'jonathan': 3634, 'wendi': 3635, 'mario': 3636, 'hopper': 3637, 'snap': 3638, 'repress': 3639, 'kingdom': 3640, 'blunt': 3641, 'mutant': 3642, 'composit': 3643, 'wore': 3644, 'psychopath': 3645, 'prequel': 3646, 'vice': 3647, 'properti': 3648, 'owen': 3649, 'similarli': 3650, 'hung': 3651, 'skull': 3652, 'nostalg': 3653, 'util': 3654, 'sandra': 3655, 'franco': 3656, 'charlott': 3657, 'safeti': 3658, 'confin': 3659, 'morri': 3660, 'sappi': 3661, 'victori': 3662, 'leo': 3663, 'macarthur': 3664, 'deed': 3665, 'drain': 3666, 'miseri': 3667, 'bumbl': 3668, 'exit': 3669, 'acquir': 3670, 'farrel': 3671, 'del': 3672, 'bow': 3673, 'nervou': 3674, 'pattern': 3675, 'valuabl': 3676, 'hyde': 3677, 'despair': 3678, 'compass': 3679, 'whoopi': 3680, 'strand': 3681, 'rope': 3682, 'heartbreak': 3683, 'latin': 3684, 'drum': 3685, 'repli': 3686, 'tad': 3687, 'bonu': 3688, 'tail': 3689, 'snl': 3690, 'bergman': 3691, 'speci': 3692, 'kyle': 3693, 'compens': 3694, 'montana': 3695, '1972': 3696, 'emperor': 3697, 'rambl': 3698, 'recycl': 3699, 'campbel': 3700, 'dust': 3701, 'dalton': 3702, 'rocki': 3703, 'thru': 3704, 'cg': 3705, 'radic': 3706, 'percept': 3707, 'bleed': 3708, 'rotten': 3709, 'romp': 3710, 'airport': 3711, 'slug': 3712, 'gimmick': 3713, 'gal': 3714, 'downhil': 3715, 'orson': 3716, 'pour': 3717, 'roth': 3718, 'wacki': 3719, 'contempl': 3720, 'chess': 3721, 'mistress': 3722, 'oppress': 3723, 'da': 3724, 'rapist': 3725, 'tonight': 3726, '35': 3727, 'olli': 3728, 'carradin': 3729, 'martian': 3730, 'stilt': 3731, 'shelley': 3732, 'unpredict': 3733, 'heal': 3734, 'preach': 3735, 'slash': 3736, 'belt': 3737, '1983': 3738, 'tackl': 3739, 'attorney': 3740, 'taught': 3741, 'arguabl': 3742, 'paltrow': 3743, 'pervers': 3744, 'tooth': 3745, 'programm': 3746, 'edgar': 3747, 'dazzl': 3748, 'champion': 3749, 'pursuit': 3750, 'banal': 3751, 'arc': 3752, 'pervert': 3753, 'mislead': 3754, 'melodi': 3755, 'employe': 3756, 'duval': 3757, 'gambl': 3758, 'vengeanc': 3759, 'sensat': 3760, 'mesmer': 3761, 'chicken': 3762, 'cleverli': 3763, 'maid': 3764, 'closest': 3765, 'uplift': 3766, 'raymond': 3767, 'dixon': 3768, 'bela': 3769, 'conneri': 3770, 'franki': 3771, 'orang': 3772, 'tiresom': 3773, 'passeng': 3774, 'virginia': 3775, 'plight': 3776, 'marti': 3777, 'poem': 3778, 'rubi': 3779, 'vocal': 3780, 'graham': 3781, 'tube': 3782, 'calm': 3783, 'crystal': 3784, '1968': 3785, 'abraham': 3786, 'yawn': 3787, 'scottish': 3788, 'suffic': 3789, 'engross': 3790, 'convincingli': 3791, 'quarter': 3792, 'extens': 3793, 'giggl': 3794, 'outing': 3795, 'paranoia': 3796, 'secretli': 3797, 'iran': 3798, 'monologu': 3799, 'whine': 3800, 'profan': 3801, 'sirk': 3802, 'swallow': 3803, 'bay': 3804, 'inject': 3805, 'climact': 3806, 'numb': 3807, 'amitabh': 3808, 'volum': 3809, 'mute': 3810, 'habit': 3811, 'gerard': 3812, 'pokemon': 3813, 'clone': 3814, 'lundgren': 3815, 'junior': 3816, 'nichola': 3817, 'surpass': 3818, 'franci': 3819, 'fed': 3820, 'expand': 3821, 'poetri': 3822, 'lowest': 3823, 'underst': 3824, 'taxi': 3825, 'richardson': 3826, 'ethan': 3827, 'plod': 3828, 'profess': 3829, 'grotesqu': 3830, 'meander': 3831, 'linger': 3832, 'trend': 3833, 'dispos': 3834, 'im': 3835, 'earl': 3836, 'bend': 3837, 'austen': 3838, 'chicago': 3839, 'abort': 3840, 'frankenstein': 3841, 'backward': 3842, 'septemb': 3843, 'spock': 3844, 'compliment': 3845, 'literatur': 3846, 'mundan': 3847, 'descent': 3848, 'muddl': 3849, 'nostalgia': 3850, 'lure': 3851, 'sue': 3852, 'stallon': 3853, 'waitress': 3854, 'rubber': 3855, 'greedi': 3856, 'rant': 3857, 'hum': 3858, 'dysfunct': 3859, 'econom': 3860, 'household': 3861, 'tourist': 3862, 'eugen': 3863, 'der': 3864, 'myth': 3865, 'catchi': 3866, 'instrument': 3867, 'simplic': 3868, 'cannon': 3869, 'spoke': 3870, 'cent': 3871, 'dement': 3872, 'stale': 3873, 'mortal': 3874, 'deaf': 3875, 'louis': 3876, 'recognit': 3877, 'firstli': 3878, 'insur': 3879, 'june': 3880, 'coast': 3881, 'omen': 3882, 'dictat': 3883, 'molli': 3884, 'irrelev': 3885, 'lang': 3886, 'phantom': 3887, 'eaten': 3888, 'furi': 3889, 'bacal': 3890, 'map': 3891, 'mankind': 3892, 'occupi': 3893, 'alongsid': 3894, 'sissi': 3895, 'damon': 3896, 'crucial': 3897, 'hello': 3898, 'recognis': 3899, 'randi': 3900, 'duck': 3901, 'flee': 3902, 'phoni': 3903, 'equival': 3904, 'carel': 3905, '1973': 3906, 'rude': 3907, 'wisdom': 3908, 'bump': 3909, 'lengthi': 3910, 'bike': 3911, 'drake': 3912, 'twilight': 3913, 'blackmail': 3914, 'newli': 3915, 'labor': 3916, 'damm': 3917, 'grayson': 3918, 'onlin': 3919, 'distinguish': 3920, 'freez': 3921, 'reign': 3922, 'ashley': 3923, 'heel': 3924, 'likewis': 3925, 'buffalo': 3926, 'daisi': 3927, 'rooney': 3928, 'dreari': 3929, 'cyborg': 3930, 'loyalti': 3931, 'biko': 3932, 'antwon': 3933, 'interior': 3934, 'tunnel': 3935, 'worn': 3936, 'startl': 3937, 'keith': 3938, 'prey': 3939, 'vein': 3940, 'incorpor': 3941, 'inher': 3942, 'barrymor': 3943, 'ridden': 3944, 'proce': 3945, 'sailor': 3946, 'pink': 3947, 'unorigin': 3948, 'nineti': 3949, 'emphas': 3950, 'exposur': 3951, 'baddi': 3952, 'boxer': 3953, 'attribut': 3954, 'basketbal': 3955, 'provoc': 3956, 'analysi': 3957, 'butler': 3958, 'chronicl': 3959, 'approv': 3960, 'condemn': 3961, 'elm': 3962, 'undeni': 3963, 'stalker': 3964, 'bunni': 3965, 'degrad': 3966, 'carla': 3967, 'simmon': 3968, 'julian': 3969, 'improvis': 3970, 'underli': 3971, 'substitut': 3972, 'er': 3973, 'barrel': 3974, 'mighti': 3975, 'hypnot': 3976, 'millionair': 3977, 'drift': 3978, 'predat': 3979, 'othello': 3980, 'meyer': 3981, 'indiffer': 3982, 'mormon': 3983, 'walsh': 3984, 'unrel': 3985, 'robbin': 3986, 'fleet': 3987, 'meg': 3988, 'belushi': 3989, 'nicol': 3990, 'exquisit': 3991, 'shove': 3992, 'firm': 3993, 'priceless': 3994, 'hay': 3995, 'lampoon': 3996, 'watson': 3997, '3d': 3998, 'warmth': 3999, 'unawar': 4000, 'errol': 4001, 'agenda': 4002, 'palac': 4003, 'mtv': 4004, 'dolph': 4005, 'roof': 4006, 'disord': 4007, 'marion': 4008, 'novak': 4009, 'nyc': 4010, 'reid': 4011, 'vital': 4012, 'enthusiasm': 4013, 'alarm': 4014, 'edgi': 4015, 'greed': 4016, 'rukh': 4017, 'alison': 4018, 'orlean': 4019, '13th': 4020, 'randomli': 4021, 'glanc': 4022, 'testament': 4023, 'minimum': 4024, 'beatl': 4025, 'what': 4026, 'unleash': 4027, 'showdown': 4028, 'drip': 4029, 'angela': 4030, 'iraq': 4031, 'profit': 4032, 'coup': 4033, 'campaign': 4034, 'pamela': 4035, 'nun': 4036, 'crown': 4037, 'israel': 4038, 'ponder': 4039, 'gestur': 4040, 'thompson': 4041, 'petti': 4042, 'session': 4043, 'peril': 4044, 'spain': 4045, 'cassidi': 4046, 'eastern': 4047, 'sergeant': 4048, 'preserv': 4049, 'peck': 4050, 'simultan': 4051, 'valentin': 4052, 'distort': 4053, 'zizek': 4054, '1933': 4055, 'championship': 4056, 'restrain': 4057, 'din': 4058, 'wig': 4059, 'buster': 4060, 'regist': 4061, 'climat': 4062, 'gentleman': 4063, 'scotland': 4064, 'crawl': 4065, 'stake': 4066, 'shootout': 4067, 'brenda': 4068, 'represent': 4069, 'perpetu': 4070, 'unimagin': 4071, 'stroke': 4072, 'cream': 4073, 'jan': 4074, 'realm': 4075, 'travesti': 4076, 'cooki': 4077, 'exposit': 4078, 'empathi': 4079, 'calib': 4080, 'bro': 4081, 'crow': 4082, 'han': 4083, 'quinn': 4084, 'contradict': 4085, 'valley': 4086, '1984': 4087, 'mon': 4088, 'kurosawa': 4089, 'reson': 4090, 'sabrina': 4091, 'rout': 4092, 'miyazaki': 4093, 'fido': 4094, 'wax': 4095, 'businessman': 4096, 'abomin': 4097, 'pole': 4098, 'demis': 4099, 'femm': 4100, 'delic': 4101, 'spacey': 4102, 'baldwin': 4103, '1987': 4104, 'sammi': 4105, 'derang': 4106, 'dana': 4107, 'greg': 4108, '1997': 4109, 'stargat': 4110, 'meryl': 4111, 'absent': 4112, 'traumat': 4113, 'cloud': 4114, 'perceiv': 4115, 'censor': 4116, 'unsatisfi': 4117, 'tacki': 4118, 'pretens': 4119, 'soderbergh': 4120, 'passabl': 4121, 'darren': 4122, 'sucker': 4123, 'distress': 4124, 'shoddi': 4125, 'shaki': 4126, 'geek': 4127, 'josh': 4128, 'monoton': 4129, 'painter': 4130, 'warrant': 4131, 'compromis': 4132, 'ustinov': 4133, 'unseen': 4134, 'mclaglen': 4135, 'crawford': 4136, 'ross': 4137, 'fuller': 4138, 'kumar': 4139, 'seal': 4140, 'nathan': 4141, 'reluct': 4142, 'valid': 4143, 'fenc': 4144, 'tech': 4145, 'jewel': 4146, 'tarantino': 4147, 'sid': 4148, 'dee': 4149, 'uncov': 4150, '1993': 4151, 'primit': 4152, 'anchor': 4153, 'wholli': 4154, 'polici': 4155, 'expedit': 4156, 'judgment': 4157, 'norm': 4158, 'unravel': 4159, 'clash': 4160, 'deniro': 4161, 'antonioni': 4162, 'correctli': 4163, 'exclus': 4164, 'accuraci': 4165, 'verbal': 4166, 'furiou': 4167, 'austin': 4168, 'fog': 4169, 'click': 4170, 'deceas': 4171, '1971': 4172, 'sunni': 4173, 'crippl': 4174, 'tax': 4175, '3000': 4176, '1995': 4177, 'ritual': 4178, 'patienc': 4179, 'fabric': 4180, 'nicola': 4181, 'darn': 4182, 'sheet': 4183, 'sustain': 4184, 'debt': 4185, 'joel': 4186, '2008': 4187, 'unfair': 4188, 'hallucin': 4189, 'enforc': 4190, 'seldom': 4191, 'wretch': 4192, 'behold': 4193, 'mode': 4194, 'fart': 4195, 'wang': 4196, 'malon': 4197, 'sand': 4198, 'clerk': 4199, 'slam': 4200, 'vanc': 4201, 'pocket': 4202, 'bake': 4203, 'shanghai': 4204, 'fought': 4205, 'alec': 4206, 'temper': 4207, 'conduct': 4208, 'dreck': 4209, 'trait': 4210, 'roller': 4211, 'logan': 4212, 'murray': 4213, 'legaci': 4214, 'runner': 4215, 'despis': 4216, 'helpless': 4217, 'soup': 4218, 'bridget': 4219, 'bias': 4220, 'technicolor': 4221, 'stark': 4222, 'tactic': 4223, 'canyon': 4224, 'clau': 4225, 'isabel': 4226, 'shell': 4227, 'conscious': 4228, 'rita': 4229, 'scriptwrit': 4230, 'sweep': 4231, 'robber': 4232, 'schedul': 4233, 'divid': 4234, 'stuart': 4235, 'pete': 4236, 'outlin': 4237, 'penni': 4238, 'preston': 4239, 'critiqu': 4240, 'guitar': 4241, 'squad': 4242, 'fundament': 4243, 'exhaust': 4244, 'preposter': 4245, 'phil': 4246, 'grief': 4247, 'palanc': 4248, 'delv': 4249, 'propos': 4250, 'passag': 4251, 'rear': 4252, 'rehash': 4253, 'unexpectedli': 4254, 'bloom': 4255, 'boyl': 4256, 'connor': 4257, 'cigarett': 4258, 'culmin': 4259, 'drove': 4260, 'invad': 4261, 'kansa': 4262, 'russia': 4263, 'vomit': 4264, 'newman': 4265, 'consciou': 4266, 'agenc': 4267, 'lacklust': 4268, 'sugar': 4269, 'jodi': 4270, 'alley': 4271, 'sniper': 4272, 'inabl': 4273, 'flair': 4274, 'restrict': 4275, 'liberti': 4276, 'jacket': 4277, 'implic': 4278, 'downey': 4279, 'gregori': 4280, 'sentinel': 4281, 'marc': 4282, 'alicia': 4283, 'horn': 4284, 'asylum': 4285, 'cap': 4286, 'delet': 4287, 'mccoy': 4288, '1936': 4289, 'improb': 4290, 'karl': 4291, 'wrench': 4292, 'behaviour': 4293, 'ladder': 4294, 'bacon': 4295, '22': 4296, 'tendenc': 4297, 'aesthet': 4298, 'lush': 4299, 'arrow': 4300, 'vet': 4301, 'kolchak': 4302, 'rod': 4303, 'tripe': 4304, 'sharon': 4305, 'awhil': 4306, 'yeti': 4307, 'rampag': 4308, 'foxx': 4309, 'chainsaw': 4310, 'feat': 4311, 'pale': 4312, 'rehears': 4313, 'prank': 4314, 'scoop': 4315, '1920': 4316, 'shortcom': 4317, 'newcom': 4318, 'financ': 4319, 'tomorrow': 4320, 'sung': 4321, 'amazon': 4322, 'paradis': 4323, 'suspicion': 4324, 'suffici': 4325, 'minu': 4326, '1988': 4327, 'stream': 4328, '1978': 4329, 'wildli': 4330, 'hungri': 4331, 'visitor': 4332, 'underneath': 4333, 'hulk': 4334, 'spice': 4335, 'rumor': 4336, 'aristocrat': 4337, 'globe': 4338, 'paramount': 4339, 'weav': 4340, 'lurk': 4341, 'rhythm': 4342, 'conscienc': 4343, 'basing': 4344, 'el': 4345, 'filler': 4346, 'wagner': 4347, 'elit': 4348, 'tasteless': 4349, '19th': 4350, 'thunderbird': 4351, 'loneli': 4352, 'fright': 4353, 'coaster': 4354, 'hackney': 4355, '1939': 4356, 'ingeni': 4357, 'recogniz': 4358, 'minist': 4359, 'naughti': 4360, 'cancer': 4361, 'ram': 4362, 'heist': 4363, 'brit': 4364, 'immers': 4365, 'secondari': 4366, 'bread': 4367, 'entranc': 4368, 'tierney': 4369, 'couch': 4370, 'standout': 4371, 'smell': 4372, 'literari': 4373, 'leigh': 4374, 'penn': 4375, 'springer': 4376, 'chavez': 4377, 'lectur': 4378, 'wwe': 4379, 'chamberlain': 4380, 'choppi': 4381, 'grudg': 4382, 'teas': 4383, '75': 4384, 'counterpart': 4385, 'inmat': 4386, 'curli': 4387, 'beverli': 4388, 'dirt': 4389, 'rub': 4390, 'impos': 4391, 'posey': 4392, 'abrupt': 4393, 'en': 4394, 'atroc': 4395, 'straightforward': 4396, 'hopkin': 4397, '1989': 4398, 'iv': 4399, 'worship': 4400, 'quietli': 4401, 'paxton': 4402, 'entitl': 4403, 'geni': 4404, 'morbid': 4405, 'sublim': 4406, 'moreov': 4407, 'clan': 4408, 'transcend': 4409, 'attenborough': 4410, 'heartfelt': 4411, 'duel': 4412, 'missil': 4413, 'bernard': 4414, 'policeman': 4415, 'yearn': 4416, 'convert': 4417, 'net': 4418, 'nemesi': 4419, '1986': 4420, 'ace': 4421, 'watcher': 4422, 'lindsay': 4423, 'skeptic': 4424, 'misguid': 4425, 'injuri': 4426, 'variat': 4427, 'cattl': 4428, 'nolan': 4429, 'esther': 4430, 'enthral': 4431, 'laurenc': 4432, 'sassi': 4433, 'quaid': 4434, 'ratso': 4435, 'uncut': 4436, 'poe': 4437, 'hopelessli': 4438, 'characteris': 4439, 'kitti': 4440, 'cruelti': 4441, 'rosemari': 4442, 'unexplain': 4443, 'out': 4444, 'facil': 4445, 'egg': 4446, 'graini': 4447, 'spiral': 4448, '1979': 4449, 'carlito': 4450, 'hk': 4451, 'bean': 4452, 'grin': 4453, 'obstacl': 4454, 'bye': 4455, 'brood': 4456, 'mytholog': 4457, 'setup': 4458, 'artsi': 4459, 'youngest': 4460, 'moder': 4461, 'enabl': 4462, 'steadi': 4463, 'tyler': 4464, 'reliabl': 4465, 'diari': 4466, 'vader': 4467, 'buzz': 4468, 'dont': 4469, 'puppi': 4470, 'kidman': 4471, 'christin': 4472, 'athlet': 4473, 'hammi': 4474, 'kline': 4475, 'spontan': 4476, 'bounc': 4477, 'effici': 4478, 'acquaint': 4479, 'preming': 4480, 'martha': 4481, 'bewar': 4482, 'clueless': 4483, 'niec': 4484, 'disastr': 4485, 'hain': 4486, 'exterior': 4487, 'underworld': 4488, 'gillian': 4489, 'bronson': 4490, 'baffl': 4491, 'gina': 4492, '1969': 4493, 'patricia': 4494, 'weather': 4495, 'fuel': 4496, 'decept': 4497, 'narrow': 4498, 'oblig': 4499, 'despic': 4500, 'heap': 4501, 'sweat': 4502, 'brendan': 4503, 'housewif': 4504, 'dilemma': 4505, 'biker': 4506, 'tick': 4507, 'injur': 4508, 'uh': 4509, 'outlaw': 4510, 'preachi': 4511, 'goof': 4512, 'mayhem': 4513, '19': 4514, 'headach': 4515, 'viewpoint': 4516, 'loath': 4517, 'angst': 4518, 'candl': 4519, 'analyz': 4520, 'circu': 4521, 'suprem': 4522, 'enlist': 4523, 'mermaid': 4524, 'virtu': 4525, 'taboo': 4526, 'fontain': 4527, 'sooner': 4528, 'hepburn': 4529, 'shatter': 4530, 'trigger': 4531, 'insipid': 4532, 'dandi': 4533, 'loi': 4534, 'rome': 4535, 'harmless': 4536, '73': 4537, 'sleepwalk': 4538, 'astound': 4539, 'scar': 4540, 'lester': 4541, 'renaiss': 4542, 'surgeri': 4543, 'phenomenon': 4544, 'claustrophob': 4545, 'dish': 4546, 'ariel': 4547, 'dismal': 4548, 'idol': 4549, 'spade': 4550, 'immatur': 4551, 'boston': 4552, 'sox': 4553, 'filth': 4554, 'tripl': 4555, 'salt': 4556, 'oldest': 4557, 'ebert': 4558, 'glorifi': 4559, 'foolish': 4560, 'bent': 4561, 'slimi': 4562, 'camcord': 4563, 'amor': 4564, 'stair': 4565, 'gere': 4566, 'stimul': 4567, 'corbett': 4568, 'intric': 4569, 'redund': 4570, 'steer': 4571, 'overlong': 4572, 'hostag': 4573, 'hokey': 4574, 'guin': 4575, 'whore': 4576, 'macho': 4577, 'contempt': 4578, 'hooker': 4579, 'scorses': 4580, 'cassavet': 4581, 'zoom': 4582, 'fluff': 4583, 'flag': 4584, 'corman': 4585, 'spree': 4586, 'transplant': 4587, 'harold': 4588, 'schlock': 4589, 'mutual': 4590, 'margin': 4591, 'dwarf': 4592, 'beard': 4593, 'mount': 4594, '1976': 4595, 'frantic': 4596, 'proport': 4597, 'assert': 4598, 'strongest': 4599, 'rhyme': 4600, 'spinal': 4601, 'flirt': 4602, 'gasp': 4603, 'antagonist': 4604, '1981': 4605, 'joker': 4606, 'remad': 4607, 'zane': 4608, 'shield': 4609, 'keen': 4610, 'perman': 4611, 'cush': 4612, 'flashi': 4613, 'gabl': 4614, 'obligatori': 4615, 'messi': 4616, 'faint': 4617, 'radiat': 4618, 'down': 4619, 'fascist': 4620, 'trivia': 4621, 'shred': 4622, 'cohen': 4623, 'naschi': 4624, 'cow': 4625, 'alvin': 4626, 'nolt': 4627, 'conquer': 4628, 'preced': 4629, 'muscl': 4630, 'widescreen': 4631, 'astronaut': 4632, 'www': 4633, 'boob': 4634, 'mobil': 4635, 'off': 4636, 'scandal': 4637, 'mol': 4638, 'bachelor': 4639, 'divin': 4640, 'repris': 4641, 'inflict': 4642, '1945': 4643, 'wield': 4644, 'discern': 4645, 'resum': 4646, 'sensual': 4647, 'departur': 4648, '28': 4649, 'persuad': 4650, 'aborigin': 4651, 'triangl': 4652, 'instruct': 4653, 'ritchi': 4654, 'interestingli': 4655, 'someday': 4656, 'claud': 4657, 'strive': 4658, 'fishburn': 4659, 'hara': 4660, 'archiv': 4661, 'vaniti': 4662, '95': 4663, 'raj': 4664, 'bitten': 4665, 'deer': 4666, 'danish': 4667, 'info': 4668, 'neurot': 4669, 'barn': 4670, 'flock': 4671, 'carey': 4672, 'brush': 4673, 'mobster': 4674, 'carlo': 4675, 'cycl': 4676, 'dim': 4677, 'hilar': 4678, 'banter': 4679, 'ish': 4680, 'rot': 4681, 'loretta': 4682, 'kathryn': 4683, 'bate': 4684, 'cher': 4685, 'pacif': 4686, 'prophet': 4687, 'fragil': 4688, 'dame': 4689, 'melissa': 4690, 'submit': 4691, 'proclaim': 4692, 'earnest': 4693, 'cb': 4694, 'cliffhang': 4695, 'frontier': 4696, 'pickford': 4697, 'jade': 4698, 'casino': 4699, 'undermin': 4700, 'biblic': 4701, 'neill': 4702, 'vibrant': 4703, 'miracul': 4704, 'hapless': 4705, 'europa': 4706, 'hug': 4707, 'artwork': 4708, 'luka': 4709, 'dylan': 4710, 'axe': 4711, 'harrison': 4712, 'pixar': 4713, 'heartwarm': 4714, 'timberlak': 4715, 'colin': 4716, 'anton': 4717, 'senior': 4718, 'clad': 4719, 'parson': 4720, 'recit': 4721, 'wendigo': 4722, 'traffic': 4723, 'helm': 4724, 'antholog': 4725, 'flavor': 4726, 'legitim': 4727, 'marlon': 4728, 'estrang': 4729, 'feast': 4730, 'bikini': 4731, 'akin': 4732, 'seedi': 4733, 'lucil': 4734, 'lui': 4735, 'jordan': 4736, 'northern': 4737, 'aris': 4738, 'foil': 4739, 'eli': 4740, 'jo': 4741, 'cerebr': 4742, 'holocaust': 4743, 'sicken': 4744, 'orphan': 4745, 'electron': 4746, 'nope': 4747, 'static': 4748, 'vile': 4749, 'mason': 4750, 'uma': 4751, 'milo': 4752, 'redneck': 4753, 'isra': 4754, 'venom': 4755, 'misfortun': 4756, 'wardrob': 4757, 'razor': 4758, 'trier': 4759, 'pc': 4760, 'rooki': 4761, 'blatantli': 4762, 'choke': 4763, 'illus': 4764, 'alexandr': 4765, 'mathieu': 4766, 'winchest': 4767, 'http': 4768, 'articl': 4769, 'token': 4770, 'shepherd': 4771, 'breakfast': 4772, 'vanessa': 4773, 'toronto': 4774, 'bondag': 4775, 'magician': 4776, 'psych': 4777, 'deem': 4778, 'turd': 4779, 'abund': 4780, 'highway': 4781, 'linear': 4782, 'peer': 4783, 'outdat': 4784, 'leather': 4785, 'affleck': 4786, 'fifth': 4787, 'wrestler': 4788, 'disregard': 4789, 'shorter': 4790, 'ideolog': 4791, 'charlton': 4792, 'oppon': 4793, 'glare': 4794, 'clinic': 4795, 'audrey': 4796, 'huston': 4797, 'boyer': 4798, 'swept': 4799, 'tack': 4800, 'dudley': 4801, 'retriev': 4802, 'knightley': 4803, 'comprehend': 4804, 'cartoonish': 4805, 'styliz': 4806, 'howl': 4807, 'smack': 4808, 'frog': 4809, 'feminin': 4810, 'gunga': 4811, 'nightclub': 4812, 'ceremoni': 4813, 'gilbert': 4814, '4th': 4815, '1991': 4816, 'greet': 4817, 'lighter': 4818, 'plate': 4819, 'cemeteri': 4820, 'boo': 4821, 'chip': 4822, 'newer': 4823, 'conrad': 4824, 'client': 4825, 'uniformli': 4826, 'durat': 4827, 'compris': 4828, 'einstein': 4829, 'cuban': 4830, 'snatch': 4831, 'toe': 4832, 'energet': 4833, 'btw': 4834, '1994': 4835, 'evolut': 4836, 'lifeless': 4837, 'mitch': 4838, 'summar': 4839, 'deliver': 4840, 'moe': 4841, 'tara': 4842, 'potter': 4843, 'corn': 4844, 'lavish': 4845, 'collector': 4846, 'senat': 4847, 'breakdown': 4848, 'goldsworthi': 4849, 'phenomen': 4850, 'monument': 4851, 'bastard': 4852, 'spine': 4853, 'sleaz': 4854, 'whack': 4855, 'braveheart': 4856, 'spawn': 4857, 'salman': 4858, 'bogu': 4859, 'armstrong': 4860, 'kazan': 4861, 'luxuri': 4862, 'wtf': 4863, 'neatli': 4864, 'ol': 4865, 'evelyn': 4866, 'cecil': 4867, 'creek': 4868, 'bulk': 4869, 'gilliam': 4870, 'undertak': 4871, 'clara': 4872, 'historian': 4873, 'undead': 4874, 'outright': 4875, 'eleven': 4876, 'capot': 4877, 'spectacl': 4878, 'liu': 4879, 'replay': 4880, 'sorrow': 4881, 'constitut': 4882, 'signal': 4883, 'pronounc': 4884, 'randolph': 4885, '1977': 4886, 'appl': 4887, 'jam': 4888, 'ie': 4889, 'nina': 4890, 'mcqueen': 4891, '1974': 4892, 'occup': 4893, 'belli': 4894, 'trauma': 4895, 'alleg': 4896, 'inaccuraci': 4897, 'lex': 4898, 'judd': 4899, 'embark': 4900, 'healthi': 4901, 'firmli': 4902, 'jule': 4903, 'fluid': 4904, 'bori': 4905, 'jare': 4906, 'kent': 4907, 'jedi': 4908, 'rosario': 4909, 'genet': 4910, 'spray': 4911, 'miniseri': 4912, 'mum': 4913, 'walt': 4914, 'poker': 4915, 'basket': 4916, 'conan': 4917, 'propheci': 4918, 'comprehens': 4919, 'curtain': 4920, 'unattract': 4921, 'vain': 4922, 'galaxi': 4923, 'truman': 4924, 'antonio': 4925, 'ash': 4926, 'palm': 4927, 'decapit': 4928, 'subtli': 4929, 'pioneer': 4930, 'sacrif': 4931, 'miami': 4932, 'kiddi': 4933, 'knee': 4934, 'aussi': 4935, 'congratul': 4936, 'meal': 4937, 'abound': 4938, 'unsuspect': 4939, 'goldblum': 4940, '1985': 4941, 'cape': 4942, 'sidewalk': 4943, 'bsg': 4944, 'comb': 4945, 'bait': 4946, 'inclus': 4947, 'forgiven': 4948, 'blur': 4949, 'lauren': 4950, 'pepper': 4951, 'id': 4952, 'relentless': 4953, 'inaccur': 4954, 'groan': 4955, 'lanc': 4956, 'vignett': 4957, 'roar': 4958, 'tokyo': 4959, 'porter': 4960, 'carmen': 4961, 'fruit': 4962, 'paula': 4963, 'macabr': 4964, 'bach': 4965, 'victorian': 4966, 'vastli': 4967, 'masterson': 4968, 'bravo': 4969, 'mice': 4970, 'orchestr': 4971, 'scarfac': 4972, 'drone': 4973, 'profil': 4974, 'spill': 4975, 'monti': 4976, 'modest': 4977, 'detach': 4978, 'omin': 4979, 'rapidli': 4980, 'frontal': 4981, 'motorcycl': 4982, 'reincarn': 4983, 'handicap': 4984, 'verg': 4985, 'scariest': 4986, 'asset': 4987, 'cypher': 4988, 'optimist': 4989, '21st': 4990, 'assort': 4991, 'turtl': 4992, 'weaker': 4993, 'ingrid': 4994, 'sparkl': 4995, 'playboy': 4996, 'jill': 4997, 'dubiou': 4998, 'sophi': 4999}\n"
     ]
    }
   ],
   "source": [
    "word_dict = build_dict(train_X)\n",
    "print(word_dict)"
   ]
  },
  {
   "cell_type": "markdown",
   "metadata": {},
   "source": [
    "### Question: What are the five most frequently appearing words?\n",
    "\n",
    "Answer: 'movi', 'film', 'one', 'like', 'time'\n",
    "\n",
    "\"movi\" word is nearly 51695 times\n",
    "\n",
    "it doesn't make sence in training because 'movi', 'film', 'one', 'time' has no sentiment."
   ]
  },
  {
   "cell_type": "code",
   "execution_count": 30,
   "metadata": {
    "scrolled": true
   },
   "outputs": [
    {
     "name": "stdout",
     "output_type": "stream",
     "text": [
      "['movi', 'film', 'one', 'like', 'time']\n",
      "51695\n"
     ]
    }
   ],
   "source": [
    "# TODO: Use this space to determine the five most frequently appearing words in the training set.\n",
    "word_counts = Counter(np.concatenate( train_X, axis=0 ))\n",
    "sorted_words = sorted(word_counts, key=word_counts.get, reverse=True)\n",
    "print(sorted_words[0:5])\n",
    "print(word_counts['movi'])"
   ]
  },
  {
   "cell_type": "code",
   "execution_count": 31,
   "metadata": {},
   "outputs": [],
   "source": [
    "data_dir = '../data/pytorch' # The folder we will use for storing data\n",
    "if not os.path.exists(data_dir): # Make sure that the folder exists\n",
    "    os.makedirs(data_dir)"
   ]
  },
  {
   "cell_type": "code",
   "execution_count": 32,
   "metadata": {},
   "outputs": [],
   "source": [
    "with open(os.path.join(data_dir, 'word_dict.pkl'), \"wb\") as f:\n",
    "    pickle.dump(word_dict, f)"
   ]
  },
  {
   "cell_type": "code",
   "execution_count": 33,
   "metadata": {},
   "outputs": [],
   "source": [
    "def convert_and_pad(word_dict, sentence, pad=500):\n",
    "    NOWORD = 0 # We will use 0 to represent the 'no word' category\n",
    "    INFREQ = 1 # and we use 1 to represent the infrequent words, i.e., words not appearing in word_dict\n",
    "    \n",
    "    working_sentence = [NOWORD] * pad\n",
    "    \n",
    "    for word_index, word in enumerate(sentence[:pad]):\n",
    "        if word in word_dict:\n",
    "            working_sentence[word_index] = word_dict[word]\n",
    "        else:\n",
    "            working_sentence[word_index] = INFREQ\n",
    "            \n",
    "    return working_sentence, min(len(sentence), pad)\n",
    "\n",
    "def convert_and_pad_data(word_dict, data, pad=500):\n",
    "    result = []\n",
    "    lengths = []\n",
    "    \n",
    "    for sentence in data:\n",
    "        converted, leng = convert_and_pad(word_dict, sentence, pad)\n",
    "        result.append(converted)\n",
    "        lengths.append(leng)\n",
    "        \n",
    "    return np.array(result), np.array(lengths)"
   ]
  },
  {
   "cell_type": "code",
   "execution_count": 34,
   "metadata": {},
   "outputs": [],
   "source": [
    "train_X, train_X_len = convert_and_pad_data(word_dict, train_X)\n",
    "test_X, test_X_len = convert_and_pad_data(word_dict, test_X)"
   ]
  },
  {
   "cell_type": "code",
   "execution_count": 35,
   "metadata": {},
   "outputs": [
    {
     "name": "stdout",
     "output_type": "stream",
     "text": [
      "500\n",
      "[80]\n"
     ]
    }
   ],
   "source": [
    "# Use this cell to examine one of the processed reviews to make sure everything is working as intended.\n",
    "print(len(train_X[0]))\n",
    "print(train_X_len[0:1]) # 500 - 333 (non zeros) = 167"
   ]
  },
  {
   "cell_type": "markdown",
   "metadata": {},
   "source": [
    "### Question: Understanding preprocess_data and convert_and_pad_data\n",
    "\n",
    "Answer:\n",
    "\n",
    "* *preprocess_data* function will cut the data preparation cost, since it is one time process and the result are saved in a file. In case if the notebook instance terminal connection is broken then we need to restart from begining in that case we can skip the data preparation step and proceed to training by directly loading the preprocessed data from file\n",
    "* *convert_and_pad_data* this function helps to maintain a constant data length. since we using LSTM Clasifier with Embedding so we need to maintain a constant batch size throughout the training"
   ]
  },
  {
   "cell_type": "markdown",
   "metadata": {},
   "source": [
    "## Build and Train the PyTorch Model"
   ]
  },
  {
   "cell_type": "markdown",
   "metadata": {},
   "source": [
    "### Step 3: Upload the data to S3"
   ]
  },
  {
   "cell_type": "code",
   "execution_count": null,
   "metadata": {},
   "outputs": [],
   "source": [
    "import pandas as pd\n",
    "    \n",
    "pd.concat([pd.DataFrame(train_y), pd.DataFrame(train_X_len), pd.DataFrame(train_X)], axis=1) \\\n",
    "        .to_csv(os.path.join(data_dir, 'train.csv'), header=False, index=False)"
   ]
  },
  {
   "cell_type": "code",
   "execution_count": null,
   "metadata": {},
   "outputs": [],
   "source": [
    "import sagemaker\n",
    "\n",
    "sagemaker_session = sagemaker.Session()\n",
    "\n",
    "bucket = sagemaker_session.default_bucket()\n",
    "prefix = 'sagemaker/sentiment_rnn'\n",
    "\n",
    "role = sagemaker.get_execution_role()"
   ]
  },
  {
   "cell_type": "code",
   "execution_count": null,
   "metadata": {},
   "outputs": [],
   "source": [
    "input_data = sagemaker_session.upload_data(path=data_dir, bucket=bucket, key_prefix=prefix)"
   ]
  },
  {
   "cell_type": "markdown",
   "metadata": {},
   "source": [
    "## Writing the training method"
   ]
  },
  {
   "cell_type": "markdown",
   "metadata": {},
   "source": [
    "### Step 4: Build and Train the PyTorch Model"
   ]
  },
  {
   "cell_type": "code",
   "execution_count": 36,
   "metadata": {},
   "outputs": [],
   "source": [
    "import torch.nn as nn\n",
    "\n",
    "class LSTMClassifier(nn.Module):\n",
    "    \"\"\"\n",
    "    This is the simple RNN model we will be using to perform Sentiment Analysis.\n",
    "    \"\"\"\n",
    "\n",
    "    def __init__(self, embedding_dim, hidden_dim, vocab_size):\n",
    "        \"\"\"\n",
    "        Initialize the model by settingg up the various layers.\n",
    "        \"\"\"\n",
    "        super(LSTMClassifier, self).__init__()\n",
    "\n",
    "        self.embedding = nn.Embedding(vocab_size, embedding_dim, padding_idx=0)\n",
    "        self.lstm = nn.LSTM(embedding_dim, hidden_dim)\n",
    "        self.dense = nn.Linear(in_features=hidden_dim, out_features=1)\n",
    "        self.sig = nn.Sigmoid()\n",
    "        \n",
    "        self.word_dict = None\n",
    "\n",
    "    def forward(self, x):\n",
    "        \"\"\"\n",
    "        Perform a forward pass of our model on some input.\n",
    "        \"\"\"\n",
    "        x = x.t()\n",
    "        lengths = x[0,:]\n",
    "        reviews = x[1:,:]\n",
    "        embeds = self.embedding(reviews)\n",
    "        lstm_out, _ = self.lstm(embeds)\n",
    "        out = self.dense(lstm_out)\n",
    "        out = out[lengths - 1, range(len(lengths))]\n",
    "        return self.sig(out.squeeze())"
   ]
  },
  {
   "cell_type": "code",
   "execution_count": null,
   "metadata": {},
   "outputs": [],
   "source": [
    "import torch\n",
    "import torch.utils.data\n",
    "import pandas as pd\n",
    "\n",
    "# Read in only the first 250 rows\n",
    "train_sample = pd.read_csv(os.path.join(data_dir, 'train.csv'), header=None, names=None, nrows=250)\n",
    "\n",
    "# Turn the input pandas dataframe into tensors\n",
    "train_sample_y = torch.from_numpy(train_sample[[0]].values).float().squeeze()\n",
    "train_sample_X = torch.from_numpy(train_sample.drop([0], axis=1).values).long()\n",
    "\n",
    "# Build the dataset\n",
    "train_sample_ds = torch.utils.data.TensorDataset(train_sample_X, train_sample_y)\n",
    "# Build the dataloader\n",
    "train_sample_dl = torch.utils.data.DataLoader(train_sample_ds, batch_size=50)"
   ]
  },
  {
   "cell_type": "markdown",
   "metadata": {},
   "source": [
    "## Training the model"
   ]
  },
  {
   "cell_type": "code",
   "execution_count": null,
   "metadata": {},
   "outputs": [],
   "source": [
    "def train(model, train_loader, epochs, optimizer, loss_fn, device):\n",
    "    for epoch in range(1, epochs + 1):\n",
    "        model.train()\n",
    "        total_loss = 0\n",
    "        for batch in train_loader:         \n",
    "            batch_X, batch_y = batch\n",
    "            \n",
    "            batch_X = batch_X.to(device)\n",
    "            batch_y = batch_y.to(device)\n",
    "            \n",
    "            # model.zero_grad()\n",
    "            optimizer.zero_grad()\n",
    "            \n",
    "            # TODO: Complete this train method to train the model provided.\n",
    "            output = model(batch_X)\n",
    "            loss = loss_fn(output, batch_y)\n",
    "            loss.backward()\n",
    "            optimizer.step()\n",
    "            \n",
    "            total_loss += loss.data.item()\n",
    "        print(\"Epoch: {}, BCELoss: {}\".format(epoch, total_loss / len(train_loader)))"
   ]
  },
  {
   "cell_type": "code",
   "execution_count": null,
   "metadata": {},
   "outputs": [],
   "source": [
    "device = torch.device(\"cuda\" if torch.cuda.is_available() else \"cpu\")"
   ]
  },
  {
   "cell_type": "code",
   "execution_count": null,
   "metadata": {},
   "outputs": [],
   "source": [
    "import torch.optim as optim\n",
    "from train.model import LSTMClassifier\n",
    "\n",
    "# device = torch.device(\"cuda\" if torch.cuda.is_available() else \"cpu\")\n",
    "model = LSTMClassifier(32, 200, 5000).to(device)\n",
    "optimizer = optim.Adam(model.parameters())\n",
    "loss_fn = torch.nn.BCELoss()\n",
    "\n",
    "train(model, train_sample_dl, 10, optimizer, loss_fn, device)"
   ]
  },
  {
   "cell_type": "code",
   "execution_count": null,
   "metadata": {},
   "outputs": [],
   "source": [
    "from sagemaker.pytorch import PyTorch\n",
    "\n",
    "estimator = PyTorch(entry_point=\"train.py\",\n",
    "                    source_dir=\"train\",\n",
    "                    role=role,\n",
    "                    framework_version='0.4.0',\n",
    "                    train_instance_count=1,\n",
    "                    train_instance_type='ml.m4.xlarge',\n",
    "                    hyperparameters={\n",
    "                        'epochs': 10,\n",
    "                        'hidden_dim': 200,\n",
    "                    })"
   ]
  },
  {
   "cell_type": "code",
   "execution_count": null,
   "metadata": {},
   "outputs": [],
   "source": [
    "# this function loads the already completed training job to the Estimater\n",
    "# For first please comment it\n",
    "\n",
    "# my_training_job_name = 'sagemaker-pytorch-2019-02-19-16-44-24-823'\n",
    "# estimator = PyTorch.attach(my_training_job_name)"
   ]
  },
  {
   "cell_type": "code",
   "execution_count": null,
   "metadata": {},
   "outputs": [],
   "source": [
    "estimator.fit({'training': input_data})"
   ]
  },
  {
   "cell_type": "markdown",
   "metadata": {},
   "source": [
    "### Step 5: Testing the model\n",
    "\n",
    "### Step 6: Deploy the model for testing\n"
   ]
  },
  {
   "cell_type": "code",
   "execution_count": null,
   "metadata": {},
   "outputs": [],
   "source": [
    "# TODO: Deploy the trained model\n",
    "predictor = estimator.deploy(initial_instance_count=1, instance_type='ml.m4.xlarge')\n"
   ]
  },
  {
   "cell_type": "markdown",
   "metadata": {},
   "source": [
    "## Writing inference code"
   ]
  },
  {
   "cell_type": "markdown",
   "metadata": {},
   "source": [
    "### Step 7 - Use the model for testing"
   ]
  },
  {
   "cell_type": "code",
   "execution_count": null,
   "metadata": {},
   "outputs": [],
   "source": [
    "test_X = pd.concat([pd.DataFrame(test_X_len), pd.DataFrame(test_X)], axis=1)"
   ]
  },
  {
   "cell_type": "code",
   "execution_count": null,
   "metadata": {},
   "outputs": [],
   "source": [
    "# We split the data into chunks and send each chunk seperately, accumulating the results.\n",
    "\n",
    "def predict(data, rows=512):\n",
    "    split_array = np.array_split(data, int(data.shape[0] / float(rows) + 1))\n",
    "    predictions = np.array([])\n",
    "    for array in split_array:\n",
    "        predictions = np.append(predictions, predictor.predict(array))\n",
    "    \n",
    "    return predictions"
   ]
  },
  {
   "cell_type": "code",
   "execution_count": null,
   "metadata": {},
   "outputs": [],
   "source": [
    "predictions = predict(test_X.values)\n",
    "predictions = [round(num) for num in predictions]"
   ]
  },
  {
   "cell_type": "code",
   "execution_count": null,
   "metadata": {},
   "outputs": [],
   "source": [
    "from sklearn.metrics import accuracy_score\n",
    "accuracy_score(test_y, predictions)"
   ]
  },
  {
   "cell_type": "markdown",
   "metadata": {},
   "source": [
    "### Question: How does this model compare to the XGBoost model?\n",
    "\n",
    "Answer: XGBoost is an gradient boosting library designed to handle smaller variable problems with lesser training and more accuracy. But Deep learning is designed to large variable data supervised/un-supervised learning but it need more training For sentiment analysis XGBoost is better because XGBoost is the state of the art in most regression and classification problems with better result and less training. since it is mono label classification problem"
   ]
  },
  {
   "cell_type": "markdown",
   "metadata": {},
   "source": [
    "## (TODO) More testing\n"
   ]
  },
  {
   "cell_type": "code",
   "execution_count": 37,
   "metadata": {},
   "outputs": [],
   "source": [
    "test_review = 'The simplest pleasures in life are the best, and this film is one of them. Combining a rather basic storyline of love and adventure this movie transcends the usual weekend fair with wit and unmitigated charm.'"
   ]
  },
  {
   "cell_type": "code",
   "execution_count": null,
   "metadata": {},
   "outputs": [],
   "source": [
    "data_X = None\n",
    "data_len = None\n",
    "input_data_words = review_to_words(test_review)\n",
    "data_X, data_len = convert_and_pad_data(word_dict, input_data_words)\n",
    "# print(data_len)\n",
    "# print(data_X[0])\n",
    "data_pack = np.column_stack((data_len, data_X))\n",
    "print(data_pack)\n",
    "data_pack = data_pack.reshape(1, -1)\n",
    "\n",
    "data = torch.from_numpy(data_pack)\n",
    "data = data.to(device)"
   ]
  },
  {
   "cell_type": "code",
   "execution_count": null,
   "metadata": {},
   "outputs": [],
   "source": [
    "# TODO: Convert test_review into a form usable by the model and save the results in test_data\n",
    "test_data = None\n",
    "predictions = None\n",
    "test_review_words = review_to_words(test_review)\n",
    "test_data, test_data_len = convert_and_pad_data(word_dict, test_review_words)\n",
    "test_data = pd.concat([pd.DataFrame(test_data_len), pd.DataFrame(test_data)], axis=1)\n",
    "print(test_data)"
   ]
  },
  {
   "cell_type": "code",
   "execution_count": null,
   "metadata": {},
   "outputs": [],
   "source": [
    "predictor.predict(test_data.values)"
   ]
  },
  {
   "cell_type": "code",
   "execution_count": null,
   "metadata": {},
   "outputs": [],
   "source": [
    "\n",
    "estimator.delete_endpoint()"
   ]
  },
  {
   "cell_type": "markdown",
   "metadata": {},
   "source": [
    "## Deploy the model for the web app"
   ]
  },
  {
   "cell_type": "code",
   "execution_count": null,
   "metadata": {},
   "outputs": [],
   "source": [
    "from sagemaker.predictor import RealTimePredictor\n",
    "from sagemaker.pytorch import PyTorchModel\n",
    "\n",
    "class StringPredictor(RealTimePredictor):\n",
    "    def __init__(self, endpoint_name, sagemaker_session):\n",
    "        super(StringPredictor, self).__init__(endpoint_name, sagemaker_session, content_type='text/plain')\n",
    "\n",
    "model = PyTorchModel(model_data=estimator.model_data,\n",
    "                     role = role,\n",
    "                     framework_version='0.4.0',\n",
    "                     entry_point='predict.py',\n",
    "                     source_dir='serve',\n",
    "                     predictor_cls=StringPredictor)\n",
    "predictor = model.deploy(initial_instance_count=1, instance_type='ml.m4.xlarge')"
   ]
  },
  {
   "cell_type": "markdown",
   "metadata": {},
   "source": [
    "## Testing the model"
   ]
  },
  {
   "cell_type": "code",
   "execution_count": null,
   "metadata": {},
   "outputs": [],
   "source": [
    "import glob\n",
    "\n",
    "def test_reviews(data_dir='../data/aclImdb', stop=250):\n",
    "    \n",
    "    results = []\n",
    "    ground = []\n",
    "    \n",
    "    # We make sure to test both positive and negative reviews    \n",
    "    for sentiment in ['pos', 'neg']:\n",
    "        \n",
    "        path = os.path.join(data_dir, 'test', sentiment, '*.txt')\n",
    "        files = glob.glob(path)\n",
    "        \n",
    "        files_read = 0\n",
    "        \n",
    "        print('Starting ', sentiment, ' files')\n",
    "        \n",
    "        # Iterate through the files and send them to the predictor\n",
    "        for f in files:\n",
    "            with open(f) as review:\n",
    "                # First, we store the ground truth (was the review positive or negative)\n",
    "                if sentiment == 'pos':\n",
    "                    ground.append(1)\n",
    "                else:\n",
    "                    ground.append(0)\n",
    "                # Read in the review and convert to 'utf-8' for transmission via HTTP\n",
    "                review_input = review.read().encode('utf-8')\n",
    "                # Send the review to the predictor and store the results\n",
    "                result_s = predictor.predict(review_input).decode('UTF-8')\n",
    "                result_s = int(float(result_s))\n",
    "                # review_input = int.from_bytes(review_input, byteorder='big', signed=True)\n",
    "                # print(result_s)\n",
    "                results.append(result_s)\n",
    "                \n",
    "            # Sending reviews to our endpoint one at a time takes a while so we\n",
    "            # only send a small number of reviews\n",
    "            files_read += 1\n",
    "            if files_read == stop:\n",
    "                break\n",
    "            \n",
    "    return ground, results"
   ]
  },
  {
   "cell_type": "code",
   "execution_count": null,
   "metadata": {},
   "outputs": [],
   "source": [
    "ground, results = test_reviews()"
   ]
  },
  {
   "cell_type": "code",
   "execution_count": null,
   "metadata": {},
   "outputs": [],
   "source": [
    "out = torch.tensor(0.55)\n",
    "result = np.round(out.item(),0)\n",
    "\n",
    "print(result)"
   ]
  },
  {
   "cell_type": "code",
   "execution_count": null,
   "metadata": {},
   "outputs": [],
   "source": [
    "from sklearn.metrics import accuracy_score\n",
    "accuracy_score(ground, results)"
   ]
  },
  {
   "cell_type": "code",
   "execution_count": null,
   "metadata": {},
   "outputs": [],
   "source": [
    "test_review = 'The simplest pleasures in life are the best, and this film is one of them. Combining a rather basic storyline of love and adventure this movie transcends the usual weekend fair with wit and unmitigated charm.'\n",
    "predictor.predict(test_review).decode('UTF-8')"
   ]
  },
  {
   "cell_type": "markdown",
   "metadata": {},
   "source": [
    "## Setting up Lambda"
   ]
  },
  {
   "cell_type": "code",
   "execution_count": null,
   "metadata": {},
   "outputs": [],
   "source": [
    "# We need to use the low-level library to interact with SageMaker since the SageMaker API\n",
    "# is not available natively through Lambda.\n",
    "import json\n",
    "import boto3\n",
    "\n",
    "def lambda_handler(event, context):\n",
    "\n",
    "    # The SageMaker runtime is what allows us to invoke the endpoint that we've created.\n",
    "    runtime = boto3.Session().client('sagemaker-runtime')\n",
    "\n",
    "    # Now we use the SageMaker runtime to invoke our endpoint, sending the review we were given\n",
    "    response = runtime.invoke_endpoint(EndpointName = 'sagemaker-pytorch-2019-02-20-17-49-05-967',    # The name of the endpoint we created\n",
    "                                       ContentType = 'text/plain',                 # The data format that is expected\n",
    "                                       Body = event['body'])                       # The actual review\n",
    "\n",
    "    # The response is an HTTP response whose body contains the result of our inference\n",
    "    result = response['Body'].read().decode('utf-8')\n",
    "    result = int(float(result))\n",
    "\n",
    "    return {\n",
    "        'statusCode' : 200,\n",
    "        'headers' : { 'Content-Type' : 'text/plain', 'Access-Control-Allow-Origin' : '*' },\n",
    "        'body' : result\n",
    "    }"
   ]
  },
  {
   "cell_type": "code",
   "execution_count": null,
   "metadata": {},
   "outputs": [],
   "source": [
    "predictor.endpoint"
   ]
  },
  {
   "cell_type": "markdown",
   "metadata": {},
   "source": [
    "## Setting up API Gateway\n",
    "### Deploying our web app"
   ]
  },
  {
   "cell_type": "code",
   "execution_count": null,
   "metadata": {},
   "outputs": [],
   "source": [
    "predictor.delete_endpoint()"
   ]
  }
 ],
 "metadata": {
  "kernelspec": {
   "display_name": "Python 3",
   "language": "python",
   "name": "python3"
  },
  "language_info": {
   "codemirror_mode": {
    "name": "ipython",
    "version": 3
   },
   "file_extension": ".py",
   "mimetype": "text/x-python",
   "name": "python",
   "nbconvert_exporter": "python",
   "pygments_lexer": "ipython3",
   "version": "3.7.3"
  }
 },
 "nbformat": 4,
 "nbformat_minor": 2
}
